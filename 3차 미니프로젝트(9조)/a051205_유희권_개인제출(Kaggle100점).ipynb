{
  "nbformat": 4,
  "nbformat_minor": 0,
  "metadata": {
    "colab": {
      "provenance": [],
      "gpuType": "V100",
      "machine_shape": "hm"
    },
    "kernelspec": {
      "name": "python3",
      "display_name": "Python 3"
    },
    "language_info": {
      "name": "python"
    },
    "accelerator": "GPU"
  },
  "cells": [
    {
      "cell_type": "code",
      "execution_count": 730,
      "metadata": {
        "id": "FxJnXV5guvwz"
      },
      "outputs": [],
      "source": [
        "import pandas as pd\n",
        "import numpy as np\n",
        "import matplotlib.pyplot as plt\n",
        "import seaborn as sns\n",
        "\n",
        "from sklearn.model_selection import train_test_split"
      ]
    },
    {
      "cell_type": "code",
      "source": [
        "!pip install catboost"
      ],
      "metadata": {
        "id": "gkeevNhZBhWC",
        "colab": {
          "base_uri": "https://localhost:8080/"
        },
        "outputId": "e7a5c222-324d-411a-f74b-a03e69e4a4ec"
      },
      "execution_count": 731,
      "outputs": [
        {
          "output_type": "stream",
          "name": "stdout",
          "text": [
            "Requirement already satisfied: catboost in /usr/local/lib/python3.10/dist-packages (1.2.3)\n",
            "Requirement already satisfied: graphviz in /usr/local/lib/python3.10/dist-packages (from catboost) (0.20.3)\n",
            "Requirement already satisfied: matplotlib in /usr/local/lib/python3.10/dist-packages (from catboost) (3.7.1)\n",
            "Requirement already satisfied: numpy>=1.16.0 in /usr/local/lib/python3.10/dist-packages (from catboost) (1.25.2)\n",
            "Requirement already satisfied: pandas>=0.24 in /usr/local/lib/python3.10/dist-packages (from catboost) (1.5.3)\n",
            "Requirement already satisfied: scipy in /usr/local/lib/python3.10/dist-packages (from catboost) (1.11.4)\n",
            "Requirement already satisfied: plotly in /usr/local/lib/python3.10/dist-packages (from catboost) (5.15.0)\n",
            "Requirement already satisfied: six in /usr/local/lib/python3.10/dist-packages (from catboost) (1.16.0)\n",
            "Requirement already satisfied: python-dateutil>=2.8.1 in /usr/local/lib/python3.10/dist-packages (from pandas>=0.24->catboost) (2.8.2)\n",
            "Requirement already satisfied: pytz>=2020.1 in /usr/local/lib/python3.10/dist-packages (from pandas>=0.24->catboost) (2023.4)\n",
            "Requirement already satisfied: contourpy>=1.0.1 in /usr/local/lib/python3.10/dist-packages (from matplotlib->catboost) (1.2.0)\n",
            "Requirement already satisfied: cycler>=0.10 in /usr/local/lib/python3.10/dist-packages (from matplotlib->catboost) (0.12.1)\n",
            "Requirement already satisfied: fonttools>=4.22.0 in /usr/local/lib/python3.10/dist-packages (from matplotlib->catboost) (4.50.0)\n",
            "Requirement already satisfied: kiwisolver>=1.0.1 in /usr/local/lib/python3.10/dist-packages (from matplotlib->catboost) (1.4.5)\n",
            "Requirement already satisfied: packaging>=20.0 in /usr/local/lib/python3.10/dist-packages (from matplotlib->catboost) (24.0)\n",
            "Requirement already satisfied: pillow>=6.2.0 in /usr/local/lib/python3.10/dist-packages (from matplotlib->catboost) (9.4.0)\n",
            "Requirement already satisfied: pyparsing>=2.3.1 in /usr/local/lib/python3.10/dist-packages (from matplotlib->catboost) (3.1.2)\n",
            "Requirement already satisfied: tenacity>=6.2.0 in /usr/local/lib/python3.10/dist-packages (from plotly->catboost) (8.2.3)\n"
          ]
        }
      ]
    },
    {
      "cell_type": "code",
      "source": [
        "data = pd.read_csv('/content/drive/MyDrive/kaggle_3/train.csv')\n",
        "test = pd.read_csv('/content/drive/MyDrive/kaggle_3/test.csv')"
      ],
      "metadata": {
        "id": "QjJaQJiEwsnb"
      },
      "execution_count": 732,
      "outputs": []
    },
    {
      "cell_type": "code",
      "source": [
        "data.head()"
      ],
      "metadata": {
        "colab": {
          "base_uri": "https://localhost:8080/",
          "height": 330
        },
        "id": "oHTGaL7ww8Rz",
        "outputId": "00e5049d-8ae4-4688-889b-20979421e215"
      },
      "execution_count": 733,
      "outputs": [
        {
          "output_type": "execute_result",
          "data": {
            "text/plain": [
              "   Unnamed: 0                timestamp       A_x       A_y       A_z  \\\n",
              "0           0  2019-01-12 00:45:54.450 -0.259130 -0.834869 -0.485499   \n",
              "1           1  2000-01-01 01:37:06.440  0.370490  0.175042  0.122625   \n",
              "2           2  2019-01-12 00:45:33.900 -0.257837 -0.881947 -0.391895   \n",
              "3           3  2000-01-01 00:46:22.680 -0.937753 -0.055961  0.362041   \n",
              "4           4  2000-01-01 00:49:56.620 -0.988320 -0.190390  0.157909   \n",
              "\n",
              "        B_x       B_y       B_z  label  \n",
              "0  0.196409       NaN  0.384934      8  \n",
              "1 -0.338242  0.358245  0.126491      2  \n",
              "2  0.196027  0.894537  0.411221      8  \n",
              "3 -0.929881  0.087673  0.134609     11  \n",
              "4 -0.954669 -0.024810 -0.388420      6  "
            ],
            "text/html": [
              "\n",
              "  <div id=\"df-330d0f66-b8ef-4151-952b-3da7840eba41\" class=\"colab-df-container\">\n",
              "    <div>\n",
              "<style scoped>\n",
              "    .dataframe tbody tr th:only-of-type {\n",
              "        vertical-align: middle;\n",
              "    }\n",
              "\n",
              "    .dataframe tbody tr th {\n",
              "        vertical-align: top;\n",
              "    }\n",
              "\n",
              "    .dataframe thead th {\n",
              "        text-align: right;\n",
              "    }\n",
              "</style>\n",
              "<table border=\"1\" class=\"dataframe\">\n",
              "  <thead>\n",
              "    <tr style=\"text-align: right;\">\n",
              "      <th></th>\n",
              "      <th>Unnamed: 0</th>\n",
              "      <th>timestamp</th>\n",
              "      <th>A_x</th>\n",
              "      <th>A_y</th>\n",
              "      <th>A_z</th>\n",
              "      <th>B_x</th>\n",
              "      <th>B_y</th>\n",
              "      <th>B_z</th>\n",
              "      <th>label</th>\n",
              "    </tr>\n",
              "  </thead>\n",
              "  <tbody>\n",
              "    <tr>\n",
              "      <th>0</th>\n",
              "      <td>0</td>\n",
              "      <td>2019-01-12 00:45:54.450</td>\n",
              "      <td>-0.259130</td>\n",
              "      <td>-0.834869</td>\n",
              "      <td>-0.485499</td>\n",
              "      <td>0.196409</td>\n",
              "      <td>NaN</td>\n",
              "      <td>0.384934</td>\n",
              "      <td>8</td>\n",
              "    </tr>\n",
              "    <tr>\n",
              "      <th>1</th>\n",
              "      <td>1</td>\n",
              "      <td>2000-01-01 01:37:06.440</td>\n",
              "      <td>0.370490</td>\n",
              "      <td>0.175042</td>\n",
              "      <td>0.122625</td>\n",
              "      <td>-0.338242</td>\n",
              "      <td>0.358245</td>\n",
              "      <td>0.126491</td>\n",
              "      <td>2</td>\n",
              "    </tr>\n",
              "    <tr>\n",
              "      <th>2</th>\n",
              "      <td>2</td>\n",
              "      <td>2019-01-12 00:45:33.900</td>\n",
              "      <td>-0.257837</td>\n",
              "      <td>-0.881947</td>\n",
              "      <td>-0.391895</td>\n",
              "      <td>0.196027</td>\n",
              "      <td>0.894537</td>\n",
              "      <td>0.411221</td>\n",
              "      <td>8</td>\n",
              "    </tr>\n",
              "    <tr>\n",
              "      <th>3</th>\n",
              "      <td>3</td>\n",
              "      <td>2000-01-01 00:46:22.680</td>\n",
              "      <td>-0.937753</td>\n",
              "      <td>-0.055961</td>\n",
              "      <td>0.362041</td>\n",
              "      <td>-0.929881</td>\n",
              "      <td>0.087673</td>\n",
              "      <td>0.134609</td>\n",
              "      <td>11</td>\n",
              "    </tr>\n",
              "    <tr>\n",
              "      <th>4</th>\n",
              "      <td>4</td>\n",
              "      <td>2000-01-01 00:49:56.620</td>\n",
              "      <td>-0.988320</td>\n",
              "      <td>-0.190390</td>\n",
              "      <td>0.157909</td>\n",
              "      <td>-0.954669</td>\n",
              "      <td>-0.024810</td>\n",
              "      <td>-0.388420</td>\n",
              "      <td>6</td>\n",
              "    </tr>\n",
              "  </tbody>\n",
              "</table>\n",
              "</div>\n",
              "    <div class=\"colab-df-buttons\">\n",
              "\n",
              "  <div class=\"colab-df-container\">\n",
              "    <button class=\"colab-df-convert\" onclick=\"convertToInteractive('df-330d0f66-b8ef-4151-952b-3da7840eba41')\"\n",
              "            title=\"Convert this dataframe to an interactive table.\"\n",
              "            style=\"display:none;\">\n",
              "\n",
              "  <svg xmlns=\"http://www.w3.org/2000/svg\" height=\"24px\" viewBox=\"0 -960 960 960\">\n",
              "    <path d=\"M120-120v-720h720v720H120Zm60-500h600v-160H180v160Zm220 220h160v-160H400v160Zm0 220h160v-160H400v160ZM180-400h160v-160H180v160Zm440 0h160v-160H620v160ZM180-180h160v-160H180v160Zm440 0h160v-160H620v160Z\"/>\n",
              "  </svg>\n",
              "    </button>\n",
              "\n",
              "  <style>\n",
              "    .colab-df-container {\n",
              "      display:flex;\n",
              "      gap: 12px;\n",
              "    }\n",
              "\n",
              "    .colab-df-convert {\n",
              "      background-color: #E8F0FE;\n",
              "      border: none;\n",
              "      border-radius: 50%;\n",
              "      cursor: pointer;\n",
              "      display: none;\n",
              "      fill: #1967D2;\n",
              "      height: 32px;\n",
              "      padding: 0 0 0 0;\n",
              "      width: 32px;\n",
              "    }\n",
              "\n",
              "    .colab-df-convert:hover {\n",
              "      background-color: #E2EBFA;\n",
              "      box-shadow: 0px 1px 2px rgba(60, 64, 67, 0.3), 0px 1px 3px 1px rgba(60, 64, 67, 0.15);\n",
              "      fill: #174EA6;\n",
              "    }\n",
              "\n",
              "    .colab-df-buttons div {\n",
              "      margin-bottom: 4px;\n",
              "    }\n",
              "\n",
              "    [theme=dark] .colab-df-convert {\n",
              "      background-color: #3B4455;\n",
              "      fill: #D2E3FC;\n",
              "    }\n",
              "\n",
              "    [theme=dark] .colab-df-convert:hover {\n",
              "      background-color: #434B5C;\n",
              "      box-shadow: 0px 1px 3px 1px rgba(0, 0, 0, 0.15);\n",
              "      filter: drop-shadow(0px 1px 2px rgba(0, 0, 0, 0.3));\n",
              "      fill: #FFFFFF;\n",
              "    }\n",
              "  </style>\n",
              "\n",
              "    <script>\n",
              "      const buttonEl =\n",
              "        document.querySelector('#df-330d0f66-b8ef-4151-952b-3da7840eba41 button.colab-df-convert');\n",
              "      buttonEl.style.display =\n",
              "        google.colab.kernel.accessAllowed ? 'block' : 'none';\n",
              "\n",
              "      async function convertToInteractive(key) {\n",
              "        const element = document.querySelector('#df-330d0f66-b8ef-4151-952b-3da7840eba41');\n",
              "        const dataTable =\n",
              "          await google.colab.kernel.invokeFunction('convertToInteractive',\n",
              "                                                    [key], {});\n",
              "        if (!dataTable) return;\n",
              "\n",
              "        const docLinkHtml = 'Like what you see? Visit the ' +\n",
              "          '<a target=\"_blank\" href=https://colab.research.google.com/notebooks/data_table.ipynb>data table notebook</a>'\n",
              "          + ' to learn more about interactive tables.';\n",
              "        element.innerHTML = '';\n",
              "        dataTable['output_type'] = 'display_data';\n",
              "        await google.colab.output.renderOutput(dataTable, element);\n",
              "        const docLink = document.createElement('div');\n",
              "        docLink.innerHTML = docLinkHtml;\n",
              "        element.appendChild(docLink);\n",
              "      }\n",
              "    </script>\n",
              "  </div>\n",
              "\n",
              "\n",
              "<div id=\"df-27a29df1-1b8e-4a7f-a199-791609928098\">\n",
              "  <button class=\"colab-df-quickchart\" onclick=\"quickchart('df-27a29df1-1b8e-4a7f-a199-791609928098')\"\n",
              "            title=\"Suggest charts\"\n",
              "            style=\"display:none;\">\n",
              "\n",
              "<svg xmlns=\"http://www.w3.org/2000/svg\" height=\"24px\"viewBox=\"0 0 24 24\"\n",
              "     width=\"24px\">\n",
              "    <g>\n",
              "        <path d=\"M19 3H5c-1.1 0-2 .9-2 2v14c0 1.1.9 2 2 2h14c1.1 0 2-.9 2-2V5c0-1.1-.9-2-2-2zM9 17H7v-7h2v7zm4 0h-2V7h2v10zm4 0h-2v-4h2v4z\"/>\n",
              "    </g>\n",
              "</svg>\n",
              "  </button>\n",
              "\n",
              "<style>\n",
              "  .colab-df-quickchart {\n",
              "      --bg-color: #E8F0FE;\n",
              "      --fill-color: #1967D2;\n",
              "      --hover-bg-color: #E2EBFA;\n",
              "      --hover-fill-color: #174EA6;\n",
              "      --disabled-fill-color: #AAA;\n",
              "      --disabled-bg-color: #DDD;\n",
              "  }\n",
              "\n",
              "  [theme=dark] .colab-df-quickchart {\n",
              "      --bg-color: #3B4455;\n",
              "      --fill-color: #D2E3FC;\n",
              "      --hover-bg-color: #434B5C;\n",
              "      --hover-fill-color: #FFFFFF;\n",
              "      --disabled-bg-color: #3B4455;\n",
              "      --disabled-fill-color: #666;\n",
              "  }\n",
              "\n",
              "  .colab-df-quickchart {\n",
              "    background-color: var(--bg-color);\n",
              "    border: none;\n",
              "    border-radius: 50%;\n",
              "    cursor: pointer;\n",
              "    display: none;\n",
              "    fill: var(--fill-color);\n",
              "    height: 32px;\n",
              "    padding: 0;\n",
              "    width: 32px;\n",
              "  }\n",
              "\n",
              "  .colab-df-quickchart:hover {\n",
              "    background-color: var(--hover-bg-color);\n",
              "    box-shadow: 0 1px 2px rgba(60, 64, 67, 0.3), 0 1px 3px 1px rgba(60, 64, 67, 0.15);\n",
              "    fill: var(--button-hover-fill-color);\n",
              "  }\n",
              "\n",
              "  .colab-df-quickchart-complete:disabled,\n",
              "  .colab-df-quickchart-complete:disabled:hover {\n",
              "    background-color: var(--disabled-bg-color);\n",
              "    fill: var(--disabled-fill-color);\n",
              "    box-shadow: none;\n",
              "  }\n",
              "\n",
              "  .colab-df-spinner {\n",
              "    border: 2px solid var(--fill-color);\n",
              "    border-color: transparent;\n",
              "    border-bottom-color: var(--fill-color);\n",
              "    animation:\n",
              "      spin 1s steps(1) infinite;\n",
              "  }\n",
              "\n",
              "  @keyframes spin {\n",
              "    0% {\n",
              "      border-color: transparent;\n",
              "      border-bottom-color: var(--fill-color);\n",
              "      border-left-color: var(--fill-color);\n",
              "    }\n",
              "    20% {\n",
              "      border-color: transparent;\n",
              "      border-left-color: var(--fill-color);\n",
              "      border-top-color: var(--fill-color);\n",
              "    }\n",
              "    30% {\n",
              "      border-color: transparent;\n",
              "      border-left-color: var(--fill-color);\n",
              "      border-top-color: var(--fill-color);\n",
              "      border-right-color: var(--fill-color);\n",
              "    }\n",
              "    40% {\n",
              "      border-color: transparent;\n",
              "      border-right-color: var(--fill-color);\n",
              "      border-top-color: var(--fill-color);\n",
              "    }\n",
              "    60% {\n",
              "      border-color: transparent;\n",
              "      border-right-color: var(--fill-color);\n",
              "    }\n",
              "    80% {\n",
              "      border-color: transparent;\n",
              "      border-right-color: var(--fill-color);\n",
              "      border-bottom-color: var(--fill-color);\n",
              "    }\n",
              "    90% {\n",
              "      border-color: transparent;\n",
              "      border-bottom-color: var(--fill-color);\n",
              "    }\n",
              "  }\n",
              "</style>\n",
              "\n",
              "  <script>\n",
              "    async function quickchart(key) {\n",
              "      const quickchartButtonEl =\n",
              "        document.querySelector('#' + key + ' button');\n",
              "      quickchartButtonEl.disabled = true;  // To prevent multiple clicks.\n",
              "      quickchartButtonEl.classList.add('colab-df-spinner');\n",
              "      try {\n",
              "        const charts = await google.colab.kernel.invokeFunction(\n",
              "            'suggestCharts', [key], {});\n",
              "      } catch (error) {\n",
              "        console.error('Error during call to suggestCharts:', error);\n",
              "      }\n",
              "      quickchartButtonEl.classList.remove('colab-df-spinner');\n",
              "      quickchartButtonEl.classList.add('colab-df-quickchart-complete');\n",
              "    }\n",
              "    (() => {\n",
              "      let quickchartButtonEl =\n",
              "        document.querySelector('#df-27a29df1-1b8e-4a7f-a199-791609928098 button');\n",
              "      quickchartButtonEl.style.display =\n",
              "        google.colab.kernel.accessAllowed ? 'block' : 'none';\n",
              "    })();\n",
              "  </script>\n",
              "</div>\n",
              "\n",
              "    </div>\n",
              "  </div>\n"
            ],
            "application/vnd.google.colaboratory.intrinsic+json": {
              "type": "dataframe",
              "variable_name": "data",
              "summary": "{\n  \"name\": \"data\",\n  \"rows\": 100000,\n  \"fields\": [\n    {\n      \"column\": \"Unnamed: 0\",\n      \"properties\": {\n        \"dtype\": \"number\",\n        \"std\": 28867,\n        \"min\": 0,\n        \"max\": 99999,\n        \"num_unique_values\": 100000,\n        \"samples\": [\n          75721,\n          80184,\n          19864\n        ],\n        \"semantic_type\": \"\",\n        \"description\": \"\"\n      }\n    },\n    {\n      \"column\": \"timestamp\",\n      \"properties\": {\n        \"dtype\": \"object\",\n        \"num_unique_values\": 92715,\n        \"samples\": [\n          \"2019-01-12 01:00:38.380\",\n          \"2000-01-01 00:49:51.380\",\n          \"2019-01-12 00:58:11.620\"\n        ],\n        \"semantic_type\": \"\",\n        \"description\": \"\"\n      }\n    },\n    {\n      \"column\": \"A_x\",\n      \"properties\": {\n        \"dtype\": \"number\",\n        \"std\": 0.46470869666877557,\n        \"min\": -5.132823274563671,\n        \"max\": 1.849397592595936,\n        \"num_unique_values\": 90000,\n        \"samples\": [\n          -0.2580107813182509,\n          0.3774466749230777,\n          -0.9019180887681602\n        ],\n        \"semantic_type\": \"\",\n        \"description\": \"\"\n      }\n    },\n    {\n      \"column\": \"A_y\",\n      \"properties\": {\n        \"dtype\": \"number\",\n        \"std\": 0.3484633645508216,\n        \"min\": -1.9493097223154927,\n        \"max\": 2.4138655939632767,\n        \"num_unique_values\": 90000,\n        \"samples\": [\n          0.06286725367398,\n          -0.4994098675502172,\n          -0.0652138759710501\n        ],\n        \"semantic_type\": \"\",\n        \"description\": \"\"\n      }\n    },\n    {\n      \"column\": \"A_z\",\n      \"properties\": {\n        \"dtype\": \"number\",\n        \"std\": 0.36198861654330866,\n        \"min\": -1.2847497339684355,\n        \"max\": 2.58446712960369,\n        \"num_unique_values\": 90000,\n        \"samples\": [\n          -0.5354825606414952,\n          -0.2240532969709379,\n          0.2850208448310767\n        ],\n        \"semantic_type\": \"\",\n        \"description\": \"\"\n      }\n    },\n    {\n      \"column\": \"B_x\",\n      \"properties\": {\n        \"dtype\": \"number\",\n        \"std\": 0.8179245176668427,\n        \"min\": -7.483250743565249,\n        \"max\": 5.372528300287759,\n        \"num_unique_values\": 90000,\n        \"samples\": [\n          -2.258191409380861,\n          -1.667861663300837,\n          -1.6997783109921143\n        ],\n        \"semantic_type\": \"\",\n        \"description\": \"\"\n      }\n    },\n    {\n      \"column\": \"B_y\",\n      \"properties\": {\n        \"dtype\": \"number\",\n        \"std\": 0.5932244656231359,\n        \"min\": -5.466766654352144,\n        \"max\": 7.182237371187774,\n        \"num_unique_values\": 90000,\n        \"samples\": [\n          -0.964406836298612,\n          -0.1954843541104528,\n          0.8899497642683492\n        ],\n        \"semantic_type\": \"\",\n        \"description\": \"\"\n      }\n    },\n    {\n      \"column\": \"B_z\",\n      \"properties\": {\n        \"dtype\": \"number\",\n        \"std\": 0.7854816675727793,\n        \"min\": -7.208220426404351,\n        \"max\": 6.7665583065707775,\n        \"num_unique_values\": 90000,\n        \"samples\": [\n          1.6557905177977108,\n          3.797698982719884,\n          -2.8195664875311355\n        ],\n        \"semantic_type\": \"\",\n        \"description\": \"\"\n      }\n    },\n    {\n      \"column\": \"label\",\n      \"properties\": {\n        \"dtype\": \"number\",\n        \"std\": 3,\n        \"min\": 1,\n        \"max\": 11,\n        \"num_unique_values\": 11,\n        \"samples\": [\n          10,\n          8,\n          7\n        ],\n        \"semantic_type\": \"\",\n        \"description\": \"\"\n      }\n    }\n  ]\n}"
            }
          },
          "metadata": {},
          "execution_count": 733
        }
      ]
    },
    {
      "cell_type": "code",
      "source": [
        "data['timestamp'] = pd.to_datetime(data['timestamp'])\n",
        "\n",
        "data['year'] = data['timestamp'].dt.year\n",
        "data['month'] = data['timestamp'].dt.month\n",
        "data['day'] = data['timestamp'].dt.day\n",
        "data['hour'] = data['timestamp'].dt.hour\n",
        "data['minute'] = data['timestamp'].dt.minute\n",
        "data['second'] = data['timestamp'].dt.second"
      ],
      "metadata": {
        "id": "qICYxPPdyGi7"
      },
      "execution_count": 734,
      "outputs": []
    },
    {
      "cell_type": "code",
      "source": [
        "test['timestamp'] = pd.to_datetime(test['timestamp'])\n",
        "\n",
        "test['year'] = test['timestamp'].dt.year\n",
        "test['month'] = test['timestamp'].dt.month\n",
        "test['day'] = test['timestamp'].dt.day\n",
        "test['hour'] = test['timestamp'].dt.hour\n",
        "test['minute'] = test['timestamp'].dt.minute\n",
        "test['second'] = test['timestamp'].dt.second"
      ],
      "metadata": {
        "id": "Y0RPHQLn4Qf3"
      },
      "execution_count": 735,
      "outputs": []
    },
    {
      "cell_type": "code",
      "source": [
        "data.drop(columns=['timestamp'], inplace=True)\n",
        "test.drop(columns=['timestamp'], inplace=True)"
      ],
      "metadata": {
        "id": "eApSbdlEz1yt"
      },
      "execution_count": 736,
      "outputs": []
    },
    {
      "cell_type": "code",
      "source": [
        "missing_columns = data.columns[data.isnull().any()].tolist()\n",
        "print(missing_columns)"
      ],
      "metadata": {
        "colab": {
          "base_uri": "https://localhost:8080/"
        },
        "id": "AUsUf4Tm0AhE",
        "outputId": "976c9c6a-86fe-41e2-fdf0-24b6d1552950"
      },
      "execution_count": 737,
      "outputs": [
        {
          "output_type": "stream",
          "name": "stdout",
          "text": [
            "['A_x', 'A_y', 'A_z', 'B_x', 'B_y', 'B_z']\n"
          ]
        }
      ]
    },
    {
      "cell_type": "code",
      "source": [
        "missing_columns = test.columns[test.isnull().any()].tolist()\n",
        "print(missing_columns)"
      ],
      "metadata": {
        "colab": {
          "base_uri": "https://localhost:8080/"
        },
        "id": "p91jhl-e4g4e",
        "outputId": "fed4a92d-b568-4679-bb57-a2bdd0e89d71"
      },
      "execution_count": 738,
      "outputs": [
        {
          "output_type": "stream",
          "name": "stdout",
          "text": [
            "[]\n"
          ]
        }
      ]
    },
    {
      "cell_type": "code",
      "source": [
        "data['A_x'].interpolate(inplace=True)\n",
        "data['A_y'].interpolate(inplace=True)\n",
        "data['A_z'].interpolate(inplace=True)\n",
        "data['B_x'].interpolate(inplace=True)\n",
        "data['B_y'].interpolate(inplace=True)\n",
        "data['B_z'].interpolate(inplace=True)"
      ],
      "metadata": {
        "id": "j_W3gAnl0Xeb"
      },
      "execution_count": 739,
      "outputs": []
    },
    {
      "cell_type": "code",
      "source": [
        "# 데이터 시작점에 있는 결측치가 사라지지 않아서\n",
        "# B-y칼럼만 fillna 메소드 사용\n",
        "data['B_y'].fillna(method='bfill', inplace=True)"
      ],
      "metadata": {
        "id": "cc0lO-ld0p91"
      },
      "execution_count": 740,
      "outputs": []
    },
    {
      "cell_type": "code",
      "source": [
        "missing_columns = data.columns[data.isnull().any()].tolist()\n",
        "print(missing_columns)"
      ],
      "metadata": {
        "colab": {
          "base_uri": "https://localhost:8080/"
        },
        "id": "aoy5kqTY0gyd",
        "outputId": "73f4c78f-2e70-4574-ea32-8959de22db62"
      },
      "execution_count": 741,
      "outputs": [
        {
          "output_type": "stream",
          "name": "stdout",
          "text": [
            "[]\n"
          ]
        }
      ]
    },
    {
      "cell_type": "code",
      "source": [
        "data.head()"
      ],
      "metadata": {
        "colab": {
          "base_uri": "https://localhost:8080/",
          "height": 244
        },
        "id": "fJ2PnN1mzDXa",
        "outputId": "39f93e4a-cc5b-4156-8afa-e98aafac681c"
      },
      "execution_count": 743,
      "outputs": [
        {
          "output_type": "execute_result",
          "data": {
            "text/plain": [
              "   Unnamed: 0       A_x       A_y       A_z       B_x       B_y       B_z  \\\n",
              "0           0 -0.259130 -0.834869 -0.485499  0.196409  0.358245  0.384934   \n",
              "1           1  0.370490  0.175042  0.122625 -0.338242  0.358245  0.126491   \n",
              "2           2 -0.257837 -0.881947 -0.391895  0.196027  0.894537  0.411221   \n",
              "3           3 -0.937753 -0.055961  0.362041 -0.929881  0.087673  0.134609   \n",
              "4           4 -0.988320 -0.190390  0.157909 -0.954669 -0.024810 -0.388420   \n",
              "\n",
              "   label  year  month  day  hour  minute  second  \n",
              "0      8  2019      1   12     0      45      54  \n",
              "1      2  2000      1    1     1      37       6  \n",
              "2      8  2019      1   12     0      45      33  \n",
              "3     11  2000      1    1     0      46      22  \n",
              "4      6  2000      1    1     0      49      56  "
            ],
            "text/html": [
              "\n",
              "  <div id=\"df-fdbb6ecf-03d2-46df-8d12-e482433539d1\" class=\"colab-df-container\">\n",
              "    <div>\n",
              "<style scoped>\n",
              "    .dataframe tbody tr th:only-of-type {\n",
              "        vertical-align: middle;\n",
              "    }\n",
              "\n",
              "    .dataframe tbody tr th {\n",
              "        vertical-align: top;\n",
              "    }\n",
              "\n",
              "    .dataframe thead th {\n",
              "        text-align: right;\n",
              "    }\n",
              "</style>\n",
              "<table border=\"1\" class=\"dataframe\">\n",
              "  <thead>\n",
              "    <tr style=\"text-align: right;\">\n",
              "      <th></th>\n",
              "      <th>Unnamed: 0</th>\n",
              "      <th>A_x</th>\n",
              "      <th>A_y</th>\n",
              "      <th>A_z</th>\n",
              "      <th>B_x</th>\n",
              "      <th>B_y</th>\n",
              "      <th>B_z</th>\n",
              "      <th>label</th>\n",
              "      <th>year</th>\n",
              "      <th>month</th>\n",
              "      <th>day</th>\n",
              "      <th>hour</th>\n",
              "      <th>minute</th>\n",
              "      <th>second</th>\n",
              "    </tr>\n",
              "  </thead>\n",
              "  <tbody>\n",
              "    <tr>\n",
              "      <th>0</th>\n",
              "      <td>0</td>\n",
              "      <td>-0.259130</td>\n",
              "      <td>-0.834869</td>\n",
              "      <td>-0.485499</td>\n",
              "      <td>0.196409</td>\n",
              "      <td>0.358245</td>\n",
              "      <td>0.384934</td>\n",
              "      <td>8</td>\n",
              "      <td>2019</td>\n",
              "      <td>1</td>\n",
              "      <td>12</td>\n",
              "      <td>0</td>\n",
              "      <td>45</td>\n",
              "      <td>54</td>\n",
              "    </tr>\n",
              "    <tr>\n",
              "      <th>1</th>\n",
              "      <td>1</td>\n",
              "      <td>0.370490</td>\n",
              "      <td>0.175042</td>\n",
              "      <td>0.122625</td>\n",
              "      <td>-0.338242</td>\n",
              "      <td>0.358245</td>\n",
              "      <td>0.126491</td>\n",
              "      <td>2</td>\n",
              "      <td>2000</td>\n",
              "      <td>1</td>\n",
              "      <td>1</td>\n",
              "      <td>1</td>\n",
              "      <td>37</td>\n",
              "      <td>6</td>\n",
              "    </tr>\n",
              "    <tr>\n",
              "      <th>2</th>\n",
              "      <td>2</td>\n",
              "      <td>-0.257837</td>\n",
              "      <td>-0.881947</td>\n",
              "      <td>-0.391895</td>\n",
              "      <td>0.196027</td>\n",
              "      <td>0.894537</td>\n",
              "      <td>0.411221</td>\n",
              "      <td>8</td>\n",
              "      <td>2019</td>\n",
              "      <td>1</td>\n",
              "      <td>12</td>\n",
              "      <td>0</td>\n",
              "      <td>45</td>\n",
              "      <td>33</td>\n",
              "    </tr>\n",
              "    <tr>\n",
              "      <th>3</th>\n",
              "      <td>3</td>\n",
              "      <td>-0.937753</td>\n",
              "      <td>-0.055961</td>\n",
              "      <td>0.362041</td>\n",
              "      <td>-0.929881</td>\n",
              "      <td>0.087673</td>\n",
              "      <td>0.134609</td>\n",
              "      <td>11</td>\n",
              "      <td>2000</td>\n",
              "      <td>1</td>\n",
              "      <td>1</td>\n",
              "      <td>0</td>\n",
              "      <td>46</td>\n",
              "      <td>22</td>\n",
              "    </tr>\n",
              "    <tr>\n",
              "      <th>4</th>\n",
              "      <td>4</td>\n",
              "      <td>-0.988320</td>\n",
              "      <td>-0.190390</td>\n",
              "      <td>0.157909</td>\n",
              "      <td>-0.954669</td>\n",
              "      <td>-0.024810</td>\n",
              "      <td>-0.388420</td>\n",
              "      <td>6</td>\n",
              "      <td>2000</td>\n",
              "      <td>1</td>\n",
              "      <td>1</td>\n",
              "      <td>0</td>\n",
              "      <td>49</td>\n",
              "      <td>56</td>\n",
              "    </tr>\n",
              "  </tbody>\n",
              "</table>\n",
              "</div>\n",
              "    <div class=\"colab-df-buttons\">\n",
              "\n",
              "  <div class=\"colab-df-container\">\n",
              "    <button class=\"colab-df-convert\" onclick=\"convertToInteractive('df-fdbb6ecf-03d2-46df-8d12-e482433539d1')\"\n",
              "            title=\"Convert this dataframe to an interactive table.\"\n",
              "            style=\"display:none;\">\n",
              "\n",
              "  <svg xmlns=\"http://www.w3.org/2000/svg\" height=\"24px\" viewBox=\"0 -960 960 960\">\n",
              "    <path d=\"M120-120v-720h720v720H120Zm60-500h600v-160H180v160Zm220 220h160v-160H400v160Zm0 220h160v-160H400v160ZM180-400h160v-160H180v160Zm440 0h160v-160H620v160ZM180-180h160v-160H180v160Zm440 0h160v-160H620v160Z\"/>\n",
              "  </svg>\n",
              "    </button>\n",
              "\n",
              "  <style>\n",
              "    .colab-df-container {\n",
              "      display:flex;\n",
              "      gap: 12px;\n",
              "    }\n",
              "\n",
              "    .colab-df-convert {\n",
              "      background-color: #E8F0FE;\n",
              "      border: none;\n",
              "      border-radius: 50%;\n",
              "      cursor: pointer;\n",
              "      display: none;\n",
              "      fill: #1967D2;\n",
              "      height: 32px;\n",
              "      padding: 0 0 0 0;\n",
              "      width: 32px;\n",
              "    }\n",
              "\n",
              "    .colab-df-convert:hover {\n",
              "      background-color: #E2EBFA;\n",
              "      box-shadow: 0px 1px 2px rgba(60, 64, 67, 0.3), 0px 1px 3px 1px rgba(60, 64, 67, 0.15);\n",
              "      fill: #174EA6;\n",
              "    }\n",
              "\n",
              "    .colab-df-buttons div {\n",
              "      margin-bottom: 4px;\n",
              "    }\n",
              "\n",
              "    [theme=dark] .colab-df-convert {\n",
              "      background-color: #3B4455;\n",
              "      fill: #D2E3FC;\n",
              "    }\n",
              "\n",
              "    [theme=dark] .colab-df-convert:hover {\n",
              "      background-color: #434B5C;\n",
              "      box-shadow: 0px 1px 3px 1px rgba(0, 0, 0, 0.15);\n",
              "      filter: drop-shadow(0px 1px 2px rgba(0, 0, 0, 0.3));\n",
              "      fill: #FFFFFF;\n",
              "    }\n",
              "  </style>\n",
              "\n",
              "    <script>\n",
              "      const buttonEl =\n",
              "        document.querySelector('#df-fdbb6ecf-03d2-46df-8d12-e482433539d1 button.colab-df-convert');\n",
              "      buttonEl.style.display =\n",
              "        google.colab.kernel.accessAllowed ? 'block' : 'none';\n",
              "\n",
              "      async function convertToInteractive(key) {\n",
              "        const element = document.querySelector('#df-fdbb6ecf-03d2-46df-8d12-e482433539d1');\n",
              "        const dataTable =\n",
              "          await google.colab.kernel.invokeFunction('convertToInteractive',\n",
              "                                                    [key], {});\n",
              "        if (!dataTable) return;\n",
              "\n",
              "        const docLinkHtml = 'Like what you see? Visit the ' +\n",
              "          '<a target=\"_blank\" href=https://colab.research.google.com/notebooks/data_table.ipynb>data table notebook</a>'\n",
              "          + ' to learn more about interactive tables.';\n",
              "        element.innerHTML = '';\n",
              "        dataTable['output_type'] = 'display_data';\n",
              "        await google.colab.output.renderOutput(dataTable, element);\n",
              "        const docLink = document.createElement('div');\n",
              "        docLink.innerHTML = docLinkHtml;\n",
              "        element.appendChild(docLink);\n",
              "      }\n",
              "    </script>\n",
              "  </div>\n",
              "\n",
              "\n",
              "<div id=\"df-2e46c8b5-ddcd-4637-8abb-8707a7ba6584\">\n",
              "  <button class=\"colab-df-quickchart\" onclick=\"quickchart('df-2e46c8b5-ddcd-4637-8abb-8707a7ba6584')\"\n",
              "            title=\"Suggest charts\"\n",
              "            style=\"display:none;\">\n",
              "\n",
              "<svg xmlns=\"http://www.w3.org/2000/svg\" height=\"24px\"viewBox=\"0 0 24 24\"\n",
              "     width=\"24px\">\n",
              "    <g>\n",
              "        <path d=\"M19 3H5c-1.1 0-2 .9-2 2v14c0 1.1.9 2 2 2h14c1.1 0 2-.9 2-2V5c0-1.1-.9-2-2-2zM9 17H7v-7h2v7zm4 0h-2V7h2v10zm4 0h-2v-4h2v4z\"/>\n",
              "    </g>\n",
              "</svg>\n",
              "  </button>\n",
              "\n",
              "<style>\n",
              "  .colab-df-quickchart {\n",
              "      --bg-color: #E8F0FE;\n",
              "      --fill-color: #1967D2;\n",
              "      --hover-bg-color: #E2EBFA;\n",
              "      --hover-fill-color: #174EA6;\n",
              "      --disabled-fill-color: #AAA;\n",
              "      --disabled-bg-color: #DDD;\n",
              "  }\n",
              "\n",
              "  [theme=dark] .colab-df-quickchart {\n",
              "      --bg-color: #3B4455;\n",
              "      --fill-color: #D2E3FC;\n",
              "      --hover-bg-color: #434B5C;\n",
              "      --hover-fill-color: #FFFFFF;\n",
              "      --disabled-bg-color: #3B4455;\n",
              "      --disabled-fill-color: #666;\n",
              "  }\n",
              "\n",
              "  .colab-df-quickchart {\n",
              "    background-color: var(--bg-color);\n",
              "    border: none;\n",
              "    border-radius: 50%;\n",
              "    cursor: pointer;\n",
              "    display: none;\n",
              "    fill: var(--fill-color);\n",
              "    height: 32px;\n",
              "    padding: 0;\n",
              "    width: 32px;\n",
              "  }\n",
              "\n",
              "  .colab-df-quickchart:hover {\n",
              "    background-color: var(--hover-bg-color);\n",
              "    box-shadow: 0 1px 2px rgba(60, 64, 67, 0.3), 0 1px 3px 1px rgba(60, 64, 67, 0.15);\n",
              "    fill: var(--button-hover-fill-color);\n",
              "  }\n",
              "\n",
              "  .colab-df-quickchart-complete:disabled,\n",
              "  .colab-df-quickchart-complete:disabled:hover {\n",
              "    background-color: var(--disabled-bg-color);\n",
              "    fill: var(--disabled-fill-color);\n",
              "    box-shadow: none;\n",
              "  }\n",
              "\n",
              "  .colab-df-spinner {\n",
              "    border: 2px solid var(--fill-color);\n",
              "    border-color: transparent;\n",
              "    border-bottom-color: var(--fill-color);\n",
              "    animation:\n",
              "      spin 1s steps(1) infinite;\n",
              "  }\n",
              "\n",
              "  @keyframes spin {\n",
              "    0% {\n",
              "      border-color: transparent;\n",
              "      border-bottom-color: var(--fill-color);\n",
              "      border-left-color: var(--fill-color);\n",
              "    }\n",
              "    20% {\n",
              "      border-color: transparent;\n",
              "      border-left-color: var(--fill-color);\n",
              "      border-top-color: var(--fill-color);\n",
              "    }\n",
              "    30% {\n",
              "      border-color: transparent;\n",
              "      border-left-color: var(--fill-color);\n",
              "      border-top-color: var(--fill-color);\n",
              "      border-right-color: var(--fill-color);\n",
              "    }\n",
              "    40% {\n",
              "      border-color: transparent;\n",
              "      border-right-color: var(--fill-color);\n",
              "      border-top-color: var(--fill-color);\n",
              "    }\n",
              "    60% {\n",
              "      border-color: transparent;\n",
              "      border-right-color: var(--fill-color);\n",
              "    }\n",
              "    80% {\n",
              "      border-color: transparent;\n",
              "      border-right-color: var(--fill-color);\n",
              "      border-bottom-color: var(--fill-color);\n",
              "    }\n",
              "    90% {\n",
              "      border-color: transparent;\n",
              "      border-bottom-color: var(--fill-color);\n",
              "    }\n",
              "  }\n",
              "</style>\n",
              "\n",
              "  <script>\n",
              "    async function quickchart(key) {\n",
              "      const quickchartButtonEl =\n",
              "        document.querySelector('#' + key + ' button');\n",
              "      quickchartButtonEl.disabled = true;  // To prevent multiple clicks.\n",
              "      quickchartButtonEl.classList.add('colab-df-spinner');\n",
              "      try {\n",
              "        const charts = await google.colab.kernel.invokeFunction(\n",
              "            'suggestCharts', [key], {});\n",
              "      } catch (error) {\n",
              "        console.error('Error during call to suggestCharts:', error);\n",
              "      }\n",
              "      quickchartButtonEl.classList.remove('colab-df-spinner');\n",
              "      quickchartButtonEl.classList.add('colab-df-quickchart-complete');\n",
              "    }\n",
              "    (() => {\n",
              "      let quickchartButtonEl =\n",
              "        document.querySelector('#df-2e46c8b5-ddcd-4637-8abb-8707a7ba6584 button');\n",
              "      quickchartButtonEl.style.display =\n",
              "        google.colab.kernel.accessAllowed ? 'block' : 'none';\n",
              "    })();\n",
              "  </script>\n",
              "</div>\n",
              "\n",
              "    </div>\n",
              "  </div>\n"
            ],
            "application/vnd.google.colaboratory.intrinsic+json": {
              "type": "dataframe",
              "variable_name": "data",
              "summary": "{\n  \"name\": \"data\",\n  \"rows\": 100000,\n  \"fields\": [\n    {\n      \"column\": \"Unnamed: 0\",\n      \"properties\": {\n        \"dtype\": \"number\",\n        \"std\": 28867,\n        \"min\": 0,\n        \"max\": 99999,\n        \"num_unique_values\": 100000,\n        \"samples\": [\n          75721,\n          80184,\n          19864\n        ],\n        \"semantic_type\": \"\",\n        \"description\": \"\"\n      }\n    },\n    {\n      \"column\": \"A_x\",\n      \"properties\": {\n        \"dtype\": \"number\",\n        \"std\": 0.45310317386343585,\n        \"min\": -5.132823274563671,\n        \"max\": 1.849397592595936,\n        \"num_unique_values\": 100000,\n        \"samples\": [\n          -1.23204638782249,\n          -0.8825977454861649,\n          -1.049619817312305\n        ],\n        \"semantic_type\": \"\",\n        \"description\": \"\"\n      }\n    },\n    {\n      \"column\": \"A_y\",\n      \"properties\": {\n        \"dtype\": \"number\",\n        \"std\": 0.33972276642587734,\n        \"min\": -1.9493097223154927,\n        \"max\": 2.4138655939632767,\n        \"num_unique_values\": 100000,\n        \"samples\": [\n          -0.2240897782881946,\n          -0.17161317864107972,\n          -0.0780378186178685\n        ],\n        \"semantic_type\": \"\",\n        \"description\": \"\"\n      }\n    },\n    {\n      \"column\": \"A_z\",\n      \"properties\": {\n        \"dtype\": \"number\",\n        \"std\": 0.3531347630858258,\n        \"min\": -1.2847497339684355,\n        \"max\": 2.58446712960369,\n        \"num_unique_values\": 100000,\n        \"samples\": [\n          0.101638789545548,\n          0.4212059392014719,\n          -0.1022210995242755\n        ],\n        \"semantic_type\": \"\",\n        \"description\": \"\"\n      }\n    },\n    {\n      \"column\": \"B_x\",\n      \"properties\": {\n        \"dtype\": \"number\",\n        \"std\": 0.7976758651631084,\n        \"min\": -7.483250743565249,\n        \"max\": 5.372528300287759,\n        \"num_unique_values\": 100000,\n        \"samples\": [\n          0.013125191502490141,\n          -0.9802132702688154,\n          -0.2551758191469424\n        ],\n        \"semantic_type\": \"\",\n        \"description\": \"\"\n      }\n    },\n    {\n      \"column\": \"B_y\",\n      \"properties\": {\n        \"dtype\": \"number\",\n        \"std\": 0.5784013542262368,\n        \"min\": -5.466766654352144,\n        \"max\": 7.182237371187774,\n        \"num_unique_values\": 99999,\n        \"samples\": [\n          0.1301895268607748,\n          -0.2316383754391799,\n          -0.2679900445976241\n        ],\n        \"semantic_type\": \"\",\n        \"description\": \"\"\n      }\n    },\n    {\n      \"column\": \"B_z\",\n      \"properties\": {\n        \"dtype\": \"number\",\n        \"std\": 0.7662129097394653,\n        \"min\": -7.208220426404351,\n        \"max\": 6.7665583065707775,\n        \"num_unique_values\": 100000,\n        \"samples\": [\n          1.2045647323976232,\n          0.1268470237346029,\n          0.9599574569843514\n        ],\n        \"semantic_type\": \"\",\n        \"description\": \"\"\n      }\n    },\n    {\n      \"column\": \"label\",\n      \"properties\": {\n        \"dtype\": \"number\",\n        \"std\": 3,\n        \"min\": 1,\n        \"max\": 11,\n        \"num_unique_values\": 11,\n        \"samples\": [\n          10,\n          8,\n          7\n        ],\n        \"semantic_type\": \"\",\n        \"description\": \"\"\n      }\n    },\n    {\n      \"column\": \"year\",\n      \"properties\": {\n        \"dtype\": \"number\",\n        \"std\": 8,\n        \"min\": 2000,\n        \"max\": 2019,\n        \"num_unique_values\": 2,\n        \"samples\": [\n          2000,\n          2019\n        ],\n        \"semantic_type\": \"\",\n        \"description\": \"\"\n      }\n    },\n    {\n      \"column\": \"month\",\n      \"properties\": {\n        \"dtype\": \"number\",\n        \"std\": 0,\n        \"min\": 1,\n        \"max\": 1,\n        \"num_unique_values\": 1,\n        \"samples\": [\n          1\n        ],\n        \"semantic_type\": \"\",\n        \"description\": \"\"\n      }\n    },\n    {\n      \"column\": \"day\",\n      \"properties\": {\n        \"dtype\": \"number\",\n        \"std\": 5,\n        \"min\": 1,\n        \"max\": 12,\n        \"num_unique_values\": 2,\n        \"samples\": [\n          1\n        ],\n        \"semantic_type\": \"\",\n        \"description\": \"\"\n      }\n    },\n    {\n      \"column\": \"hour\",\n      \"properties\": {\n        \"dtype\": \"number\",\n        \"std\": 0,\n        \"min\": 0,\n        \"max\": 2,\n        \"num_unique_values\": 3,\n        \"samples\": [\n          0\n        ],\n        \"semantic_type\": \"\",\n        \"description\": \"\"\n      }\n    },\n    {\n      \"column\": \"minute\",\n      \"properties\": {\n        \"dtype\": \"number\",\n        \"std\": 19,\n        \"min\": 0,\n        \"max\": 59,\n        \"num_unique_values\": 54,\n        \"samples\": [\n          1\n        ],\n        \"semantic_type\": \"\",\n        \"description\": \"\"\n      }\n    },\n    {\n      \"column\": \"second\",\n      \"properties\": {\n        \"dtype\": \"number\",\n        \"std\": 17,\n        \"min\": 0,\n        \"max\": 59,\n        \"num_unique_values\": 60,\n        \"samples\": [\n          54\n        ],\n        \"semantic_type\": \"\",\n        \"description\": \"\"\n      }\n    }\n  ]\n}"
            }
          },
          "metadata": {},
          "execution_count": 743
        }
      ]
    },
    {
      "cell_type": "code",
      "source": [
        "target = 'label'\n",
        "x = data.drop(columns = target, axis = 1)\n",
        "y = data.loc[:, target]"
      ],
      "metadata": {
        "id": "R4RoxbcqxKs6"
      },
      "execution_count": 744,
      "outputs": []
    },
    {
      "cell_type": "code",
      "source": [
        "#x_test = test"
      ],
      "metadata": {
        "id": "1VCR-Nl36CxE"
      },
      "execution_count": 745,
      "outputs": []
    },
    {
      "cell_type": "code",
      "source": [
        "x_train, x_test, y_train, y_test = train_test_split(x, y, test_size=0.2, random_state = 1)"
      ],
      "metadata": {
        "id": "CmP4B7-VxfQD"
      },
      "execution_count": 746,
      "outputs": []
    },
    {
      "cell_type": "code",
      "source": [
        "from catboost import CatBoostClassifier, Pool\n",
        "from sklearn.datasets import load_breast_cancer\n",
        "from sklearn.model_selection import train_test_split\n",
        "from sklearn.metrics import accuracy_score"
      ],
      "metadata": {
        "id": "rVEvgpRaxlb8"
      },
      "execution_count": 747,
      "outputs": []
    },
    {
      "cell_type": "code",
      "source": [
        "model = CatBoostClassifier(\n",
        "    iterations=10000,  # 반복 횟수\n",
        "    learning_rate=0.03,  # 학습률\n",
        "    depth=7,  # 트리의 깊이\n",
        "    l2_leaf_reg=3,  # L2 정규화\n",
        "    loss_function='MultiClass',  # 손실 함수\n",
        "    eval_metric='MultiClass',  # 평가 메트릭\n",
        "    early_stopping_rounds=150,  # 조기 중단\n",
        "    random_seed=40,  # 재현성을 위한 시드\n",
        "   # feature_border_type = 'MaxLogSum',\n",
        "    verbose=100,  # 로그 출력 간격\n",
        "    task_type=\"GPU\",  # GPU 사용\n",
        ")"
      ],
      "metadata": {
        "id": "d17S1-Nnxoet"
      },
      "execution_count": 748,
      "outputs": []
    },
    {
      "cell_type": "code",
      "source": [
        "train_pool = Pool(x_train, y_train)\n",
        "test_pool = Pool(x_test, y_test)"
      ],
      "metadata": {
        "id": "eUrxKMMNLg7z"
      },
      "execution_count": 749,
      "outputs": []
    },
    {
      "cell_type": "code",
      "source": [
        "model.fit(\n",
        "    train_pool,\n",
        "    eval_set=test_pool,\n",
        "    use_best_model=True  # 검증 세트에서 가장 좋은 모델을 사용\n",
        ")\n"
      ],
      "metadata": {
        "colab": {
          "base_uri": "https://localhost:8080/"
        },
        "id": "bvTE3H5PB1Y9",
        "outputId": "bdb6ef15-7c02-4530-ec4b-a427ef7e401f"
      },
      "execution_count": 750,
      "outputs": [
        {
          "output_type": "stream",
          "name": "stdout",
          "text": [
            "0:\tlearn: 2.2396437\ttest: 2.2395129\tbest: 2.2395129 (0)\ttotal: 10.3ms\tremaining: 1m 43s\n",
            "100:\tlearn: 0.5138244\ttest: 0.5222444\tbest: 0.5222444 (100)\ttotal: 917ms\tremaining: 1m 29s\n",
            "200:\tlearn: 0.3061711\ttest: 0.3154865\tbest: 0.3154865 (200)\ttotal: 1.73s\tremaining: 1m 24s\n",
            "300:\tlearn: 0.2218124\ttest: 0.2314029\tbest: 0.2314029 (300)\ttotal: 2.51s\tremaining: 1m 20s\n",
            "400:\tlearn: 0.1754540\ttest: 0.1855294\tbest: 0.1855294 (400)\ttotal: 3.32s\tremaining: 1m 19s\n",
            "500:\tlearn: 0.1454249\ttest: 0.1558897\tbest: 0.1558897 (500)\ttotal: 4.12s\tremaining: 1m 18s\n",
            "600:\tlearn: 0.1259236\ttest: 0.1368441\tbest: 0.1368441 (600)\ttotal: 4.94s\tremaining: 1m 17s\n",
            "700:\tlearn: 0.1111223\ttest: 0.1226572\tbest: 0.1226572 (700)\ttotal: 5.74s\tremaining: 1m 16s\n",
            "800:\tlearn: 0.1000338\ttest: 0.1121313\tbest: 0.1121313 (800)\ttotal: 6.56s\tremaining: 1m 15s\n",
            "900:\tlearn: 0.0911789\ttest: 0.1041803\tbest: 0.1041803 (900)\ttotal: 7.36s\tremaining: 1m 14s\n",
            "1000:\tlearn: 0.0838592\ttest: 0.0974399\tbest: 0.0974399 (1000)\ttotal: 8.13s\tremaining: 1m 13s\n",
            "1100:\tlearn: 0.0782491\ttest: 0.0925210\tbest: 0.0925210 (1100)\ttotal: 8.91s\tremaining: 1m 12s\n",
            "1200:\tlearn: 0.0730778\ttest: 0.0882032\tbest: 0.0882032 (1200)\ttotal: 9.76s\tremaining: 1m 11s\n",
            "1300:\tlearn: 0.0688535\ttest: 0.0846794\tbest: 0.0846794 (1300)\ttotal: 10.6s\tremaining: 1m 10s\n",
            "1400:\tlearn: 0.0650398\ttest: 0.0816595\tbest: 0.0816595 (1400)\ttotal: 11.5s\tremaining: 1m 10s\n",
            "1500:\tlearn: 0.0614844\ttest: 0.0788083\tbest: 0.0788083 (1500)\ttotal: 12.4s\tremaining: 1m 10s\n",
            "1600:\tlearn: 0.0587362\ttest: 0.0767167\tbest: 0.0767167 (1600)\ttotal: 13.3s\tremaining: 1m 9s\n",
            "1700:\tlearn: 0.0558002\ttest: 0.0744325\tbest: 0.0744325 (1700)\ttotal: 14.3s\tremaining: 1m 9s\n",
            "1800:\tlearn: 0.0534003\ttest: 0.0728335\tbest: 0.0728335 (1800)\ttotal: 15.2s\tremaining: 1m 8s\n",
            "1900:\tlearn: 0.0511057\ttest: 0.0710622\tbest: 0.0710622 (1900)\ttotal: 16.1s\tremaining: 1m 8s\n",
            "2000:\tlearn: 0.0489752\ttest: 0.0696376\tbest: 0.0696376 (2000)\ttotal: 16.9s\tremaining: 1m 7s\n",
            "2100:\tlearn: 0.0471059\ttest: 0.0683972\tbest: 0.0683972 (2100)\ttotal: 17.7s\tremaining: 1m 6s\n",
            "2200:\tlearn: 0.0452176\ttest: 0.0670320\tbest: 0.0670320 (2200)\ttotal: 18.5s\tremaining: 1m 5s\n",
            "2300:\tlearn: 0.0434424\ttest: 0.0656908\tbest: 0.0656908 (2300)\ttotal: 19.3s\tremaining: 1m 4s\n",
            "2400:\tlearn: 0.0419678\ttest: 0.0647531\tbest: 0.0647531 (2400)\ttotal: 20.1s\tremaining: 1m 3s\n",
            "2500:\tlearn: 0.0405393\ttest: 0.0637590\tbest: 0.0637590 (2500)\ttotal: 20.9s\tremaining: 1m 2s\n",
            "2600:\tlearn: 0.0391557\ttest: 0.0629697\tbest: 0.0629697 (2600)\ttotal: 21.7s\tremaining: 1m 1s\n",
            "2700:\tlearn: 0.0378890\ttest: 0.0621963\tbest: 0.0621963 (2700)\ttotal: 22.5s\tremaining: 1m\n",
            "2800:\tlearn: 0.0367545\ttest: 0.0614215\tbest: 0.0614215 (2800)\ttotal: 23.3s\tremaining: 59.9s\n",
            "2900:\tlearn: 0.0356445\ttest: 0.0607485\tbest: 0.0607485 (2900)\ttotal: 24.1s\tremaining: 59s\n",
            "3000:\tlearn: 0.0345457\ttest: 0.0601508\tbest: 0.0601508 (3000)\ttotal: 24.9s\tremaining: 58.2s\n",
            "3100:\tlearn: 0.0334351\ttest: 0.0594991\tbest: 0.0594991 (3100)\ttotal: 25.8s\tremaining: 57.4s\n",
            "3200:\tlearn: 0.0324662\ttest: 0.0589325\tbest: 0.0589325 (3200)\ttotal: 26.6s\tremaining: 56.4s\n",
            "3300:\tlearn: 0.0315838\ttest: 0.0585333\tbest: 0.0585333 (3300)\ttotal: 27.4s\tremaining: 55.5s\n",
            "3400:\tlearn: 0.0306224\ttest: 0.0579700\tbest: 0.0579700 (3400)\ttotal: 28.2s\tremaining: 54.7s\n",
            "3500:\tlearn: 0.0297921\ttest: 0.0574652\tbest: 0.0574652 (3500)\ttotal: 29s\tremaining: 53.8s\n",
            "3600:\tlearn: 0.0289597\ttest: 0.0569879\tbest: 0.0569858 (3599)\ttotal: 29.8s\tremaining: 52.9s\n",
            "3700:\tlearn: 0.0281627\ttest: 0.0565017\tbest: 0.0565017 (3700)\ttotal: 30.6s\tremaining: 52s\n",
            "3800:\tlearn: 0.0273414\ttest: 0.0560034\tbest: 0.0560034 (3800)\ttotal: 31.4s\tremaining: 51.2s\n",
            "3900:\tlearn: 0.0266525\ttest: 0.0556921\tbest: 0.0556921 (3900)\ttotal: 32.1s\tremaining: 50.3s\n",
            "4000:\tlearn: 0.0259237\ttest: 0.0552562\tbest: 0.0552532 (3999)\ttotal: 33s\tremaining: 49.4s\n",
            "4100:\tlearn: 0.0252809\ttest: 0.0549373\tbest: 0.0549373 (4100)\ttotal: 33.8s\tremaining: 48.6s\n",
            "4200:\tlearn: 0.0246614\ttest: 0.0546445\tbest: 0.0546445 (4200)\ttotal: 34.6s\tremaining: 47.7s\n",
            "4300:\tlearn: 0.0240791\ttest: 0.0543970\tbest: 0.0543942 (4299)\ttotal: 35.4s\tremaining: 46.9s\n",
            "4400:\tlearn: 0.0234728\ttest: 0.0541575\tbest: 0.0541575 (4400)\ttotal: 36.2s\tremaining: 46s\n",
            "4500:\tlearn: 0.0229145\ttest: 0.0538589\tbest: 0.0538589 (4500)\ttotal: 37s\tremaining: 45.2s\n",
            "4600:\tlearn: 0.0223752\ttest: 0.0536275\tbest: 0.0536275 (4600)\ttotal: 37.8s\tremaining: 44.4s\n",
            "4700:\tlearn: 0.0218337\ttest: 0.0533255\tbest: 0.0533255 (4700)\ttotal: 38.6s\tremaining: 43.5s\n",
            "4800:\tlearn: 0.0213261\ttest: 0.0530863\tbest: 0.0530863 (4800)\ttotal: 39.4s\tremaining: 42.7s\n",
            "4900:\tlearn: 0.0208231\ttest: 0.0528533\tbest: 0.0528533 (4900)\ttotal: 40.2s\tremaining: 41.9s\n",
            "5000:\tlearn: 0.0203344\ttest: 0.0526620\tbest: 0.0526620 (5000)\ttotal: 41.1s\tremaining: 41s\n",
            "5100:\tlearn: 0.0198958\ttest: 0.0524587\tbest: 0.0524559 (5097)\ttotal: 41.8s\tremaining: 40.2s\n",
            "5200:\tlearn: 0.0194260\ttest: 0.0522784\tbest: 0.0522768 (5191)\ttotal: 42.6s\tremaining: 39.3s\n",
            "5300:\tlearn: 0.0189533\ttest: 0.0520203\tbest: 0.0520203 (5299)\ttotal: 43.4s\tremaining: 38.5s\n",
            "5400:\tlearn: 0.0185707\ttest: 0.0518906\tbest: 0.0518906 (5400)\ttotal: 44.2s\tremaining: 37.7s\n",
            "5500:\tlearn: 0.0181628\ttest: 0.0517555\tbest: 0.0517545 (5499)\ttotal: 45.1s\tremaining: 36.9s\n",
            "5600:\tlearn: 0.0177949\ttest: 0.0516225\tbest: 0.0516187 (5593)\ttotal: 45.9s\tremaining: 36s\n",
            "5700:\tlearn: 0.0174064\ttest: 0.0514153\tbest: 0.0514153 (5700)\ttotal: 46.7s\tremaining: 35.2s\n",
            "5800:\tlearn: 0.0170425\ttest: 0.0512387\tbest: 0.0512372 (5798)\ttotal: 47.5s\tremaining: 34.4s\n",
            "5900:\tlearn: 0.0166983\ttest: 0.0511066\tbest: 0.0511066 (5900)\ttotal: 48.4s\tremaining: 33.6s\n",
            "6000:\tlearn: 0.0163507\ttest: 0.0509176\tbest: 0.0509176 (6000)\ttotal: 49.2s\tremaining: 32.8s\n",
            "6100:\tlearn: 0.0160229\ttest: 0.0507893\tbest: 0.0507887 (6094)\ttotal: 50.1s\tremaining: 32s\n",
            "6200:\tlearn: 0.0156796\ttest: 0.0505753\tbest: 0.0505753 (6200)\ttotal: 50.9s\tremaining: 31.2s\n",
            "6300:\tlearn: 0.0153715\ttest: 0.0505140\tbest: 0.0505091 (6286)\ttotal: 51.7s\tremaining: 30.3s\n",
            "6400:\tlearn: 0.0150601\ttest: 0.0503668\tbest: 0.0503668 (6400)\ttotal: 52.5s\tremaining: 29.5s\n",
            "6500:\tlearn: 0.0147582\ttest: 0.0502371\tbest: 0.0502371 (6500)\ttotal: 53.3s\tremaining: 28.7s\n",
            "6600:\tlearn: 0.0144781\ttest: 0.0501275\tbest: 0.0501212 (6594)\ttotal: 54.1s\tremaining: 27.9s\n",
            "6700:\tlearn: 0.0142006\ttest: 0.0500396\tbest: 0.0500385 (6699)\ttotal: 54.9s\tremaining: 27s\n",
            "6800:\tlearn: 0.0139101\ttest: 0.0498994\tbest: 0.0498987 (6794)\ttotal: 55.7s\tremaining: 26.2s\n",
            "6900:\tlearn: 0.0136631\ttest: 0.0498151\tbest: 0.0498144 (6899)\ttotal: 56.6s\tremaining: 25.4s\n",
            "7000:\tlearn: 0.0134144\ttest: 0.0497381\tbest: 0.0497347 (6998)\ttotal: 57.4s\tremaining: 24.6s\n",
            "7100:\tlearn: 0.0131313\ttest: 0.0496008\tbest: 0.0495972 (7097)\ttotal: 58.1s\tremaining: 23.7s\n",
            "7200:\tlearn: 0.0128857\ttest: 0.0495347\tbest: 0.0495336 (7199)\ttotal: 58.9s\tremaining: 22.9s\n",
            "7300:\tlearn: 0.0126311\ttest: 0.0494081\tbest: 0.0494081 (7300)\ttotal: 59.7s\tremaining: 22.1s\n",
            "7400:\tlearn: 0.0124179\ttest: 0.0493701\tbest: 0.0493701 (7400)\ttotal: 1m\tremaining: 21.3s\n",
            "7500:\tlearn: 0.0121963\ttest: 0.0493180\tbest: 0.0493180 (7500)\ttotal: 1m 1s\tremaining: 20.5s\n",
            "7600:\tlearn: 0.0119653\ttest: 0.0491976\tbest: 0.0491976 (7600)\ttotal: 1m 2s\tremaining: 19.7s\n",
            "7700:\tlearn: 0.0117495\ttest: 0.0491156\tbest: 0.0491126 (7694)\ttotal: 1m 3s\tremaining: 18.9s\n",
            "7800:\tlearn: 0.0115396\ttest: 0.0490301\tbest: 0.0490247 (7795)\ttotal: 1m 3s\tremaining: 18s\n",
            "7900:\tlearn: 0.0113279\ttest: 0.0489314\tbest: 0.0489289 (7898)\ttotal: 1m 4s\tremaining: 17.2s\n",
            "8000:\tlearn: 0.0111271\ttest: 0.0488648\tbest: 0.0488648 (8000)\ttotal: 1m 5s\tremaining: 16.4s\n",
            "8100:\tlearn: 0.0109393\ttest: 0.0488103\tbest: 0.0488083 (8086)\ttotal: 1m 6s\tremaining: 15.6s\n",
            "8200:\tlearn: 0.0107665\ttest: 0.0487673\tbest: 0.0487572 (8186)\ttotal: 1m 7s\tremaining: 14.7s\n",
            "8300:\tlearn: 0.0105781\ttest: 0.0486868\tbest: 0.0486868 (8300)\ttotal: 1m 7s\tremaining: 13.9s\n",
            "8400:\tlearn: 0.0104061\ttest: 0.0486412\tbest: 0.0486412 (8399)\ttotal: 1m 8s\tremaining: 13.1s\n",
            "8500:\tlearn: 0.0102386\ttest: 0.0485926\tbest: 0.0485895 (8489)\ttotal: 1m 9s\tremaining: 12.3s\n",
            "8600:\tlearn: 0.0100778\ttest: 0.0485493\tbest: 0.0485472 (8591)\ttotal: 1m 10s\tremaining: 11.4s\n",
            "8700:\tlearn: 0.0099183\ttest: 0.0484853\tbest: 0.0484853 (8700)\ttotal: 1m 11s\tremaining: 10.6s\n",
            "8800:\tlearn: 0.0097583\ttest: 0.0484368\tbest: 0.0484300 (8792)\ttotal: 1m 11s\tremaining: 9.79s\n",
            "8900:\tlearn: 0.0096053\ttest: 0.0484002\tbest: 0.0483947 (8894)\ttotal: 1m 12s\tremaining: 8.97s\n",
            "9000:\tlearn: 0.0094651\ttest: 0.0483770\tbest: 0.0483674 (8984)\ttotal: 1m 13s\tremaining: 8.16s\n",
            "9100:\tlearn: 0.0093139\ttest: 0.0483226\tbest: 0.0483168 (9097)\ttotal: 1m 14s\tremaining: 7.34s\n",
            "9200:\tlearn: 0.0091691\ttest: 0.0482833\tbest: 0.0482833 (9200)\ttotal: 1m 15s\tremaining: 6.52s\n",
            "9300:\tlearn: 0.0090298\ttest: 0.0482689\tbest: 0.0482635 (9298)\ttotal: 1m 15s\tremaining: 5.71s\n",
            "9400:\tlearn: 0.0088944\ttest: 0.0482444\tbest: 0.0482358 (9395)\ttotal: 1m 16s\tremaining: 4.89s\n",
            "9500:\tlearn: 0.0087650\ttest: 0.0481944\tbest: 0.0481944 (9500)\ttotal: 1m 17s\tremaining: 4.07s\n",
            "9600:\tlearn: 0.0086316\ttest: 0.0481725\tbest: 0.0481704 (9521)\ttotal: 1m 18s\tremaining: 3.25s\n",
            "9700:\tlearn: 0.0084994\ttest: 0.0481379\tbest: 0.0481341 (9699)\ttotal: 1m 19s\tremaining: 2.44s\n",
            "9800:\tlearn: 0.0083837\ttest: 0.0481154\tbest: 0.0481123 (9760)\ttotal: 1m 19s\tremaining: 1.62s\n",
            "9900:\tlearn: 0.0082629\ttest: 0.0480835\tbest: 0.0480830 (9897)\ttotal: 1m 20s\tremaining: 807ms\n",
            "9999:\tlearn: 0.0081441\ttest: 0.0480616\tbest: 0.0480513 (9973)\ttotal: 1m 21s\tremaining: 0us\n",
            "bestTest = 0.04805133667\n",
            "bestIteration = 9973\n",
            "Shrink model to first 9974 iterations.\n"
          ]
        },
        {
          "output_type": "execute_result",
          "data": {
            "text/plain": [
              "<catboost.core.CatBoostClassifier at 0x7c1c49bff760>"
            ]
          },
          "metadata": {},
          "execution_count": 750
        }
      ]
    },
    {
      "cell_type": "code",
      "source": [
        "# 테스트 데이터 예측\n",
        "predictions = model.predict(x_test)\n",
        "\n",
        "# 정확도 평가\n",
        "accuracy = accuracy_score(y_test, predictions)\n",
        "print(f\"Accuracy: {accuracy:.4f}\")"
      ],
      "metadata": {
        "id": "ifoUJn3l1y4K",
        "colab": {
          "base_uri": "https://localhost:8080/"
        },
        "outputId": "426a7bc1-e486-4b98-d6fe-ecd60e294e9c"
      },
      "execution_count": 751,
      "outputs": [
        {
          "output_type": "stream",
          "name": "stdout",
          "text": [
            "Accuracy: 0.9826\n"
          ]
        }
      ]
    },
    {
      "cell_type": "code",
      "source": [
        "X_test = test"
      ],
      "metadata": {
        "id": "d4ZBS3X88Tdj"
      },
      "execution_count": 752,
      "outputs": []
    },
    {
      "cell_type": "code",
      "source": [
        "predictions = model.predict(X_test)\n",
        "print(predictions)"
      ],
      "metadata": {
        "id": "B8wPkj4Z8W7t",
        "colab": {
          "base_uri": "https://localhost:8080/"
        },
        "outputId": "ec391013-9920-4fa7-9a7f-d36af48933cb"
      },
      "execution_count": 753,
      "outputs": [
        {
          "output_type": "stream",
          "name": "stdout",
          "text": [
            "[[ 6]\n",
            " [ 4]\n",
            " [10]\n",
            " ...\n",
            " [ 4]\n",
            " [ 1]\n",
            " [ 7]]\n"
          ]
        }
      ]
    },
    {
      "cell_type": "code",
      "source": [
        "test_ids = test.index"
      ],
      "metadata": {
        "id": "PPJDuXCP9R7r"
      },
      "execution_count": 754,
      "outputs": []
    },
    {
      "cell_type": "code",
      "source": [
        "predictions_flatten = predictions.flatten()\n",
        "submission = pd.DataFrame({'ID': test_ids, 'label': predictions_flatten})\n"
      ],
      "metadata": {
        "id": "VCxpm3k9DiBM"
      },
      "execution_count": 755,
      "outputs": []
    },
    {
      "cell_type": "code",
      "source": [
        "submission.to_csv('submission9.csv', index=False)"
      ],
      "metadata": {
        "id": "RtaK6MdJ9tGH"
      },
      "execution_count": 756,
      "outputs": []
    },
    {
      "cell_type": "code",
      "source": [
        "print(submission.head())"
      ],
      "metadata": {
        "id": "k5sab4HQ9ure",
        "colab": {
          "base_uri": "https://localhost:8080/"
        },
        "outputId": "afc71007-27cb-431c-cd1e-c177a17245c4"
      },
      "execution_count": 757,
      "outputs": [
        {
          "output_type": "stream",
          "name": "stdout",
          "text": [
            "   ID  label\n",
            "0   0      6\n",
            "1   1      4\n",
            "2   2     10\n",
            "3   3      9\n",
            "4   4      7\n"
          ]
        }
      ]
    }
  ]
}