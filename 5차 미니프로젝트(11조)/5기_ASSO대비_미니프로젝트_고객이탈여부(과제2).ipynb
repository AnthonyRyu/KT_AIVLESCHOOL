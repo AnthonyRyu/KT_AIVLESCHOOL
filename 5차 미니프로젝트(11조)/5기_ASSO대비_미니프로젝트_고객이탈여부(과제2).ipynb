{
  "cells": [
    {
      "cell_type": "markdown",
      "id": "1f32dd86-1670-4327-bfe9-9d99b93a5d9c",
      "metadata": {
        "id": "1f32dd86-1670-4327-bfe9-9d99b93a5d9c"
      },
      "source": [
        "**AIVLE School 미니프로젝트**\n",
        "### **통신 서비스 이용 고객의 <span style=\"color:darkgreen\">이탈 여부</span> 예측 문제**\n",
        "---"
      ]
    },
    {
      "cell_type": "markdown",
      "id": "e39fd6a0-05d7-4def-b5c1-6517ba575080",
      "metadata": {
        "id": "e39fd6a0-05d7-4def-b5c1-6517ba575080"
      },
      "source": [
        "<br>"
      ]
    },
    {
      "cell_type": "markdown",
      "id": "1951fedb-3724-418c-8de8-ac69b120d310",
      "metadata": {
        "tags": [],
        "id": "1951fedb-3724-418c-8de8-ac69b120d310"
      },
      "source": [
        "#### **<span style=\"color:red\">[미션 안내]</span>**\n",
        "* 고객 관련 데이터를 분석한 후 고객의 서비스 중단 또는 경쟁업체로의 이탈 여부를 예측하는 머신러닝, 딥러닝 모델을 만들고 결과를 예측하세요."
      ]
    },
    {
      "cell_type": "markdown",
      "id": "07c798aa-1b49-4dae-af82-dd853b9e7886",
      "metadata": {
        "id": "07c798aa-1b49-4dae-af82-dd853b9e7886"
      },
      "source": [
        "#### **<span style=\"color:red\">[유의 사항]</span>**\n",
        "* 각 문항의 답안코드는 반드시 '#여기에 답안코드를 작성하세요'로 표시된 cell에 작성해야 합니다.\n",
        "* 제공된 cell을 추가/삭제하고 다른 cell에 답안코드를 작성 시 채점되지 않습니다.\n",
        "* 반드시 문제에 제시된 가이드를 읽고 답안 작성하세요.\n",
        "* 문제에 변수명이 제시된 경우 반드시 해당 변수명을 사용하세요.\n",
        "* 문제와 데이터는 제3자에게 공유하거나 개인적인 용도로 사용하는 등 외부로 유출할 수 없으며 유출로 인한 책임은 응시자 본인에게 있습니다."
      ]
    },
    {
      "cell_type": "code",
      "source": [
        "from google.colab import drive\n",
        "drive.mount('/content/drive')"
      ],
      "metadata": {
        "colab": {
          "base_uri": "https://localhost:8080/"
        },
        "id": "GI4mqL_IuzA5",
        "outputId": "921a526e-2ae1-42a6-88bd-1220a8d45ec3"
      },
      "id": "GI4mqL_IuzA5",
      "execution_count": null,
      "outputs": [
        {
          "output_type": "stream",
          "name": "stdout",
          "text": [
            "Drive already mounted at /content/drive; to attempt to forcibly remount, call drive.mount(\"/content/drive\", force_remount=True).\n"
          ]
        }
      ]
    },
    {
      "cell_type": "markdown",
      "id": "f2e1c59a-e306-45f5-90d0-252e63994de8",
      "metadata": {
        "id": "f2e1c59a-e306-45f5-90d0-252e63994de8"
      },
      "source": [
        "<br>"
      ]
    },
    {
      "cell_type": "markdown",
      "id": "cb429a27-f439-4323-a69f-aa554cebeb5f",
      "metadata": {
        "id": "cb429a27-f439-4323-a69f-aa554cebeb5f"
      },
      "source": [
        "### 1. scikit-learn 패키지는 머신러닝 교육을 위한 최고의 파이썬 패키지입니다.\n",
        "### scikit-learn를 별칭(alias) sk로 임포트하는 코드를 작성하고 실행하세요."
      ]
    },
    {
      "cell_type": "code",
      "execution_count": null,
      "id": "78bfda52-7125-4bf4-99cc-a49888f3557b",
      "metadata": {
        "id": "78bfda52-7125-4bf4-99cc-a49888f3557b"
      },
      "outputs": [],
      "source": [
        "# 여기에 답안코드를 작성하세요.\n",
        "import sklearn as sk"
      ]
    },
    {
      "cell_type": "markdown",
      "id": "7d66e4d1-6a30-484d-920e-772b815f50c7",
      "metadata": {
        "id": "7d66e4d1-6a30-484d-920e-772b815f50c7"
      },
      "source": [
        "<br>"
      ]
    },
    {
      "cell_type": "markdown",
      "id": "d792db90-2273-4eef-a0f2-3cb37d2edf7c",
      "metadata": {
        "id": "d792db90-2273-4eef-a0f2-3cb37d2edf7c"
      },
      "source": [
        "### 2. Pandas를 사용할 수 있도록 별칭(alias)을 pd로 해서 불러오세요."
      ]
    },
    {
      "cell_type": "code",
      "execution_count": null,
      "id": "771f7972-0473-4db8-8797-95ddc19017fc",
      "metadata": {
        "id": "771f7972-0473-4db8-8797-95ddc19017fc"
      },
      "outputs": [],
      "source": [
        "# 여기에 답안코드를 작성하세요.\n",
        "import pandas as pd"
      ]
    },
    {
      "cell_type": "markdown",
      "id": "326a5dea-8170-4655-a4c6-ed1d3e4a1718",
      "metadata": {
        "id": "326a5dea-8170-4655-a4c6-ed1d3e4a1718"
      },
      "source": [
        "<br>"
      ]
    },
    {
      "cell_type": "markdown",
      "id": "55ced9e0-391e-4169-acd5-2165cd5b3ee0",
      "metadata": {
        "id": "55ced9e0-391e-4169-acd5-2165cd5b3ee0"
      },
      "source": [
        "### 3. 모델링을 위해 분석 및 처리할 데이터 파일을 읽어오려고 합니다.\n",
        "### Pandas함수로 데이터 파일을 읽어 데이터프레임 변수명 df에 할당하는 코드를 작성하세요.\n",
        "* churn_data.csv 파일을 읽어 데이터 프레임 변수명 df에 할당하세요."
      ]
    },
    {
      "cell_type": "code",
      "execution_count": null,
      "id": "dbc291ca-4629-4beb-be81-1633aa8e62b2",
      "metadata": {
        "id": "dbc291ca-4629-4beb-be81-1633aa8e62b2"
      },
      "outputs": [],
      "source": [
        "# 여기에 답안코드를 작성하세요.\n",
        "df = pd.read_csv('/content/drive/MyDrive/KT_5mini/churn_data.csv')"
      ]
    },
    {
      "cell_type": "markdown",
      "id": "6a34284c-1724-4326-8079-b823f1e9b08b",
      "metadata": {
        "id": "6a34284c-1724-4326-8079-b823f1e9b08b"
      },
      "source": [
        "<br>"
      ]
    },
    {
      "cell_type": "markdown",
      "id": "a1c7f855-339a-4600-a87d-64a5525edcc8",
      "metadata": {
        "id": "a1c7f855-339a-4600-a87d-64a5525edcc8"
      },
      "source": [
        "### 4. df에서 불필요한 customerID 컬럼을 삭제하고 df1에 저장하세요."
      ]
    },
    {
      "cell_type": "code",
      "execution_count": null,
      "id": "865d5d47-ce7e-4536-828f-b9d5ab804780",
      "metadata": {
        "tags": [],
        "id": "865d5d47-ce7e-4536-828f-b9d5ab804780"
      },
      "outputs": [],
      "source": [
        "# 여기에 답안코드를 작성하세요.\n",
        "df1 = df.drop('customerID', axis=1)"
      ]
    },
    {
      "cell_type": "code",
      "source": [
        "df1.head()"
      ],
      "metadata": {
        "colab": {
          "base_uri": "https://localhost:8080/",
          "height": 278
        },
        "id": "fYCp3RcDvF8q",
        "outputId": "d8d4c13f-85b4-4f27-dfe6-37e68de1e5b3"
      },
      "id": "fYCp3RcDvF8q",
      "execution_count": null,
      "outputs": [
        {
          "output_type": "execute_result",
          "data": {
            "text/plain": [
              "   gender  SeniorCitizen Partner Dependents  tenure PhoneService  \\\n",
              "0     NaN            0.0     Yes         No       1           No   \n",
              "1    Male            0.0      No         No      34          Yes   \n",
              "2    Male            0.0      No         No       2          Yes   \n",
              "3    Male            0.0      No         No      45           No   \n",
              "4  Female            0.0      No         No       2          Yes   \n",
              "\n",
              "      MultipleLines InternetService OnlineSecurity OnlineBackup  \\\n",
              "0  No phone service             DSL             No          Yes   \n",
              "1                No             DSL            Yes           No   \n",
              "2                No             DSL            Yes          Yes   \n",
              "3  No phone service             DSL            Yes           No   \n",
              "4                No     Fiber optic             No           No   \n",
              "\n",
              "  DeviceProtection TechSupport StreamingTV StreamingMovies        Contract  \\\n",
              "0               No          No          No              No             NaN   \n",
              "1              Yes          No          No              No        One year   \n",
              "2              NaN          No          No              No  Month-to-month   \n",
              "3              NaN         Yes          No              No        One year   \n",
              "4              NaN          No          No              No  Month-to-month   \n",
              "\n",
              "  PaperlessBilling              PaymentMethod  MonthlyCharges TotalCharges  \\\n",
              "0              Yes           Electronic check           29.85        29.85   \n",
              "1               No               Mailed check           56.95       1889.5   \n",
              "2              Yes               Mailed check           53.85       108.15   \n",
              "3               No  Bank transfer (automatic)           42.30      1840.75   \n",
              "4              Yes           Electronic check           70.70       151.65   \n",
              "\n",
              "  Churn  \n",
              "0    No  \n",
              "1    No  \n",
              "2   Yes  \n",
              "3    No  \n",
              "4   Yes  "
            ],
            "text/html": [
              "\n",
              "  <div id=\"df-bf406f99-6b78-4d76-ae15-c8d1f1dc22e2\" class=\"colab-df-container\">\n",
              "    <div>\n",
              "<style scoped>\n",
              "    .dataframe tbody tr th:only-of-type {\n",
              "        vertical-align: middle;\n",
              "    }\n",
              "\n",
              "    .dataframe tbody tr th {\n",
              "        vertical-align: top;\n",
              "    }\n",
              "\n",
              "    .dataframe thead th {\n",
              "        text-align: right;\n",
              "    }\n",
              "</style>\n",
              "<table border=\"1\" class=\"dataframe\">\n",
              "  <thead>\n",
              "    <tr style=\"text-align: right;\">\n",
              "      <th></th>\n",
              "      <th>gender</th>\n",
              "      <th>SeniorCitizen</th>\n",
              "      <th>Partner</th>\n",
              "      <th>Dependents</th>\n",
              "      <th>tenure</th>\n",
              "      <th>PhoneService</th>\n",
              "      <th>MultipleLines</th>\n",
              "      <th>InternetService</th>\n",
              "      <th>OnlineSecurity</th>\n",
              "      <th>OnlineBackup</th>\n",
              "      <th>DeviceProtection</th>\n",
              "      <th>TechSupport</th>\n",
              "      <th>StreamingTV</th>\n",
              "      <th>StreamingMovies</th>\n",
              "      <th>Contract</th>\n",
              "      <th>PaperlessBilling</th>\n",
              "      <th>PaymentMethod</th>\n",
              "      <th>MonthlyCharges</th>\n",
              "      <th>TotalCharges</th>\n",
              "      <th>Churn</th>\n",
              "    </tr>\n",
              "  </thead>\n",
              "  <tbody>\n",
              "    <tr>\n",
              "      <th>0</th>\n",
              "      <td>NaN</td>\n",
              "      <td>0.0</td>\n",
              "      <td>Yes</td>\n",
              "      <td>No</td>\n",
              "      <td>1</td>\n",
              "      <td>No</td>\n",
              "      <td>No phone service</td>\n",
              "      <td>DSL</td>\n",
              "      <td>No</td>\n",
              "      <td>Yes</td>\n",
              "      <td>No</td>\n",
              "      <td>No</td>\n",
              "      <td>No</td>\n",
              "      <td>No</td>\n",
              "      <td>NaN</td>\n",
              "      <td>Yes</td>\n",
              "      <td>Electronic check</td>\n",
              "      <td>29.85</td>\n",
              "      <td>29.85</td>\n",
              "      <td>No</td>\n",
              "    </tr>\n",
              "    <tr>\n",
              "      <th>1</th>\n",
              "      <td>Male</td>\n",
              "      <td>0.0</td>\n",
              "      <td>No</td>\n",
              "      <td>No</td>\n",
              "      <td>34</td>\n",
              "      <td>Yes</td>\n",
              "      <td>No</td>\n",
              "      <td>DSL</td>\n",
              "      <td>Yes</td>\n",
              "      <td>No</td>\n",
              "      <td>Yes</td>\n",
              "      <td>No</td>\n",
              "      <td>No</td>\n",
              "      <td>No</td>\n",
              "      <td>One year</td>\n",
              "      <td>No</td>\n",
              "      <td>Mailed check</td>\n",
              "      <td>56.95</td>\n",
              "      <td>1889.5</td>\n",
              "      <td>No</td>\n",
              "    </tr>\n",
              "    <tr>\n",
              "      <th>2</th>\n",
              "      <td>Male</td>\n",
              "      <td>0.0</td>\n",
              "      <td>No</td>\n",
              "      <td>No</td>\n",
              "      <td>2</td>\n",
              "      <td>Yes</td>\n",
              "      <td>No</td>\n",
              "      <td>DSL</td>\n",
              "      <td>Yes</td>\n",
              "      <td>Yes</td>\n",
              "      <td>NaN</td>\n",
              "      <td>No</td>\n",
              "      <td>No</td>\n",
              "      <td>No</td>\n",
              "      <td>Month-to-month</td>\n",
              "      <td>Yes</td>\n",
              "      <td>Mailed check</td>\n",
              "      <td>53.85</td>\n",
              "      <td>108.15</td>\n",
              "      <td>Yes</td>\n",
              "    </tr>\n",
              "    <tr>\n",
              "      <th>3</th>\n",
              "      <td>Male</td>\n",
              "      <td>0.0</td>\n",
              "      <td>No</td>\n",
              "      <td>No</td>\n",
              "      <td>45</td>\n",
              "      <td>No</td>\n",
              "      <td>No phone service</td>\n",
              "      <td>DSL</td>\n",
              "      <td>Yes</td>\n",
              "      <td>No</td>\n",
              "      <td>NaN</td>\n",
              "      <td>Yes</td>\n",
              "      <td>No</td>\n",
              "      <td>No</td>\n",
              "      <td>One year</td>\n",
              "      <td>No</td>\n",
              "      <td>Bank transfer (automatic)</td>\n",
              "      <td>42.30</td>\n",
              "      <td>1840.75</td>\n",
              "      <td>No</td>\n",
              "    </tr>\n",
              "    <tr>\n",
              "      <th>4</th>\n",
              "      <td>Female</td>\n",
              "      <td>0.0</td>\n",
              "      <td>No</td>\n",
              "      <td>No</td>\n",
              "      <td>2</td>\n",
              "      <td>Yes</td>\n",
              "      <td>No</td>\n",
              "      <td>Fiber optic</td>\n",
              "      <td>No</td>\n",
              "      <td>No</td>\n",
              "      <td>NaN</td>\n",
              "      <td>No</td>\n",
              "      <td>No</td>\n",
              "      <td>No</td>\n",
              "      <td>Month-to-month</td>\n",
              "      <td>Yes</td>\n",
              "      <td>Electronic check</td>\n",
              "      <td>70.70</td>\n",
              "      <td>151.65</td>\n",
              "      <td>Yes</td>\n",
              "    </tr>\n",
              "  </tbody>\n",
              "</table>\n",
              "</div>\n",
              "    <div class=\"colab-df-buttons\">\n",
              "\n",
              "  <div class=\"colab-df-container\">\n",
              "    <button class=\"colab-df-convert\" onclick=\"convertToInteractive('df-bf406f99-6b78-4d76-ae15-c8d1f1dc22e2')\"\n",
              "            title=\"Convert this dataframe to an interactive table.\"\n",
              "            style=\"display:none;\">\n",
              "\n",
              "  <svg xmlns=\"http://www.w3.org/2000/svg\" height=\"24px\" viewBox=\"0 -960 960 960\">\n",
              "    <path d=\"M120-120v-720h720v720H120Zm60-500h600v-160H180v160Zm220 220h160v-160H400v160Zm0 220h160v-160H400v160ZM180-400h160v-160H180v160Zm440 0h160v-160H620v160ZM180-180h160v-160H180v160Zm440 0h160v-160H620v160Z\"/>\n",
              "  </svg>\n",
              "    </button>\n",
              "\n",
              "  <style>\n",
              "    .colab-df-container {\n",
              "      display:flex;\n",
              "      gap: 12px;\n",
              "    }\n",
              "\n",
              "    .colab-df-convert {\n",
              "      background-color: #E8F0FE;\n",
              "      border: none;\n",
              "      border-radius: 50%;\n",
              "      cursor: pointer;\n",
              "      display: none;\n",
              "      fill: #1967D2;\n",
              "      height: 32px;\n",
              "      padding: 0 0 0 0;\n",
              "      width: 32px;\n",
              "    }\n",
              "\n",
              "    .colab-df-convert:hover {\n",
              "      background-color: #E2EBFA;\n",
              "      box-shadow: 0px 1px 2px rgba(60, 64, 67, 0.3), 0px 1px 3px 1px rgba(60, 64, 67, 0.15);\n",
              "      fill: #174EA6;\n",
              "    }\n",
              "\n",
              "    .colab-df-buttons div {\n",
              "      margin-bottom: 4px;\n",
              "    }\n",
              "\n",
              "    [theme=dark] .colab-df-convert {\n",
              "      background-color: #3B4455;\n",
              "      fill: #D2E3FC;\n",
              "    }\n",
              "\n",
              "    [theme=dark] .colab-df-convert:hover {\n",
              "      background-color: #434B5C;\n",
              "      box-shadow: 0px 1px 3px 1px rgba(0, 0, 0, 0.15);\n",
              "      filter: drop-shadow(0px 1px 2px rgba(0, 0, 0, 0.3));\n",
              "      fill: #FFFFFF;\n",
              "    }\n",
              "  </style>\n",
              "\n",
              "    <script>\n",
              "      const buttonEl =\n",
              "        document.querySelector('#df-bf406f99-6b78-4d76-ae15-c8d1f1dc22e2 button.colab-df-convert');\n",
              "      buttonEl.style.display =\n",
              "        google.colab.kernel.accessAllowed ? 'block' : 'none';\n",
              "\n",
              "      async function convertToInteractive(key) {\n",
              "        const element = document.querySelector('#df-bf406f99-6b78-4d76-ae15-c8d1f1dc22e2');\n",
              "        const dataTable =\n",
              "          await google.colab.kernel.invokeFunction('convertToInteractive',\n",
              "                                                    [key], {});\n",
              "        if (!dataTable) return;\n",
              "\n",
              "        const docLinkHtml = 'Like what you see? Visit the ' +\n",
              "          '<a target=\"_blank\" href=https://colab.research.google.com/notebooks/data_table.ipynb>data table notebook</a>'\n",
              "          + ' to learn more about interactive tables.';\n",
              "        element.innerHTML = '';\n",
              "        dataTable['output_type'] = 'display_data';\n",
              "        await google.colab.output.renderOutput(dataTable, element);\n",
              "        const docLink = document.createElement('div');\n",
              "        docLink.innerHTML = docLinkHtml;\n",
              "        element.appendChild(docLink);\n",
              "      }\n",
              "    </script>\n",
              "  </div>\n",
              "\n",
              "\n",
              "<div id=\"df-e18e3219-9109-4ccf-bf9d-db5d2af59b35\">\n",
              "  <button class=\"colab-df-quickchart\" onclick=\"quickchart('df-e18e3219-9109-4ccf-bf9d-db5d2af59b35')\"\n",
              "            title=\"Suggest charts\"\n",
              "            style=\"display:none;\">\n",
              "\n",
              "<svg xmlns=\"http://www.w3.org/2000/svg\" height=\"24px\"viewBox=\"0 0 24 24\"\n",
              "     width=\"24px\">\n",
              "    <g>\n",
              "        <path d=\"M19 3H5c-1.1 0-2 .9-2 2v14c0 1.1.9 2 2 2h14c1.1 0 2-.9 2-2V5c0-1.1-.9-2-2-2zM9 17H7v-7h2v7zm4 0h-2V7h2v10zm4 0h-2v-4h2v4z\"/>\n",
              "    </g>\n",
              "</svg>\n",
              "  </button>\n",
              "\n",
              "<style>\n",
              "  .colab-df-quickchart {\n",
              "      --bg-color: #E8F0FE;\n",
              "      --fill-color: #1967D2;\n",
              "      --hover-bg-color: #E2EBFA;\n",
              "      --hover-fill-color: #174EA6;\n",
              "      --disabled-fill-color: #AAA;\n",
              "      --disabled-bg-color: #DDD;\n",
              "  }\n",
              "\n",
              "  [theme=dark] .colab-df-quickchart {\n",
              "      --bg-color: #3B4455;\n",
              "      --fill-color: #D2E3FC;\n",
              "      --hover-bg-color: #434B5C;\n",
              "      --hover-fill-color: #FFFFFF;\n",
              "      --disabled-bg-color: #3B4455;\n",
              "      --disabled-fill-color: #666;\n",
              "  }\n",
              "\n",
              "  .colab-df-quickchart {\n",
              "    background-color: var(--bg-color);\n",
              "    border: none;\n",
              "    border-radius: 50%;\n",
              "    cursor: pointer;\n",
              "    display: none;\n",
              "    fill: var(--fill-color);\n",
              "    height: 32px;\n",
              "    padding: 0;\n",
              "    width: 32px;\n",
              "  }\n",
              "\n",
              "  .colab-df-quickchart:hover {\n",
              "    background-color: var(--hover-bg-color);\n",
              "    box-shadow: 0 1px 2px rgba(60, 64, 67, 0.3), 0 1px 3px 1px rgba(60, 64, 67, 0.15);\n",
              "    fill: var(--button-hover-fill-color);\n",
              "  }\n",
              "\n",
              "  .colab-df-quickchart-complete:disabled,\n",
              "  .colab-df-quickchart-complete:disabled:hover {\n",
              "    background-color: var(--disabled-bg-color);\n",
              "    fill: var(--disabled-fill-color);\n",
              "    box-shadow: none;\n",
              "  }\n",
              "\n",
              "  .colab-df-spinner {\n",
              "    border: 2px solid var(--fill-color);\n",
              "    border-color: transparent;\n",
              "    border-bottom-color: var(--fill-color);\n",
              "    animation:\n",
              "      spin 1s steps(1) infinite;\n",
              "  }\n",
              "\n",
              "  @keyframes spin {\n",
              "    0% {\n",
              "      border-color: transparent;\n",
              "      border-bottom-color: var(--fill-color);\n",
              "      border-left-color: var(--fill-color);\n",
              "    }\n",
              "    20% {\n",
              "      border-color: transparent;\n",
              "      border-left-color: var(--fill-color);\n",
              "      border-top-color: var(--fill-color);\n",
              "    }\n",
              "    30% {\n",
              "      border-color: transparent;\n",
              "      border-left-color: var(--fill-color);\n",
              "      border-top-color: var(--fill-color);\n",
              "      border-right-color: var(--fill-color);\n",
              "    }\n",
              "    40% {\n",
              "      border-color: transparent;\n",
              "      border-right-color: var(--fill-color);\n",
              "      border-top-color: var(--fill-color);\n",
              "    }\n",
              "    60% {\n",
              "      border-color: transparent;\n",
              "      border-right-color: var(--fill-color);\n",
              "    }\n",
              "    80% {\n",
              "      border-color: transparent;\n",
              "      border-right-color: var(--fill-color);\n",
              "      border-bottom-color: var(--fill-color);\n",
              "    }\n",
              "    90% {\n",
              "      border-color: transparent;\n",
              "      border-bottom-color: var(--fill-color);\n",
              "    }\n",
              "  }\n",
              "</style>\n",
              "\n",
              "  <script>\n",
              "    async function quickchart(key) {\n",
              "      const quickchartButtonEl =\n",
              "        document.querySelector('#' + key + ' button');\n",
              "      quickchartButtonEl.disabled = true;  // To prevent multiple clicks.\n",
              "      quickchartButtonEl.classList.add('colab-df-spinner');\n",
              "      try {\n",
              "        const charts = await google.colab.kernel.invokeFunction(\n",
              "            'suggestCharts', [key], {});\n",
              "      } catch (error) {\n",
              "        console.error('Error during call to suggestCharts:', error);\n",
              "      }\n",
              "      quickchartButtonEl.classList.remove('colab-df-spinner');\n",
              "      quickchartButtonEl.classList.add('colab-df-quickchart-complete');\n",
              "    }\n",
              "    (() => {\n",
              "      let quickchartButtonEl =\n",
              "        document.querySelector('#df-e18e3219-9109-4ccf-bf9d-db5d2af59b35 button');\n",
              "      quickchartButtonEl.style.display =\n",
              "        google.colab.kernel.accessAllowed ? 'block' : 'none';\n",
              "    })();\n",
              "  </script>\n",
              "</div>\n",
              "\n",
              "    </div>\n",
              "  </div>\n"
            ],
            "application/vnd.google.colaboratory.intrinsic+json": {
              "type": "dataframe",
              "variable_name": "df1",
              "summary": "{\n  \"name\": \"df1\",\n  \"rows\": 7043,\n  \"fields\": [\n    {\n      \"column\": \"gender\",\n      \"properties\": {\n        \"dtype\": \"category\",\n        \"num_unique_values\": 2,\n        \"samples\": [\n          \"Female\",\n          \"Male\"\n        ],\n        \"semantic_type\": \"\",\n        \"description\": \"\"\n      }\n    },\n    {\n      \"column\": \"SeniorCitizen\",\n      \"properties\": {\n        \"dtype\": \"number\",\n        \"std\": 0.3686327153225564,\n        \"min\": 0.0,\n        \"max\": 1.0,\n        \"num_unique_values\": 2,\n        \"samples\": [\n          1.0,\n          0.0\n        ],\n        \"semantic_type\": \"\",\n        \"description\": \"\"\n      }\n    },\n    {\n      \"column\": \"Partner\",\n      \"properties\": {\n        \"dtype\": \"category\",\n        \"num_unique_values\": 2,\n        \"samples\": [\n          \"No\",\n          \"Yes\"\n        ],\n        \"semantic_type\": \"\",\n        \"description\": \"\"\n      }\n    },\n    {\n      \"column\": \"Dependents\",\n      \"properties\": {\n        \"dtype\": \"category\",\n        \"num_unique_values\": 2,\n        \"samples\": [\n          \"Yes\",\n          \"No\"\n        ],\n        \"semantic_type\": \"\",\n        \"description\": \"\"\n      }\n    },\n    {\n      \"column\": \"tenure\",\n      \"properties\": {\n        \"dtype\": \"number\",\n        \"std\": 24,\n        \"min\": 0,\n        \"max\": 72,\n        \"num_unique_values\": 73,\n        \"samples\": [\n          8,\n          40\n        ],\n        \"semantic_type\": \"\",\n        \"description\": \"\"\n      }\n    },\n    {\n      \"column\": \"PhoneService\",\n      \"properties\": {\n        \"dtype\": \"category\",\n        \"num_unique_values\": 2,\n        \"samples\": [\n          \"Yes\",\n          \"No\"\n        ],\n        \"semantic_type\": \"\",\n        \"description\": \"\"\n      }\n    },\n    {\n      \"column\": \"MultipleLines\",\n      \"properties\": {\n        \"dtype\": \"category\",\n        \"num_unique_values\": 3,\n        \"samples\": [\n          \"No phone service\",\n          \"No\"\n        ],\n        \"semantic_type\": \"\",\n        \"description\": \"\"\n      }\n    },\n    {\n      \"column\": \"InternetService\",\n      \"properties\": {\n        \"dtype\": \"category\",\n        \"num_unique_values\": 3,\n        \"samples\": [\n          \"DSL\",\n          \"Fiber optic\"\n        ],\n        \"semantic_type\": \"\",\n        \"description\": \"\"\n      }\n    },\n    {\n      \"column\": \"OnlineSecurity\",\n      \"properties\": {\n        \"dtype\": \"category\",\n        \"num_unique_values\": 3,\n        \"samples\": [\n          \"No\",\n          \"Yes\"\n        ],\n        \"semantic_type\": \"\",\n        \"description\": \"\"\n      }\n    },\n    {\n      \"column\": \"OnlineBackup\",\n      \"properties\": {\n        \"dtype\": \"category\",\n        \"num_unique_values\": 3,\n        \"samples\": [\n          \"Yes\",\n          \"No\"\n        ],\n        \"semantic_type\": \"\",\n        \"description\": \"\"\n      }\n    },\n    {\n      \"column\": \"DeviceProtection\",\n      \"properties\": {\n        \"dtype\": \"category\",\n        \"num_unique_values\": 3,\n        \"samples\": [\n          \"No\",\n          \"Yes\"\n        ],\n        \"semantic_type\": \"\",\n        \"description\": \"\"\n      }\n    },\n    {\n      \"column\": \"TechSupport\",\n      \"properties\": {\n        \"dtype\": \"category\",\n        \"num_unique_values\": 3,\n        \"samples\": [\n          \"No\",\n          \"Yes\"\n        ],\n        \"semantic_type\": \"\",\n        \"description\": \"\"\n      }\n    },\n    {\n      \"column\": \"StreamingTV\",\n      \"properties\": {\n        \"dtype\": \"category\",\n        \"num_unique_values\": 3,\n        \"samples\": [\n          \"No\",\n          \"Yes\"\n        ],\n        \"semantic_type\": \"\",\n        \"description\": \"\"\n      }\n    },\n    {\n      \"column\": \"StreamingMovies\",\n      \"properties\": {\n        \"dtype\": \"category\",\n        \"num_unique_values\": 3,\n        \"samples\": [\n          \"No\",\n          \"Yes\"\n        ],\n        \"semantic_type\": \"\",\n        \"description\": \"\"\n      }\n    },\n    {\n      \"column\": \"Contract\",\n      \"properties\": {\n        \"dtype\": \"category\",\n        \"num_unique_values\": 3,\n        \"samples\": [\n          \"One year\",\n          \"Month-to-month\"\n        ],\n        \"semantic_type\": \"\",\n        \"description\": \"\"\n      }\n    },\n    {\n      \"column\": \"PaperlessBilling\",\n      \"properties\": {\n        \"dtype\": \"category\",\n        \"num_unique_values\": 2,\n        \"samples\": [\n          \"No\",\n          \"Yes\"\n        ],\n        \"semantic_type\": \"\",\n        \"description\": \"\"\n      }\n    },\n    {\n      \"column\": \"PaymentMethod\",\n      \"properties\": {\n        \"dtype\": \"category\",\n        \"num_unique_values\": 4,\n        \"samples\": [\n          \"Mailed check\",\n          \"Credit card (automatic)\"\n        ],\n        \"semantic_type\": \"\",\n        \"description\": \"\"\n      }\n    },\n    {\n      \"column\": \"MonthlyCharges\",\n      \"properties\": {\n        \"dtype\": \"number\",\n        \"std\": 30.09189760591317,\n        \"min\": 18.25,\n        \"max\": 118.75,\n        \"num_unique_values\": 1585,\n        \"samples\": [\n          48.85,\n          20.05\n        ],\n        \"semantic_type\": \"\",\n        \"description\": \"\"\n      }\n    },\n    {\n      \"column\": \"TotalCharges\",\n      \"properties\": {\n        \"dtype\": \"string\",\n        \"num_unique_values\": 6531,\n        \"samples\": [\n          \"4600.7\",\n          \"20.35\"\n        ],\n        \"semantic_type\": \"\",\n        \"description\": \"\"\n      }\n    },\n    {\n      \"column\": \"Churn\",\n      \"properties\": {\n        \"dtype\": \"category\",\n        \"num_unique_values\": 2,\n        \"samples\": [\n          \"Yes\",\n          \"No\"\n        ],\n        \"semantic_type\": \"\",\n        \"description\": \"\"\n      }\n    }\n  ]\n}"
            }
          },
          "metadata": {},
          "execution_count": 74
        }
      ]
    },
    {
      "cell_type": "markdown",
      "id": "594967e8-9231-4671-a88e-7b54898ffa4e",
      "metadata": {
        "id": "594967e8-9231-4671-a88e-7b54898ffa4e"
      },
      "source": [
        "<br>"
      ]
    },
    {
      "cell_type": "markdown",
      "id": "ff6b633c-fbb2-40d1-982e-5e57daac66cc",
      "metadata": {
        "id": "ff6b633c-fbb2-40d1-982e-5e57daac66cc"
      },
      "source": [
        "### 5. df1의 TotalCharges 컬럼의 타입을 float로 변경하세요.\n",
        "* TotalCharge의 컬럼 타입을 확인하는 코드를 작성하세요.\n",
        "* ' ' 값을 0으로 변환하고 컬럼 타입을 float로 변경하세요.\n",
        "* 전처리 후 데이터를 df2에 저장하세요."
      ]
    },
    {
      "cell_type": "code",
      "execution_count": null,
      "id": "23c0e7e5-c4e7-42e8-9258-2bd3fb7a1551",
      "metadata": {
        "colab": {
          "base_uri": "https://localhost:8080/"
        },
        "id": "23c0e7e5-c4e7-42e8-9258-2bd3fb7a1551",
        "outputId": "cd485e49-72c2-4322-bcb6-416d40e29c48"
      },
      "outputs": [
        {
          "output_type": "execute_result",
          "data": {
            "text/plain": [
              "dtype('O')"
            ]
          },
          "metadata": {},
          "execution_count": 75
        }
      ],
      "source": [
        "# 여기에 답안코드를 작성하세요.\n",
        "df1['TotalCharges'].dtype"
      ]
    },
    {
      "cell_type": "code",
      "source": [
        "df1['TotalCharges'] = df1['TotalCharges'].replace(' ', 0)\n",
        "df1['TotalCharges'] = df1['TotalCharges'].astype(float)\n",
        "\n",
        "df2 = df1.copy()"
      ],
      "metadata": {
        "id": "NAd39EgDvmmF"
      },
      "id": "NAd39EgDvmmF",
      "execution_count": null,
      "outputs": []
    },
    {
      "cell_type": "code",
      "source": [
        "df2['TotalCharges'].dtype"
      ],
      "metadata": {
        "colab": {
          "base_uri": "https://localhost:8080/"
        },
        "id": "wJLY3T7qvrZg",
        "outputId": "ea508388-ccb2-4f42-9718-6ef984b266aa"
      },
      "id": "wJLY3T7qvrZg",
      "execution_count": null,
      "outputs": [
        {
          "output_type": "execute_result",
          "data": {
            "text/plain": [
              "dtype('float64')"
            ]
          },
          "metadata": {},
          "execution_count": 77
        }
      ]
    },
    {
      "cell_type": "markdown",
      "id": "7c3d46d9-2a4a-49ce-ace2-b007933c2a53",
      "metadata": {
        "id": "7c3d46d9-2a4a-49ce-ace2-b007933c2a53"
      },
      "source": [
        "<br>"
      ]
    },
    {
      "cell_type": "markdown",
      "id": "c7ba7823-db7b-409c-91a2-13519680b52c",
      "metadata": {
        "id": "c7ba7823-db7b-409c-91a2-13519680b52c"
      },
      "source": [
        "### 6. df2에서 churn 컬럼의 데이터별 개수를 확인하는 코드를 작성하고\n",
        "### Yes, No를 각각 1, 0으로 변환한 후 df3에 저장하세요."
      ]
    },
    {
      "cell_type": "code",
      "source": [
        "df2['Churn'].value_counts()"
      ],
      "metadata": {
        "colab": {
          "base_uri": "https://localhost:8080/"
        },
        "id": "N428ESTQv_Py",
        "outputId": "8023660b-3d6b-406e-b9db-f855324b7bd4"
      },
      "id": "N428ESTQv_Py",
      "execution_count": null,
      "outputs": [
        {
          "output_type": "execute_result",
          "data": {
            "text/plain": [
              "Churn\n",
              "No     5174\n",
              "Yes    1869\n",
              "Name: count, dtype: int64"
            ]
          },
          "metadata": {},
          "execution_count": 78
        }
      ]
    },
    {
      "cell_type": "code",
      "execution_count": null,
      "id": "414a676e-0392-4e52-a8fa-bc4dd71482b8",
      "metadata": {
        "id": "414a676e-0392-4e52-a8fa-bc4dd71482b8"
      },
      "outputs": [],
      "source": [
        "# 여기에 답안코드를 작성하세요.\n",
        "df2['Churn'] = df2['Churn'].replace({'Yes': 1, 'No': 0})\n",
        "\n",
        "df3 = df2.copy()"
      ]
    },
    {
      "cell_type": "code",
      "source": [
        "df3['Churn'].value_counts()"
      ],
      "metadata": {
        "colab": {
          "base_uri": "https://localhost:8080/"
        },
        "id": "NKtTTi7OwK8X",
        "outputId": "5ca6e39b-f8f0-49d2-ba26-9d26f5f57fd6"
      },
      "id": "NKtTTi7OwK8X",
      "execution_count": null,
      "outputs": [
        {
          "output_type": "execute_result",
          "data": {
            "text/plain": [
              "Churn\n",
              "0    5174\n",
              "1    1869\n",
              "Name: count, dtype: int64"
            ]
          },
          "metadata": {},
          "execution_count": 80
        }
      ]
    },
    {
      "cell_type": "markdown",
      "id": "43d2735b-8ba6-44c9-9e08-6c53002f1b46",
      "metadata": {
        "id": "43d2735b-8ba6-44c9-9e08-6c53002f1b46"
      },
      "source": [
        "<br>"
      ]
    },
    {
      "cell_type": "markdown",
      "id": "f086ac8c-cef8-4944-a518-81fc042b1444",
      "metadata": {
        "id": "f086ac8c-cef8-4944-a518-81fc042b1444"
      },
      "source": [
        "### 7. df3의 모든 컬럼에 대해 결측치를 확인하는 코드를 작성하고 결측치를 처리하세요.\n",
        "* 결측치가 40% 이상인 컬럼은 컬럼을 삭제하세요.\n",
        "* 결측치가 40% 미만인 컬럼은 결측치가 있는 row를 삭제하세요.\n",
        "* 전처리한 데이터를 df4에 저장하세요."
      ]
    },
    {
      "cell_type": "code",
      "execution_count": null,
      "id": "ccc8da5a-221a-4c13-ab4e-792264ea48a8",
      "metadata": {
        "colab": {
          "base_uri": "https://localhost:8080/"
        },
        "id": "ccc8da5a-221a-4c13-ab4e-792264ea48a8",
        "outputId": "550d4007-bbd0-4a70-c9a7-ff1e4212fdb8"
      },
      "outputs": [
        {
          "output_type": "execute_result",
          "data": {
            "text/plain": [
              "gender               0.127786\n",
              "SeniorCitizen        0.014198\n",
              "Partner              0.000000\n",
              "Dependents           0.028397\n",
              "tenure               0.000000\n",
              "PhoneService         0.042595\n",
              "MultipleLines        0.000000\n",
              "InternetService      0.000000\n",
              "OnlineSecurity       0.000000\n",
              "OnlineBackup         0.000000\n",
              "DeviceProtection    49.169388\n",
              "TechSupport          0.000000\n",
              "StreamingTV          0.000000\n",
              "StreamingMovies      0.000000\n",
              "Contract             0.014198\n",
              "PaperlessBilling     0.000000\n",
              "PaymentMethod        0.014198\n",
              "MonthlyCharges       0.014198\n",
              "TotalCharges         0.000000\n",
              "Churn                0.000000\n",
              "dtype: float64"
            ]
          },
          "metadata": {},
          "execution_count": 81
        }
      ],
      "source": [
        "# 여기에 답안코드를 작성하세요.\n",
        "df3.isnull().mean()*100"
      ]
    },
    {
      "cell_type": "code",
      "source": [
        "df3.drop('DeviceProtection', axis=1, inplace=True)"
      ],
      "metadata": {
        "id": "eTtRYFl8wd4X"
      },
      "id": "eTtRYFl8wd4X",
      "execution_count": null,
      "outputs": []
    },
    {
      "cell_type": "code",
      "source": [
        "df3.dropna(inplace=True)"
      ],
      "metadata": {
        "id": "c4O56Ri-w3jL"
      },
      "id": "c4O56Ri-w3jL",
      "execution_count": null,
      "outputs": []
    },
    {
      "cell_type": "code",
      "source": [
        "df4 = df3.copy()"
      ],
      "metadata": {
        "id": "evBXuzfIw-EY"
      },
      "id": "evBXuzfIw-EY",
      "execution_count": null,
      "outputs": []
    },
    {
      "cell_type": "code",
      "source": [
        "df4.isnull().mean()*100"
      ],
      "metadata": {
        "colab": {
          "base_uri": "https://localhost:8080/"
        },
        "id": "6tvZTe2QxCUh",
        "outputId": "6623a37c-69b7-454e-e714-ebc2e7015d50"
      },
      "id": "6tvZTe2QxCUh",
      "execution_count": null,
      "outputs": [
        {
          "output_type": "execute_result",
          "data": {
            "text/plain": [
              "gender              0.0\n",
              "SeniorCitizen       0.0\n",
              "Partner             0.0\n",
              "Dependents          0.0\n",
              "tenure              0.0\n",
              "PhoneService        0.0\n",
              "MultipleLines       0.0\n",
              "InternetService     0.0\n",
              "OnlineSecurity      0.0\n",
              "OnlineBackup        0.0\n",
              "TechSupport         0.0\n",
              "StreamingTV         0.0\n",
              "StreamingMovies     0.0\n",
              "Contract            0.0\n",
              "PaperlessBilling    0.0\n",
              "PaymentMethod       0.0\n",
              "MonthlyCharges      0.0\n",
              "TotalCharges        0.0\n",
              "Churn               0.0\n",
              "dtype: float64"
            ]
          },
          "metadata": {},
          "execution_count": 85
        }
      ]
    },
    {
      "cell_type": "markdown",
      "id": "46c64f89-a3ee-45d7-94f4-5ede4c6d6e92",
      "metadata": {
        "id": "46c64f89-a3ee-45d7-94f4-5ede4c6d6e92"
      },
      "source": [
        "<br>"
      ]
    },
    {
      "cell_type": "markdown",
      "id": "590a5dfe-8ebf-4fdc-9c6b-f3b03fc57890",
      "metadata": {
        "id": "590a5dfe-8ebf-4fdc-9c6b-f3b03fc57890"
      },
      "source": [
        "### 8. df4에서 SeniorCitizen 컬럼을 bar 차트로 확인해보고 불균형을 확인해보세요.\n",
        "### SeniorCitizen 컬럼은 불균형이 심하므로 삭제하세요."
      ]
    },
    {
      "cell_type": "code",
      "execution_count": null,
      "id": "7573f7e1-eeb9-436b-8fb4-af7ba4872782",
      "metadata": {
        "colab": {
          "base_uri": "https://localhost:8080/",
          "height": 449
        },
        "id": "7573f7e1-eeb9-436b-8fb4-af7ba4872782",
        "outputId": "42e3759a-73be-46f1-f3e1-1edd77e698c2"
      },
      "outputs": [
        {
          "output_type": "display_data",
          "data": {
            "text/plain": [
              "<Figure size 640x480 with 1 Axes>"
            ],
            "image/png": "[encoded data removed]"
          },
          "metadata": {}
        }
      ],
      "source": [
        "# 여기에 답안코드를 작성하세요.\n",
        "import matplotlib.pyplot as plt\n",
        "\n",
        "# SeniorCitizen 컬럼의 값에 따른 빈도수를 바 차트로 표시\n",
        "df4['SeniorCitizen'].value_counts().plot(kind='bar')\n",
        "plt.xlabel('SeniorCitizen')\n",
        "plt.ylabel('Counts')\n",
        "plt.xticks(rotation=0)  # x축 레이블을 수평으로 설정\n",
        "plt.show()"
      ]
    },
    {
      "cell_type": "code",
      "source": [
        "df4.drop('SeniorCitizen', axis=1, inplace=True)"
      ],
      "metadata": {
        "id": "CmrKl-b7xZ6F"
      },
      "id": "CmrKl-b7xZ6F",
      "execution_count": null,
      "outputs": []
    },
    {
      "cell_type": "markdown",
      "id": "9db815d3-4725-42e4-a34d-a693ef160dc4",
      "metadata": {
        "id": "9db815d3-4725-42e4-a34d-a693ef160dc4"
      },
      "source": [
        "<br>"
      ]
    },
    {
      "cell_type": "markdown",
      "id": "2364a91e-b4d4-4471-8171-82cd7a87cb25",
      "metadata": {
        "id": "2364a91e-b4d4-4471-8171-82cd7a87cb25"
      },
      "source": [
        "### 9. df4에서 다음의 가이드에 따라 데이터를 시각화 해보세요.\n",
        "* tenure (서비스 사용기간)에 대해 히스토그램으로 시각화 하세요.\n",
        "* tenure를 x 값으로 churn을 hue 값으로 사용하여 kdeplot으로 시각화 하고 '서비스 사용기간이 길어질 수록 이탈이 적다'에 대해 'O'인지 'X'인지 출력하세요.\n",
        "* MultipleLines에 대해 countplot을 그리고 churn을 hue 값으로 사용하여 countplot으로 시각화 하고 'MultipleLines 서비스를 사용하는 고객이 약간 더 높은 이탈율을 보인다'에 대해 'O'인지 'X'인지 출력하세요.\n",
        "* 'tenure','MonthlyCharges','TotalCharges' 컬럼간의 상관관계를 확인하여 heatmap으로 시각화하고 가장 높은 상관계수 값을 출력하세요."
      ]
    },
    {
      "cell_type": "code",
      "source": [
        "import seaborn as sns\n",
        "import matplotlib.pyplot as plt\n",
        "import numpy as np"
      ],
      "metadata": {
        "id": "ZlUjRlT1yAu5"
      },
      "id": "ZlUjRlT1yAu5",
      "execution_count": null,
      "outputs": []
    },
    {
      "cell_type": "code",
      "execution_count": null,
      "id": "5bb1f09a-cb22-4ade-b3d9-47fa7eab841a",
      "metadata": {
        "colab": {
          "base_uri": "https://localhost:8080/",
          "height": 1000
        },
        "id": "5bb1f09a-cb22-4ade-b3d9-47fa7eab841a",
        "outputId": "506e4f3e-c119-45ea-ac52-875e6079944e"
      },
      "outputs": [
        {
          "output_type": "stream",
          "name": "stderr",
          "text": [
            "<ipython-input-89-6c0f97dddba7>:9: FutureWarning: \n",
            "\n",
            "`shade` is now deprecated in favor of `fill`; setting `fill=True`.\n",
            "This will become an error in seaborn v0.14.0; please update your code.\n",
            "\n",
            "  sns.kdeplot(data=df4, x='tenure', hue='Churn', shade=True)\n"
          ]
        },
        {
          "output_type": "display_data",
          "data": {
            "text/plain": [
              "<Figure size 2000x1500 with 5 Axes>"
            ],
            "image/png": "[encoded data removed]"
          },
          "metadata": {}
        }
      ],
      "source": [
        "# 여기에 답안코드를 작성하세요.\n",
        "plt.figure(figsize=(20, 15))\n",
        "\n",
        "plt.subplot(2, 2, 1)\n",
        "sns.histplot(data=df4, x='tenure', kde=True)\n",
        "plt.title('Tenure Histogram')\n",
        "\n",
        "plt.subplot(2, 2, 2)\n",
        "sns.kdeplot(data=df4, x='tenure', hue='Churn', shade=True)\n",
        "plt.title('Tenure by Churn KDE Plot')\n",
        "\n",
        "plt.subplot(2, 2, 3)\n",
        "sns.countplot(data=df4, x='MultipleLines', hue='Churn')\n",
        "plt.title('MultipleLines by Churn Count Plot')\n",
        "\n",
        "plt.subplot(2, 2, 4)\n",
        "corr = df4[['tenure', 'MonthlyCharges', 'TotalCharges']].corr()\n",
        "sns.heatmap(corr, annot=True, cmap='coolwarm')\n",
        "plt.title('Correlation Heatmap')\n",
        "\n",
        "plt.tight_layout()\n",
        "plt.show()"
      ]
    },
    {
      "cell_type": "code",
      "source": [
        "max_corr_value = np.max(corr.values[np.triu_indices_from(corr.values,1)])\n",
        "print(f\"가장 높은 상관계수 값: {max_corr_value:.2f}\")"
      ],
      "metadata": {
        "colab": {
          "base_uri": "https://localhost:8080/"
        },
        "id": "cYszxyVIzOsf",
        "outputId": "ac68435c-dfea-4b78-9f54-3ad4cd3c380e"
      },
      "id": "cYszxyVIzOsf",
      "execution_count": null,
      "outputs": [
        {
          "output_type": "stream",
          "name": "stdout",
          "text": [
            "가장 높은 상관계수 값: 0.83\n"
          ]
        }
      ]
    },
    {
      "cell_type": "markdown",
      "id": "4266bd53-b060-4355-b473-c051cbbc908e",
      "metadata": {
        "id": "4266bd53-b060-4355-b473-c051cbbc908e"
      },
      "source": [
        "<br>"
      ]
    },
    {
      "cell_type": "markdown",
      "id": "6b01b0e7-30e3-4a64-8e6a-1e45507a8262",
      "metadata": {
        "id": "6b01b0e7-30e3-4a64-8e6a-1e45507a8262"
      },
      "source": [
        "### 10. df4에서 컬럼의 데이터 타입이 object인 컬럼들을 원-핫 인코딩하세요.\n",
        "* 컬럼의 데이터 타입이 object인 컬럼들을 object_cols 변수에 저장하세요.\n",
        "* object_cols 변수의 컬럼들을 원-핫 인코딩하세요.\n",
        "* 전처리된 데이터를 df5에 저장하세요."
      ]
    },
    {
      "cell_type": "code",
      "execution_count": null,
      "id": "da848455-7b93-47fd-8ac4-d844b2a4e7be",
      "metadata": {
        "tags": [],
        "id": "da848455-7b93-47fd-8ac4-d844b2a4e7be"
      },
      "outputs": [],
      "source": [
        "# 여기에 답안코드를 작성하세요.\n",
        "object_cols = df4.select_dtypes(include=['object']).columns\n",
        "df5 = pd.get_dummies(df4, columns=object_cols)"
      ]
    },
    {
      "cell_type": "code",
      "source": [
        "df5.head()"
      ],
      "metadata": {
        "colab": {
          "base_uri": "https://localhost:8080/",
          "height": 290
        },
        "id": "ADf_qn5kzjOm",
        "outputId": "51f7611f-7531-4c74-ba4b-b636a3869c6c"
      },
      "id": "ADf_qn5kzjOm",
      "execution_count": null,
      "outputs": [
        {
          "output_type": "execute_result",
          "data": {
            "text/plain": [
              "   tenure  MonthlyCharges  TotalCharges  Churn  gender_Female  gender_Male  \\\n",
              "1      34           56.95       1889.50      0          False         True   \n",
              "2       2           53.85        108.15      1          False         True   \n",
              "3      45           42.30       1840.75      0          False         True   \n",
              "4       2           70.70        151.65      1           True        False   \n",
              "5       8           99.65        820.50      1           True        False   \n",
              "\n",
              "   Partner_No  Partner_Yes  Dependents_No  Dependents_Yes  ...  \\\n",
              "1        True        False           True           False  ...   \n",
              "2        True        False           True           False  ...   \n",
              "3        True        False           True           False  ...   \n",
              "4        True        False           True           False  ...   \n",
              "5        True        False           True           False  ...   \n",
              "\n",
              "   StreamingMovies_Yes  Contract_Month-to-month  Contract_One year  \\\n",
              "1                False                    False               True   \n",
              "2                False                     True              False   \n",
              "3                False                    False               True   \n",
              "4                False                     True              False   \n",
              "5                 True                     True              False   \n",
              "\n",
              "   Contract_Two year  PaperlessBilling_No  PaperlessBilling_Yes  \\\n",
              "1              False                 True                 False   \n",
              "2              False                False                  True   \n",
              "3              False                 True                 False   \n",
              "4              False                False                  True   \n",
              "5              False                False                  True   \n",
              "\n",
              "   PaymentMethod_Bank transfer (automatic)  \\\n",
              "1                                    False   \n",
              "2                                    False   \n",
              "3                                     True   \n",
              "4                                    False   \n",
              "5                                    False   \n",
              "\n",
              "   PaymentMethod_Credit card (automatic)  PaymentMethod_Electronic check  \\\n",
              "1                                  False                           False   \n",
              "2                                  False                           False   \n",
              "3                                  False                           False   \n",
              "4                                  False                            True   \n",
              "5                                  False                            True   \n",
              "\n",
              "   PaymentMethod_Mailed check  \n",
              "1                        True  \n",
              "2                        True  \n",
              "3                       False  \n",
              "4                       False  \n",
              "5                       False  \n",
              "\n",
              "[5 rows x 42 columns]"
            ],
            "text/html": [
              "\n",
              "  <div id=\"df-d9efc3ae-3313-4b39-82ec-d94391023f11\" class=\"colab-df-container\">\n",
              "    <div>\n",
              "<style scoped>\n",
              "    .dataframe tbody tr th:only-of-type {\n",
              "        vertical-align: middle;\n",
              "    }\n",
              "\n",
              "    .dataframe tbody tr th {\n",
              "        vertical-align: top;\n",
              "    }\n",
              "\n",
              "    .dataframe thead th {\n",
              "        text-align: right;\n",
              "    }\n",
              "</style>\n",
              "<table border=\"1\" class=\"dataframe\">\n",
              "  <thead>\n",
              "    <tr style=\"text-align: right;\">\n",
              "      <th></th>\n",
              "      <th>tenure</th>\n",
              "      <th>MonthlyCharges</th>\n",
              "      <th>TotalCharges</th>\n",
              "      <th>Churn</th>\n",
              "      <th>gender_Female</th>\n",
              "      <th>gender_Male</th>\n",
              "      <th>Partner_No</th>\n",
              "      <th>Partner_Yes</th>\n",
              "      <th>Dependents_No</th>\n",
              "      <th>Dependents_Yes</th>\n",
              "      <th>...</th>\n",
              "      <th>StreamingMovies_Yes</th>\n",
              "      <th>Contract_Month-to-month</th>\n",
              "      <th>Contract_One year</th>\n",
              "      <th>Contract_Two year</th>\n",
              "      <th>PaperlessBilling_No</th>\n",
              "      <th>PaperlessBilling_Yes</th>\n",
              "      <th>PaymentMethod_Bank transfer (automatic)</th>\n",
              "      <th>PaymentMethod_Credit card (automatic)</th>\n",
              "      <th>PaymentMethod_Electronic check</th>\n",
              "      <th>PaymentMethod_Mailed check</th>\n",
              "    </tr>\n",
              "  </thead>\n",
              "  <tbody>\n",
              "    <tr>\n",
              "      <th>1</th>\n",
              "      <td>34</td>\n",
              "      <td>56.95</td>\n",
              "      <td>1889.50</td>\n",
              "      <td>0</td>\n",
              "      <td>False</td>\n",
              "      <td>True</td>\n",
              "      <td>True</td>\n",
              "      <td>False</td>\n",
              "      <td>True</td>\n",
              "      <td>False</td>\n",
              "      <td>...</td>\n",
              "      <td>False</td>\n",
              "      <td>False</td>\n",
              "      <td>True</td>\n",
              "      <td>False</td>\n",
              "      <td>True</td>\n",
              "      <td>False</td>\n",
              "      <td>False</td>\n",
              "      <td>False</td>\n",
              "      <td>False</td>\n",
              "      <td>True</td>\n",
              "    </tr>\n",
              "    <tr>\n",
              "      <th>2</th>\n",
              "      <td>2</td>\n",
              "      <td>53.85</td>\n",
              "      <td>108.15</td>\n",
              "      <td>1</td>\n",
              "      <td>False</td>\n",
              "      <td>True</td>\n",
              "      <td>True</td>\n",
              "      <td>False</td>\n",
              "      <td>True</td>\n",
              "      <td>False</td>\n",
              "      <td>...</td>\n",
              "      <td>False</td>\n",
              "      <td>True</td>\n",
              "      <td>False</td>\n",
              "      <td>False</td>\n",
              "      <td>False</td>\n",
              "      <td>True</td>\n",
              "      <td>False</td>\n",
              "      <td>False</td>\n",
              "      <td>False</td>\n",
              "      <td>True</td>\n",
              "    </tr>\n",
              "    <tr>\n",
              "      <th>3</th>\n",
              "      <td>45</td>\n",
              "      <td>42.30</td>\n",
              "      <td>1840.75</td>\n",
              "      <td>0</td>\n",
              "      <td>False</td>\n",
              "      <td>True</td>\n",
              "      <td>True</td>\n",
              "      <td>False</td>\n",
              "      <td>True</td>\n",
              "      <td>False</td>\n",
              "      <td>...</td>\n",
              "      <td>False</td>\n",
              "      <td>False</td>\n",
              "      <td>True</td>\n",
              "      <td>False</td>\n",
              "      <td>True</td>\n",
              "      <td>False</td>\n",
              "      <td>True</td>\n",
              "      <td>False</td>\n",
              "      <td>False</td>\n",
              "      <td>False</td>\n",
              "    </tr>\n",
              "    <tr>\n",
              "      <th>4</th>\n",
              "      <td>2</td>\n",
              "      <td>70.70</td>\n",
              "      <td>151.65</td>\n",
              "      <td>1</td>\n",
              "      <td>True</td>\n",
              "      <td>False</td>\n",
              "      <td>True</td>\n",
              "      <td>False</td>\n",
              "      <td>True</td>\n",
              "      <td>False</td>\n",
              "      <td>...</td>\n",
              "      <td>False</td>\n",
              "      <td>True</td>\n",
              "      <td>False</td>\n",
              "      <td>False</td>\n",
              "      <td>False</td>\n",
              "      <td>True</td>\n",
              "      <td>False</td>\n",
              "      <td>False</td>\n",
              "      <td>True</td>\n",
              "      <td>False</td>\n",
              "    </tr>\n",
              "    <tr>\n",
              "      <th>5</th>\n",
              "      <td>8</td>\n",
              "      <td>99.65</td>\n",
              "      <td>820.50</td>\n",
              "      <td>1</td>\n",
              "      <td>True</td>\n",
              "      <td>False</td>\n",
              "      <td>True</td>\n",
              "      <td>False</td>\n",
              "      <td>True</td>\n",
              "      <td>False</td>\n",
              "      <td>...</td>\n",
              "      <td>True</td>\n",
              "      <td>True</td>\n",
              "      <td>False</td>\n",
              "      <td>False</td>\n",
              "      <td>False</td>\n",
              "      <td>True</td>\n",
              "      <td>False</td>\n",
              "      <td>False</td>\n",
              "      <td>True</td>\n",
              "      <td>False</td>\n",
              "    </tr>\n",
              "  </tbody>\n",
              "</table>\n",
              "<p>5 rows × 42 columns</p>\n",
              "</div>\n",
              "    <div class=\"colab-df-buttons\">\n",
              "\n",
              "  <div class=\"colab-df-container\">\n",
              "    <button class=\"colab-df-convert\" onclick=\"convertToInteractive('df-d9efc3ae-3313-4b39-82ec-d94391023f11')\"\n",
              "            title=\"Convert this dataframe to an interactive table.\"\n",
              "            style=\"display:none;\">\n",
              "\n",
              "  <svg xmlns=\"http://www.w3.org/2000/svg\" height=\"24px\" viewBox=\"0 -960 960 960\">\n",
              "    <path d=\"M120-120v-720h720v720H120Zm60-500h600v-160H180v160Zm220 220h160v-160H400v160Zm0 220h160v-160H400v160ZM180-400h160v-160H180v160Zm440 0h160v-160H620v160ZM180-180h160v-160H180v160Zm440 0h160v-160H620v160Z\"/>\n",
              "  </svg>\n",
              "    </button>\n",
              "\n",
              "  <style>\n",
              "    .colab-df-container {\n",
              "      display:flex;\n",
              "      gap: 12px;\n",
              "    }\n",
              "\n",
              "    .colab-df-convert {\n",
              "      background-color: #E8F0FE;\n",
              "      border: none;\n",
              "      border-radius: 50%;\n",
              "      cursor: pointer;\n",
              "      display: none;\n",
              "      fill: #1967D2;\n",
              "      height: 32px;\n",
              "      padding: 0 0 0 0;\n",
              "      width: 32px;\n",
              "    }\n",
              "\n",
              "    .colab-df-convert:hover {\n",
              "      background-color: #E2EBFA;\n",
              "      box-shadow: 0px 1px 2px rgba(60, 64, 67, 0.3), 0px 1px 3px 1px rgba(60, 64, 67, 0.15);\n",
              "      fill: #174EA6;\n",
              "    }\n",
              "\n",
              "    .colab-df-buttons div {\n",
              "      margin-bottom: 4px;\n",
              "    }\n",
              "\n",
              "    [theme=dark] .colab-df-convert {\n",
              "      background-color: #3B4455;\n",
              "      fill: #D2E3FC;\n",
              "    }\n",
              "\n",
              "    [theme=dark] .colab-df-convert:hover {\n",
              "      background-color: #434B5C;\n",
              "      box-shadow: 0px 1px 3px 1px rgba(0, 0, 0, 0.15);\n",
              "      filter: drop-shadow(0px 1px 2px rgba(0, 0, 0, 0.3));\n",
              "      fill: #FFFFFF;\n",
              "    }\n",
              "  </style>\n",
              "\n",
              "    <script>\n",
              "      const buttonEl =\n",
              "        document.querySelector('#df-d9efc3ae-3313-4b39-82ec-d94391023f11 button.colab-df-convert');\n",
              "      buttonEl.style.display =\n",
              "        google.colab.kernel.accessAllowed ? 'block' : 'none';\n",
              "\n",
              "      async function convertToInteractive(key) {\n",
              "        const element = document.querySelector('#df-d9efc3ae-3313-4b39-82ec-d94391023f11');\n",
              "        const dataTable =\n",
              "          await google.colab.kernel.invokeFunction('convertToInteractive',\n",
              "                                                    [key], {});\n",
              "        if (!dataTable) return;\n",
              "\n",
              "        const docLinkHtml = 'Like what you see? Visit the ' +\n",
              "          '<a target=\"_blank\" href=https://colab.research.google.com/notebooks/data_table.ipynb>data table notebook</a>'\n",
              "          + ' to learn more about interactive tables.';\n",
              "        element.innerHTML = '';\n",
              "        dataTable['output_type'] = 'display_data';\n",
              "        await google.colab.output.renderOutput(dataTable, element);\n",
              "        const docLink = document.createElement('div');\n",
              "        docLink.innerHTML = docLinkHtml;\n",
              "        element.appendChild(docLink);\n",
              "      }\n",
              "    </script>\n",
              "  </div>\n",
              "\n",
              "\n",
              "<div id=\"df-2006e2a1-9509-40ea-bb22-663daa25a0c6\">\n",
              "  <button class=\"colab-df-quickchart\" onclick=\"quickchart('df-2006e2a1-9509-40ea-bb22-663daa25a0c6')\"\n",
              "            title=\"Suggest charts\"\n",
              "            style=\"display:none;\">\n",
              "\n",
              "<svg xmlns=\"http://www.w3.org/2000/svg\" height=\"24px\"viewBox=\"0 0 24 24\"\n",
              "     width=\"24px\">\n",
              "    <g>\n",
              "        <path d=\"M19 3H5c-1.1 0-2 .9-2 2v14c0 1.1.9 2 2 2h14c1.1 0 2-.9 2-2V5c0-1.1-.9-2-2-2zM9 17H7v-7h2v7zm4 0h-2V7h2v10zm4 0h-2v-4h2v4z\"/>\n",
              "    </g>\n",
              "</svg>\n",
              "  </button>\n",
              "\n",
              "<style>\n",
              "  .colab-df-quickchart {\n",
              "      --bg-color: #E8F0FE;\n",
              "      --fill-color: #1967D2;\n",
              "      --hover-bg-color: #E2EBFA;\n",
              "      --hover-fill-color: #174EA6;\n",
              "      --disabled-fill-color: #AAA;\n",
              "      --disabled-bg-color: #DDD;\n",
              "  }\n",
              "\n",
              "  [theme=dark] .colab-df-quickchart {\n",
              "      --bg-color: #3B4455;\n",
              "      --fill-color: #D2E3FC;\n",
              "      --hover-bg-color: #434B5C;\n",
              "      --hover-fill-color: #FFFFFF;\n",
              "      --disabled-bg-color: #3B4455;\n",
              "      --disabled-fill-color: #666;\n",
              "  }\n",
              "\n",
              "  .colab-df-quickchart {\n",
              "    background-color: var(--bg-color);\n",
              "    border: none;\n",
              "    border-radius: 50%;\n",
              "    cursor: pointer;\n",
              "    display: none;\n",
              "    fill: var(--fill-color);\n",
              "    height: 32px;\n",
              "    padding: 0;\n",
              "    width: 32px;\n",
              "  }\n",
              "\n",
              "  .colab-df-quickchart:hover {\n",
              "    background-color: var(--hover-bg-color);\n",
              "    box-shadow: 0 1px 2px rgba(60, 64, 67, 0.3), 0 1px 3px 1px rgba(60, 64, 67, 0.15);\n",
              "    fill: var(--button-hover-fill-color);\n",
              "  }\n",
              "\n",
              "  .colab-df-quickchart-complete:disabled,\n",
              "  .colab-df-quickchart-complete:disabled:hover {\n",
              "    background-color: var(--disabled-bg-color);\n",
              "    fill: var(--disabled-fill-color);\n",
              "    box-shadow: none;\n",
              "  }\n",
              "\n",
              "  .colab-df-spinner {\n",
              "    border: 2px solid var(--fill-color);\n",
              "    border-color: transparent;\n",
              "    border-bottom-color: var(--fill-color);\n",
              "    animation:\n",
              "      spin 1s steps(1) infinite;\n",
              "  }\n",
              "\n",
              "  @keyframes spin {\n",
              "    0% {\n",
              "      border-color: transparent;\n",
              "      border-bottom-color: var(--fill-color);\n",
              "      border-left-color: var(--fill-color);\n",
              "    }\n",
              "    20% {\n",
              "      border-color: transparent;\n",
              "      border-left-color: var(--fill-color);\n",
              "      border-top-color: var(--fill-color);\n",
              "    }\n",
              "    30% {\n",
              "      border-color: transparent;\n",
              "      border-left-color: var(--fill-color);\n",
              "      border-top-color: var(--fill-color);\n",
              "      border-right-color: var(--fill-color);\n",
              "    }\n",
              "    40% {\n",
              "      border-color: transparent;\n",
              "      border-right-color: var(--fill-color);\n",
              "      border-top-color: var(--fill-color);\n",
              "    }\n",
              "    60% {\n",
              "      border-color: transparent;\n",
              "      border-right-color: var(--fill-color);\n",
              "    }\n",
              "    80% {\n",
              "      border-color: transparent;\n",
              "      border-right-color: var(--fill-color);\n",
              "      border-bottom-color: var(--fill-color);\n",
              "    }\n",
              "    90% {\n",
              "      border-color: transparent;\n",
              "      border-bottom-color: var(--fill-color);\n",
              "    }\n",
              "  }\n",
              "</style>\n",
              "\n",
              "  <script>\n",
              "    async function quickchart(key) {\n",
              "      const quickchartButtonEl =\n",
              "        document.querySelector('#' + key + ' button');\n",
              "      quickchartButtonEl.disabled = true;  // To prevent multiple clicks.\n",
              "      quickchartButtonEl.classList.add('colab-df-spinner');\n",
              "      try {\n",
              "        const charts = await google.colab.kernel.invokeFunction(\n",
              "            'suggestCharts', [key], {});\n",
              "      } catch (error) {\n",
              "        console.error('Error during call to suggestCharts:', error);\n",
              "      }\n",
              "      quickchartButtonEl.classList.remove('colab-df-spinner');\n",
              "      quickchartButtonEl.classList.add('colab-df-quickchart-complete');\n",
              "    }\n",
              "    (() => {\n",
              "      let quickchartButtonEl =\n",
              "        document.querySelector('#df-2006e2a1-9509-40ea-bb22-663daa25a0c6 button');\n",
              "      quickchartButtonEl.style.display =\n",
              "        google.colab.kernel.accessAllowed ? 'block' : 'none';\n",
              "    })();\n",
              "  </script>\n",
              "</div>\n",
              "\n",
              "    </div>\n",
              "  </div>\n"
            ],
            "application/vnd.google.colaboratory.intrinsic+json": {
              "type": "dataframe",
              "variable_name": "df5"
            }
          },
          "metadata": {},
          "execution_count": 92
        }
      ]
    },
    {
      "cell_type": "markdown",
      "id": "a0f356a6-f40f-45e2-a559-d5d04e75ea3f",
      "metadata": {
        "id": "a0f356a6-f40f-45e2-a559-d5d04e75ea3f"
      },
      "source": [
        "<br>"
      ]
    },
    {
      "cell_type": "markdown",
      "id": "8fb3c92a-4027-4076-bdb0-6f3bda7da917",
      "metadata": {
        "id": "8fb3c92a-4027-4076-bdb0-6f3bda7da917"
      },
      "source": [
        "### 11. df5에 대해 Scikit-learn의 train_test_split 함수로 훈련, 검증 데이터를 분리하세요.\n",
        "* 입력 : X, y (y에는 churn을 저장하고 X에는 churn을 제외한 나머지를 저장하세요)\n",
        "* Train : Test 비율 = 8:2\n",
        "* y Class 비율에 맞게 나누는 옵션을 추가하세요.\n",
        "* random_state=42 로 설정하세요.\n",
        "* 결과 : X_train, X_valid, y_train, y_valid에 저장하세요."
      ]
    },
    {
      "cell_type": "code",
      "execution_count": null,
      "id": "8901a3f2-3839-4831-afeb-fd2877eef954",
      "metadata": {
        "id": "8901a3f2-3839-4831-afeb-fd2877eef954"
      },
      "outputs": [],
      "source": [
        "# 여기에 답안코드를 작성하세요.\n",
        "X = df5.drop('Churn', axis=1)\n",
        "y = df5['Churn']"
      ]
    },
    {
      "cell_type": "code",
      "source": [
        "from sklearn.model_selection import train_test_split\n",
        "X_train, X_valid, y_train, y_valid = train_test_split(X, y, test_size=0.2, random_state=42, stratify=y)"
      ],
      "metadata": {
        "id": "W07cFPFS0L2q"
      },
      "id": "W07cFPFS0L2q",
      "execution_count": null,
      "outputs": []
    },
    {
      "cell_type": "code",
      "source": [
        "X_train.shape, X_valid.shape, y_train.shape, y_valid.shape"
      ],
      "metadata": {
        "colab": {
          "base_uri": "https://localhost:8080/"
        },
        "id": "MQmLTHhl0QCs",
        "outputId": "b49a21df-ce37-48e7-fb6c-7f7a480e4e76"
      },
      "id": "MQmLTHhl0QCs",
      "execution_count": null,
      "outputs": [
        {
          "output_type": "execute_result",
          "data": {
            "text/plain": [
              "((5621, 41), (1406, 41), (5621,), (1406,))"
            ]
          },
          "metadata": {},
          "execution_count": 95
        }
      ]
    },
    {
      "cell_type": "markdown",
      "id": "c42fb023-9864-4471-8a45-44fdbfd35e93",
      "metadata": {
        "id": "c42fb023-9864-4471-8a45-44fdbfd35e93"
      },
      "source": [
        "<br>"
      ]
    },
    {
      "cell_type": "markdown",
      "id": "1ccbcefa-d9b4-454f-b82a-f755d5f16283",
      "metadata": {
        "id": "1ccbcefa-d9b4-454f-b82a-f755d5f16283"
      },
      "source": [
        "### 12. MinMaxScaler 함수를 'scaler'로 정의하고 데이터를 정규화하세요."
      ]
    },
    {
      "cell_type": "code",
      "execution_count": null,
      "id": "8a8b9d20-a680-4000-9b3a-aadfe5d6cb02",
      "metadata": {
        "id": "8a8b9d20-a680-4000-9b3a-aadfe5d6cb02"
      },
      "outputs": [],
      "source": [
        "# 여기에 답안코드를 작성하세요.\n",
        "from sklearn.preprocessing import MinMaxScaler\n",
        "\n",
        "scaler = MinMaxScaler()\n",
        "X_train_s = scaler.fit_transform(X_train)\n",
        "X_valid_s = scaler.transform(X_valid)"
      ]
    },
    {
      "cell_type": "markdown",
      "id": "ca8e3bcd-70a1-41fe-b050-2a7b3d97280b",
      "metadata": {
        "tags": [],
        "id": "ca8e3bcd-70a1-41fe-b050-2a7b3d97280b"
      },
      "source": [
        "<br>"
      ]
    },
    {
      "cell_type": "markdown",
      "id": "e897fb3e-1364-4445-ac10-920f82ae4232",
      "metadata": {
        "id": "e897fb3e-1364-4445-ac10-920f82ae4232"
      },
      "source": [
        "### 13. 고객 이탈 여부를 예측하는 머신러닝 모델을 만들려고 합니다.\n",
        "### 아래 가이드에 따라 모델링하고 학습을 진행하세요.\n",
        "* LogisticRegression 모델 정의하고 학습시키세요.\n",
        "* KNN으로 모델을 정의하고 학습시키세요. (n_neighbors=5)\n",
        "* Decision Tree로 모델을 정의하고 학습시키세요. (max_depth=10, random_state=42)\n",
        "* RandomForest로 모델을 정의하고 학습시키세요. (n_estimators=3, random_state=42)\n",
        "* XGBoost로 모델을 정의하고 학습시키세요. (n_estimators=3, random_state=42)  \n",
        "* Light GBM으로 모델을 정의하고 학습시키세요. (n_estimators=3, random_state=42)  \n",
        "* 각각 다른 셀에 답안코드를 작성하세요."
      ]
    },
    {
      "cell_type": "code",
      "execution_count": null,
      "id": "3f9afe4d-fc0a-4fef-a644-3e72dd03aee9",
      "metadata": {
        "colab": {
          "base_uri": "https://localhost:8080/"
        },
        "id": "3f9afe4d-fc0a-4fef-a644-3e72dd03aee9",
        "outputId": "6554c2af-7302-4f93-843b-4f02834b0b19"
      },
      "outputs": [
        {
          "output_type": "execute_result",
          "data": {
            "text/plain": [
              "0.7930298719772404"
            ]
          },
          "metadata": {},
          "execution_count": 97
        }
      ],
      "source": [
        "# 여기에 답안코드를 작성하세요.(LogisticRegression)\n",
        "from sklearn.linear_model import LogisticRegression\n",
        "\n",
        "lr_model = LogisticRegression()\n",
        "lr_model.fit(X_train_s, y_train)\n",
        "\n",
        "lr_model.score(X_valid_s, y_valid)"
      ]
    },
    {
      "cell_type": "code",
      "execution_count": null,
      "id": "fdd890b9-b12c-40ef-a2aa-629e1fa9105a",
      "metadata": {
        "colab": {
          "base_uri": "https://localhost:8080/"
        },
        "id": "fdd890b9-b12c-40ef-a2aa-629e1fa9105a",
        "outputId": "ca796b65-0abc-43cf-bd88-f3fa80727063"
      },
      "outputs": [
        {
          "output_type": "execute_result",
          "data": {
            "text/plain": [
              "0.7567567567567568"
            ]
          },
          "metadata": {},
          "execution_count": 98
        }
      ],
      "source": [
        "# 여기에 답안코드를 작성하세요.(KNN)\n",
        "from sklearn.neighbors import KNeighborsClassifier\n",
        "\n",
        "knn_model = KNeighborsClassifier(n_neighbors=5)\n",
        "knn_model.fit(X_train_s, y_train)\n",
        "\n",
        "knn_model.score(X_valid_s, y_valid)"
      ]
    },
    {
      "cell_type": "code",
      "execution_count": null,
      "id": "6adcd304-bd2f-4623-b0da-3c632da8c91b",
      "metadata": {
        "colab": {
          "base_uri": "https://localhost:8080/"
        },
        "id": "6adcd304-bd2f-4623-b0da-3c632da8c91b",
        "outputId": "06cc4977-98d8-45ce-c4c5-a2b79e9b1df8"
      },
      "outputs": [
        {
          "output_type": "execute_result",
          "data": {
            "text/plain": [
              "0.7617354196301565"
            ]
          },
          "metadata": {},
          "execution_count": 99
        }
      ],
      "source": [
        "# 여기에 답안코드를 작성하세요.(Decision Tree)\n",
        "from sklearn.tree import DecisionTreeClassifier\n",
        "\n",
        "dt_model = DecisionTreeClassifier(max_depth=10, random_state=42)\n",
        "dt_model.fit(X_train_s, y_train)\n",
        "\n",
        "dt_model.score(X_valid_s, y_valid)"
      ]
    },
    {
      "cell_type": "code",
      "execution_count": null,
      "id": "24c4a98c-e131-4d4d-b2e4-f504a3d593f4",
      "metadata": {
        "colab": {
          "base_uri": "https://localhost:8080/"
        },
        "id": "24c4a98c-e131-4d4d-b2e4-f504a3d593f4",
        "outputId": "a30b81ed-336f-47f4-e188-bcfe2d5e8586"
      },
      "outputs": [
        {
          "output_type": "execute_result",
          "data": {
            "text/plain": [
              "0.7467994310099573"
            ]
          },
          "metadata": {},
          "execution_count": 100
        }
      ],
      "source": [
        "# 여기에 답안코드를 작성하세요.(RandomForest)\n",
        "from sklearn.ensemble import RandomForestClassifier\n",
        "\n",
        "rf_model = RandomForestClassifier(n_estimators=3, random_state=42)\n",
        "rf_model.fit(X_train_s, y_train)\n",
        "\n",
        "rf_model.score(X_valid_s, y_valid)"
      ]
    },
    {
      "cell_type": "code",
      "execution_count": null,
      "id": "59d39690-cc4c-4c1b-85a9-ce0dabce51db",
      "metadata": {
        "colab": {
          "base_uri": "https://localhost:8080/"
        },
        "id": "59d39690-cc4c-4c1b-85a9-ce0dabce51db",
        "outputId": "3103e578-39f4-4285-df3d-97c72b856e60"
      },
      "outputs": [
        {
          "output_type": "execute_result",
          "data": {
            "text/plain": [
              "0.7930298719772404"
            ]
          },
          "metadata": {},
          "execution_count": 101
        }
      ],
      "source": [
        "# 여기에 답안코드를 작성하세요.(XgBoost)\n",
        "from xgboost import XGBClassifier\n",
        "\n",
        "xgb_model = XGBClassifier(n_estimators=3, random_state=42, eval_metric='logloss')\n",
        "xgb_model.fit(X_train_s, y_train)\n",
        "\n",
        "xgb_model.score(X_valid_s, y_valid)"
      ]
    },
    {
      "cell_type": "code",
      "execution_count": null,
      "id": "787ed8df-1639-44a9-9837-d9d78990f479",
      "metadata": {
        "colab": {
          "base_uri": "https://localhost:8080/"
        },
        "id": "787ed8df-1639-44a9-9837-d9d78990f479",
        "outputId": "1cddd740-3303-42fd-c87c-1ef11cd28975"
      },
      "outputs": [
        {
          "output_type": "stream",
          "name": "stdout",
          "text": [
            "[LightGBM] [Info] Number of positive: 1493, number of negative: 4128\n",
            "[LightGBM] [Info] Auto-choosing row-wise multi-threading, the overhead of testing was 0.000887 seconds.\n",
            "You can set `force_row_wise=true` to remove the overhead.\n",
            "And if memory is not enough, you can set `force_col_wise=true`.\n",
            "[LightGBM] [Info] Total Bins 659\n",
            "[LightGBM] [Info] Number of data points in the train set: 5621, number of used features: 41\n",
            "[LightGBM] [Info] [binary:BoostFromScore]: pavg=0.265611 -> initscore=-1.017006\n",
            "[LightGBM] [Info] Start training from score -1.017006\n"
          ]
        },
        {
          "output_type": "execute_result",
          "data": {
            "text/plain": [
              "0.7347083926031295"
            ]
          },
          "metadata": {},
          "execution_count": 102
        }
      ],
      "source": [
        "# 여기에 답안코드를 작성하세요.(lightgbm)\n",
        "from lightgbm import LGBMClassifier\n",
        "\n",
        "lgbm_model = LGBMClassifier(n_estimators=3, random_state=42)\n",
        "lgbm_model.fit(X_train_s, y_train)\n",
        "\n",
        "lgbm_model.score(X_valid_s, y_valid)"
      ]
    },
    {
      "cell_type": "markdown",
      "id": "91e435bf-c197-4157-b1b1-7238de931fec",
      "metadata": {
        "id": "91e435bf-c197-4157-b1b1-7238de931fec"
      },
      "source": [
        "### 14. 바로 위 모델의 성능을 평가하려고 합니다.\n",
        "### y값을 예측하여 confusion matrix를 구하고 heatmap 그래프로 시각화하세요.\n",
        "### 그리고 Scikit-learn의 classification_report를 활용하여 성능을 출력하세요."
      ]
    },
    {
      "cell_type": "code",
      "execution_count": null,
      "id": "0726cd47-5619-4c1a-a27a-d80a72df5096",
      "metadata": {
        "id": "0726cd47-5619-4c1a-a27a-d80a72df5096"
      },
      "outputs": [],
      "source": [
        "# 여기에 답안코드를 작성하세요.\n",
        "y_pred = xgb_model.predict(X_valid_s)"
      ]
    },
    {
      "cell_type": "code",
      "source": [
        "from sklearn.metrics import confusion_matrix\n",
        "\n",
        "conf_matrix = confusion_matrix(y_valid, y_pred)"
      ],
      "metadata": {
        "id": "s6iY14hp17DG"
      },
      "id": "s6iY14hp17DG",
      "execution_count": null,
      "outputs": []
    },
    {
      "cell_type": "code",
      "source": [
        "sns.heatmap(conf_matrix, annot=True, fmt='d', cmap='Blues')\n",
        "plt.xlabel('Predicted label')\n",
        "plt.ylabel('True label')\n",
        "plt.title('Confusion Matrix')\n",
        "plt.show()"
      ],
      "metadata": {
        "colab": {
          "base_uri": "https://localhost:8080/",
          "height": 472
        },
        "id": "-SxS9qSo2B39",
        "outputId": "f0d9637d-d4a3-4d91-a2f1-14a27f74c95a"
      },
      "id": "-SxS9qSo2B39",
      "execution_count": null,
      "outputs": [
        {
          "output_type": "display_data",
          "data": {
            "text/plain": [
              "<Figure size 640x480 with 2 Axes>"
            ],
            "image/png": "[encoded data removed]"
          },
          "metadata": {}
        }
      ]
    },
    {
      "cell_type": "code",
      "source": [
        "from sklearn.metrics import classification_report\n",
        "\n",
        "print(classification_report(y_valid, y_pred))"
      ],
      "metadata": {
        "colab": {
          "base_uri": "https://localhost:8080/"
        },
        "id": "E_pwa-wd2E7j",
        "outputId": "7815b2e9-26ee-446a-9e4d-aee021b56b4e"
      },
      "id": "E_pwa-wd2E7j",
      "execution_count": null,
      "outputs": [
        {
          "output_type": "stream",
          "name": "stdout",
          "text": [
            "              precision    recall  f1-score   support\n",
            "\n",
            "           0       0.80      0.96      0.87      1033\n",
            "           1       0.74      0.34      0.47       373\n",
            "\n",
            "    accuracy                           0.79      1406\n",
            "   macro avg       0.77      0.65      0.67      1406\n",
            "weighted avg       0.78      0.79      0.76      1406\n",
            "\n"
          ]
        }
      ]
    },
    {
      "cell_type": "markdown",
      "id": "9d72df85-cb80-4f1b-a4db-01ea5b4ec30d",
      "metadata": {
        "id": "9d72df85-cb80-4f1b-a4db-01ea5b4ec30d"
      },
      "source": [
        "##### **<span style=\"color:red\">다음 문항을 풀기 전에</span> 아래 코드를 실행하세요.**"
      ]
    },
    {
      "cell_type": "code",
      "execution_count": null,
      "id": "5f6e8b6d-f740-4d98-9189-78cdb98991d0",
      "metadata": {
        "id": "5f6e8b6d-f740-4d98-9189-78cdb98991d0"
      },
      "outputs": [],
      "source": [
        "import tensorflow as tf\n",
        "from tensorflow.keras.models import Sequential, load_model\n",
        "from tensorflow.keras.layers import Dense, Activation, Dropout, BatchNormalization\n",
        "from tensorflow.keras.callbacks import EarlyStopping, ModelCheckpoint\n",
        "from tensorflow.keras.utils import to_categorical\n",
        "\n",
        "tf.random.set_seed(1)"
      ]
    },
    {
      "cell_type": "markdown",
      "id": "67187f70-3bea-4266-8b91-25e67c2b71c7",
      "metadata": {
        "id": "67187f70-3bea-4266-8b91-25e67c2b71c7"
      },
      "source": [
        "### 15. 고객 이탈여부를 예측하는 딥러닝 모델을 만들려고 합니다.\n",
        "### 아래 가이드에 따라 모델링하고 학습을 진행하세요.\n",
        "* Tensoflow framework를 사용하여 딥러닝 모델을 만드세요.\n",
        "* 히든레이어(hidden layer) 2개이상으로 모델을 구성하세요.\n",
        "* dropout 비율 0.2로 Dropout 레이어 1개를 추가해 주세요.\n",
        "* 하이퍼파라미터 epochs: 30, batch_size: 16으로 설정해주세요.\n",
        "* 각 에포크마다 loss와 metrics 평가하기 위한 데이터로 X_valid, y_valid 사용하세요.\n",
        "* 학습정보는 history 변수에 저장해주세요"
      ]
    },
    {
      "cell_type": "code",
      "execution_count": null,
      "id": "df129f00-16d9-427b-adef-af90f3ab177c",
      "metadata": {
        "colab": {
          "base_uri": "https://localhost:8080/"
        },
        "id": "df129f00-16d9-427b-adef-af90f3ab177c",
        "outputId": "5e8c9276-3930-4db7-be0d-3e6f5a49c595"
      },
      "outputs": [
        {
          "output_type": "stream",
          "name": "stdout",
          "text": [
            "Model: \"sequential_1\"\n",
            "_________________________________________________________________\n",
            " Layer (type)                Output Shape              Param #   \n",
            "=================================================================\n",
            " dense_5 (Dense)             (None, 128)               5376      \n",
            "                                                                 \n",
            " dense_6 (Dense)             (None, 64)                8256      \n",
            "                                                                 \n",
            " dropout_3 (Dropout)         (None, 64)                0         \n",
            "                                                                 \n",
            " dense_7 (Dense)             (None, 32)                2080      \n",
            "                                                                 \n",
            " dropout_4 (Dropout)         (None, 32)                0         \n",
            "                                                                 \n",
            " dense_8 (Dense)             (None, 16)                528       \n",
            "                                                                 \n",
            " dropout_5 (Dropout)         (None, 16)                0         \n",
            "                                                                 \n",
            " dense_9 (Dense)             (None, 1)                 17        \n",
            "                                                                 \n",
            "=================================================================\n",
            "Total params: 16257 (63.50 KB)\n",
            "Trainable params: 16257 (63.50 KB)\n",
            "Non-trainable params: 0 (0.00 Byte)\n",
            "_________________________________________________________________\n"
          ]
        }
      ],
      "source": [
        "# 여기에 답안코드를 작성하세요.\n",
        "import tensorflow as tf\n",
        "from tensorflow.keras.models import Sequential\n",
        "from tensorflow.keras.layers import Dense, Dropout\n",
        "\n",
        "\n",
        "model = Sequential()\n",
        "model.add(Dense(128, activation='relu', input_shape=(X_train_s.shape[1],)))\n",
        "model.add(Dense(64, activation='relu'))\n",
        "model.add(Dropout(0.2))\n",
        "model.add(Dense(32, activation='relu'))\n",
        "model.add(Dropout(0.2))\n",
        "model.add(Dense(16, activation='relu'))\n",
        "model.add(Dropout(0.2))\n",
        "model.add(Dense(1, activation='sigmoid'))\n",
        "\n",
        "model.compile(optimizer='adam',\n",
        "              loss='binary_crossentropy',\n",
        "              metrics=['accuracy'])\n",
        "\n",
        "model.summary()"
      ]
    },
    {
      "cell_type": "code",
      "source": [
        "# 모델 학습\n",
        "history = model.fit(X_train_s,\n",
        "                    y_train,\n",
        "                    epochs=10,\n",
        "                    batch_size=16,\n",
        "                    validation_data=(X_valid_s, y_valid))"
      ],
      "metadata": {
        "colab": {
          "base_uri": "https://localhost:8080/"
        },
        "id": "Yz5IME3y2sCr",
        "outputId": "43f3ef27-4fc3-4e58-fd88-628c8b0d0bfd"
      },
      "id": "Yz5IME3y2sCr",
      "execution_count": null,
      "outputs": [
        {
          "output_type": "stream",
          "name": "stdout",
          "text": [
            "Epoch 1/10\n",
            "352/352 [==============================] - 7s 9ms/step - loss: 0.4708 - accuracy: 0.7685 - val_loss: 0.4451 - val_accuracy: 0.7859\n",
            "Epoch 2/10\n",
            "352/352 [==============================] - 2s 6ms/step - loss: 0.4388 - accuracy: 0.7947 - val_loss: 0.4359 - val_accuracy: 0.7895\n",
            "Epoch 3/10\n",
            "352/352 [==============================] - 2s 6ms/step - loss: 0.4341 - accuracy: 0.7974 - val_loss: 0.4326 - val_accuracy: 0.7866\n",
            "Epoch 4/10\n",
            "352/352 [==============================] - 2s 7ms/step - loss: 0.4278 - accuracy: 0.8045 - val_loss: 0.4309 - val_accuracy: 0.7895\n",
            "Epoch 5/10\n",
            "352/352 [==============================] - 3s 9ms/step - loss: 0.4242 - accuracy: 0.8095 - val_loss: 0.4316 - val_accuracy: 0.7937\n",
            "Epoch 6/10\n",
            "352/352 [==============================] - 4s 12ms/step - loss: 0.4207 - accuracy: 0.8073 - val_loss: 0.4238 - val_accuracy: 0.7923\n",
            "Epoch 7/10\n",
            "352/352 [==============================] - 3s 8ms/step - loss: 0.4155 - accuracy: 0.8082 - val_loss: 0.4398 - val_accuracy: 0.7909\n",
            "Epoch 8/10\n",
            "352/352 [==============================] - 3s 7ms/step - loss: 0.4151 - accuracy: 0.8086 - val_loss: 0.4299 - val_accuracy: 0.7945\n",
            "Epoch 9/10\n",
            "352/352 [==============================] - 4s 10ms/step - loss: 0.4107 - accuracy: 0.8136 - val_loss: 0.4372 - val_accuracy: 0.7909\n",
            "Epoch 10/10\n",
            "352/352 [==============================] - 4s 10ms/step - loss: 0.4107 - accuracy: 0.8143 - val_loss: 0.4240 - val_accuracy: 0.7952\n"
          ]
        }
      ]
    },
    {
      "cell_type": "markdown",
      "id": "12f33874-3f1e-4b63-ba3e-91d90ee5e512",
      "metadata": {
        "id": "12f33874-3f1e-4b63-ba3e-91d90ee5e512"
      },
      "source": [
        "<br>"
      ]
    },
    {
      "cell_type": "markdown",
      "id": "8989c197-ec84-4192-955d-1c52d34cb006",
      "metadata": {
        "id": "8989c197-ec84-4192-955d-1c52d34cb006"
      },
      "source": [
        "### 16. 위 딥러닝 모델의 성능을 평가하려고 합니다.\n",
        "### Matplotlib 라이브러리 활용해서 학습 accuracy와 검증 accuracy를 그래프로 표시하세요.\n",
        "* 1개의 그래프에 학습 accuracy와 검증 accuracy 2가지를 모두 표시하세요.\n",
        "* 위 2가지 각각의 범례를 'acc', 'val_macc'로 표시하세요.\n",
        "* 그래프의 타이틀은 'Accuracy'로 표시하세요.\n",
        "* X축에는 'Epochs'라고 표시하고 Y축에는 'Acc'라고 표시하세요."
      ]
    },
    {
      "cell_type": "code",
      "execution_count": null,
      "id": "e5094d66-0b51-45bf-89f0-07af04d7909e",
      "metadata": {
        "colab": {
          "base_uri": "https://localhost:8080/",
          "height": 472
        },
        "id": "e5094d66-0b51-45bf-89f0-07af04d7909e",
        "outputId": "8eb74963-9176-481f-fff4-528fefbbb881"
      },
      "outputs": [
        {
          "output_type": "display_data",
          "data": {
            "text/plain": [
              "<Figure size 640x480 with 1 Axes>"
            ],
            "image/png": "[encoded data removed]"
          },
          "metadata": {}
        }
      ],
      "source": [
        "# 여기에 답안코드를 작성하세요.\n",
        "acc = history.history['accuracy']\n",
        "val_acc = history.history['val_accuracy']\n",
        "\n",
        "#epochs = range(1, len(acc) + 1)\n",
        "\n",
        "plt.plot(acc, label='acc')\n",
        "plt.plot(val_acc, label='val_acc')\n",
        "plt.title('Accuracy')\n",
        "plt.xlabel('Epochs')\n",
        "plt.ylabel('Acc')\n",
        "plt.legend()\n",
        "\n",
        "plt.show()\n"
      ]
    }
  ],
  "metadata": {
    "kernelspec": {
      "display_name": "Python 3 (ipykernel)",
      "language": "python",
      "name": "python3"
    },
    "language_info": {
      "codemirror_mode": {
        "name": "ipython",
        "version": 3
      },
      "file_extension": ".py",
      "mimetype": "text/x-python",
      "name": "python",
      "nbconvert_exporter": "python",
      "pygments_lexer": "ipython3",
      "version": "3.11.5"
    },
    "colab": {
      "provenance": []
    }
  },
  "nbformat": 4,
  "nbformat_minor": 5
}