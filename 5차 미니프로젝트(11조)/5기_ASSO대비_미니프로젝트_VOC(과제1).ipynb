{
  "cells": [
    {
      "cell_type": "markdown",
      "metadata": {
        "id": "QvFsLhLDSVSw"
      },
      "source": [
        "**AIVLE School 미니프로젝트**\n",
        "### **VOC를 제기한 고객의 <span style=\"color:darkgreen\">해지 여부</span> 예측 문제**\n",
        "---"
      ]
    },
    {
      "cell_type": "markdown",
      "metadata": {
        "tags": [],
        "id": "Yo2nxhofSVSx"
      },
      "source": [
        "#### **<span style=\"color:red\">[미션 안내]</span>**\n",
        "* VOC를 제기한 고객의 데이터를 읽어들여 데이터를 분석 및 전처리한 후 머신러닝과 딥러닝으로 해지 여부를 예측하고 결과를 분석하세요."
      ]
    },
    {
      "cell_type": "markdown",
      "metadata": {
        "id": "E-KGiV7DSVSy"
      },
      "source": [
        "#### **<span style=\"color:red\">[유의 사항]</span>**\n",
        "* 각 문항의 답안코드는 반드시 '#여기에 답안코드를 작성하세요'로 표시된 cell에 작성해야 합니다.\n",
        "* 제공된 cell을 추가/삭제하고 다른 cell에 답안코드를 작성 시 채점되지 않습니다.\n",
        "* 반드시 문제에 제시된 가이드를 읽고 답안 작성하세요.\n",
        "* 문제에 변수명이 제시된 경우 반드시 해당 변수명을 사용하세요.\n",
        "* 문제와 데이터는 제3자에게 공유하거나 개인적인 용도로 사용하는 등 외부로 유출할 수 없으며 유출로 인한 책임은 응시자 본인에게 있습니다."
      ]
    },
    {
      "cell_type": "code",
      "execution_count": null,
      "metadata": {
        "id": "BFACf81kSVSy"
      },
      "outputs": [],
      "source": [
        "# 코드실행시 경고 메시지 무시\n",
        "import warnings\n",
        "warnings.filterwarnings(action='ignore')"
      ]
    },
    {
      "cell_type": "code",
      "source": [
        "from google.colab import drive\n",
        "drive.mount('/content/drive')"
      ],
      "metadata": {
        "colab": {
          "base_uri": "https://localhost:8080/"
        },
        "id": "8S3NhL-9S5D8",
        "outputId": "14228a9d-5790-4eb9-cfa4-fdf16ee89f0a"
      },
      "execution_count": null,
      "outputs": [
        {
          "output_type": "stream",
          "name": "stdout",
          "text": [
            "Drive already mounted at /content/drive; to attempt to forcibly remount, call drive.mount(\"/content/drive\", force_remount=True).\n"
          ]
        }
      ]
    },
    {
      "cell_type": "markdown",
      "metadata": {
        "id": "N6nVLdU2SVSy"
      },
      "source": [
        "<br>"
      ]
    },
    {
      "cell_type": "markdown",
      "metadata": {
        "id": "BlJ_H94GSVSz"
      },
      "source": [
        "## **<span style=\"color:black\">1. 필요한 라이브러리 설치</span>**"
      ]
    },
    {
      "cell_type": "markdown",
      "metadata": {
        "id": "BW0FOsFGSVSz"
      },
      "source": [
        "<Br>\n",
        "<font color=blue>1-1. pip 이용해서 seaborn을 설치하세요.</font>"
      ]
    },
    {
      "cell_type": "code",
      "execution_count": null,
      "metadata": {
        "colab": {
          "base_uri": "https://localhost:8080/"
        },
        "id": "0o_GQ48RSVSz",
        "outputId": "8b63ae96-4d58-4baf-f1f0-5d73eaa47c1f"
      },
      "outputs": [
        {
          "output_type": "stream",
          "name": "stdout",
          "text": [
            "Requirement already satisfied: seaborn in /usr/local/lib/python3.10/dist-packages (0.13.1)\n",
            "Requirement already satisfied: numpy!=1.24.0,>=1.20 in /usr/local/lib/python3.10/dist-packages (from seaborn) (1.25.2)\n",
            "Requirement already satisfied: pandas>=1.2 in /usr/local/lib/python3.10/dist-packages (from seaborn) (2.0.3)\n",
            "Requirement already satisfied: matplotlib!=3.6.1,>=3.4 in /usr/local/lib/python3.10/dist-packages (from seaborn) (3.7.1)\n",
            "Requirement already satisfied: contourpy>=1.0.1 in /usr/local/lib/python3.10/dist-packages (from matplotlib!=3.6.1,>=3.4->seaborn) (1.2.1)\n",
            "Requirement already satisfied: cycler>=0.10 in /usr/local/lib/python3.10/dist-packages (from matplotlib!=3.6.1,>=3.4->seaborn) (0.12.1)\n",
            "Requirement already satisfied: fonttools>=4.22.0 in /usr/local/lib/python3.10/dist-packages (from matplotlib!=3.6.1,>=3.4->seaborn) (4.51.0)\n",
            "Requirement already satisfied: kiwisolver>=1.0.1 in /usr/local/lib/python3.10/dist-packages (from matplotlib!=3.6.1,>=3.4->seaborn) (1.4.5)\n",
            "Requirement already satisfied: packaging>=20.0 in /usr/local/lib/python3.10/dist-packages (from matplotlib!=3.6.1,>=3.4->seaborn) (24.0)\n",
            "Requirement already satisfied: pillow>=6.2.0 in /usr/local/lib/python3.10/dist-packages (from matplotlib!=3.6.1,>=3.4->seaborn) (9.4.0)\n",
            "Requirement already satisfied: pyparsing>=2.3.1 in /usr/local/lib/python3.10/dist-packages (from matplotlib!=3.6.1,>=3.4->seaborn) (3.1.2)\n",
            "Requirement already satisfied: python-dateutil>=2.7 in /usr/local/lib/python3.10/dist-packages (from matplotlib!=3.6.1,>=3.4->seaborn) (2.8.2)\n",
            "Requirement already satisfied: pytz>=2020.1 in /usr/local/lib/python3.10/dist-packages (from pandas>=1.2->seaborn) (2023.4)\n",
            "Requirement already satisfied: tzdata>=2022.1 in /usr/local/lib/python3.10/dist-packages (from pandas>=1.2->seaborn) (2024.1)\n",
            "Requirement already satisfied: six>=1.5 in /usr/local/lib/python3.10/dist-packages (from python-dateutil>=2.7->matplotlib!=3.6.1,>=3.4->seaborn) (1.16.0)\n"
          ]
        }
      ],
      "source": [
        "# 여기에 답안코드를 작성하세요.\n",
        "!pip install seaborn"
      ]
    },
    {
      "cell_type": "markdown",
      "metadata": {
        "id": "8unE-S4ySVSz"
      },
      "source": [
        "<br>\n",
        "<font color=blue>1-2. numpy 별칭을 np로, pandas 별칭을 pd로 해서 임포트 하세요</font>"
      ]
    },
    {
      "cell_type": "code",
      "execution_count": null,
      "metadata": {
        "id": "6u_B-TjxSVSz"
      },
      "outputs": [],
      "source": [
        "# 여기에 답안코드를 작성하세요.\n",
        "import numpy as np\n",
        "import pandas as pd"
      ]
    },
    {
      "cell_type": "markdown",
      "metadata": {
        "id": "JouP40siSVSz"
      },
      "source": [
        "<br>\n",
        "<font color=blue>1-3. matplotlib 라이브러리를 plt로, seaborn을 sns로 해서 임포트 하세요"
      ]
    },
    {
      "cell_type": "code",
      "execution_count": null,
      "metadata": {
        "id": "W6pNf2eVSVSz"
      },
      "outputs": [],
      "source": [
        "# 여기에 답안코드를 작성하세요.\n",
        "import matplotlib.pyplot as plt\n",
        "import seaborn as sns"
      ]
    },
    {
      "cell_type": "markdown",
      "metadata": {
        "id": "74qAobo1SVS0"
      },
      "source": [
        "<br>"
      ]
    },
    {
      "cell_type": "markdown",
      "metadata": {
        "id": "d1bMO9a-SVS0"
      },
      "source": [
        "## **<span style=\"color:black\">2. Tabular 데이터 로딩</span>**"
      ]
    },
    {
      "cell_type": "markdown",
      "metadata": {
        "id": "D9qr6zdQSVS0"
      },
      "source": [
        "<br>\n",
        "<font color=blue>2-1. pandas read_csv 함수를 사용하여 voc_data.csv 파일을 읽어온 후 df에 저장하세요.</font>"
      ]
    },
    {
      "cell_type": "code",
      "execution_count": null,
      "metadata": {
        "id": "k45RLoMsSVS0"
      },
      "outputs": [],
      "source": [
        "# 여기에 답안코드를 작성하세요.\n",
        "import pandas as pd\n",
        "df = pd.read_csv('/content/drive/MyDrive/KT_5mini/voc_data.csv')"
      ]
    },
    {
      "cell_type": "markdown",
      "metadata": {
        "id": "BLP9R8Y3SVS0"
      },
      "source": [
        "<br>"
      ]
    },
    {
      "cell_type": "markdown",
      "metadata": {
        "id": "n8UD6dZZSVS0"
      },
      "source": [
        "## **<span style=\"color:black\">3. 데이터의 구성 확인</span>**"
      ]
    },
    {
      "cell_type": "markdown",
      "metadata": {
        "id": "6y5f-wtoSVS0"
      },
      "source": [
        "<br>\n",
        "<font color=blue>3-1. \"df\" DataFrame 이용해서 읽어들인 파일의 앞부분 5줄, 뒷부분 5줄을 출력하세요</font>"
      ]
    },
    {
      "cell_type": "code",
      "execution_count": null,
      "metadata": {
        "colab": {
          "base_uri": "https://localhost:8080/",
          "height": 255
        },
        "id": "3O5I0sefSVS0",
        "outputId": "76140d65-68e8-4c15-93f2-e5bb13b355c7"
      },
      "outputs": [
        {
          "output_type": "execute_result",
          "data": {
            "text/plain": [
              "  voc_trt_perd_itg_cd  voc_prod_sbt_id  voc_wjt_sorc_id  voc_type_itg_cd  \\\n",
              "0                   _       1000665328             2153            10009   \n",
              "1                   _       1001028714             3311            10009   \n",
              "2                   _       1001028567             1575            10009   \n",
              "3               10000       1000665328             3546            10009   \n",
              "4                   _       1000779276             3086            10009   \n",
              "\n",
              "   voc_sttus_itg_cd voc_trt_reslt_itg_cd cust_clas_itg_cd  bprod_sbt_id  \\\n",
              "0             10002                    _                F    1000001126   \n",
              "1             10002                10081                G    1000852226   \n",
              "2             10002                    _                G    1000851875   \n",
              "3             10002                    _                _    1000001126   \n",
              "4             10002                    _                G    1000764639   \n",
              "\n",
              "  age_itg_cd cont_sttus_itg_cd  ...  voc_dupl_tmscnt  oos_cause_type_itg_cd  \\\n",
              "0         36             10001  ...                0                      _   \n",
              "1         32             10001  ...                0                      _   \n",
              "2         52             10001  ...                0                  10268   \n",
              "3          _             10001  ...                0                      _   \n",
              "4         50             10001  ...                0                      _   \n",
              "\n",
              "  voc_trt_need_time_itg_cd  engt_cperd_type_itg_cd  engt_tgt_div_itg_cd  \\\n",
              "0                    10001                       _                    _   \n",
              "1                    10001                   15098                15244   \n",
              "2                    10001                   15097                15244   \n",
              "3                    10001                       _                    _   \n",
              "4                    10001                       _                    _   \n",
              "\n",
              "  cont_fns_pam_date  voc_mis_pbls_yn fclt_oos_yn  \\\n",
              "0          99991231                N           _   \n",
              "1          20220319                N           _   \n",
              "2          20220508                N           N   \n",
              "3          99991231                N           _   \n",
              "4          99991231                N           _   \n",
              "\n",
              "  cust_snsry_base_conf_need_time  trm_yn  \n",
              "0                              0       N  \n",
              "1                              0       N  \n",
              "2                              0       N  \n",
              "3                              0       N  \n",
              "4                              0       N  \n",
              "\n",
              "[5 rows x 24 columns]"
            ],
            "text/html": [
              "\n",
              "  <div id=\"df-68e5b50a-4738-4eff-9758-1d5aa2db2587\" class=\"colab-df-container\">\n",
              "    <div>\n",
              "<style scoped>\n",
              "    .dataframe tbody tr th:only-of-type {\n",
              "        vertical-align: middle;\n",
              "    }\n",
              "\n",
              "    .dataframe tbody tr th {\n",
              "        vertical-align: top;\n",
              "    }\n",
              "\n",
              "    .dataframe thead th {\n",
              "        text-align: right;\n",
              "    }\n",
              "</style>\n",
              "<table border=\"1\" class=\"dataframe\">\n",
              "  <thead>\n",
              "    <tr style=\"text-align: right;\">\n",
              "      <th></th>\n",
              "      <th>voc_trt_perd_itg_cd</th>\n",
              "      <th>voc_prod_sbt_id</th>\n",
              "      <th>voc_wjt_sorc_id</th>\n",
              "      <th>voc_type_itg_cd</th>\n",
              "      <th>voc_sttus_itg_cd</th>\n",
              "      <th>voc_trt_reslt_itg_cd</th>\n",
              "      <th>cust_clas_itg_cd</th>\n",
              "      <th>bprod_sbt_id</th>\n",
              "      <th>age_itg_cd</th>\n",
              "      <th>cont_sttus_itg_cd</th>\n",
              "      <th>...</th>\n",
              "      <th>voc_dupl_tmscnt</th>\n",
              "      <th>oos_cause_type_itg_cd</th>\n",
              "      <th>voc_trt_need_time_itg_cd</th>\n",
              "      <th>engt_cperd_type_itg_cd</th>\n",
              "      <th>engt_tgt_div_itg_cd</th>\n",
              "      <th>cont_fns_pam_date</th>\n",
              "      <th>voc_mis_pbls_yn</th>\n",
              "      <th>fclt_oos_yn</th>\n",
              "      <th>cust_snsry_base_conf_need_time</th>\n",
              "      <th>trm_yn</th>\n",
              "    </tr>\n",
              "  </thead>\n",
              "  <tbody>\n",
              "    <tr>\n",
              "      <th>0</th>\n",
              "      <td>_</td>\n",
              "      <td>1000665328</td>\n",
              "      <td>2153</td>\n",
              "      <td>10009</td>\n",
              "      <td>10002</td>\n",
              "      <td>_</td>\n",
              "      <td>F</td>\n",
              "      <td>1000001126</td>\n",
              "      <td>36</td>\n",
              "      <td>10001</td>\n",
              "      <td>...</td>\n",
              "      <td>0</td>\n",
              "      <td>_</td>\n",
              "      <td>10001</td>\n",
              "      <td>_</td>\n",
              "      <td>_</td>\n",
              "      <td>99991231</td>\n",
              "      <td>N</td>\n",
              "      <td>_</td>\n",
              "      <td>0</td>\n",
              "      <td>N</td>\n",
              "    </tr>\n",
              "    <tr>\n",
              "      <th>1</th>\n",
              "      <td>_</td>\n",
              "      <td>1001028714</td>\n",
              "      <td>3311</td>\n",
              "      <td>10009</td>\n",
              "      <td>10002</td>\n",
              "      <td>10081</td>\n",
              "      <td>G</td>\n",
              "      <td>1000852226</td>\n",
              "      <td>32</td>\n",
              "      <td>10001</td>\n",
              "      <td>...</td>\n",
              "      <td>0</td>\n",
              "      <td>_</td>\n",
              "      <td>10001</td>\n",
              "      <td>15098</td>\n",
              "      <td>15244</td>\n",
              "      <td>20220319</td>\n",
              "      <td>N</td>\n",
              "      <td>_</td>\n",
              "      <td>0</td>\n",
              "      <td>N</td>\n",
              "    </tr>\n",
              "    <tr>\n",
              "      <th>2</th>\n",
              "      <td>_</td>\n",
              "      <td>1001028567</td>\n",
              "      <td>1575</td>\n",
              "      <td>10009</td>\n",
              "      <td>10002</td>\n",
              "      <td>_</td>\n",
              "      <td>G</td>\n",
              "      <td>1000851875</td>\n",
              "      <td>52</td>\n",
              "      <td>10001</td>\n",
              "      <td>...</td>\n",
              "      <td>0</td>\n",
              "      <td>10268</td>\n",
              "      <td>10001</td>\n",
              "      <td>15097</td>\n",
              "      <td>15244</td>\n",
              "      <td>20220508</td>\n",
              "      <td>N</td>\n",
              "      <td>N</td>\n",
              "      <td>0</td>\n",
              "      <td>N</td>\n",
              "    </tr>\n",
              "    <tr>\n",
              "      <th>3</th>\n",
              "      <td>10000</td>\n",
              "      <td>1000665328</td>\n",
              "      <td>3546</td>\n",
              "      <td>10009</td>\n",
              "      <td>10002</td>\n",
              "      <td>_</td>\n",
              "      <td>_</td>\n",
              "      <td>1000001126</td>\n",
              "      <td>_</td>\n",
              "      <td>10001</td>\n",
              "      <td>...</td>\n",
              "      <td>0</td>\n",
              "      <td>_</td>\n",
              "      <td>10001</td>\n",
              "      <td>_</td>\n",
              "      <td>_</td>\n",
              "      <td>99991231</td>\n",
              "      <td>N</td>\n",
              "      <td>_</td>\n",
              "      <td>0</td>\n",
              "      <td>N</td>\n",
              "    </tr>\n",
              "    <tr>\n",
              "      <th>4</th>\n",
              "      <td>_</td>\n",
              "      <td>1000779276</td>\n",
              "      <td>3086</td>\n",
              "      <td>10009</td>\n",
              "      <td>10002</td>\n",
              "      <td>_</td>\n",
              "      <td>G</td>\n",
              "      <td>1000764639</td>\n",
              "      <td>50</td>\n",
              "      <td>10001</td>\n",
              "      <td>...</td>\n",
              "      <td>0</td>\n",
              "      <td>_</td>\n",
              "      <td>10001</td>\n",
              "      <td>_</td>\n",
              "      <td>_</td>\n",
              "      <td>99991231</td>\n",
              "      <td>N</td>\n",
              "      <td>_</td>\n",
              "      <td>0</td>\n",
              "      <td>N</td>\n",
              "    </tr>\n",
              "  </tbody>\n",
              "</table>\n",
              "<p>5 rows × 24 columns</p>\n",
              "</div>\n",
              "    <div class=\"colab-df-buttons\">\n",
              "\n",
              "  <div class=\"colab-df-container\">\n",
              "    <button class=\"colab-df-convert\" onclick=\"convertToInteractive('df-68e5b50a-4738-4eff-9758-1d5aa2db2587')\"\n",
              "            title=\"Convert this dataframe to an interactive table.\"\n",
              "            style=\"display:none;\">\n",
              "\n",
              "  <svg xmlns=\"http://www.w3.org/2000/svg\" height=\"24px\" viewBox=\"0 -960 960 960\">\n",
              "    <path d=\"M120-120v-720h720v720H120Zm60-500h600v-160H180v160Zm220 220h160v-160H400v160Zm0 220h160v-160H400v160ZM180-400h160v-160H180v160Zm440 0h160v-160H620v160ZM180-180h160v-160H180v160Zm440 0h160v-160H620v160Z\"/>\n",
              "  </svg>\n",
              "    </button>\n",
              "\n",
              "  <style>\n",
              "    .colab-df-container {\n",
              "      display:flex;\n",
              "      gap: 12px;\n",
              "    }\n",
              "\n",
              "    .colab-df-convert {\n",
              "      background-color: #E8F0FE;\n",
              "      border: none;\n",
              "      border-radius: 50%;\n",
              "      cursor: pointer;\n",
              "      display: none;\n",
              "      fill: #1967D2;\n",
              "      height: 32px;\n",
              "      padding: 0 0 0 0;\n",
              "      width: 32px;\n",
              "    }\n",
              "\n",
              "    .colab-df-convert:hover {\n",
              "      background-color: #E2EBFA;\n",
              "      box-shadow: 0px 1px 2px rgba(60, 64, 67, 0.3), 0px 1px 3px 1px rgba(60, 64, 67, 0.15);\n",
              "      fill: #174EA6;\n",
              "    }\n",
              "\n",
              "    .colab-df-buttons div {\n",
              "      margin-bottom: 4px;\n",
              "    }\n",
              "\n",
              "    [theme=dark] .colab-df-convert {\n",
              "      background-color: #3B4455;\n",
              "      fill: #D2E3FC;\n",
              "    }\n",
              "\n",
              "    [theme=dark] .colab-df-convert:hover {\n",
              "      background-color: #434B5C;\n",
              "      box-shadow: 0px 1px 3px 1px rgba(0, 0, 0, 0.15);\n",
              "      filter: drop-shadow(0px 1px 2px rgba(0, 0, 0, 0.3));\n",
              "      fill: #FFFFFF;\n",
              "    }\n",
              "  </style>\n",
              "\n",
              "    <script>\n",
              "      const buttonEl =\n",
              "        document.querySelector('#df-68e5b50a-4738-4eff-9758-1d5aa2db2587 button.colab-df-convert');\n",
              "      buttonEl.style.display =\n",
              "        google.colab.kernel.accessAllowed ? 'block' : 'none';\n",
              "\n",
              "      async function convertToInteractive(key) {\n",
              "        const element = document.querySelector('#df-68e5b50a-4738-4eff-9758-1d5aa2db2587');\n",
              "        const dataTable =\n",
              "          await google.colab.kernel.invokeFunction('convertToInteractive',\n",
              "                                                    [key], {});\n",
              "        if (!dataTable) return;\n",
              "\n",
              "        const docLinkHtml = 'Like what you see? Visit the ' +\n",
              "          '<a target=\"_blank\" href=https://colab.research.google.com/notebooks/data_table.ipynb>data table notebook</a>'\n",
              "          + ' to learn more about interactive tables.';\n",
              "        element.innerHTML = '';\n",
              "        dataTable['output_type'] = 'display_data';\n",
              "        await google.colab.output.renderOutput(dataTable, element);\n",
              "        const docLink = document.createElement('div');\n",
              "        docLink.innerHTML = docLinkHtml;\n",
              "        element.appendChild(docLink);\n",
              "      }\n",
              "    </script>\n",
              "  </div>\n",
              "\n",
              "\n",
              "<div id=\"df-3d249b95-7840-4830-a011-bde1d272081c\">\n",
              "  <button class=\"colab-df-quickchart\" onclick=\"quickchart('df-3d249b95-7840-4830-a011-bde1d272081c')\"\n",
              "            title=\"Suggest charts\"\n",
              "            style=\"display:none;\">\n",
              "\n",
              "<svg xmlns=\"http://www.w3.org/2000/svg\" height=\"24px\"viewBox=\"0 0 24 24\"\n",
              "     width=\"24px\">\n",
              "    <g>\n",
              "        <path d=\"M19 3H5c-1.1 0-2 .9-2 2v14c0 1.1.9 2 2 2h14c1.1 0 2-.9 2-2V5c0-1.1-.9-2-2-2zM9 17H7v-7h2v7zm4 0h-2V7h2v10zm4 0h-2v-4h2v4z\"/>\n",
              "    </g>\n",
              "</svg>\n",
              "  </button>\n",
              "\n",
              "<style>\n",
              "  .colab-df-quickchart {\n",
              "      --bg-color: #E8F0FE;\n",
              "      --fill-color: #1967D2;\n",
              "      --hover-bg-color: #E2EBFA;\n",
              "      --hover-fill-color: #174EA6;\n",
              "      --disabled-fill-color: #AAA;\n",
              "      --disabled-bg-color: #DDD;\n",
              "  }\n",
              "\n",
              "  [theme=dark] .colab-df-quickchart {\n",
              "      --bg-color: #3B4455;\n",
              "      --fill-color: #D2E3FC;\n",
              "      --hover-bg-color: #434B5C;\n",
              "      --hover-fill-color: #FFFFFF;\n",
              "      --disabled-bg-color: #3B4455;\n",
              "      --disabled-fill-color: #666;\n",
              "  }\n",
              "\n",
              "  .colab-df-quickchart {\n",
              "    background-color: var(--bg-color);\n",
              "    border: none;\n",
              "    border-radius: 50%;\n",
              "    cursor: pointer;\n",
              "    display: none;\n",
              "    fill: var(--fill-color);\n",
              "    height: 32px;\n",
              "    padding: 0;\n",
              "    width: 32px;\n",
              "  }\n",
              "\n",
              "  .colab-df-quickchart:hover {\n",
              "    background-color: var(--hover-bg-color);\n",
              "    box-shadow: 0 1px 2px rgba(60, 64, 67, 0.3), 0 1px 3px 1px rgba(60, 64, 67, 0.15);\n",
              "    fill: var(--button-hover-fill-color);\n",
              "  }\n",
              "\n",
              "  .colab-df-quickchart-complete:disabled,\n",
              "  .colab-df-quickchart-complete:disabled:hover {\n",
              "    background-color: var(--disabled-bg-color);\n",
              "    fill: var(--disabled-fill-color);\n",
              "    box-shadow: none;\n",
              "  }\n",
              "\n",
              "  .colab-df-spinner {\n",
              "    border: 2px solid var(--fill-color);\n",
              "    border-color: transparent;\n",
              "    border-bottom-color: var(--fill-color);\n",
              "    animation:\n",
              "      spin 1s steps(1) infinite;\n",
              "  }\n",
              "\n",
              "  @keyframes spin {\n",
              "    0% {\n",
              "      border-color: transparent;\n",
              "      border-bottom-color: var(--fill-color);\n",
              "      border-left-color: var(--fill-color);\n",
              "    }\n",
              "    20% {\n",
              "      border-color: transparent;\n",
              "      border-left-color: var(--fill-color);\n",
              "      border-top-color: var(--fill-color);\n",
              "    }\n",
              "    30% {\n",
              "      border-color: transparent;\n",
              "      border-left-color: var(--fill-color);\n",
              "      border-top-color: var(--fill-color);\n",
              "      border-right-color: var(--fill-color);\n",
              "    }\n",
              "    40% {\n",
              "      border-color: transparent;\n",
              "      border-right-color: var(--fill-color);\n",
              "      border-top-color: var(--fill-color);\n",
              "    }\n",
              "    60% {\n",
              "      border-color: transparent;\n",
              "      border-right-color: var(--fill-color);\n",
              "    }\n",
              "    80% {\n",
              "      border-color: transparent;\n",
              "      border-right-color: var(--fill-color);\n",
              "      border-bottom-color: var(--fill-color);\n",
              "    }\n",
              "    90% {\n",
              "      border-color: transparent;\n",
              "      border-bottom-color: var(--fill-color);\n",
              "    }\n",
              "  }\n",
              "</style>\n",
              "\n",
              "  <script>\n",
              "    async function quickchart(key) {\n",
              "      const quickchartButtonEl =\n",
              "        document.querySelector('#' + key + ' button');\n",
              "      quickchartButtonEl.disabled = true;  // To prevent multiple clicks.\n",
              "      quickchartButtonEl.classList.add('colab-df-spinner');\n",
              "      try {\n",
              "        const charts = await google.colab.kernel.invokeFunction(\n",
              "            'suggestCharts', [key], {});\n",
              "      } catch (error) {\n",
              "        console.error('Error during call to suggestCharts:', error);\n",
              "      }\n",
              "      quickchartButtonEl.classList.remove('colab-df-spinner');\n",
              "      quickchartButtonEl.classList.add('colab-df-quickchart-complete');\n",
              "    }\n",
              "    (() => {\n",
              "      let quickchartButtonEl =\n",
              "        document.querySelector('#df-3d249b95-7840-4830-a011-bde1d272081c button');\n",
              "      quickchartButtonEl.style.display =\n",
              "        google.colab.kernel.accessAllowed ? 'block' : 'none';\n",
              "    })();\n",
              "  </script>\n",
              "</div>\n",
              "\n",
              "    </div>\n",
              "  </div>\n"
            ],
            "application/vnd.google.colaboratory.intrinsic+json": {
              "type": "dataframe",
              "variable_name": "df"
            }
          },
          "metadata": {},
          "execution_count": 235
        }
      ],
      "source": [
        "# 여기에 답안코드를 작성하세요.\n",
        "df.head(5)"
      ]
    },
    {
      "cell_type": "code",
      "execution_count": null,
      "metadata": {
        "colab": {
          "base_uri": "https://localhost:8080/",
          "height": 255
        },
        "id": "gRqEvUEkSVS0",
        "outputId": "aedb6f22-ff58-4266-99fd-c82f9cdffb52"
      },
      "outputs": [
        {
          "output_type": "execute_result",
          "data": {
            "text/plain": [
              "     voc_trt_perd_itg_cd  voc_prod_sbt_id  voc_wjt_sorc_id  voc_type_itg_cd  \\\n",
              "9995                   _       1000811136             2123            10009   \n",
              "9996                   _       1001047799             2153            10009   \n",
              "9997                   _       1001027819              379            10009   \n",
              "9998                   _       1001027819              314            10009   \n",
              "9999                   _       1001047802             2266            10009   \n",
              "\n",
              "      voc_sttus_itg_cd voc_trt_reslt_itg_cd cust_clas_itg_cd  bprod_sbt_id  \\\n",
              "9995             10002                    _                G    1000809259   \n",
              "9996             10002                    _                I    1001046521   \n",
              "9997             10002                    _                G    1000720809   \n",
              "9998             10002                    _                I    1000720809   \n",
              "9999             10002                    _                G    1001046524   \n",
              "\n",
              "     age_itg_cd cont_sttus_itg_cd  ...  voc_dupl_tmscnt  \\\n",
              "9995         17             10001  ...                0   \n",
              "9996         35             10001  ...                0   \n",
              "9997         51             10001  ...                0   \n",
              "9998          _             10001  ...                0   \n",
              "9999         27             10001  ...                0   \n",
              "\n",
              "      oos_cause_type_itg_cd voc_trt_need_time_itg_cd  engt_cperd_type_itg_cd  \\\n",
              "9995                      _                    10001                       _   \n",
              "9996                      _                    10001                       _   \n",
              "9997                  10270                    10001                   15097   \n",
              "9998                      _                    10001                   15097   \n",
              "9999                      _                    10001                       _   \n",
              "\n",
              "      engt_tgt_div_itg_cd cont_fns_pam_date  voc_mis_pbls_yn fclt_oos_yn  \\\n",
              "9995                    _          99991231                N           _   \n",
              "9996                    _          99991231                N           _   \n",
              "9997                15244          20180903                N           N   \n",
              "9998                15244          20210412                N           _   \n",
              "9999                    _          99991231                N           _   \n",
              "\n",
              "     cust_snsry_base_conf_need_time  trm_yn  \n",
              "9995                              0       N  \n",
              "9996                              0       N  \n",
              "9997                              0       N  \n",
              "9998                              0       N  \n",
              "9999                              0       N  \n",
              "\n",
              "[5 rows x 24 columns]"
            ],
            "text/html": [
              "\n",
              "  <div id=\"df-8d743c66-f77d-48d5-b3d2-316435011673\" class=\"colab-df-container\">\n",
              "    <div>\n",
              "<style scoped>\n",
              "    .dataframe tbody tr th:only-of-type {\n",
              "        vertical-align: middle;\n",
              "    }\n",
              "\n",
              "    .dataframe tbody tr th {\n",
              "        vertical-align: top;\n",
              "    }\n",
              "\n",
              "    .dataframe thead th {\n",
              "        text-align: right;\n",
              "    }\n",
              "</style>\n",
              "<table border=\"1\" class=\"dataframe\">\n",
              "  <thead>\n",
              "    <tr style=\"text-align: right;\">\n",
              "      <th></th>\n",
              "      <th>voc_trt_perd_itg_cd</th>\n",
              "      <th>voc_prod_sbt_id</th>\n",
              "      <th>voc_wjt_sorc_id</th>\n",
              "      <th>voc_type_itg_cd</th>\n",
              "      <th>voc_sttus_itg_cd</th>\n",
              "      <th>voc_trt_reslt_itg_cd</th>\n",
              "      <th>cust_clas_itg_cd</th>\n",
              "      <th>bprod_sbt_id</th>\n",
              "      <th>age_itg_cd</th>\n",
              "      <th>cont_sttus_itg_cd</th>\n",
              "      <th>...</th>\n",
              "      <th>voc_dupl_tmscnt</th>\n",
              "      <th>oos_cause_type_itg_cd</th>\n",
              "      <th>voc_trt_need_time_itg_cd</th>\n",
              "      <th>engt_cperd_type_itg_cd</th>\n",
              "      <th>engt_tgt_div_itg_cd</th>\n",
              "      <th>cont_fns_pam_date</th>\n",
              "      <th>voc_mis_pbls_yn</th>\n",
              "      <th>fclt_oos_yn</th>\n",
              "      <th>cust_snsry_base_conf_need_time</th>\n",
              "      <th>trm_yn</th>\n",
              "    </tr>\n",
              "  </thead>\n",
              "  <tbody>\n",
              "    <tr>\n",
              "      <th>9995</th>\n",
              "      <td>_</td>\n",
              "      <td>1000811136</td>\n",
              "      <td>2123</td>\n",
              "      <td>10009</td>\n",
              "      <td>10002</td>\n",
              "      <td>_</td>\n",
              "      <td>G</td>\n",
              "      <td>1000809259</td>\n",
              "      <td>17</td>\n",
              "      <td>10001</td>\n",
              "      <td>...</td>\n",
              "      <td>0</td>\n",
              "      <td>_</td>\n",
              "      <td>10001</td>\n",
              "      <td>_</td>\n",
              "      <td>_</td>\n",
              "      <td>99991231</td>\n",
              "      <td>N</td>\n",
              "      <td>_</td>\n",
              "      <td>0</td>\n",
              "      <td>N</td>\n",
              "    </tr>\n",
              "    <tr>\n",
              "      <th>9996</th>\n",
              "      <td>_</td>\n",
              "      <td>1001047799</td>\n",
              "      <td>2153</td>\n",
              "      <td>10009</td>\n",
              "      <td>10002</td>\n",
              "      <td>_</td>\n",
              "      <td>I</td>\n",
              "      <td>1001046521</td>\n",
              "      <td>35</td>\n",
              "      <td>10001</td>\n",
              "      <td>...</td>\n",
              "      <td>0</td>\n",
              "      <td>_</td>\n",
              "      <td>10001</td>\n",
              "      <td>_</td>\n",
              "      <td>_</td>\n",
              "      <td>99991231</td>\n",
              "      <td>N</td>\n",
              "      <td>_</td>\n",
              "      <td>0</td>\n",
              "      <td>N</td>\n",
              "    </tr>\n",
              "    <tr>\n",
              "      <th>9997</th>\n",
              "      <td>_</td>\n",
              "      <td>1001027819</td>\n",
              "      <td>379</td>\n",
              "      <td>10009</td>\n",
              "      <td>10002</td>\n",
              "      <td>_</td>\n",
              "      <td>G</td>\n",
              "      <td>1000720809</td>\n",
              "      <td>51</td>\n",
              "      <td>10001</td>\n",
              "      <td>...</td>\n",
              "      <td>0</td>\n",
              "      <td>10270</td>\n",
              "      <td>10001</td>\n",
              "      <td>15097</td>\n",
              "      <td>15244</td>\n",
              "      <td>20180903</td>\n",
              "      <td>N</td>\n",
              "      <td>N</td>\n",
              "      <td>0</td>\n",
              "      <td>N</td>\n",
              "    </tr>\n",
              "    <tr>\n",
              "      <th>9998</th>\n",
              "      <td>_</td>\n",
              "      <td>1001027819</td>\n",
              "      <td>314</td>\n",
              "      <td>10009</td>\n",
              "      <td>10002</td>\n",
              "      <td>_</td>\n",
              "      <td>I</td>\n",
              "      <td>1000720809</td>\n",
              "      <td>_</td>\n",
              "      <td>10001</td>\n",
              "      <td>...</td>\n",
              "      <td>0</td>\n",
              "      <td>_</td>\n",
              "      <td>10001</td>\n",
              "      <td>15097</td>\n",
              "      <td>15244</td>\n",
              "      <td>20210412</td>\n",
              "      <td>N</td>\n",
              "      <td>_</td>\n",
              "      <td>0</td>\n",
              "      <td>N</td>\n",
              "    </tr>\n",
              "    <tr>\n",
              "      <th>9999</th>\n",
              "      <td>_</td>\n",
              "      <td>1001047802</td>\n",
              "      <td>2266</td>\n",
              "      <td>10009</td>\n",
              "      <td>10002</td>\n",
              "      <td>_</td>\n",
              "      <td>G</td>\n",
              "      <td>1001046524</td>\n",
              "      <td>27</td>\n",
              "      <td>10001</td>\n",
              "      <td>...</td>\n",
              "      <td>0</td>\n",
              "      <td>_</td>\n",
              "      <td>10001</td>\n",
              "      <td>_</td>\n",
              "      <td>_</td>\n",
              "      <td>99991231</td>\n",
              "      <td>N</td>\n",
              "      <td>_</td>\n",
              "      <td>0</td>\n",
              "      <td>N</td>\n",
              "    </tr>\n",
              "  </tbody>\n",
              "</table>\n",
              "<p>5 rows × 24 columns</p>\n",
              "</div>\n",
              "    <div class=\"colab-df-buttons\">\n",
              "\n",
              "  <div class=\"colab-df-container\">\n",
              "    <button class=\"colab-df-convert\" onclick=\"convertToInteractive('df-8d743c66-f77d-48d5-b3d2-316435011673')\"\n",
              "            title=\"Convert this dataframe to an interactive table.\"\n",
              "            style=\"display:none;\">\n",
              "\n",
              "  <svg xmlns=\"http://www.w3.org/2000/svg\" height=\"24px\" viewBox=\"0 -960 960 960\">\n",
              "    <path d=\"M120-120v-720h720v720H120Zm60-500h600v-160H180v160Zm220 220h160v-160H400v160Zm0 220h160v-160H400v160ZM180-400h160v-160H180v160Zm440 0h160v-160H620v160ZM180-180h160v-160H180v160Zm440 0h160v-160H620v160Z\"/>\n",
              "  </svg>\n",
              "    </button>\n",
              "\n",
              "  <style>\n",
              "    .colab-df-container {\n",
              "      display:flex;\n",
              "      gap: 12px;\n",
              "    }\n",
              "\n",
              "    .colab-df-convert {\n",
              "      background-color: #E8F0FE;\n",
              "      border: none;\n",
              "      border-radius: 50%;\n",
              "      cursor: pointer;\n",
              "      display: none;\n",
              "      fill: #1967D2;\n",
              "      height: 32px;\n",
              "      padding: 0 0 0 0;\n",
              "      width: 32px;\n",
              "    }\n",
              "\n",
              "    .colab-df-convert:hover {\n",
              "      background-color: #E2EBFA;\n",
              "      box-shadow: 0px 1px 2px rgba(60, 64, 67, 0.3), 0px 1px 3px 1px rgba(60, 64, 67, 0.15);\n",
              "      fill: #174EA6;\n",
              "    }\n",
              "\n",
              "    .colab-df-buttons div {\n",
              "      margin-bottom: 4px;\n",
              "    }\n",
              "\n",
              "    [theme=dark] .colab-df-convert {\n",
              "      background-color: #3B4455;\n",
              "      fill: #D2E3FC;\n",
              "    }\n",
              "\n",
              "    [theme=dark] .colab-df-convert:hover {\n",
              "      background-color: #434B5C;\n",
              "      box-shadow: 0px 1px 3px 1px rgba(0, 0, 0, 0.15);\n",
              "      filter: drop-shadow(0px 1px 2px rgba(0, 0, 0, 0.3));\n",
              "      fill: #FFFFFF;\n",
              "    }\n",
              "  </style>\n",
              "\n",
              "    <script>\n",
              "      const buttonEl =\n",
              "        document.querySelector('#df-8d743c66-f77d-48d5-b3d2-316435011673 button.colab-df-convert');\n",
              "      buttonEl.style.display =\n",
              "        google.colab.kernel.accessAllowed ? 'block' : 'none';\n",
              "\n",
              "      async function convertToInteractive(key) {\n",
              "        const element = document.querySelector('#df-8d743c66-f77d-48d5-b3d2-316435011673');\n",
              "        const dataTable =\n",
              "          await google.colab.kernel.invokeFunction('convertToInteractive',\n",
              "                                                    [key], {});\n",
              "        if (!dataTable) return;\n",
              "\n",
              "        const docLinkHtml = 'Like what you see? Visit the ' +\n",
              "          '<a target=\"_blank\" href=https://colab.research.google.com/notebooks/data_table.ipynb>data table notebook</a>'\n",
              "          + ' to learn more about interactive tables.';\n",
              "        element.innerHTML = '';\n",
              "        dataTable['output_type'] = 'display_data';\n",
              "        await google.colab.output.renderOutput(dataTable, element);\n",
              "        const docLink = document.createElement('div');\n",
              "        docLink.innerHTML = docLinkHtml;\n",
              "        element.appendChild(docLink);\n",
              "      }\n",
              "    </script>\n",
              "  </div>\n",
              "\n",
              "\n",
              "<div id=\"df-9847de4c-377d-43ba-aceb-05fcc4c7db0f\">\n",
              "  <button class=\"colab-df-quickchart\" onclick=\"quickchart('df-9847de4c-377d-43ba-aceb-05fcc4c7db0f')\"\n",
              "            title=\"Suggest charts\"\n",
              "            style=\"display:none;\">\n",
              "\n",
              "<svg xmlns=\"http://www.w3.org/2000/svg\" height=\"24px\"viewBox=\"0 0 24 24\"\n",
              "     width=\"24px\">\n",
              "    <g>\n",
              "        <path d=\"M19 3H5c-1.1 0-2 .9-2 2v14c0 1.1.9 2 2 2h14c1.1 0 2-.9 2-2V5c0-1.1-.9-2-2-2zM9 17H7v-7h2v7zm4 0h-2V7h2v10zm4 0h-2v-4h2v4z\"/>\n",
              "    </g>\n",
              "</svg>\n",
              "  </button>\n",
              "\n",
              "<style>\n",
              "  .colab-df-quickchart {\n",
              "      --bg-color: #E8F0FE;\n",
              "      --fill-color: #1967D2;\n",
              "      --hover-bg-color: #E2EBFA;\n",
              "      --hover-fill-color: #174EA6;\n",
              "      --disabled-fill-color: #AAA;\n",
              "      --disabled-bg-color: #DDD;\n",
              "  }\n",
              "\n",
              "  [theme=dark] .colab-df-quickchart {\n",
              "      --bg-color: #3B4455;\n",
              "      --fill-color: #D2E3FC;\n",
              "      --hover-bg-color: #434B5C;\n",
              "      --hover-fill-color: #FFFFFF;\n",
              "      --disabled-bg-color: #3B4455;\n",
              "      --disabled-fill-color: #666;\n",
              "  }\n",
              "\n",
              "  .colab-df-quickchart {\n",
              "    background-color: var(--bg-color);\n",
              "    border: none;\n",
              "    border-radius: 50%;\n",
              "    cursor: pointer;\n",
              "    display: none;\n",
              "    fill: var(--fill-color);\n",
              "    height: 32px;\n",
              "    padding: 0;\n",
              "    width: 32px;\n",
              "  }\n",
              "\n",
              "  .colab-df-quickchart:hover {\n",
              "    background-color: var(--hover-bg-color);\n",
              "    box-shadow: 0 1px 2px rgba(60, 64, 67, 0.3), 0 1px 3px 1px rgba(60, 64, 67, 0.15);\n",
              "    fill: var(--button-hover-fill-color);\n",
              "  }\n",
              "\n",
              "  .colab-df-quickchart-complete:disabled,\n",
              "  .colab-df-quickchart-complete:disabled:hover {\n",
              "    background-color: var(--disabled-bg-color);\n",
              "    fill: var(--disabled-fill-color);\n",
              "    box-shadow: none;\n",
              "  }\n",
              "\n",
              "  .colab-df-spinner {\n",
              "    border: 2px solid var(--fill-color);\n",
              "    border-color: transparent;\n",
              "    border-bottom-color: var(--fill-color);\n",
              "    animation:\n",
              "      spin 1s steps(1) infinite;\n",
              "  }\n",
              "\n",
              "  @keyframes spin {\n",
              "    0% {\n",
              "      border-color: transparent;\n",
              "      border-bottom-color: var(--fill-color);\n",
              "      border-left-color: var(--fill-color);\n",
              "    }\n",
              "    20% {\n",
              "      border-color: transparent;\n",
              "      border-left-color: var(--fill-color);\n",
              "      border-top-color: var(--fill-color);\n",
              "    }\n",
              "    30% {\n",
              "      border-color: transparent;\n",
              "      border-left-color: var(--fill-color);\n",
              "      border-top-color: var(--fill-color);\n",
              "      border-right-color: var(--fill-color);\n",
              "    }\n",
              "    40% {\n",
              "      border-color: transparent;\n",
              "      border-right-color: var(--fill-color);\n",
              "      border-top-color: var(--fill-color);\n",
              "    }\n",
              "    60% {\n",
              "      border-color: transparent;\n",
              "      border-right-color: var(--fill-color);\n",
              "    }\n",
              "    80% {\n",
              "      border-color: transparent;\n",
              "      border-right-color: var(--fill-color);\n",
              "      border-bottom-color: var(--fill-color);\n",
              "    }\n",
              "    90% {\n",
              "      border-color: transparent;\n",
              "      border-bottom-color: var(--fill-color);\n",
              "    }\n",
              "  }\n",
              "</style>\n",
              "\n",
              "  <script>\n",
              "    async function quickchart(key) {\n",
              "      const quickchartButtonEl =\n",
              "        document.querySelector('#' + key + ' button');\n",
              "      quickchartButtonEl.disabled = true;  // To prevent multiple clicks.\n",
              "      quickchartButtonEl.classList.add('colab-df-spinner');\n",
              "      try {\n",
              "        const charts = await google.colab.kernel.invokeFunction(\n",
              "            'suggestCharts', [key], {});\n",
              "      } catch (error) {\n",
              "        console.error('Error during call to suggestCharts:', error);\n",
              "      }\n",
              "      quickchartButtonEl.classList.remove('colab-df-spinner');\n",
              "      quickchartButtonEl.classList.add('colab-df-quickchart-complete');\n",
              "    }\n",
              "    (() => {\n",
              "      let quickchartButtonEl =\n",
              "        document.querySelector('#df-9847de4c-377d-43ba-aceb-05fcc4c7db0f button');\n",
              "      quickchartButtonEl.style.display =\n",
              "        google.colab.kernel.accessAllowed ? 'block' : 'none';\n",
              "    })();\n",
              "  </script>\n",
              "</div>\n",
              "\n",
              "    </div>\n",
              "  </div>\n"
            ],
            "application/vnd.google.colaboratory.intrinsic+json": {
              "type": "dataframe"
            }
          },
          "metadata": {},
          "execution_count": 236
        }
      ],
      "source": [
        "# 여기에 답안코드를 작성하세요.\n",
        "df.tail(5)"
      ]
    },
    {
      "cell_type": "markdown",
      "metadata": {
        "id": "XgvgWRTcSVS0"
      },
      "source": [
        "<br>\n",
        "<font color=blue>3-2. 데이터프레임 정보(컬럼정보, Null 여부, 타입) 출력하세요</font>"
      ]
    },
    {
      "cell_type": "code",
      "execution_count": null,
      "metadata": {
        "colab": {
          "base_uri": "https://localhost:8080/"
        },
        "id": "trGXSSrESVS0",
        "outputId": "795bb92a-3f81-4c21-977b-3fb5033a6f02"
      },
      "outputs": [
        {
          "output_type": "stream",
          "name": "stdout",
          "text": [
            "<class 'pandas.core.frame.DataFrame'>\n",
            "RangeIndex: 10000 entries, 0 to 9999\n",
            "Data columns (total 24 columns):\n",
            " #   Column                          Non-Null Count  Dtype \n",
            "---  ------                          --------------  ----- \n",
            " 0   voc_trt_perd_itg_cd             10000 non-null  object\n",
            " 1   voc_prod_sbt_id                 10000 non-null  int64 \n",
            " 2   voc_wjt_sorc_id                 10000 non-null  int64 \n",
            " 3   voc_type_itg_cd                 10000 non-null  int64 \n",
            " 4   voc_sttus_itg_cd                10000 non-null  int64 \n",
            " 5   voc_trt_reslt_itg_cd            10000 non-null  object\n",
            " 6   cust_clas_itg_cd                10000 non-null  object\n",
            " 7   bprod_sbt_id                    10000 non-null  int64 \n",
            " 8   age_itg_cd                      10000 non-null  object\n",
            " 9   cont_sttus_itg_cd               10000 non-null  object\n",
            " 10  new_date                        10000 non-null  int64 \n",
            " 11  opn_nfl_chg_date                10000 non-null  int64 \n",
            " 12  cust_dtl_ctg_itg_cd             10000 non-null  object\n",
            " 13  voc_trt_degr_div_itg_cd         10000 non-null  int64 \n",
            " 14  voc_dupl_tmscnt                 10000 non-null  int64 \n",
            " 15  oos_cause_type_itg_cd           10000 non-null  object\n",
            " 16  voc_trt_need_time_itg_cd        10000 non-null  int64 \n",
            " 17  engt_cperd_type_itg_cd          10000 non-null  object\n",
            " 18  engt_tgt_div_itg_cd             10000 non-null  object\n",
            " 19  cont_fns_pam_date               10000 non-null  int64 \n",
            " 20  voc_mis_pbls_yn                 10000 non-null  object\n",
            " 21  fclt_oos_yn                     10000 non-null  object\n",
            " 22  cust_snsry_base_conf_need_time  10000 non-null  int64 \n",
            " 23  trm_yn                          10000 non-null  object\n",
            "dtypes: int64(12), object(12)\n",
            "memory usage: 1.8+ MB\n"
          ]
        }
      ],
      "source": [
        "# 여기에 답안코드를 작성하세요.\n",
        "df.info()"
      ]
    },
    {
      "cell_type": "markdown",
      "metadata": {
        "id": "gTQrDYlCSVS1"
      },
      "source": [
        "<br>\n",
        "<font color=blue>3-3. 데이터프레임 인덱스를 확인하세요</font>"
      ]
    },
    {
      "cell_type": "code",
      "execution_count": null,
      "metadata": {
        "colab": {
          "base_uri": "https://localhost:8080/"
        },
        "id": "orJEizXVSVS1",
        "outputId": "7a0144a3-07a5-4213-ccd8-e69a5517fc6e"
      },
      "outputs": [
        {
          "output_type": "execute_result",
          "data": {
            "text/plain": [
              "RangeIndex(start=0, stop=10000, step=1)"
            ]
          },
          "metadata": {},
          "execution_count": 238
        }
      ],
      "source": [
        "# 여기에 답안코드를 작성하세요.\n",
        "df.index"
      ]
    },
    {
      "cell_type": "markdown",
      "metadata": {
        "id": "fjYZ0FlySVS1"
      },
      "source": [
        "<br>\n",
        "<font color=blue>3-4. 데이터프레임 컬럼을 확인하세요</font>"
      ]
    },
    {
      "cell_type": "code",
      "execution_count": null,
      "metadata": {
        "colab": {
          "base_uri": "https://localhost:8080/"
        },
        "id": "qjHD9xISSVS1",
        "outputId": "8ab11bdc-0ae8-4a12-caf7-986a7c242964"
      },
      "outputs": [
        {
          "output_type": "execute_result",
          "data": {
            "text/plain": [
              "Index(['voc_trt_perd_itg_cd', 'voc_prod_sbt_id', 'voc_wjt_sorc_id',\n",
              "       'voc_type_itg_cd', 'voc_sttus_itg_cd', 'voc_trt_reslt_itg_cd',\n",
              "       'cust_clas_itg_cd', 'bprod_sbt_id', 'age_itg_cd', 'cont_sttus_itg_cd',\n",
              "       'new_date', 'opn_nfl_chg_date', 'cust_dtl_ctg_itg_cd',\n",
              "       'voc_trt_degr_div_itg_cd', 'voc_dupl_tmscnt', 'oos_cause_type_itg_cd',\n",
              "       'voc_trt_need_time_itg_cd', 'engt_cperd_type_itg_cd',\n",
              "       'engt_tgt_div_itg_cd', 'cont_fns_pam_date', 'voc_mis_pbls_yn',\n",
              "       'fclt_oos_yn', 'cust_snsry_base_conf_need_time', 'trm_yn'],\n",
              "      dtype='object')"
            ]
          },
          "metadata": {},
          "execution_count": 239
        }
      ],
      "source": [
        "# 여기에 답안코드를 작성하세요.\n",
        "df.columns"
      ]
    },
    {
      "cell_type": "markdown",
      "metadata": {
        "id": "VzPqE908SVS1"
      },
      "source": [
        "<br>\n",
        "<font color=blue>3-5. 데이터프레임 값(value)을 확인하세요</font>"
      ]
    },
    {
      "cell_type": "code",
      "execution_count": null,
      "metadata": {
        "colab": {
          "base_uri": "https://localhost:8080/"
        },
        "id": "WHNMAtHzSVS1",
        "outputId": "05615363-69bd-4a70-de07-253d53ed4349"
      },
      "outputs": [
        {
          "output_type": "execute_result",
          "data": {
            "text/plain": [
              "array([['_', 1000665328, 2153, ..., '_', 0, 'N'],\n",
              "       ['_', 1001028714, 3311, ..., '_', 0, 'N'],\n",
              "       ['_', 1001028567, 1575, ..., 'N', 0, 'N'],\n",
              "       ...,\n",
              "       ['_', 1001027819, 379, ..., 'N', 0, 'N'],\n",
              "       ['_', 1001027819, 314, ..., '_', 0, 'N'],\n",
              "       ['_', 1001047802, 2266, ..., '_', 0, 'N']], dtype=object)"
            ]
          },
          "metadata": {},
          "execution_count": 240
        }
      ],
      "source": [
        "# 여기에 답안코드를 작성하세요.\n",
        "df.values"
      ]
    },
    {
      "cell_type": "markdown",
      "metadata": {
        "id": "1xK6wJxXSVS1"
      },
      "source": [
        "<br>\n",
        "<font color=blue>3-6. 데이터프레임의 계산 가능한 값들에 대한 통계치를 확인하세요</font>"
      ]
    },
    {
      "cell_type": "code",
      "execution_count": null,
      "metadata": {
        "colab": {
          "base_uri": "https://localhost:8080/",
          "height": 320
        },
        "id": "patphBR0SVS1",
        "outputId": "510572a3-f546-438a-d6f5-986b23960677"
      },
      "outputs": [
        {
          "output_type": "execute_result",
          "data": {
            "text/plain": [
              "       voc_prod_sbt_id  voc_wjt_sorc_id  voc_type_itg_cd  voc_sttus_itg_cd  \\\n",
              "count     1.000000e+04      10000.00000      10000.00000      10000.000000   \n",
              "mean      9.907267e+08       1578.29170      10008.52360      10002.043400   \n",
              "std       1.005780e+08       1078.63717          1.57927          0.314843   \n",
              "min      -9.980000e+02        126.00000      10003.00000      10002.000000   \n",
              "25%       1.000782e+09        360.00000      10009.00000      10002.000000   \n",
              "50%       1.001028e+09       2056.00000      10009.00000      10002.000000   \n",
              "75%       1.001036e+09       2153.00000      10009.00000      10002.000000   \n",
              "max       1.001079e+09       3856.00000      10017.00000      10005.000000   \n",
              "\n",
              "       bprod_sbt_id      new_date  opn_nfl_chg_date  voc_trt_degr_div_itg_cd  \\\n",
              "count  1.000000e+04  1.000000e+04      1.000000e+04             10000.000000   \n",
              "mean   8.838173e+08  1.744283e+07      1.744505e+07             20001.074200   \n",
              "std    3.214229e+08  6.849207e+06      6.850077e+06                 0.262109   \n",
              "min   -9.980000e+02  1.010100e+04      1.010100e+04             20001.000000   \n",
              "25%    1.000003e+09  2.008053e+07      2.008123e+07             20001.000000   \n",
              "50%    1.000749e+09  2.014121e+07      2.015031e+07             20001.000000   \n",
              "75%    1.001044e+09  2.018010e+07      2.018032e+07             20001.000000   \n",
              "max    1.001078e+09  2.020041e+07      2.020041e+07             20002.000000   \n",
              "\n",
              "       voc_dupl_tmscnt  voc_trt_need_time_itg_cd  cont_fns_pam_date  \\\n",
              "count     10000.000000              10000.000000       1.000000e+04   \n",
              "mean          0.008800              10002.656800       7.004469e+07   \n",
              "std           0.103555                  6.576864       3.863802e+07   \n",
              "min           0.000000              10001.000000       2.001063e+07   \n",
              "25%           0.000000              10001.000000       2.021102e+07   \n",
              "50%           0.000000              10001.000000       9.999123e+07   \n",
              "75%           0.000000              10001.000000       9.999123e+07   \n",
              "max           3.000000              10038.000000       9.999123e+07   \n",
              "\n",
              "       cust_snsry_base_conf_need_time  \n",
              "count                     10000.00000  \n",
              "mean                        193.88010  \n",
              "std                        6970.03853  \n",
              "min                           0.00000  \n",
              "25%                           0.00000  \n",
              "50%                           0.00000  \n",
              "75%                           0.00000  \n",
              "max                      367991.00000  "
            ],
            "text/html": [
              "\n",
              "  <div id=\"df-52cde118-27b7-4af5-8e37-f7014110b6d7\" class=\"colab-df-container\">\n",
              "    <div>\n",
              "<style scoped>\n",
              "    .dataframe tbody tr th:only-of-type {\n",
              "        vertical-align: middle;\n",
              "    }\n",
              "\n",
              "    .dataframe tbody tr th {\n",
              "        vertical-align: top;\n",
              "    }\n",
              "\n",
              "    .dataframe thead th {\n",
              "        text-align: right;\n",
              "    }\n",
              "</style>\n",
              "<table border=\"1\" class=\"dataframe\">\n",
              "  <thead>\n",
              "    <tr style=\"text-align: right;\">\n",
              "      <th></th>\n",
              "      <th>voc_prod_sbt_id</th>\n",
              "      <th>voc_wjt_sorc_id</th>\n",
              "      <th>voc_type_itg_cd</th>\n",
              "      <th>voc_sttus_itg_cd</th>\n",
              "      <th>bprod_sbt_id</th>\n",
              "      <th>new_date</th>\n",
              "      <th>opn_nfl_chg_date</th>\n",
              "      <th>voc_trt_degr_div_itg_cd</th>\n",
              "      <th>voc_dupl_tmscnt</th>\n",
              "      <th>voc_trt_need_time_itg_cd</th>\n",
              "      <th>cont_fns_pam_date</th>\n",
              "      <th>cust_snsry_base_conf_need_time</th>\n",
              "    </tr>\n",
              "  </thead>\n",
              "  <tbody>\n",
              "    <tr>\n",
              "      <th>count</th>\n",
              "      <td>1.000000e+04</td>\n",
              "      <td>10000.00000</td>\n",
              "      <td>10000.00000</td>\n",
              "      <td>10000.000000</td>\n",
              "      <td>1.000000e+04</td>\n",
              "      <td>1.000000e+04</td>\n",
              "      <td>1.000000e+04</td>\n",
              "      <td>10000.000000</td>\n",
              "      <td>10000.000000</td>\n",
              "      <td>10000.000000</td>\n",
              "      <td>1.000000e+04</td>\n",
              "      <td>10000.00000</td>\n",
              "    </tr>\n",
              "    <tr>\n",
              "      <th>mean</th>\n",
              "      <td>9.907267e+08</td>\n",
              "      <td>1578.29170</td>\n",
              "      <td>10008.52360</td>\n",
              "      <td>10002.043400</td>\n",
              "      <td>8.838173e+08</td>\n",
              "      <td>1.744283e+07</td>\n",
              "      <td>1.744505e+07</td>\n",
              "      <td>20001.074200</td>\n",
              "      <td>0.008800</td>\n",
              "      <td>10002.656800</td>\n",
              "      <td>7.004469e+07</td>\n",
              "      <td>193.88010</td>\n",
              "    </tr>\n",
              "    <tr>\n",
              "      <th>std</th>\n",
              "      <td>1.005780e+08</td>\n",
              "      <td>1078.63717</td>\n",
              "      <td>1.57927</td>\n",
              "      <td>0.314843</td>\n",
              "      <td>3.214229e+08</td>\n",
              "      <td>6.849207e+06</td>\n",
              "      <td>6.850077e+06</td>\n",
              "      <td>0.262109</td>\n",
              "      <td>0.103555</td>\n",
              "      <td>6.576864</td>\n",
              "      <td>3.863802e+07</td>\n",
              "      <td>6970.03853</td>\n",
              "    </tr>\n",
              "    <tr>\n",
              "      <th>min</th>\n",
              "      <td>-9.980000e+02</td>\n",
              "      <td>126.00000</td>\n",
              "      <td>10003.00000</td>\n",
              "      <td>10002.000000</td>\n",
              "      <td>-9.980000e+02</td>\n",
              "      <td>1.010100e+04</td>\n",
              "      <td>1.010100e+04</td>\n",
              "      <td>20001.000000</td>\n",
              "      <td>0.000000</td>\n",
              "      <td>10001.000000</td>\n",
              "      <td>2.001063e+07</td>\n",
              "      <td>0.00000</td>\n",
              "    </tr>\n",
              "    <tr>\n",
              "      <th>25%</th>\n",
              "      <td>1.000782e+09</td>\n",
              "      <td>360.00000</td>\n",
              "      <td>10009.00000</td>\n",
              "      <td>10002.000000</td>\n",
              "      <td>1.000003e+09</td>\n",
              "      <td>2.008053e+07</td>\n",
              "      <td>2.008123e+07</td>\n",
              "      <td>20001.000000</td>\n",
              "      <td>0.000000</td>\n",
              "      <td>10001.000000</td>\n",
              "      <td>2.021102e+07</td>\n",
              "      <td>0.00000</td>\n",
              "    </tr>\n",
              "    <tr>\n",
              "      <th>50%</th>\n",
              "      <td>1.001028e+09</td>\n",
              "      <td>2056.00000</td>\n",
              "      <td>10009.00000</td>\n",
              "      <td>10002.000000</td>\n",
              "      <td>1.000749e+09</td>\n",
              "      <td>2.014121e+07</td>\n",
              "      <td>2.015031e+07</td>\n",
              "      <td>20001.000000</td>\n",
              "      <td>0.000000</td>\n",
              "      <td>10001.000000</td>\n",
              "      <td>9.999123e+07</td>\n",
              "      <td>0.00000</td>\n",
              "    </tr>\n",
              "    <tr>\n",
              "      <th>75%</th>\n",
              "      <td>1.001036e+09</td>\n",
              "      <td>2153.00000</td>\n",
              "      <td>10009.00000</td>\n",
              "      <td>10002.000000</td>\n",
              "      <td>1.001044e+09</td>\n",
              "      <td>2.018010e+07</td>\n",
              "      <td>2.018032e+07</td>\n",
              "      <td>20001.000000</td>\n",
              "      <td>0.000000</td>\n",
              "      <td>10001.000000</td>\n",
              "      <td>9.999123e+07</td>\n",
              "      <td>0.00000</td>\n",
              "    </tr>\n",
              "    <tr>\n",
              "      <th>max</th>\n",
              "      <td>1.001079e+09</td>\n",
              "      <td>3856.00000</td>\n",
              "      <td>10017.00000</td>\n",
              "      <td>10005.000000</td>\n",
              "      <td>1.001078e+09</td>\n",
              "      <td>2.020041e+07</td>\n",
              "      <td>2.020041e+07</td>\n",
              "      <td>20002.000000</td>\n",
              "      <td>3.000000</td>\n",
              "      <td>10038.000000</td>\n",
              "      <td>9.999123e+07</td>\n",
              "      <td>367991.00000</td>\n",
              "    </tr>\n",
              "  </tbody>\n",
              "</table>\n",
              "</div>\n",
              "    <div class=\"colab-df-buttons\">\n",
              "\n",
              "  <div class=\"colab-df-container\">\n",
              "    <button class=\"colab-df-convert\" onclick=\"convertToInteractive('df-52cde118-27b7-4af5-8e37-f7014110b6d7')\"\n",
              "            title=\"Convert this dataframe to an interactive table.\"\n",
              "            style=\"display:none;\">\n",
              "\n",
              "  <svg xmlns=\"http://www.w3.org/2000/svg\" height=\"24px\" viewBox=\"0 -960 960 960\">\n",
              "    <path d=\"M120-120v-720h720v720H120Zm60-500h600v-160H180v160Zm220 220h160v-160H400v160Zm0 220h160v-160H400v160ZM180-400h160v-160H180v160Zm440 0h160v-160H620v160ZM180-180h160v-160H180v160Zm440 0h160v-160H620v160Z\"/>\n",
              "  </svg>\n",
              "    </button>\n",
              "\n",
              "  <style>\n",
              "    .colab-df-container {\n",
              "      display:flex;\n",
              "      gap: 12px;\n",
              "    }\n",
              "\n",
              "    .colab-df-convert {\n",
              "      background-color: #E8F0FE;\n",
              "      border: none;\n",
              "      border-radius: 50%;\n",
              "      cursor: pointer;\n",
              "      display: none;\n",
              "      fill: #1967D2;\n",
              "      height: 32px;\n",
              "      padding: 0 0 0 0;\n",
              "      width: 32px;\n",
              "    }\n",
              "\n",
              "    .colab-df-convert:hover {\n",
              "      background-color: #E2EBFA;\n",
              "      box-shadow: 0px 1px 2px rgba(60, 64, 67, 0.3), 0px 1px 3px 1px rgba(60, 64, 67, 0.15);\n",
              "      fill: #174EA6;\n",
              "    }\n",
              "\n",
              "    .colab-df-buttons div {\n",
              "      margin-bottom: 4px;\n",
              "    }\n",
              "\n",
              "    [theme=dark] .colab-df-convert {\n",
              "      background-color: #3B4455;\n",
              "      fill: #D2E3FC;\n",
              "    }\n",
              "\n",
              "    [theme=dark] .colab-df-convert:hover {\n",
              "      background-color: #434B5C;\n",
              "      box-shadow: 0px 1px 3px 1px rgba(0, 0, 0, 0.15);\n",
              "      filter: drop-shadow(0px 1px 2px rgba(0, 0, 0, 0.3));\n",
              "      fill: #FFFFFF;\n",
              "    }\n",
              "  </style>\n",
              "\n",
              "    <script>\n",
              "      const buttonEl =\n",
              "        document.querySelector('#df-52cde118-27b7-4af5-8e37-f7014110b6d7 button.colab-df-convert');\n",
              "      buttonEl.style.display =\n",
              "        google.colab.kernel.accessAllowed ? 'block' : 'none';\n",
              "\n",
              "      async function convertToInteractive(key) {\n",
              "        const element = document.querySelector('#df-52cde118-27b7-4af5-8e37-f7014110b6d7');\n",
              "        const dataTable =\n",
              "          await google.colab.kernel.invokeFunction('convertToInteractive',\n",
              "                                                    [key], {});\n",
              "        if (!dataTable) return;\n",
              "\n",
              "        const docLinkHtml = 'Like what you see? Visit the ' +\n",
              "          '<a target=\"_blank\" href=https://colab.research.google.com/notebooks/data_table.ipynb>data table notebook</a>'\n",
              "          + ' to learn more about interactive tables.';\n",
              "        element.innerHTML = '';\n",
              "        dataTable['output_type'] = 'display_data';\n",
              "        await google.colab.output.renderOutput(dataTable, element);\n",
              "        const docLink = document.createElement('div');\n",
              "        docLink.innerHTML = docLinkHtml;\n",
              "        element.appendChild(docLink);\n",
              "      }\n",
              "    </script>\n",
              "  </div>\n",
              "\n",
              "\n",
              "<div id=\"df-212331b8-0096-456c-9d52-117def150800\">\n",
              "  <button class=\"colab-df-quickchart\" onclick=\"quickchart('df-212331b8-0096-456c-9d52-117def150800')\"\n",
              "            title=\"Suggest charts\"\n",
              "            style=\"display:none;\">\n",
              "\n",
              "<svg xmlns=\"http://www.w3.org/2000/svg\" height=\"24px\"viewBox=\"0 0 24 24\"\n",
              "     width=\"24px\">\n",
              "    <g>\n",
              "        <path d=\"M19 3H5c-1.1 0-2 .9-2 2v14c0 1.1.9 2 2 2h14c1.1 0 2-.9 2-2V5c0-1.1-.9-2-2-2zM9 17H7v-7h2v7zm4 0h-2V7h2v10zm4 0h-2v-4h2v4z\"/>\n",
              "    </g>\n",
              "</svg>\n",
              "  </button>\n",
              "\n",
              "<style>\n",
              "  .colab-df-quickchart {\n",
              "      --bg-color: #E8F0FE;\n",
              "      --fill-color: #1967D2;\n",
              "      --hover-bg-color: #E2EBFA;\n",
              "      --hover-fill-color: #174EA6;\n",
              "      --disabled-fill-color: #AAA;\n",
              "      --disabled-bg-color: #DDD;\n",
              "  }\n",
              "\n",
              "  [theme=dark] .colab-df-quickchart {\n",
              "      --bg-color: #3B4455;\n",
              "      --fill-color: #D2E3FC;\n",
              "      --hover-bg-color: #434B5C;\n",
              "      --hover-fill-color: #FFFFFF;\n",
              "      --disabled-bg-color: #3B4455;\n",
              "      --disabled-fill-color: #666;\n",
              "  }\n",
              "\n",
              "  .colab-df-quickchart {\n",
              "    background-color: var(--bg-color);\n",
              "    border: none;\n",
              "    border-radius: 50%;\n",
              "    cursor: pointer;\n",
              "    display: none;\n",
              "    fill: var(--fill-color);\n",
              "    height: 32px;\n",
              "    padding: 0;\n",
              "    width: 32px;\n",
              "  }\n",
              "\n",
              "  .colab-df-quickchart:hover {\n",
              "    background-color: var(--hover-bg-color);\n",
              "    box-shadow: 0 1px 2px rgba(60, 64, 67, 0.3), 0 1px 3px 1px rgba(60, 64, 67, 0.15);\n",
              "    fill: var(--button-hover-fill-color);\n",
              "  }\n",
              "\n",
              "  .colab-df-quickchart-complete:disabled,\n",
              "  .colab-df-quickchart-complete:disabled:hover {\n",
              "    background-color: var(--disabled-bg-color);\n",
              "    fill: var(--disabled-fill-color);\n",
              "    box-shadow: none;\n",
              "  }\n",
              "\n",
              "  .colab-df-spinner {\n",
              "    border: 2px solid var(--fill-color);\n",
              "    border-color: transparent;\n",
              "    border-bottom-color: var(--fill-color);\n",
              "    animation:\n",
              "      spin 1s steps(1) infinite;\n",
              "  }\n",
              "\n",
              "  @keyframes spin {\n",
              "    0% {\n",
              "      border-color: transparent;\n",
              "      border-bottom-color: var(--fill-color);\n",
              "      border-left-color: var(--fill-color);\n",
              "    }\n",
              "    20% {\n",
              "      border-color: transparent;\n",
              "      border-left-color: var(--fill-color);\n",
              "      border-top-color: var(--fill-color);\n",
              "    }\n",
              "    30% {\n",
              "      border-color: transparent;\n",
              "      border-left-color: var(--fill-color);\n",
              "      border-top-color: var(--fill-color);\n",
              "      border-right-color: var(--fill-color);\n",
              "    }\n",
              "    40% {\n",
              "      border-color: transparent;\n",
              "      border-right-color: var(--fill-color);\n",
              "      border-top-color: var(--fill-color);\n",
              "    }\n",
              "    60% {\n",
              "      border-color: transparent;\n",
              "      border-right-color: var(--fill-color);\n",
              "    }\n",
              "    80% {\n",
              "      border-color: transparent;\n",
              "      border-right-color: var(--fill-color);\n",
              "      border-bottom-color: var(--fill-color);\n",
              "    }\n",
              "    90% {\n",
              "      border-color: transparent;\n",
              "      border-bottom-color: var(--fill-color);\n",
              "    }\n",
              "  }\n",
              "</style>\n",
              "\n",
              "  <script>\n",
              "    async function quickchart(key) {\n",
              "      const quickchartButtonEl =\n",
              "        document.querySelector('#' + key + ' button');\n",
              "      quickchartButtonEl.disabled = true;  // To prevent multiple clicks.\n",
              "      quickchartButtonEl.classList.add('colab-df-spinner');\n",
              "      try {\n",
              "        const charts = await google.colab.kernel.invokeFunction(\n",
              "            'suggestCharts', [key], {});\n",
              "      } catch (error) {\n",
              "        console.error('Error during call to suggestCharts:', error);\n",
              "      }\n",
              "      quickchartButtonEl.classList.remove('colab-df-spinner');\n",
              "      quickchartButtonEl.classList.add('colab-df-quickchart-complete');\n",
              "    }\n",
              "    (() => {\n",
              "      let quickchartButtonEl =\n",
              "        document.querySelector('#df-212331b8-0096-456c-9d52-117def150800 button');\n",
              "      quickchartButtonEl.style.display =\n",
              "        google.colab.kernel.accessAllowed ? 'block' : 'none';\n",
              "    })();\n",
              "  </script>\n",
              "</div>\n",
              "\n",
              "    </div>\n",
              "  </div>\n"
            ],
            "application/vnd.google.colaboratory.intrinsic+json": {
              "type": "dataframe",
              "summary": "{\n  \"name\": \"df\",\n  \"rows\": 8,\n  \"fields\": [\n    {\n      \"column\": \"voc_prod_sbt_id\",\n      \"properties\": {\n        \"dtype\": \"number\",\n        \"std\": 500617737.4024175,\n        \"min\": -998.0,\n        \"max\": 1001079425.0,\n        \"num_unique_values\": 8,\n        \"samples\": [\n          990726671.5935,\n          1001027747.0,\n          10000.0\n        ],\n        \"semantic_type\": \"\",\n        \"description\": \"\"\n      }\n    },\n    {\n      \"column\": \"voc_wjt_sorc_id\",\n      \"properties\": {\n        \"dtype\": \"number\",\n        \"std\": 3191.712235624527,\n        \"min\": 126.0,\n        \"max\": 10000.0,\n        \"num_unique_values\": 8,\n        \"samples\": [\n          1578.2917,\n          2056.0,\n          10000.0\n        ],\n        \"semantic_type\": \"\",\n        \"description\": \"\"\n      }\n    },\n    {\n      \"column\": \"voc_type_itg_cd\",\n      \"properties\": {\n        \"dtype\": \"number\",\n        \"std\": 3537.7834128922154,\n        \"min\": 1.5792695935922163,\n        \"max\": 10017.0,\n        \"num_unique_values\": 6,\n        \"samples\": [\n          10000.0,\n          10008.5236,\n          10017.0\n        ],\n        \"semantic_type\": \"\",\n        \"description\": \"\"\n      }\n    },\n    {\n      \"column\": \"voc_sttus_itg_cd\",\n      \"properties\": {\n        \"dtype\": \"number\",\n        \"std\": 3536.1826579164012,\n        \"min\": 0.3148433779441192,\n        \"max\": 10005.0,\n        \"num_unique_values\": 5,\n        \"samples\": [\n          10002.0434,\n          10005.0,\n          0.3148433779441192\n        ],\n        \"semantic_type\": \"\",\n        \"description\": \"\"\n      }\n    },\n    {\n      \"column\": \"bprod_sbt_id\",\n      \"properties\": {\n        \"dtype\": \"number\",\n        \"std\": 462852582.81464607,\n        \"min\": -998.0,\n        \"max\": 1001078031.0,\n        \"num_unique_values\": 8,\n        \"samples\": [\n          883817287.0952,\n          1000748648.0,\n          10000.0\n        ],\n        \"semantic_type\": \"\",\n        \"description\": \"\"\n      }\n    },\n    {\n      \"column\": \"new_date\",\n      \"properties\": {\n        \"dtype\": \"number\",\n        \"std\": 9254146.040525392,\n        \"min\": 10000.0,\n        \"max\": 20200410.0,\n        \"num_unique_values\": 8,\n        \"samples\": [\n          17442832.2065,\n          20141206.5,\n          10000.0\n        ],\n        \"semantic_type\": \"\",\n        \"description\": \"\"\n      }\n    },\n    {\n      \"column\": \"opn_nfl_chg_date\",\n      \"properties\": {\n        \"dtype\": \"number\",\n        \"std\": 9255297.788330361,\n        \"min\": 10000.0,\n        \"max\": 20200410.0,\n        \"num_unique_values\": 8,\n        \"samples\": [\n          17445053.0997,\n          20150309.0,\n          10000.0\n        ],\n        \"semantic_type\": \"\",\n        \"description\": \"\"\n      }\n    },\n    {\n      \"column\": \"voc_trt_degr_div_itg_cd\",\n      \"properties\": {\n        \"dtype\": \"number\",\n        \"std\": 7440.665681107619,\n        \"min\": 0.2621091950371301,\n        \"max\": 20002.0,\n        \"num_unique_values\": 5,\n        \"samples\": [\n          20001.0742,\n          20002.0,\n          0.2621091950371301\n        ],\n        \"semantic_type\": \"\",\n        \"description\": \"\"\n      }\n    },\n    {\n      \"column\": \"voc_dupl_tmscnt\",\n      \"properties\": {\n        \"dtype\": \"number\",\n        \"std\": 3535.376862363074,\n        \"min\": 0.0,\n        \"max\": 10000.0,\n        \"num_unique_values\": 5,\n        \"samples\": [\n          0.0088,\n          3.0,\n          0.10355497266300795\n        ],\n        \"semantic_type\": \"\",\n        \"description\": \"\"\n      }\n    },\n    {\n      \"column\": \"voc_trt_need_time_itg_cd\",\n      \"properties\": {\n        \"dtype\": \"number\",\n        \"std\": 3535.48778375873,\n        \"min\": 6.576863939137511,\n        \"max\": 10038.0,\n        \"num_unique_values\": 5,\n        \"samples\": [\n          10002.6568,\n          10038.0,\n          6.576863939137511\n        ],\n        \"semantic_type\": \"\",\n        \"description\": \"\"\n      }\n    },\n    {\n      \"column\": \"cont_fns_pam_date\",\n      \"properties\": {\n        \"dtype\": \"number\",\n        \"std\": 41430224.19800288,\n        \"min\": 10000.0,\n        \"max\": 99991231.0,\n        \"num_unique_values\": 6,\n        \"samples\": [\n          10000.0,\n          70044691.9807,\n          99991231.0\n        ],\n        \"semantic_type\": \"\",\n        \"description\": \"\"\n      }\n    },\n    {\n      \"column\": \"cust_snsry_base_conf_need_time\",\n      \"properties\": {\n        \"dtype\": \"number\",\n        \"std\": 129296.42365482595,\n        \"min\": 0.0,\n        \"max\": 367991.0,\n        \"num_unique_values\": 5,\n        \"samples\": [\n          193.8801,\n          367991.0,\n          6970.038529939048\n        ],\n        \"semantic_type\": \"\",\n        \"description\": \"\"\n      }\n    }\n  ]\n}"
            }
          },
          "metadata": {},
          "execution_count": 241
        }
      ],
      "source": [
        "# 여기에 답안코드를 작성하세요.\n",
        "df.describe()"
      ]
    },
    {
      "cell_type": "markdown",
      "metadata": {
        "id": "c7Z_c_itSVS1"
      },
      "source": [
        "<br>\n",
        "<font color=blue>3-7. DataFrame 컬럼 항목에 Null 존재하는지 확인하세요.  (null값의 합계 포함)</font>"
      ]
    },
    {
      "cell_type": "code",
      "execution_count": null,
      "metadata": {
        "colab": {
          "base_uri": "https://localhost:8080/"
        },
        "id": "1n4_2sdFSVS1",
        "outputId": "1ee67a71-da6e-4d84-b5f8-3e15216dd7e2"
      },
      "outputs": [
        {
          "output_type": "execute_result",
          "data": {
            "text/plain": [
              "voc_trt_perd_itg_cd               0\n",
              "voc_prod_sbt_id                   0\n",
              "voc_wjt_sorc_id                   0\n",
              "voc_type_itg_cd                   0\n",
              "voc_sttus_itg_cd                  0\n",
              "voc_trt_reslt_itg_cd              0\n",
              "cust_clas_itg_cd                  0\n",
              "bprod_sbt_id                      0\n",
              "age_itg_cd                        0\n",
              "cont_sttus_itg_cd                 0\n",
              "new_date                          0\n",
              "opn_nfl_chg_date                  0\n",
              "cust_dtl_ctg_itg_cd               0\n",
              "voc_trt_degr_div_itg_cd           0\n",
              "voc_dupl_tmscnt                   0\n",
              "oos_cause_type_itg_cd             0\n",
              "voc_trt_need_time_itg_cd          0\n",
              "engt_cperd_type_itg_cd            0\n",
              "engt_tgt_div_itg_cd               0\n",
              "cont_fns_pam_date                 0\n",
              "voc_mis_pbls_yn                   0\n",
              "fclt_oos_yn                       0\n",
              "cust_snsry_base_conf_need_time    0\n",
              "trm_yn                            0\n",
              "dtype: int64"
            ]
          },
          "metadata": {},
          "execution_count": 242
        }
      ],
      "source": [
        "# 여기에 답안코드를 작성하세요.\n",
        "df.isnull().sum()"
      ]
    },
    {
      "cell_type": "markdown",
      "metadata": {
        "id": "gLsdkGmASVS2"
      },
      "source": [
        "<br>\n",
        "<font color=blue>3-8. voc_trt_perd_itg_cd 컬럼의 데이터를 확인하세요</font>"
      ]
    },
    {
      "cell_type": "code",
      "execution_count": null,
      "metadata": {
        "colab": {
          "base_uri": "https://localhost:8080/"
        },
        "id": "fN82ZmRGSVS2",
        "outputId": "8e0772af-f5dd-4c32-e501-e54b71f6ad00"
      },
      "outputs": [
        {
          "output_type": "execute_result",
          "data": {
            "text/plain": [
              "0           _\n",
              "1           _\n",
              "2           _\n",
              "3       10000\n",
              "4           _\n",
              "        ...  \n",
              "9995        _\n",
              "9996        _\n",
              "9997        _\n",
              "9998        _\n",
              "9999        _\n",
              "Name: voc_trt_perd_itg_cd, Length: 10000, dtype: object"
            ]
          },
          "metadata": {},
          "execution_count": 243
        }
      ],
      "source": [
        "# 여기에 답안코드를 작성하세요.\n",
        "df['voc_trt_perd_itg_cd']"
      ]
    },
    {
      "cell_type": "markdown",
      "metadata": {
        "id": "OVc0SD67SVS2"
      },
      "source": [
        "<br>\n",
        "<font color=blue>3-9. voc_trt_perd_itg_cd 컬럼 데이터별 건수를 나열하세요</font>"
      ]
    },
    {
      "cell_type": "code",
      "execution_count": null,
      "metadata": {
        "colab": {
          "base_uri": "https://localhost:8080/"
        },
        "id": "35kVo4pMSVS2",
        "outputId": "222a9deb-2e93-486f-c6bf-a602f97b2325"
      },
      "outputs": [
        {
          "output_type": "execute_result",
          "data": {
            "text/plain": [
              "voc_trt_perd_itg_cd\n",
              "_        5422\n",
              "10000    4283\n",
              "10001     163\n",
              "10002      58\n",
              "10003      25\n",
              "10004      16\n",
              "10005      10\n",
              "10006       6\n",
              "10008       3\n",
              "10009       3\n",
              "10016       2\n",
              "10011       2\n",
              "10012       2\n",
              "10007       2\n",
              "10014       1\n",
              "10013       1\n",
              "10015       1\n",
              "Name: count, dtype: int64"
            ]
          },
          "metadata": {},
          "execution_count": 244
        }
      ],
      "source": [
        "# 여기에 답안코드를 작성하세요.\n",
        "df['voc_trt_perd_itg_cd'].value_counts()"
      ]
    },
    {
      "cell_type": "markdown",
      "metadata": {
        "id": "00JPjgYBSVS2"
      },
      "source": [
        "### 컬럼에서  '_' 값이 차지하는 비율\n",
        "- voc_trt_perd_itg_cd : 0.54\n",
        "- voc_trt_reslt_itg_cd : 0.88\n",
        "- oos_cause_type_itg_cd : 0.9\n",
        "- engt_cperd_type_itg_cd : 0.63\n",
        "- engt_tgt_div_itg_cd : 0.63\n",
        "- fclt_oos_yn : 0.90  \n",
        "- cust_clas_itg_cd : 0.2\n",
        "- age_itg_cd : 0.22\n",
        "- cont_sttus_itg_cd : 0.11\n",
        "- cust_dtl_ctg_itg_cd : 0.11\n",
        "- voc_mis_pbls_yn : 0.008\n"
      ]
    },
    {
      "cell_type": "markdown",
      "metadata": {
        "id": "iiTT14EXSVS2"
      },
      "source": [
        "## **<span style=\"color:black\">4. 데이터 결측치 처리</span>**"
      ]
    },
    {
      "cell_type": "markdown",
      "metadata": {
        "id": "0P2K_zAGSVS9"
      },
      "source": [
        "<br>\n",
        "<font color=blue>4-1. voc_trt_perd_itg_cd 컬럼에서 '_' 값이 차지하는 비율이 50%가 넘는 것을 확인하고, 이 voc_trt_perd_itg_cd 컬럼을 삭제하세요. (컬럼이 삭제된 데이터를 df1에 저장하세요)</font>"
      ]
    },
    {
      "cell_type": "code",
      "execution_count": null,
      "metadata": {
        "colab": {
          "base_uri": "https://localhost:8080/"
        },
        "id": "q2iXMk-bSVS9",
        "outputId": "be45928f-c77f-4e33-da05-311920f7b59c"
      },
      "outputs": [
        {
          "output_type": "execute_result",
          "data": {
            "text/plain": [
              "0.5422"
            ]
          },
          "metadata": {},
          "execution_count": 245
        }
      ],
      "source": [
        "# 여기에 답안코드를 작성하세요.\n",
        "(df['voc_trt_perd_itg_cd'] == '_').mean()"
      ]
    },
    {
      "cell_type": "code",
      "source": [
        "df1 = df.drop('voc_trt_perd_itg_cd', axis=1)"
      ],
      "metadata": {
        "id": "FmqFMPsWVqqb"
      },
      "execution_count": null,
      "outputs": []
    },
    {
      "cell_type": "code",
      "source": [
        "df1.head()"
      ],
      "metadata": {
        "colab": {
          "base_uri": "https://localhost:8080/",
          "height": 255
        },
        "id": "4_TNfU_ZVrm4",
        "outputId": "c2d982fb-ebcc-4737-d451-b55ad27781c6"
      },
      "execution_count": null,
      "outputs": [
        {
          "output_type": "execute_result",
          "data": {
            "text/plain": [
              "   voc_prod_sbt_id  voc_wjt_sorc_id  voc_type_itg_cd  voc_sttus_itg_cd  \\\n",
              "0       1000665328             2153            10009             10002   \n",
              "1       1001028714             3311            10009             10002   \n",
              "2       1001028567             1575            10009             10002   \n",
              "3       1000665328             3546            10009             10002   \n",
              "4       1000779276             3086            10009             10002   \n",
              "\n",
              "  voc_trt_reslt_itg_cd cust_clas_itg_cd  bprod_sbt_id age_itg_cd  \\\n",
              "0                    _                F    1000001126         36   \n",
              "1                10081                G    1000852226         32   \n",
              "2                    _                G    1000851875         52   \n",
              "3                    _                _    1000001126          _   \n",
              "4                    _                G    1000764639         50   \n",
              "\n",
              "  cont_sttus_itg_cd  new_date  ...  voc_dupl_tmscnt oos_cause_type_itg_cd  \\\n",
              "0             10001  19881005  ...                0                     _   \n",
              "1             10001  20130817  ...                0                     _   \n",
              "2             10001  20190509  ...                0                 10268   \n",
              "3             10001  20190731  ...                0                     _   \n",
              "4             10001  20180403  ...                0                     _   \n",
              "\n",
              "   voc_trt_need_time_itg_cd  engt_cperd_type_itg_cd engt_tgt_div_itg_cd  \\\n",
              "0                     10001                       _                   _   \n",
              "1                     10001                   15098               15244   \n",
              "2                     10001                   15097               15244   \n",
              "3                     10001                       _                   _   \n",
              "4                     10001                       _                   _   \n",
              "\n",
              "   cont_fns_pam_date voc_mis_pbls_yn fclt_oos_yn  \\\n",
              "0           99991231               N           _   \n",
              "1           20220319               N           _   \n",
              "2           20220508               N           N   \n",
              "3           99991231               N           _   \n",
              "4           99991231               N           _   \n",
              "\n",
              "   cust_snsry_base_conf_need_time trm_yn  \n",
              "0                               0      N  \n",
              "1                               0      N  \n",
              "2                               0      N  \n",
              "3                               0      N  \n",
              "4                               0      N  \n",
              "\n",
              "[5 rows x 23 columns]"
            ],
            "text/html": [
              "\n",
              "  <div id=\"df-415e7d8d-4587-4a50-b441-35605fa3669a\" class=\"colab-df-container\">\n",
              "    <div>\n",
              "<style scoped>\n",
              "    .dataframe tbody tr th:only-of-type {\n",
              "        vertical-align: middle;\n",
              "    }\n",
              "\n",
              "    .dataframe tbody tr th {\n",
              "        vertical-align: top;\n",
              "    }\n",
              "\n",
              "    .dataframe thead th {\n",
              "        text-align: right;\n",
              "    }\n",
              "</style>\n",
              "<table border=\"1\" class=\"dataframe\">\n",
              "  <thead>\n",
              "    <tr style=\"text-align: right;\">\n",
              "      <th></th>\n",
              "      <th>voc_prod_sbt_id</th>\n",
              "      <th>voc_wjt_sorc_id</th>\n",
              "      <th>voc_type_itg_cd</th>\n",
              "      <th>voc_sttus_itg_cd</th>\n",
              "      <th>voc_trt_reslt_itg_cd</th>\n",
              "      <th>cust_clas_itg_cd</th>\n",
              "      <th>bprod_sbt_id</th>\n",
              "      <th>age_itg_cd</th>\n",
              "      <th>cont_sttus_itg_cd</th>\n",
              "      <th>new_date</th>\n",
              "      <th>...</th>\n",
              "      <th>voc_dupl_tmscnt</th>\n",
              "      <th>oos_cause_type_itg_cd</th>\n",
              "      <th>voc_trt_need_time_itg_cd</th>\n",
              "      <th>engt_cperd_type_itg_cd</th>\n",
              "      <th>engt_tgt_div_itg_cd</th>\n",
              "      <th>cont_fns_pam_date</th>\n",
              "      <th>voc_mis_pbls_yn</th>\n",
              "      <th>fclt_oos_yn</th>\n",
              "      <th>cust_snsry_base_conf_need_time</th>\n",
              "      <th>trm_yn</th>\n",
              "    </tr>\n",
              "  </thead>\n",
              "  <tbody>\n",
              "    <tr>\n",
              "      <th>0</th>\n",
              "      <td>1000665328</td>\n",
              "      <td>2153</td>\n",
              "      <td>10009</td>\n",
              "      <td>10002</td>\n",
              "      <td>_</td>\n",
              "      <td>F</td>\n",
              "      <td>1000001126</td>\n",
              "      <td>36</td>\n",
              "      <td>10001</td>\n",
              "      <td>19881005</td>\n",
              "      <td>...</td>\n",
              "      <td>0</td>\n",
              "      <td>_</td>\n",
              "      <td>10001</td>\n",
              "      <td>_</td>\n",
              "      <td>_</td>\n",
              "      <td>99991231</td>\n",
              "      <td>N</td>\n",
              "      <td>_</td>\n",
              "      <td>0</td>\n",
              "      <td>N</td>\n",
              "    </tr>\n",
              "    <tr>\n",
              "      <th>1</th>\n",
              "      <td>1001028714</td>\n",
              "      <td>3311</td>\n",
              "      <td>10009</td>\n",
              "      <td>10002</td>\n",
              "      <td>10081</td>\n",
              "      <td>G</td>\n",
              "      <td>1000852226</td>\n",
              "      <td>32</td>\n",
              "      <td>10001</td>\n",
              "      <td>20130817</td>\n",
              "      <td>...</td>\n",
              "      <td>0</td>\n",
              "      <td>_</td>\n",
              "      <td>10001</td>\n",
              "      <td>15098</td>\n",
              "      <td>15244</td>\n",
              "      <td>20220319</td>\n",
              "      <td>N</td>\n",
              "      <td>_</td>\n",
              "      <td>0</td>\n",
              "      <td>N</td>\n",
              "    </tr>\n",
              "    <tr>\n",
              "      <th>2</th>\n",
              "      <td>1001028567</td>\n",
              "      <td>1575</td>\n",
              "      <td>10009</td>\n",
              "      <td>10002</td>\n",
              "      <td>_</td>\n",
              "      <td>G</td>\n",
              "      <td>1000851875</td>\n",
              "      <td>52</td>\n",
              "      <td>10001</td>\n",
              "      <td>20190509</td>\n",
              "      <td>...</td>\n",
              "      <td>0</td>\n",
              "      <td>10268</td>\n",
              "      <td>10001</td>\n",
              "      <td>15097</td>\n",
              "      <td>15244</td>\n",
              "      <td>20220508</td>\n",
              "      <td>N</td>\n",
              "      <td>N</td>\n",
              "      <td>0</td>\n",
              "      <td>N</td>\n",
              "    </tr>\n",
              "    <tr>\n",
              "      <th>3</th>\n",
              "      <td>1000665328</td>\n",
              "      <td>3546</td>\n",
              "      <td>10009</td>\n",
              "      <td>10002</td>\n",
              "      <td>_</td>\n",
              "      <td>_</td>\n",
              "      <td>1000001126</td>\n",
              "      <td>_</td>\n",
              "      <td>10001</td>\n",
              "      <td>20190731</td>\n",
              "      <td>...</td>\n",
              "      <td>0</td>\n",
              "      <td>_</td>\n",
              "      <td>10001</td>\n",
              "      <td>_</td>\n",
              "      <td>_</td>\n",
              "      <td>99991231</td>\n",
              "      <td>N</td>\n",
              "      <td>_</td>\n",
              "      <td>0</td>\n",
              "      <td>N</td>\n",
              "    </tr>\n",
              "    <tr>\n",
              "      <th>4</th>\n",
              "      <td>1000779276</td>\n",
              "      <td>3086</td>\n",
              "      <td>10009</td>\n",
              "      <td>10002</td>\n",
              "      <td>_</td>\n",
              "      <td>G</td>\n",
              "      <td>1000764639</td>\n",
              "      <td>50</td>\n",
              "      <td>10001</td>\n",
              "      <td>20180403</td>\n",
              "      <td>...</td>\n",
              "      <td>0</td>\n",
              "      <td>_</td>\n",
              "      <td>10001</td>\n",
              "      <td>_</td>\n",
              "      <td>_</td>\n",
              "      <td>99991231</td>\n",
              "      <td>N</td>\n",
              "      <td>_</td>\n",
              "      <td>0</td>\n",
              "      <td>N</td>\n",
              "    </tr>\n",
              "  </tbody>\n",
              "</table>\n",
              "<p>5 rows × 23 columns</p>\n",
              "</div>\n",
              "    <div class=\"colab-df-buttons\">\n",
              "\n",
              "  <div class=\"colab-df-container\">\n",
              "    <button class=\"colab-df-convert\" onclick=\"convertToInteractive('df-415e7d8d-4587-4a50-b441-35605fa3669a')\"\n",
              "            title=\"Convert this dataframe to an interactive table.\"\n",
              "            style=\"display:none;\">\n",
              "\n",
              "  <svg xmlns=\"http://www.w3.org/2000/svg\" height=\"24px\" viewBox=\"0 -960 960 960\">\n",
              "    <path d=\"M120-120v-720h720v720H120Zm60-500h600v-160H180v160Zm220 220h160v-160H400v160Zm0 220h160v-160H400v160ZM180-400h160v-160H180v160Zm440 0h160v-160H620v160ZM180-180h160v-160H180v160Zm440 0h160v-160H620v160Z\"/>\n",
              "  </svg>\n",
              "    </button>\n",
              "\n",
              "  <style>\n",
              "    .colab-df-container {\n",
              "      display:flex;\n",
              "      gap: 12px;\n",
              "    }\n",
              "\n",
              "    .colab-df-convert {\n",
              "      background-color: #E8F0FE;\n",
              "      border: none;\n",
              "      border-radius: 50%;\n",
              "      cursor: pointer;\n",
              "      display: none;\n",
              "      fill: #1967D2;\n",
              "      height: 32px;\n",
              "      padding: 0 0 0 0;\n",
              "      width: 32px;\n",
              "    }\n",
              "\n",
              "    .colab-df-convert:hover {\n",
              "      background-color: #E2EBFA;\n",
              "      box-shadow: 0px 1px 2px rgba(60, 64, 67, 0.3), 0px 1px 3px 1px rgba(60, 64, 67, 0.15);\n",
              "      fill: #174EA6;\n",
              "    }\n",
              "\n",
              "    .colab-df-buttons div {\n",
              "      margin-bottom: 4px;\n",
              "    }\n",
              "\n",
              "    [theme=dark] .colab-df-convert {\n",
              "      background-color: #3B4455;\n",
              "      fill: #D2E3FC;\n",
              "    }\n",
              "\n",
              "    [theme=dark] .colab-df-convert:hover {\n",
              "      background-color: #434B5C;\n",
              "      box-shadow: 0px 1px 3px 1px rgba(0, 0, 0, 0.15);\n",
              "      filter: drop-shadow(0px 1px 2px rgba(0, 0, 0, 0.3));\n",
              "      fill: #FFFFFF;\n",
              "    }\n",
              "  </style>\n",
              "\n",
              "    <script>\n",
              "      const buttonEl =\n",
              "        document.querySelector('#df-415e7d8d-4587-4a50-b441-35605fa3669a button.colab-df-convert');\n",
              "      buttonEl.style.display =\n",
              "        google.colab.kernel.accessAllowed ? 'block' : 'none';\n",
              "\n",
              "      async function convertToInteractive(key) {\n",
              "        const element = document.querySelector('#df-415e7d8d-4587-4a50-b441-35605fa3669a');\n",
              "        const dataTable =\n",
              "          await google.colab.kernel.invokeFunction('convertToInteractive',\n",
              "                                                    [key], {});\n",
              "        if (!dataTable) return;\n",
              "\n",
              "        const docLinkHtml = 'Like what you see? Visit the ' +\n",
              "          '<a target=\"_blank\" href=https://colab.research.google.com/notebooks/data_table.ipynb>data table notebook</a>'\n",
              "          + ' to learn more about interactive tables.';\n",
              "        element.innerHTML = '';\n",
              "        dataTable['output_type'] = 'display_data';\n",
              "        await google.colab.output.renderOutput(dataTable, element);\n",
              "        const docLink = document.createElement('div');\n",
              "        docLink.innerHTML = docLinkHtml;\n",
              "        element.appendChild(docLink);\n",
              "      }\n",
              "    </script>\n",
              "  </div>\n",
              "\n",
              "\n",
              "<div id=\"df-23c8e823-4ed2-427e-a757-5b1d3f74f106\">\n",
              "  <button class=\"colab-df-quickchart\" onclick=\"quickchart('df-23c8e823-4ed2-427e-a757-5b1d3f74f106')\"\n",
              "            title=\"Suggest charts\"\n",
              "            style=\"display:none;\">\n",
              "\n",
              "<svg xmlns=\"http://www.w3.org/2000/svg\" height=\"24px\"viewBox=\"0 0 24 24\"\n",
              "     width=\"24px\">\n",
              "    <g>\n",
              "        <path d=\"M19 3H5c-1.1 0-2 .9-2 2v14c0 1.1.9 2 2 2h14c1.1 0 2-.9 2-2V5c0-1.1-.9-2-2-2zM9 17H7v-7h2v7zm4 0h-2V7h2v10zm4 0h-2v-4h2v4z\"/>\n",
              "    </g>\n",
              "</svg>\n",
              "  </button>\n",
              "\n",
              "<style>\n",
              "  .colab-df-quickchart {\n",
              "      --bg-color: #E8F0FE;\n",
              "      --fill-color: #1967D2;\n",
              "      --hover-bg-color: #E2EBFA;\n",
              "      --hover-fill-color: #174EA6;\n",
              "      --disabled-fill-color: #AAA;\n",
              "      --disabled-bg-color: #DDD;\n",
              "  }\n",
              "\n",
              "  [theme=dark] .colab-df-quickchart {\n",
              "      --bg-color: #3B4455;\n",
              "      --fill-color: #D2E3FC;\n",
              "      --hover-bg-color: #434B5C;\n",
              "      --hover-fill-color: #FFFFFF;\n",
              "      --disabled-bg-color: #3B4455;\n",
              "      --disabled-fill-color: #666;\n",
              "  }\n",
              "\n",
              "  .colab-df-quickchart {\n",
              "    background-color: var(--bg-color);\n",
              "    border: none;\n",
              "    border-radius: 50%;\n",
              "    cursor: pointer;\n",
              "    display: none;\n",
              "    fill: var(--fill-color);\n",
              "    height: 32px;\n",
              "    padding: 0;\n",
              "    width: 32px;\n",
              "  }\n",
              "\n",
              "  .colab-df-quickchart:hover {\n",
              "    background-color: var(--hover-bg-color);\n",
              "    box-shadow: 0 1px 2px rgba(60, 64, 67, 0.3), 0 1px 3px 1px rgba(60, 64, 67, 0.15);\n",
              "    fill: var(--button-hover-fill-color);\n",
              "  }\n",
              "\n",
              "  .colab-df-quickchart-complete:disabled,\n",
              "  .colab-df-quickchart-complete:disabled:hover {\n",
              "    background-color: var(--disabled-bg-color);\n",
              "    fill: var(--disabled-fill-color);\n",
              "    box-shadow: none;\n",
              "  }\n",
              "\n",
              "  .colab-df-spinner {\n",
              "    border: 2px solid var(--fill-color);\n",
              "    border-color: transparent;\n",
              "    border-bottom-color: var(--fill-color);\n",
              "    animation:\n",
              "      spin 1s steps(1) infinite;\n",
              "  }\n",
              "\n",
              "  @keyframes spin {\n",
              "    0% {\n",
              "      border-color: transparent;\n",
              "      border-bottom-color: var(--fill-color);\n",
              "      border-left-color: var(--fill-color);\n",
              "    }\n",
              "    20% {\n",
              "      border-color: transparent;\n",
              "      border-left-color: var(--fill-color);\n",
              "      border-top-color: var(--fill-color);\n",
              "    }\n",
              "    30% {\n",
              "      border-color: transparent;\n",
              "      border-left-color: var(--fill-color);\n",
              "      border-top-color: var(--fill-color);\n",
              "      border-right-color: var(--fill-color);\n",
              "    }\n",
              "    40% {\n",
              "      border-color: transparent;\n",
              "      border-right-color: var(--fill-color);\n",
              "      border-top-color: var(--fill-color);\n",
              "    }\n",
              "    60% {\n",
              "      border-color: transparent;\n",
              "      border-right-color: var(--fill-color);\n",
              "    }\n",
              "    80% {\n",
              "      border-color: transparent;\n",
              "      border-right-color: var(--fill-color);\n",
              "      border-bottom-color: var(--fill-color);\n",
              "    }\n",
              "    90% {\n",
              "      border-color: transparent;\n",
              "      border-bottom-color: var(--fill-color);\n",
              "    }\n",
              "  }\n",
              "</style>\n",
              "\n",
              "  <script>\n",
              "    async function quickchart(key) {\n",
              "      const quickchartButtonEl =\n",
              "        document.querySelector('#' + key + ' button');\n",
              "      quickchartButtonEl.disabled = true;  // To prevent multiple clicks.\n",
              "      quickchartButtonEl.classList.add('colab-df-spinner');\n",
              "      try {\n",
              "        const charts = await google.colab.kernel.invokeFunction(\n",
              "            'suggestCharts', [key], {});\n",
              "      } catch (error) {\n",
              "        console.error('Error during call to suggestCharts:', error);\n",
              "      }\n",
              "      quickchartButtonEl.classList.remove('colab-df-spinner');\n",
              "      quickchartButtonEl.classList.add('colab-df-quickchart-complete');\n",
              "    }\n",
              "    (() => {\n",
              "      let quickchartButtonEl =\n",
              "        document.querySelector('#df-23c8e823-4ed2-427e-a757-5b1d3f74f106 button');\n",
              "      quickchartButtonEl.style.display =\n",
              "        google.colab.kernel.accessAllowed ? 'block' : 'none';\n",
              "    })();\n",
              "  </script>\n",
              "</div>\n",
              "\n",
              "    </div>\n",
              "  </div>\n"
            ],
            "application/vnd.google.colaboratory.intrinsic+json": {
              "type": "dataframe",
              "variable_name": "df1"
            }
          },
          "metadata": {},
          "execution_count": 247
        }
      ]
    },
    {
      "cell_type": "markdown",
      "metadata": {
        "id": "g1J_94oTSVS9"
      },
      "source": [
        "<br>\n",
        "<font color=blue>4-2. 'df1' DataFrame에서 '_' 값이 50% 이상되는 나머지 컬럼도 삭제하세요</font>"
      ]
    },
    {
      "cell_type": "code",
      "execution_count": null,
      "metadata": {
        "id": "KHLe1BpxSVS9"
      },
      "outputs": [],
      "source": [
        "# 여기에 답안코드를 작성하세요.\n",
        "cols_drop = ['voc_trt_reslt_itg_cd', 'oos_cause_type_itg_cd', 'engt_cperd_type_itg_cd', 'engt_tgt_div_itg_cd', 'fclt_oos_yn']\n",
        "df1 = df1.drop(columns = cols_drop, axis=1)"
      ]
    },
    {
      "cell_type": "markdown",
      "metadata": {
        "id": "dF-5zX8tSVS9"
      },
      "source": [
        "<br>\n",
        "<font color=blue>4-3. 'df1' DataFrame의 'cust_clas_itg_cd' 컬럼에 '_' 값이 몇 개 있는지 확인하여 출력하세요 </font>"
      ]
    },
    {
      "cell_type": "code",
      "execution_count": null,
      "metadata": {
        "colab": {
          "base_uri": "https://localhost:8080/"
        },
        "id": "pAo0ES-0SVS9",
        "outputId": "8ccd6950-77a3-4497-ad0c-0e8c60d15e4c"
      },
      "outputs": [
        {
          "output_type": "execute_result",
          "data": {
            "text/plain": [
              "1934"
            ]
          },
          "metadata": {},
          "execution_count": 249
        }
      ],
      "source": [
        "# 여기에 답안코드를 작성하세요.\n",
        "(df1['cust_clas_itg_cd'] == '_').sum()"
      ]
    },
    {
      "cell_type": "markdown",
      "metadata": {
        "id": "YADmrcE2SVS9"
      },
      "source": [
        "<br>\n",
        "<font color=blue>4-4. df1의 남아있는 '_'값을 null로 변경: DataFrame replace 함수를 사용해서 모든 컬럼에 대해 '_'값을 null로 변경하고 df2에 저장하세요.</font>"
      ]
    },
    {
      "cell_type": "code",
      "execution_count": null,
      "metadata": {
        "id": "DyKYeVYUSVS9"
      },
      "outputs": [],
      "source": [
        "# 여기에 답안코드를 작성하세요.\n",
        "df2 = df1.replace('_', np.nan)"
      ]
    },
    {
      "cell_type": "code",
      "source": [
        "df2.head()"
      ],
      "metadata": {
        "colab": {
          "base_uri": "https://localhost:8080/",
          "height": 226
        },
        "id": "lDNJDCBnW7Rn",
        "outputId": "322dcc2c-7bce-40fe-a2ce-8ab2df5be718"
      },
      "execution_count": null,
      "outputs": [
        {
          "output_type": "execute_result",
          "data": {
            "text/plain": [
              "   voc_prod_sbt_id  voc_wjt_sorc_id  voc_type_itg_cd  voc_sttus_itg_cd  \\\n",
              "0       1000665328             2153            10009             10002   \n",
              "1       1001028714             3311            10009             10002   \n",
              "2       1001028567             1575            10009             10002   \n",
              "3       1000665328             3546            10009             10002   \n",
              "4       1000779276             3086            10009             10002   \n",
              "\n",
              "  cust_clas_itg_cd  bprod_sbt_id age_itg_cd cont_sttus_itg_cd  new_date  \\\n",
              "0                F    1000001126         36             10001  19881005   \n",
              "1                G    1000852226         32             10001  20130817   \n",
              "2                G    1000851875         52             10001  20190509   \n",
              "3              NaN    1000001126        NaN             10001  20190731   \n",
              "4                G    1000764639         50             10001  20180403   \n",
              "\n",
              "   opn_nfl_chg_date cust_dtl_ctg_itg_cd  voc_trt_degr_div_itg_cd  \\\n",
              "0          19881005               10003                    20001   \n",
              "1          20130817               10002                    20001   \n",
              "2          20190509               10003                    20001   \n",
              "3          20190731               90024                    20001   \n",
              "4          20180403               90024                    20001   \n",
              "\n",
              "   voc_dupl_tmscnt  voc_trt_need_time_itg_cd  cont_fns_pam_date  \\\n",
              "0                0                     10001           99991231   \n",
              "1                0                     10001           20220319   \n",
              "2                0                     10001           20220508   \n",
              "3                0                     10001           99991231   \n",
              "4                0                     10001           99991231   \n",
              "\n",
              "  voc_mis_pbls_yn  cust_snsry_base_conf_need_time trm_yn  \n",
              "0               N                               0      N  \n",
              "1               N                               0      N  \n",
              "2               N                               0      N  \n",
              "3               N                               0      N  \n",
              "4               N                               0      N  "
            ],
            "text/html": [
              "\n",
              "  <div id=\"df-a641d863-a62b-4998-8c58-2b0d120ee7c4\" class=\"colab-df-container\">\n",
              "    <div>\n",
              "<style scoped>\n",
              "    .dataframe tbody tr th:only-of-type {\n",
              "        vertical-align: middle;\n",
              "    }\n",
              "\n",
              "    .dataframe tbody tr th {\n",
              "        vertical-align: top;\n",
              "    }\n",
              "\n",
              "    .dataframe thead th {\n",
              "        text-align: right;\n",
              "    }\n",
              "</style>\n",
              "<table border=\"1\" class=\"dataframe\">\n",
              "  <thead>\n",
              "    <tr style=\"text-align: right;\">\n",
              "      <th></th>\n",
              "      <th>voc_prod_sbt_id</th>\n",
              "      <th>voc_wjt_sorc_id</th>\n",
              "      <th>voc_type_itg_cd</th>\n",
              "      <th>voc_sttus_itg_cd</th>\n",
              "      <th>cust_clas_itg_cd</th>\n",
              "      <th>bprod_sbt_id</th>\n",
              "      <th>age_itg_cd</th>\n",
              "      <th>cont_sttus_itg_cd</th>\n",
              "      <th>new_date</th>\n",
              "      <th>opn_nfl_chg_date</th>\n",
              "      <th>cust_dtl_ctg_itg_cd</th>\n",
              "      <th>voc_trt_degr_div_itg_cd</th>\n",
              "      <th>voc_dupl_tmscnt</th>\n",
              "      <th>voc_trt_need_time_itg_cd</th>\n",
              "      <th>cont_fns_pam_date</th>\n",
              "      <th>voc_mis_pbls_yn</th>\n",
              "      <th>cust_snsry_base_conf_need_time</th>\n",
              "      <th>trm_yn</th>\n",
              "    </tr>\n",
              "  </thead>\n",
              "  <tbody>\n",
              "    <tr>\n",
              "      <th>0</th>\n",
              "      <td>1000665328</td>\n",
              "      <td>2153</td>\n",
              "      <td>10009</td>\n",
              "      <td>10002</td>\n",
              "      <td>F</td>\n",
              "      <td>1000001126</td>\n",
              "      <td>36</td>\n",
              "      <td>10001</td>\n",
              "      <td>19881005</td>\n",
              "      <td>19881005</td>\n",
              "      <td>10003</td>\n",
              "      <td>20001</td>\n",
              "      <td>0</td>\n",
              "      <td>10001</td>\n",
              "      <td>99991231</td>\n",
              "      <td>N</td>\n",
              "      <td>0</td>\n",
              "      <td>N</td>\n",
              "    </tr>\n",
              "    <tr>\n",
              "      <th>1</th>\n",
              "      <td>1001028714</td>\n",
              "      <td>3311</td>\n",
              "      <td>10009</td>\n",
              "      <td>10002</td>\n",
              "      <td>G</td>\n",
              "      <td>1000852226</td>\n",
              "      <td>32</td>\n",
              "      <td>10001</td>\n",
              "      <td>20130817</td>\n",
              "      <td>20130817</td>\n",
              "      <td>10002</td>\n",
              "      <td>20001</td>\n",
              "      <td>0</td>\n",
              "      <td>10001</td>\n",
              "      <td>20220319</td>\n",
              "      <td>N</td>\n",
              "      <td>0</td>\n",
              "      <td>N</td>\n",
              "    </tr>\n",
              "    <tr>\n",
              "      <th>2</th>\n",
              "      <td>1001028567</td>\n",
              "      <td>1575</td>\n",
              "      <td>10009</td>\n",
              "      <td>10002</td>\n",
              "      <td>G</td>\n",
              "      <td>1000851875</td>\n",
              "      <td>52</td>\n",
              "      <td>10001</td>\n",
              "      <td>20190509</td>\n",
              "      <td>20190509</td>\n",
              "      <td>10003</td>\n",
              "      <td>20001</td>\n",
              "      <td>0</td>\n",
              "      <td>10001</td>\n",
              "      <td>20220508</td>\n",
              "      <td>N</td>\n",
              "      <td>0</td>\n",
              "      <td>N</td>\n",
              "    </tr>\n",
              "    <tr>\n",
              "      <th>3</th>\n",
              "      <td>1000665328</td>\n",
              "      <td>3546</td>\n",
              "      <td>10009</td>\n",
              "      <td>10002</td>\n",
              "      <td>NaN</td>\n",
              "      <td>1000001126</td>\n",
              "      <td>NaN</td>\n",
              "      <td>10001</td>\n",
              "      <td>20190731</td>\n",
              "      <td>20190731</td>\n",
              "      <td>90024</td>\n",
              "      <td>20001</td>\n",
              "      <td>0</td>\n",
              "      <td>10001</td>\n",
              "      <td>99991231</td>\n",
              "      <td>N</td>\n",
              "      <td>0</td>\n",
              "      <td>N</td>\n",
              "    </tr>\n",
              "    <tr>\n",
              "      <th>4</th>\n",
              "      <td>1000779276</td>\n",
              "      <td>3086</td>\n",
              "      <td>10009</td>\n",
              "      <td>10002</td>\n",
              "      <td>G</td>\n",
              "      <td>1000764639</td>\n",
              "      <td>50</td>\n",
              "      <td>10001</td>\n",
              "      <td>20180403</td>\n",
              "      <td>20180403</td>\n",
              "      <td>90024</td>\n",
              "      <td>20001</td>\n",
              "      <td>0</td>\n",
              "      <td>10001</td>\n",
              "      <td>99991231</td>\n",
              "      <td>N</td>\n",
              "      <td>0</td>\n",
              "      <td>N</td>\n",
              "    </tr>\n",
              "  </tbody>\n",
              "</table>\n",
              "</div>\n",
              "    <div class=\"colab-df-buttons\">\n",
              "\n",
              "  <div class=\"colab-df-container\">\n",
              "    <button class=\"colab-df-convert\" onclick=\"convertToInteractive('df-a641d863-a62b-4998-8c58-2b0d120ee7c4')\"\n",
              "            title=\"Convert this dataframe to an interactive table.\"\n",
              "            style=\"display:none;\">\n",
              "\n",
              "  <svg xmlns=\"http://www.w3.org/2000/svg\" height=\"24px\" viewBox=\"0 -960 960 960\">\n",
              "    <path d=\"M120-120v-720h720v720H120Zm60-500h600v-160H180v160Zm220 220h160v-160H400v160Zm0 220h160v-160H400v160ZM180-400h160v-160H180v160Zm440 0h160v-160H620v160ZM180-180h160v-160H180v160Zm440 0h160v-160H620v160Z\"/>\n",
              "  </svg>\n",
              "    </button>\n",
              "\n",
              "  <style>\n",
              "    .colab-df-container {\n",
              "      display:flex;\n",
              "      gap: 12px;\n",
              "    }\n",
              "\n",
              "    .colab-df-convert {\n",
              "      background-color: #E8F0FE;\n",
              "      border: none;\n",
              "      border-radius: 50%;\n",
              "      cursor: pointer;\n",
              "      display: none;\n",
              "      fill: #1967D2;\n",
              "      height: 32px;\n",
              "      padding: 0 0 0 0;\n",
              "      width: 32px;\n",
              "    }\n",
              "\n",
              "    .colab-df-convert:hover {\n",
              "      background-color: #E2EBFA;\n",
              "      box-shadow: 0px 1px 2px rgba(60, 64, 67, 0.3), 0px 1px 3px 1px rgba(60, 64, 67, 0.15);\n",
              "      fill: #174EA6;\n",
              "    }\n",
              "\n",
              "    .colab-df-buttons div {\n",
              "      margin-bottom: 4px;\n",
              "    }\n",
              "\n",
              "    [theme=dark] .colab-df-convert {\n",
              "      background-color: #3B4455;\n",
              "      fill: #D2E3FC;\n",
              "    }\n",
              "\n",
              "    [theme=dark] .colab-df-convert:hover {\n",
              "      background-color: #434B5C;\n",
              "      box-shadow: 0px 1px 3px 1px rgba(0, 0, 0, 0.15);\n",
              "      filter: drop-shadow(0px 1px 2px rgba(0, 0, 0, 0.3));\n",
              "      fill: #FFFFFF;\n",
              "    }\n",
              "  </style>\n",
              "\n",
              "    <script>\n",
              "      const buttonEl =\n",
              "        document.querySelector('#df-a641d863-a62b-4998-8c58-2b0d120ee7c4 button.colab-df-convert');\n",
              "      buttonEl.style.display =\n",
              "        google.colab.kernel.accessAllowed ? 'block' : 'none';\n",
              "\n",
              "      async function convertToInteractive(key) {\n",
              "        const element = document.querySelector('#df-a641d863-a62b-4998-8c58-2b0d120ee7c4');\n",
              "        const dataTable =\n",
              "          await google.colab.kernel.invokeFunction('convertToInteractive',\n",
              "                                                    [key], {});\n",
              "        if (!dataTable) return;\n",
              "\n",
              "        const docLinkHtml = 'Like what you see? Visit the ' +\n",
              "          '<a target=\"_blank\" href=https://colab.research.google.com/notebooks/data_table.ipynb>data table notebook</a>'\n",
              "          + ' to learn more about interactive tables.';\n",
              "        element.innerHTML = '';\n",
              "        dataTable['output_type'] = 'display_data';\n",
              "        await google.colab.output.renderOutput(dataTable, element);\n",
              "        const docLink = document.createElement('div');\n",
              "        docLink.innerHTML = docLinkHtml;\n",
              "        element.appendChild(docLink);\n",
              "      }\n",
              "    </script>\n",
              "  </div>\n",
              "\n",
              "\n",
              "<div id=\"df-07b83b25-fff4-42f0-955e-361b0576cc73\">\n",
              "  <button class=\"colab-df-quickchart\" onclick=\"quickchart('df-07b83b25-fff4-42f0-955e-361b0576cc73')\"\n",
              "            title=\"Suggest charts\"\n",
              "            style=\"display:none;\">\n",
              "\n",
              "<svg xmlns=\"http://www.w3.org/2000/svg\" height=\"24px\"viewBox=\"0 0 24 24\"\n",
              "     width=\"24px\">\n",
              "    <g>\n",
              "        <path d=\"M19 3H5c-1.1 0-2 .9-2 2v14c0 1.1.9 2 2 2h14c1.1 0 2-.9 2-2V5c0-1.1-.9-2-2-2zM9 17H7v-7h2v7zm4 0h-2V7h2v10zm4 0h-2v-4h2v4z\"/>\n",
              "    </g>\n",
              "</svg>\n",
              "  </button>\n",
              "\n",
              "<style>\n",
              "  .colab-df-quickchart {\n",
              "      --bg-color: #E8F0FE;\n",
              "      --fill-color: #1967D2;\n",
              "      --hover-bg-color: #E2EBFA;\n",
              "      --hover-fill-color: #174EA6;\n",
              "      --disabled-fill-color: #AAA;\n",
              "      --disabled-bg-color: #DDD;\n",
              "  }\n",
              "\n",
              "  [theme=dark] .colab-df-quickchart {\n",
              "      --bg-color: #3B4455;\n",
              "      --fill-color: #D2E3FC;\n",
              "      --hover-bg-color: #434B5C;\n",
              "      --hover-fill-color: #FFFFFF;\n",
              "      --disabled-bg-color: #3B4455;\n",
              "      --disabled-fill-color: #666;\n",
              "  }\n",
              "\n",
              "  .colab-df-quickchart {\n",
              "    background-color: var(--bg-color);\n",
              "    border: none;\n",
              "    border-radius: 50%;\n",
              "    cursor: pointer;\n",
              "    display: none;\n",
              "    fill: var(--fill-color);\n",
              "    height: 32px;\n",
              "    padding: 0;\n",
              "    width: 32px;\n",
              "  }\n",
              "\n",
              "  .colab-df-quickchart:hover {\n",
              "    background-color: var(--hover-bg-color);\n",
              "    box-shadow: 0 1px 2px rgba(60, 64, 67, 0.3), 0 1px 3px 1px rgba(60, 64, 67, 0.15);\n",
              "    fill: var(--button-hover-fill-color);\n",
              "  }\n",
              "\n",
              "  .colab-df-quickchart-complete:disabled,\n",
              "  .colab-df-quickchart-complete:disabled:hover {\n",
              "    background-color: var(--disabled-bg-color);\n",
              "    fill: var(--disabled-fill-color);\n",
              "    box-shadow: none;\n",
              "  }\n",
              "\n",
              "  .colab-df-spinner {\n",
              "    border: 2px solid var(--fill-color);\n",
              "    border-color: transparent;\n",
              "    border-bottom-color: var(--fill-color);\n",
              "    animation:\n",
              "      spin 1s steps(1) infinite;\n",
              "  }\n",
              "\n",
              "  @keyframes spin {\n",
              "    0% {\n",
              "      border-color: transparent;\n",
              "      border-bottom-color: var(--fill-color);\n",
              "      border-left-color: var(--fill-color);\n",
              "    }\n",
              "    20% {\n",
              "      border-color: transparent;\n",
              "      border-left-color: var(--fill-color);\n",
              "      border-top-color: var(--fill-color);\n",
              "    }\n",
              "    30% {\n",
              "      border-color: transparent;\n",
              "      border-left-color: var(--fill-color);\n",
              "      border-top-color: var(--fill-color);\n",
              "      border-right-color: var(--fill-color);\n",
              "    }\n",
              "    40% {\n",
              "      border-color: transparent;\n",
              "      border-right-color: var(--fill-color);\n",
              "      border-top-color: var(--fill-color);\n",
              "    }\n",
              "    60% {\n",
              "      border-color: transparent;\n",
              "      border-right-color: var(--fill-color);\n",
              "    }\n",
              "    80% {\n",
              "      border-color: transparent;\n",
              "      border-right-color: var(--fill-color);\n",
              "      border-bottom-color: var(--fill-color);\n",
              "    }\n",
              "    90% {\n",
              "      border-color: transparent;\n",
              "      border-bottom-color: var(--fill-color);\n",
              "    }\n",
              "  }\n",
              "</style>\n",
              "\n",
              "  <script>\n",
              "    async function quickchart(key) {\n",
              "      const quickchartButtonEl =\n",
              "        document.querySelector('#' + key + ' button');\n",
              "      quickchartButtonEl.disabled = true;  // To prevent multiple clicks.\n",
              "      quickchartButtonEl.classList.add('colab-df-spinner');\n",
              "      try {\n",
              "        const charts = await google.colab.kernel.invokeFunction(\n",
              "            'suggestCharts', [key], {});\n",
              "      } catch (error) {\n",
              "        console.error('Error during call to suggestCharts:', error);\n",
              "      }\n",
              "      quickchartButtonEl.classList.remove('colab-df-spinner');\n",
              "      quickchartButtonEl.classList.add('colab-df-quickchart-complete');\n",
              "    }\n",
              "    (() => {\n",
              "      let quickchartButtonEl =\n",
              "        document.querySelector('#df-07b83b25-fff4-42f0-955e-361b0576cc73 button');\n",
              "      quickchartButtonEl.style.display =\n",
              "        google.colab.kernel.accessAllowed ? 'block' : 'none';\n",
              "    })();\n",
              "  </script>\n",
              "</div>\n",
              "\n",
              "    </div>\n",
              "  </div>\n"
            ],
            "application/vnd.google.colaboratory.intrinsic+json": {
              "type": "dataframe",
              "variable_name": "df2",
              "summary": "{\n  \"name\": \"df2\",\n  \"rows\": 10000,\n  \"fields\": [\n    {\n      \"column\": \"voc_prod_sbt_id\",\n      \"properties\": {\n        \"dtype\": \"number\",\n        \"std\": 100577966,\n        \"min\": -998,\n        \"max\": 1001079425,\n        \"num_unique_values\": 562,\n        \"samples\": [\n          1001028242,\n          1000669709,\n          1001028767\n        ],\n        \"semantic_type\": \"\",\n        \"description\": \"\"\n      }\n    },\n    {\n      \"column\": \"voc_wjt_sorc_id\",\n      \"properties\": {\n        \"dtype\": \"number\",\n        \"std\": 1078,\n        \"min\": 126,\n        \"max\": 3856,\n        \"num_unique_values\": 473,\n        \"samples\": [\n          1561,\n          1631,\n          589\n        ],\n        \"semantic_type\": \"\",\n        \"description\": \"\"\n      }\n    },\n    {\n      \"column\": \"voc_type_itg_cd\",\n      \"properties\": {\n        \"dtype\": \"number\",\n        \"std\": 1,\n        \"min\": 10003,\n        \"max\": 10017,\n        \"num_unique_values\": 5,\n        \"samples\": [\n          10011,\n          10017,\n          10007\n        ],\n        \"semantic_type\": \"\",\n        \"description\": \"\"\n      }\n    },\n    {\n      \"column\": \"voc_sttus_itg_cd\",\n      \"properties\": {\n        \"dtype\": \"number\",\n        \"std\": 0,\n        \"min\": 10002,\n        \"max\": 10005,\n        \"num_unique_values\": 3,\n        \"samples\": [\n          10002,\n          10003,\n          10005\n        ],\n        \"semantic_type\": \"\",\n        \"description\": \"\"\n      }\n    },\n    {\n      \"column\": \"cust_clas_itg_cd\",\n      \"properties\": {\n        \"dtype\": \"category\",\n        \"num_unique_values\": 8,\n        \"samples\": [\n          \"G\",\n          \"J\",\n          \"F\"\n        ],\n        \"semantic_type\": \"\",\n        \"description\": \"\"\n      }\n    },\n    {\n      \"column\": \"bprod_sbt_id\",\n      \"properties\": {\n        \"dtype\": \"number\",\n        \"std\": 321422933,\n        \"min\": -998,\n        \"max\": 1001078031,\n        \"num_unique_values\": 272,\n        \"samples\": [\n          1000702598,\n          1001038994,\n          1000852095\n        ],\n        \"semantic_type\": \"\",\n        \"description\": \"\"\n      }\n    },\n    {\n      \"column\": \"age_itg_cd\",\n      \"properties\": {\n        \"dtype\": \"category\",\n        \"num_unique_values\": 94,\n        \"samples\": [\n          \"21\",\n          \"78\",\n          \"20\"\n        ],\n        \"semantic_type\": \"\",\n        \"description\": \"\"\n      }\n    },\n    {\n      \"column\": \"cont_sttus_itg_cd\",\n      \"properties\": {\n        \"dtype\": \"category\",\n        \"num_unique_values\": 7,\n        \"samples\": [\n          \"10001\",\n          \"10007\",\n          \"10006\"\n        ],\n        \"semantic_type\": \"\",\n        \"description\": \"\"\n      }\n    },\n    {\n      \"column\": \"new_date\",\n      \"properties\": {\n        \"dtype\": \"number\",\n        \"std\": 6849207,\n        \"min\": 10101,\n        \"max\": 20200410,\n        \"num_unique_values\": 3854,\n        \"samples\": [\n          20150721,\n          20020827,\n          20130509\n        ],\n        \"semantic_type\": \"\",\n        \"description\": \"\"\n      }\n    },\n    {\n      \"column\": \"opn_nfl_chg_date\",\n      \"properties\": {\n        \"dtype\": \"number\",\n        \"std\": 6850076,\n        \"min\": 10101,\n        \"max\": 20200410,\n        \"num_unique_values\": 3786,\n        \"samples\": [\n          20011208,\n          19910715,\n          20180721\n        ],\n        \"semantic_type\": \"\",\n        \"description\": \"\"\n      }\n    },\n    {\n      \"column\": \"cust_dtl_ctg_itg_cd\",\n      \"properties\": {\n        \"dtype\": \"category\",\n        \"num_unique_values\": 12,\n        \"samples\": [\n          \"10001\",\n          \"10011\",\n          \"10003\"\n        ],\n        \"semantic_type\": \"\",\n        \"description\": \"\"\n      }\n    },\n    {\n      \"column\": \"voc_trt_degr_div_itg_cd\",\n      \"properties\": {\n        \"dtype\": \"number\",\n        \"std\": 0,\n        \"min\": 20001,\n        \"max\": 20002,\n        \"num_unique_values\": 2,\n        \"samples\": [\n          20002,\n          20001\n        ],\n        \"semantic_type\": \"\",\n        \"description\": \"\"\n      }\n    },\n    {\n      \"column\": \"voc_dupl_tmscnt\",\n      \"properties\": {\n        \"dtype\": \"number\",\n        \"std\": 0,\n        \"min\": 0,\n        \"max\": 3,\n        \"num_unique_values\": 4,\n        \"samples\": [\n          1,\n          3\n        ],\n        \"semantic_type\": \"\",\n        \"description\": \"\"\n      }\n    },\n    {\n      \"column\": \"voc_trt_need_time_itg_cd\",\n      \"properties\": {\n        \"dtype\": \"number\",\n        \"std\": 6,\n        \"min\": 10001,\n        \"max\": 10038,\n        \"num_unique_values\": 36,\n        \"samples\": [\n          10023,\n          10016\n        ],\n        \"semantic_type\": \"\",\n        \"description\": \"\"\n      }\n    },\n    {\n      \"column\": \"cont_fns_pam_date\",\n      \"properties\": {\n        \"dtype\": \"number\",\n        \"std\": 38638020,\n        \"min\": 20010630,\n        \"max\": 99991231,\n        \"num_unique_values\": 1839,\n        \"samples\": [\n          20190812,\n          20210110\n        ],\n        \"semantic_type\": \"\",\n        \"description\": \"\"\n      }\n    },\n    {\n      \"column\": \"voc_mis_pbls_yn\",\n      \"properties\": {\n        \"dtype\": \"category\",\n        \"num_unique_values\": 1,\n        \"samples\": [\n          \"N\"\n        ],\n        \"semantic_type\": \"\",\n        \"description\": \"\"\n      }\n    },\n    {\n      \"column\": \"cust_snsry_base_conf_need_time\",\n      \"properties\": {\n        \"dtype\": \"number\",\n        \"std\": 6970,\n        \"min\": 0,\n        \"max\": 367991,\n        \"num_unique_values\": 46,\n        \"samples\": [\n          2238\n        ],\n        \"semantic_type\": \"\",\n        \"description\": \"\"\n      }\n    },\n    {\n      \"column\": \"trm_yn\",\n      \"properties\": {\n        \"dtype\": \"category\",\n        \"num_unique_values\": 2,\n        \"samples\": [\n          \"Y\"\n        ],\n        \"semantic_type\": \"\",\n        \"description\": \"\"\n      }\n    }\n  ]\n}"
            }
          },
          "metadata": {},
          "execution_count": 251
        }
      ]
    },
    {
      "cell_type": "markdown",
      "metadata": {
        "id": "jNAJmLDxSVS-"
      },
      "source": [
        "<br>\n",
        "<font color=blue>4-5. df2의 컬럼별 Null 갯수를 확인해보세요.</font>"
      ]
    },
    {
      "cell_type": "code",
      "execution_count": null,
      "metadata": {
        "colab": {
          "base_uri": "https://localhost:8080/"
        },
        "id": "lxAHa692SVS-",
        "outputId": "e9c9785c-74f2-4fa9-e7ec-d02a88314296"
      },
      "outputs": [
        {
          "output_type": "execute_result",
          "data": {
            "text/plain": [
              "voc_prod_sbt_id                      0\n",
              "voc_wjt_sorc_id                      0\n",
              "voc_type_itg_cd                      0\n",
              "voc_sttus_itg_cd                     0\n",
              "cust_clas_itg_cd                  1934\n",
              "bprod_sbt_id                         0\n",
              "age_itg_cd                        2129\n",
              "cont_sttus_itg_cd                 1168\n",
              "new_date                             0\n",
              "opn_nfl_chg_date                     0\n",
              "cust_dtl_ctg_itg_cd               1168\n",
              "voc_trt_degr_div_itg_cd              0\n",
              "voc_dupl_tmscnt                      0\n",
              "voc_trt_need_time_itg_cd             0\n",
              "cont_fns_pam_date                    0\n",
              "voc_mis_pbls_yn                     86\n",
              "cust_snsry_base_conf_need_time       0\n",
              "trm_yn                               0\n",
              "dtype: int64"
            ]
          },
          "metadata": {},
          "execution_count": 252
        }
      ],
      "source": [
        "# 여기에 답안코드를 작성하세요.\n",
        "df2.isnull().sum()"
      ]
    },
    {
      "cell_type": "markdown",
      "metadata": {
        "id": "UdtgiLjTSVS-"
      },
      "source": [
        "<br>\n",
        "<font color=blue>4-6. df2 데이터프레임 컬럼들의 데이터타입을 확인하세요.</font>"
      ]
    },
    {
      "cell_type": "code",
      "execution_count": null,
      "metadata": {
        "colab": {
          "base_uri": "https://localhost:8080/"
        },
        "id": "VzKE7B3iSVS-",
        "outputId": "e709aca5-67d7-48d4-9eb7-fd215e236af6"
      },
      "outputs": [
        {
          "output_type": "execute_result",
          "data": {
            "text/plain": [
              "voc_prod_sbt_id                    int64\n",
              "voc_wjt_sorc_id                    int64\n",
              "voc_type_itg_cd                    int64\n",
              "voc_sttus_itg_cd                   int64\n",
              "cust_clas_itg_cd                  object\n",
              "bprod_sbt_id                       int64\n",
              "age_itg_cd                        object\n",
              "cont_sttus_itg_cd                 object\n",
              "new_date                           int64\n",
              "opn_nfl_chg_date                   int64\n",
              "cust_dtl_ctg_itg_cd               object\n",
              "voc_trt_degr_div_itg_cd            int64\n",
              "voc_dupl_tmscnt                    int64\n",
              "voc_trt_need_time_itg_cd           int64\n",
              "cont_fns_pam_date                  int64\n",
              "voc_mis_pbls_yn                   object\n",
              "cust_snsry_base_conf_need_time     int64\n",
              "trm_yn                            object\n",
              "dtype: object"
            ]
          },
          "metadata": {},
          "execution_count": 253
        }
      ],
      "source": [
        "# 여기에 답안코드를 작성하세요.\n",
        "df2.dtypes"
      ]
    },
    {
      "cell_type": "markdown",
      "metadata": {
        "id": "dw_lEiAySVS-"
      },
      "source": [
        "<br>\n",
        "<font color=blue>4-7. df2 데이터프레임에 대해 먼저, 'cust_clas_itg_cd' 컬럼의 최빈값을 확인하는 코드로 확인하고 다음으로, 이 컬럼의 Null 값을 최빈값으로 변경하세요(fillna 함수 사용). 처리된 데이터프레임은 df3에 저장하세요</font>"
      ]
    },
    {
      "cell_type": "code",
      "execution_count": null,
      "metadata": {
        "colab": {
          "base_uri": "https://localhost:8080/"
        },
        "id": "_hrv1zDxSVS-",
        "outputId": "4b49a278-eec9-4d08-ff46-87e85c434a8f"
      },
      "outputs": [
        {
          "output_type": "stream",
          "name": "stdout",
          "text": [
            "L\n"
          ]
        }
      ],
      "source": [
        "# 여기에 답안코드를 작성하세요.\n",
        "choibin = df2['cust_clas_itg_cd'].mode()[0]\n",
        "print(choibin)"
      ]
    },
    {
      "cell_type": "code",
      "source": [
        "df2['cust_clas_itg_cd'].fillna(value = choibin, inplace=True)"
      ],
      "metadata": {
        "id": "YvDu40v8Xlp2"
      },
      "execution_count": null,
      "outputs": []
    },
    {
      "cell_type": "code",
      "source": [
        "df3 = df2.copy()"
      ],
      "metadata": {
        "id": "J2tg2IlPXypN"
      },
      "execution_count": null,
      "outputs": []
    },
    {
      "cell_type": "code",
      "source": [
        "df3.isnull().sum()"
      ],
      "metadata": {
        "colab": {
          "base_uri": "https://localhost:8080/"
        },
        "id": "QU4fU2EsX_qH",
        "outputId": "7ab33159-827c-4b94-df64-ba35644b5b94"
      },
      "execution_count": null,
      "outputs": [
        {
          "output_type": "execute_result",
          "data": {
            "text/plain": [
              "voc_prod_sbt_id                      0\n",
              "voc_wjt_sorc_id                      0\n",
              "voc_type_itg_cd                      0\n",
              "voc_sttus_itg_cd                     0\n",
              "cust_clas_itg_cd                     0\n",
              "bprod_sbt_id                         0\n",
              "age_itg_cd                        2129\n",
              "cont_sttus_itg_cd                 1168\n",
              "new_date                             0\n",
              "opn_nfl_chg_date                     0\n",
              "cust_dtl_ctg_itg_cd               1168\n",
              "voc_trt_degr_div_itg_cd              0\n",
              "voc_dupl_tmscnt                      0\n",
              "voc_trt_need_time_itg_cd             0\n",
              "cont_fns_pam_date                    0\n",
              "voc_mis_pbls_yn                     86\n",
              "cust_snsry_base_conf_need_time       0\n",
              "trm_yn                               0\n",
              "dtype: int64"
            ]
          },
          "metadata": {},
          "execution_count": 257
        }
      ]
    },
    {
      "cell_type": "markdown",
      "metadata": {
        "id": "y5QQNvWmSVS-"
      },
      "source": [
        "<br>\n",
        "<font color=blue>4-8. df3에 대해 'age_itg_cd'의 null 값을 중앙값(median)으로 변경하고 데이터 타입을 정수(int)로 변경하세요. 데이터 처리 후 데이터프레임을 df4에 저장하세요.</font>"
      ]
    },
    {
      "cell_type": "code",
      "execution_count": null,
      "metadata": {
        "colab": {
          "base_uri": "https://localhost:8080/"
        },
        "id": "BK2FxxatSVS-",
        "outputId": "92168958-7f6a-4efd-97f3-23151710f089"
      },
      "outputs": [
        {
          "output_type": "stream",
          "name": "stdout",
          "text": [
            "49.0\n"
          ]
        }
      ],
      "source": [
        "# 여기에 답안코드를 작성하세요.\n",
        "jungang = df3['age_itg_cd'].median()\n",
        "print(jungang)"
      ]
    },
    {
      "cell_type": "code",
      "source": [
        "df3['age_itg_cd'] = df3['age_itg_cd'].fillna(jungang)"
      ],
      "metadata": {
        "id": "RIfSWnIKYPYm"
      },
      "execution_count": null,
      "outputs": []
    },
    {
      "cell_type": "code",
      "source": [
        "df3['age_itg_cd'] = df3['age_itg_cd'].astype(int)"
      ],
      "metadata": {
        "id": "YZI9rf_DYTnC"
      },
      "execution_count": null,
      "outputs": []
    },
    {
      "cell_type": "code",
      "source": [
        "df4 = df3.copy()"
      ],
      "metadata": {
        "id": "vDhOvTGEYVhS"
      },
      "execution_count": null,
      "outputs": []
    },
    {
      "cell_type": "code",
      "source": [
        "df4.isnull().sum()"
      ],
      "metadata": {
        "colab": {
          "base_uri": "https://localhost:8080/"
        },
        "id": "UXTW4eZ0YXmU",
        "outputId": "8fb5df49-3169-49b7-965c-e9dd37e3e4ce"
      },
      "execution_count": null,
      "outputs": [
        {
          "output_type": "execute_result",
          "data": {
            "text/plain": [
              "voc_prod_sbt_id                      0\n",
              "voc_wjt_sorc_id                      0\n",
              "voc_type_itg_cd                      0\n",
              "voc_sttus_itg_cd                     0\n",
              "cust_clas_itg_cd                     0\n",
              "bprod_sbt_id                         0\n",
              "age_itg_cd                           0\n",
              "cont_sttus_itg_cd                 1168\n",
              "new_date                             0\n",
              "opn_nfl_chg_date                     0\n",
              "cust_dtl_ctg_itg_cd               1168\n",
              "voc_trt_degr_div_itg_cd              0\n",
              "voc_dupl_tmscnt                      0\n",
              "voc_trt_need_time_itg_cd             0\n",
              "cont_fns_pam_date                    0\n",
              "voc_mis_pbls_yn                     86\n",
              "cust_snsry_base_conf_need_time       0\n",
              "trm_yn                               0\n",
              "dtype: int64"
            ]
          },
          "metadata": {},
          "execution_count": 262
        }
      ]
    },
    {
      "cell_type": "markdown",
      "metadata": {
        "id": "9GwqqmNVSVS_"
      },
      "source": [
        "<br>\n",
        "<font color=blue>4-9. df4에 대해 'cont_sttus_itg_cd'의 null 값을 최빈값(mode)으로 변경하세요. 데이터 처리 후 데이터프레임을 df5에 저장하세요.</font>"
      ]
    },
    {
      "cell_type": "code",
      "execution_count": null,
      "metadata": {
        "colab": {
          "base_uri": "https://localhost:8080/"
        },
        "id": "shHLeoz8SVS_",
        "outputId": "f2b8a1ad-916d-48f1-b294-70292518d169"
      },
      "outputs": [
        {
          "output_type": "stream",
          "name": "stdout",
          "text": [
            "10001\n"
          ]
        }
      ],
      "source": [
        "# 여기에 답안코드를 작성하세요.\n",
        "choibin2 = df4['cont_sttus_itg_cd'].mode()[0]\n",
        "print(choibin2)"
      ]
    },
    {
      "cell_type": "code",
      "source": [
        "df4['cont_sttus_itg_cd'] = df4['cont_sttus_itg_cd'].fillna(choibin2)"
      ],
      "metadata": {
        "id": "-VdL2rrZYqkp"
      },
      "execution_count": null,
      "outputs": []
    },
    {
      "cell_type": "code",
      "source": [
        "df5 = df4.copy()"
      ],
      "metadata": {
        "id": "axHzrkh-YtzW"
      },
      "execution_count": null,
      "outputs": []
    },
    {
      "cell_type": "code",
      "source": [
        "df5.isnull().sum()"
      ],
      "metadata": {
        "colab": {
          "base_uri": "https://localhost:8080/"
        },
        "id": "15QCe4XXYveI",
        "outputId": "f5f18ccb-ea6d-483b-aed0-f3a1dacbf974"
      },
      "execution_count": null,
      "outputs": [
        {
          "output_type": "execute_result",
          "data": {
            "text/plain": [
              "voc_prod_sbt_id                      0\n",
              "voc_wjt_sorc_id                      0\n",
              "voc_type_itg_cd                      0\n",
              "voc_sttus_itg_cd                     0\n",
              "cust_clas_itg_cd                     0\n",
              "bprod_sbt_id                         0\n",
              "age_itg_cd                           0\n",
              "cont_sttus_itg_cd                    0\n",
              "new_date                             0\n",
              "opn_nfl_chg_date                     0\n",
              "cust_dtl_ctg_itg_cd               1168\n",
              "voc_trt_degr_div_itg_cd              0\n",
              "voc_dupl_tmscnt                      0\n",
              "voc_trt_need_time_itg_cd             0\n",
              "cont_fns_pam_date                    0\n",
              "voc_mis_pbls_yn                     86\n",
              "cust_snsry_base_conf_need_time       0\n",
              "trm_yn                               0\n",
              "dtype: int64"
            ]
          },
          "metadata": {},
          "execution_count": 266
        }
      ]
    },
    {
      "cell_type": "markdown",
      "metadata": {
        "id": "yHYedrIkSVS_"
      },
      "source": [
        "<br>\n",
        "<font color=blue>4-10. df5에 대해 'cust_dtl_ctg_itg_cd'의 null 값을 최빈값(mode)으로 변경하세요</font>"
      ]
    },
    {
      "cell_type": "code",
      "execution_count": null,
      "metadata": {
        "colab": {
          "base_uri": "https://localhost:8080/"
        },
        "id": "6HIPwsZuSVS_",
        "outputId": "c8304b47-cb7b-49c1-f728-66fb29b38eca"
      },
      "outputs": [
        {
          "output_type": "stream",
          "name": "stdout",
          "text": [
            "10003\n"
          ]
        }
      ],
      "source": [
        "# 여기에 답안코드를 작성하세요.\n",
        "choibin3 = df5['cust_dtl_ctg_itg_cd'].mode()[0]\n",
        "print(choibin3)"
      ]
    },
    {
      "cell_type": "code",
      "source": [
        "df5['cust_dtl_ctg_itg_cd'] = df5['cust_dtl_ctg_itg_cd'].fillna(choibin3)"
      ],
      "metadata": {
        "id": "G8i6QuwrY-Vx"
      },
      "execution_count": null,
      "outputs": []
    },
    {
      "cell_type": "code",
      "source": [
        "df5.isnull().sum()"
      ],
      "metadata": {
        "colab": {
          "base_uri": "https://localhost:8080/"
        },
        "id": "8fbUlgJVZHKC",
        "outputId": "8bf89a65-99cf-41ff-d8e0-f9050ffaebe5"
      },
      "execution_count": null,
      "outputs": [
        {
          "output_type": "execute_result",
          "data": {
            "text/plain": [
              "voc_prod_sbt_id                    0\n",
              "voc_wjt_sorc_id                    0\n",
              "voc_type_itg_cd                    0\n",
              "voc_sttus_itg_cd                   0\n",
              "cust_clas_itg_cd                   0\n",
              "bprod_sbt_id                       0\n",
              "age_itg_cd                         0\n",
              "cont_sttus_itg_cd                  0\n",
              "new_date                           0\n",
              "opn_nfl_chg_date                   0\n",
              "cust_dtl_ctg_itg_cd                0\n",
              "voc_trt_degr_div_itg_cd            0\n",
              "voc_dupl_tmscnt                    0\n",
              "voc_trt_need_time_itg_cd           0\n",
              "cont_fns_pam_date                  0\n",
              "voc_mis_pbls_yn                   86\n",
              "cust_snsry_base_conf_need_time     0\n",
              "trm_yn                             0\n",
              "dtype: int64"
            ]
          },
          "metadata": {},
          "execution_count": 269
        }
      ]
    },
    {
      "cell_type": "markdown",
      "metadata": {
        "id": "TsTSvG1HSVS_"
      },
      "source": [
        "<br>\n",
        "<font color=blue>4-11. df5에 대해 다음 날짜 관련 컬럼을 확인 후 삭제하세요. (날짜 관련 컬럼: new_date, opn_nfl_chg_date, cont_fns_pam_date)</font>"
      ]
    },
    {
      "cell_type": "code",
      "execution_count": null,
      "metadata": {
        "id": "5ZOkcr_uSVS_"
      },
      "outputs": [],
      "source": [
        "# 여기에 답안코드를 작성하세요.\n",
        "df5 = df5.drop(columns=['new_date', 'opn_nfl_chg_date', 'cont_fns_pam_date'])"
      ]
    },
    {
      "cell_type": "markdown",
      "metadata": {
        "id": "1Z4-WBZmSVS_"
      },
      "source": [
        "<br>\n",
        "<font color=blue>4-12. df5에 대해 'voc_mis_pbls_yn' 컬럼을 삭제하세요.</font>"
      ]
    },
    {
      "cell_type": "code",
      "execution_count": null,
      "metadata": {
        "id": "s7yOSF9KSVS_"
      },
      "outputs": [],
      "source": [
        "# 여기에 답안코드를 작성하세요.\n",
        "df5 = df5.drop(columns=['voc_mis_pbls_yn'])"
      ]
    },
    {
      "cell_type": "code",
      "source": [
        "df5.columns"
      ],
      "metadata": {
        "colab": {
          "base_uri": "https://localhost:8080/"
        },
        "id": "lypUeIicZhOx",
        "outputId": "31780243-2961-4c78-ead3-0cda2dd94968"
      },
      "execution_count": null,
      "outputs": [
        {
          "output_type": "execute_result",
          "data": {
            "text/plain": [
              "Index(['voc_prod_sbt_id', 'voc_wjt_sorc_id', 'voc_type_itg_cd',\n",
              "       'voc_sttus_itg_cd', 'cust_clas_itg_cd', 'bprod_sbt_id', 'age_itg_cd',\n",
              "       'cont_sttus_itg_cd', 'cust_dtl_ctg_itg_cd', 'voc_trt_degr_div_itg_cd',\n",
              "       'voc_dupl_tmscnt', 'voc_trt_need_time_itg_cd',\n",
              "       'cust_snsry_base_conf_need_time', 'trm_yn'],\n",
              "      dtype='object')"
            ]
          },
          "metadata": {},
          "execution_count": 272
        }
      ]
    },
    {
      "cell_type": "markdown",
      "metadata": {
        "id": "eK75LAb2SVS_"
      },
      "source": [
        "## **<span style=\"color:black\">5. 라벨 인코딩, 원핫 인코딩</span>**"
      ]
    },
    {
      "cell_type": "code",
      "source": [
        "df5.dtypes"
      ],
      "metadata": {
        "colab": {
          "base_uri": "https://localhost:8080/"
        },
        "id": "DniT09ZMa5x6",
        "outputId": "8cd5d8c9-c107-45a0-82a2-0aef9ded04b7"
      },
      "execution_count": null,
      "outputs": [
        {
          "output_type": "execute_result",
          "data": {
            "text/plain": [
              "voc_prod_sbt_id                    int64\n",
              "voc_wjt_sorc_id                    int64\n",
              "voc_type_itg_cd                    int64\n",
              "voc_sttus_itg_cd                   int64\n",
              "cust_clas_itg_cd                  object\n",
              "bprod_sbt_id                       int64\n",
              "age_itg_cd                         int64\n",
              "cont_sttus_itg_cd                 object\n",
              "cust_dtl_ctg_itg_cd               object\n",
              "voc_trt_degr_div_itg_cd            int64\n",
              "voc_dupl_tmscnt                    int64\n",
              "voc_trt_need_time_itg_cd           int64\n",
              "cust_snsry_base_conf_need_time     int64\n",
              "trm_yn                            object\n",
              "dtype: object"
            ]
          },
          "metadata": {},
          "execution_count": 273
        }
      ]
    },
    {
      "cell_type": "markdown",
      "metadata": {
        "id": "V-kLGwD2SVS_"
      },
      "source": [
        "<br>\n",
        "<font color=blue>5-1. df5에 대해 object 타입 컬럼을 cat_cols에 저장하세요. 그 중 cat_cols의 cust_clas_itg_cd 컬럼에 대해 LabelEncoder를 적용해보세요. (적용 후 df5에 저장)</font>"
      ]
    },
    {
      "cell_type": "code",
      "source": [
        "cat_cols = df5.select_dtypes(include=['object']).columns"
      ],
      "metadata": {
        "id": "-9RnsneHZ0oE"
      },
      "execution_count": null,
      "outputs": []
    },
    {
      "cell_type": "code",
      "execution_count": null,
      "metadata": {
        "id": "m410nM5rSVTA"
      },
      "outputs": [],
      "source": [
        "# 여기에 답안코드를 작성하세요.\n",
        "from sklearn.preprocessing import LabelEncoder\n",
        "le = LabelEncoder()"
      ]
    },
    {
      "cell_type": "code",
      "source": [
        "df5['cust_clas_itg_cd'] = le.fit_transform(df5['cust_clas_itg_cd'])"
      ],
      "metadata": {
        "id": "STJ6Pu8BaMh6"
      },
      "execution_count": null,
      "outputs": []
    },
    {
      "cell_type": "code",
      "source": [
        "df5.head()"
      ],
      "metadata": {
        "colab": {
          "base_uri": "https://localhost:8080/",
          "height": 226
        },
        "id": "oaRiy0wyaOsT",
        "outputId": "fc36e5f9-ea93-4c50-f4b1-5ae1775b7331"
      },
      "execution_count": null,
      "outputs": [
        {
          "output_type": "execute_result",
          "data": {
            "text/plain": [
              "   voc_prod_sbt_id  voc_wjt_sorc_id  voc_type_itg_cd  voc_sttus_itg_cd  \\\n",
              "0       1000665328             2153            10009             10002   \n",
              "1       1001028714             3311            10009             10002   \n",
              "2       1001028567             1575            10009             10002   \n",
              "3       1000665328             3546            10009             10002   \n",
              "4       1000779276             3086            10009             10002   \n",
              "\n",
              "   cust_clas_itg_cd  bprod_sbt_id  age_itg_cd cont_sttus_itg_cd  \\\n",
              "0                 0    1000001126          36             10001   \n",
              "1                 1    1000852226          32             10001   \n",
              "2                 1    1000851875          52             10001   \n",
              "3                 5    1000001126          49             10001   \n",
              "4                 1    1000764639          50             10001   \n",
              "\n",
              "  cust_dtl_ctg_itg_cd  voc_trt_degr_div_itg_cd  voc_dupl_tmscnt  \\\n",
              "0               10003                    20001                0   \n",
              "1               10002                    20001                0   \n",
              "2               10003                    20001                0   \n",
              "3               90024                    20001                0   \n",
              "4               90024                    20001                0   \n",
              "\n",
              "   voc_trt_need_time_itg_cd  cust_snsry_base_conf_need_time trm_yn  \n",
              "0                     10001                               0      N  \n",
              "1                     10001                               0      N  \n",
              "2                     10001                               0      N  \n",
              "3                     10001                               0      N  \n",
              "4                     10001                               0      N  "
            ],
            "text/html": [
              "\n",
              "  <div id=\"df-fc11cbf0-65f6-4d92-975d-e05bc018bc45\" class=\"colab-df-container\">\n",
              "    <div>\n",
              "<style scoped>\n",
              "    .dataframe tbody tr th:only-of-type {\n",
              "        vertical-align: middle;\n",
              "    }\n",
              "\n",
              "    .dataframe tbody tr th {\n",
              "        vertical-align: top;\n",
              "    }\n",
              "\n",
              "    .dataframe thead th {\n",
              "        text-align: right;\n",
              "    }\n",
              "</style>\n",
              "<table border=\"1\" class=\"dataframe\">\n",
              "  <thead>\n",
              "    <tr style=\"text-align: right;\">\n",
              "      <th></th>\n",
              "      <th>voc_prod_sbt_id</th>\n",
              "      <th>voc_wjt_sorc_id</th>\n",
              "      <th>voc_type_itg_cd</th>\n",
              "      <th>voc_sttus_itg_cd</th>\n",
              "      <th>cust_clas_itg_cd</th>\n",
              "      <th>bprod_sbt_id</th>\n",
              "      <th>age_itg_cd</th>\n",
              "      <th>cont_sttus_itg_cd</th>\n",
              "      <th>cust_dtl_ctg_itg_cd</th>\n",
              "      <th>voc_trt_degr_div_itg_cd</th>\n",
              "      <th>voc_dupl_tmscnt</th>\n",
              "      <th>voc_trt_need_time_itg_cd</th>\n",
              "      <th>cust_snsry_base_conf_need_time</th>\n",
              "      <th>trm_yn</th>\n",
              "    </tr>\n",
              "  </thead>\n",
              "  <tbody>\n",
              "    <tr>\n",
              "      <th>0</th>\n",
              "      <td>1000665328</td>\n",
              "      <td>2153</td>\n",
              "      <td>10009</td>\n",
              "      <td>10002</td>\n",
              "      <td>0</td>\n",
              "      <td>1000001126</td>\n",
              "      <td>36</td>\n",
              "      <td>10001</td>\n",
              "      <td>10003</td>\n",
              "      <td>20001</td>\n",
              "      <td>0</td>\n",
              "      <td>10001</td>\n",
              "      <td>0</td>\n",
              "      <td>N</td>\n",
              "    </tr>\n",
              "    <tr>\n",
              "      <th>1</th>\n",
              "      <td>1001028714</td>\n",
              "      <td>3311</td>\n",
              "      <td>10009</td>\n",
              "      <td>10002</td>\n",
              "      <td>1</td>\n",
              "      <td>1000852226</td>\n",
              "      <td>32</td>\n",
              "      <td>10001</td>\n",
              "      <td>10002</td>\n",
              "      <td>20001</td>\n",
              "      <td>0</td>\n",
              "      <td>10001</td>\n",
              "      <td>0</td>\n",
              "      <td>N</td>\n",
              "    </tr>\n",
              "    <tr>\n",
              "      <th>2</th>\n",
              "      <td>1001028567</td>\n",
              "      <td>1575</td>\n",
              "      <td>10009</td>\n",
              "      <td>10002</td>\n",
              "      <td>1</td>\n",
              "      <td>1000851875</td>\n",
              "      <td>52</td>\n",
              "      <td>10001</td>\n",
              "      <td>10003</td>\n",
              "      <td>20001</td>\n",
              "      <td>0</td>\n",
              "      <td>10001</td>\n",
              "      <td>0</td>\n",
              "      <td>N</td>\n",
              "    </tr>\n",
              "    <tr>\n",
              "      <th>3</th>\n",
              "      <td>1000665328</td>\n",
              "      <td>3546</td>\n",
              "      <td>10009</td>\n",
              "      <td>10002</td>\n",
              "      <td>5</td>\n",
              "      <td>1000001126</td>\n",
              "      <td>49</td>\n",
              "      <td>10001</td>\n",
              "      <td>90024</td>\n",
              "      <td>20001</td>\n",
              "      <td>0</td>\n",
              "      <td>10001</td>\n",
              "      <td>0</td>\n",
              "      <td>N</td>\n",
              "    </tr>\n",
              "    <tr>\n",
              "      <th>4</th>\n",
              "      <td>1000779276</td>\n",
              "      <td>3086</td>\n",
              "      <td>10009</td>\n",
              "      <td>10002</td>\n",
              "      <td>1</td>\n",
              "      <td>1000764639</td>\n",
              "      <td>50</td>\n",
              "      <td>10001</td>\n",
              "      <td>90024</td>\n",
              "      <td>20001</td>\n",
              "      <td>0</td>\n",
              "      <td>10001</td>\n",
              "      <td>0</td>\n",
              "      <td>N</td>\n",
              "    </tr>\n",
              "  </tbody>\n",
              "</table>\n",
              "</div>\n",
              "    <div class=\"colab-df-buttons\">\n",
              "\n",
              "  <div class=\"colab-df-container\">\n",
              "    <button class=\"colab-df-convert\" onclick=\"convertToInteractive('df-fc11cbf0-65f6-4d92-975d-e05bc018bc45')\"\n",
              "            title=\"Convert this dataframe to an interactive table.\"\n",
              "            style=\"display:none;\">\n",
              "\n",
              "  <svg xmlns=\"http://www.w3.org/2000/svg\" height=\"24px\" viewBox=\"0 -960 960 960\">\n",
              "    <path d=\"M120-120v-720h720v720H120Zm60-500h600v-160H180v160Zm220 220h160v-160H400v160Zm0 220h160v-160H400v160ZM180-400h160v-160H180v160Zm440 0h160v-160H620v160ZM180-180h160v-160H180v160Zm440 0h160v-160H620v160Z\"/>\n",
              "  </svg>\n",
              "    </button>\n",
              "\n",
              "  <style>\n",
              "    .colab-df-container {\n",
              "      display:flex;\n",
              "      gap: 12px;\n",
              "    }\n",
              "\n",
              "    .colab-df-convert {\n",
              "      background-color: #E8F0FE;\n",
              "      border: none;\n",
              "      border-radius: 50%;\n",
              "      cursor: pointer;\n",
              "      display: none;\n",
              "      fill: #1967D2;\n",
              "      height: 32px;\n",
              "      padding: 0 0 0 0;\n",
              "      width: 32px;\n",
              "    }\n",
              "\n",
              "    .colab-df-convert:hover {\n",
              "      background-color: #E2EBFA;\n",
              "      box-shadow: 0px 1px 2px rgba(60, 64, 67, 0.3), 0px 1px 3px 1px rgba(60, 64, 67, 0.15);\n",
              "      fill: #174EA6;\n",
              "    }\n",
              "\n",
              "    .colab-df-buttons div {\n",
              "      margin-bottom: 4px;\n",
              "    }\n",
              "\n",
              "    [theme=dark] .colab-df-convert {\n",
              "      background-color: #3B4455;\n",
              "      fill: #D2E3FC;\n",
              "    }\n",
              "\n",
              "    [theme=dark] .colab-df-convert:hover {\n",
              "      background-color: #434B5C;\n",
              "      box-shadow: 0px 1px 3px 1px rgba(0, 0, 0, 0.15);\n",
              "      filter: drop-shadow(0px 1px 2px rgba(0, 0, 0, 0.3));\n",
              "      fill: #FFFFFF;\n",
              "    }\n",
              "  </style>\n",
              "\n",
              "    <script>\n",
              "      const buttonEl =\n",
              "        document.querySelector('#df-fc11cbf0-65f6-4d92-975d-e05bc018bc45 button.colab-df-convert');\n",
              "      buttonEl.style.display =\n",
              "        google.colab.kernel.accessAllowed ? 'block' : 'none';\n",
              "\n",
              "      async function convertToInteractive(key) {\n",
              "        const element = document.querySelector('#df-fc11cbf0-65f6-4d92-975d-e05bc018bc45');\n",
              "        const dataTable =\n",
              "          await google.colab.kernel.invokeFunction('convertToInteractive',\n",
              "                                                    [key], {});\n",
              "        if (!dataTable) return;\n",
              "\n",
              "        const docLinkHtml = 'Like what you see? Visit the ' +\n",
              "          '<a target=\"_blank\" href=https://colab.research.google.com/notebooks/data_table.ipynb>data table notebook</a>'\n",
              "          + ' to learn more about interactive tables.';\n",
              "        element.innerHTML = '';\n",
              "        dataTable['output_type'] = 'display_data';\n",
              "        await google.colab.output.renderOutput(dataTable, element);\n",
              "        const docLink = document.createElement('div');\n",
              "        docLink.innerHTML = docLinkHtml;\n",
              "        element.appendChild(docLink);\n",
              "      }\n",
              "    </script>\n",
              "  </div>\n",
              "\n",
              "\n",
              "<div id=\"df-ee10686b-a6a9-4823-8496-1aa193bb109d\">\n",
              "  <button class=\"colab-df-quickchart\" onclick=\"quickchart('df-ee10686b-a6a9-4823-8496-1aa193bb109d')\"\n",
              "            title=\"Suggest charts\"\n",
              "            style=\"display:none;\">\n",
              "\n",
              "<svg xmlns=\"http://www.w3.org/2000/svg\" height=\"24px\"viewBox=\"0 0 24 24\"\n",
              "     width=\"24px\">\n",
              "    <g>\n",
              "        <path d=\"M19 3H5c-1.1 0-2 .9-2 2v14c0 1.1.9 2 2 2h14c1.1 0 2-.9 2-2V5c0-1.1-.9-2-2-2zM9 17H7v-7h2v7zm4 0h-2V7h2v10zm4 0h-2v-4h2v4z\"/>\n",
              "    </g>\n",
              "</svg>\n",
              "  </button>\n",
              "\n",
              "<style>\n",
              "  .colab-df-quickchart {\n",
              "      --bg-color: #E8F0FE;\n",
              "      --fill-color: #1967D2;\n",
              "      --hover-bg-color: #E2EBFA;\n",
              "      --hover-fill-color: #174EA6;\n",
              "      --disabled-fill-color: #AAA;\n",
              "      --disabled-bg-color: #DDD;\n",
              "  }\n",
              "\n",
              "  [theme=dark] .colab-df-quickchart {\n",
              "      --bg-color: #3B4455;\n",
              "      --fill-color: #D2E3FC;\n",
              "      --hover-bg-color: #434B5C;\n",
              "      --hover-fill-color: #FFFFFF;\n",
              "      --disabled-bg-color: #3B4455;\n",
              "      --disabled-fill-color: #666;\n",
              "  }\n",
              "\n",
              "  .colab-df-quickchart {\n",
              "    background-color: var(--bg-color);\n",
              "    border: none;\n",
              "    border-radius: 50%;\n",
              "    cursor: pointer;\n",
              "    display: none;\n",
              "    fill: var(--fill-color);\n",
              "    height: 32px;\n",
              "    padding: 0;\n",
              "    width: 32px;\n",
              "  }\n",
              "\n",
              "  .colab-df-quickchart:hover {\n",
              "    background-color: var(--hover-bg-color);\n",
              "    box-shadow: 0 1px 2px rgba(60, 64, 67, 0.3), 0 1px 3px 1px rgba(60, 64, 67, 0.15);\n",
              "    fill: var(--button-hover-fill-color);\n",
              "  }\n",
              "\n",
              "  .colab-df-quickchart-complete:disabled,\n",
              "  .colab-df-quickchart-complete:disabled:hover {\n",
              "    background-color: var(--disabled-bg-color);\n",
              "    fill: var(--disabled-fill-color);\n",
              "    box-shadow: none;\n",
              "  }\n",
              "\n",
              "  .colab-df-spinner {\n",
              "    border: 2px solid var(--fill-color);\n",
              "    border-color: transparent;\n",
              "    border-bottom-color: var(--fill-color);\n",
              "    animation:\n",
              "      spin 1s steps(1) infinite;\n",
              "  }\n",
              "\n",
              "  @keyframes spin {\n",
              "    0% {\n",
              "      border-color: transparent;\n",
              "      border-bottom-color: var(--fill-color);\n",
              "      border-left-color: var(--fill-color);\n",
              "    }\n",
              "    20% {\n",
              "      border-color: transparent;\n",
              "      border-left-color: var(--fill-color);\n",
              "      border-top-color: var(--fill-color);\n",
              "    }\n",
              "    30% {\n",
              "      border-color: transparent;\n",
              "      border-left-color: var(--fill-color);\n",
              "      border-top-color: var(--fill-color);\n",
              "      border-right-color: var(--fill-color);\n",
              "    }\n",
              "    40% {\n",
              "      border-color: transparent;\n",
              "      border-right-color: var(--fill-color);\n",
              "      border-top-color: var(--fill-color);\n",
              "    }\n",
              "    60% {\n",
              "      border-color: transparent;\n",
              "      border-right-color: var(--fill-color);\n",
              "    }\n",
              "    80% {\n",
              "      border-color: transparent;\n",
              "      border-right-color: var(--fill-color);\n",
              "      border-bottom-color: var(--fill-color);\n",
              "    }\n",
              "    90% {\n",
              "      border-color: transparent;\n",
              "      border-bottom-color: var(--fill-color);\n",
              "    }\n",
              "  }\n",
              "</style>\n",
              "\n",
              "  <script>\n",
              "    async function quickchart(key) {\n",
              "      const quickchartButtonEl =\n",
              "        document.querySelector('#' + key + ' button');\n",
              "      quickchartButtonEl.disabled = true;  // To prevent multiple clicks.\n",
              "      quickchartButtonEl.classList.add('colab-df-spinner');\n",
              "      try {\n",
              "        const charts = await google.colab.kernel.invokeFunction(\n",
              "            'suggestCharts', [key], {});\n",
              "      } catch (error) {\n",
              "        console.error('Error during call to suggestCharts:', error);\n",
              "      }\n",
              "      quickchartButtonEl.classList.remove('colab-df-spinner');\n",
              "      quickchartButtonEl.classList.add('colab-df-quickchart-complete');\n",
              "    }\n",
              "    (() => {\n",
              "      let quickchartButtonEl =\n",
              "        document.querySelector('#df-ee10686b-a6a9-4823-8496-1aa193bb109d button');\n",
              "      quickchartButtonEl.style.display =\n",
              "        google.colab.kernel.accessAllowed ? 'block' : 'none';\n",
              "    })();\n",
              "  </script>\n",
              "</div>\n",
              "\n",
              "    </div>\n",
              "  </div>\n"
            ],
            "application/vnd.google.colaboratory.intrinsic+json": {
              "type": "dataframe",
              "variable_name": "df5",
              "summary": "{\n  \"name\": \"df5\",\n  \"rows\": 10000,\n  \"fields\": [\n    {\n      \"column\": \"voc_prod_sbt_id\",\n      \"properties\": {\n        \"dtype\": \"number\",\n        \"std\": 100577966,\n        \"min\": -998,\n        \"max\": 1001079425,\n        \"num_unique_values\": 562,\n        \"samples\": [\n          1001028242,\n          1000669709,\n          1001028767\n        ],\n        \"semantic_type\": \"\",\n        \"description\": \"\"\n      }\n    },\n    {\n      \"column\": \"voc_wjt_sorc_id\",\n      \"properties\": {\n        \"dtype\": \"number\",\n        \"std\": 1078,\n        \"min\": 126,\n        \"max\": 3856,\n        \"num_unique_values\": 473,\n        \"samples\": [\n          1561,\n          1631,\n          589\n        ],\n        \"semantic_type\": \"\",\n        \"description\": \"\"\n      }\n    },\n    {\n      \"column\": \"voc_type_itg_cd\",\n      \"properties\": {\n        \"dtype\": \"number\",\n        \"std\": 1,\n        \"min\": 10003,\n        \"max\": 10017,\n        \"num_unique_values\": 5,\n        \"samples\": [\n          10011,\n          10017,\n          10007\n        ],\n        \"semantic_type\": \"\",\n        \"description\": \"\"\n      }\n    },\n    {\n      \"column\": \"voc_sttus_itg_cd\",\n      \"properties\": {\n        \"dtype\": \"number\",\n        \"std\": 0,\n        \"min\": 10002,\n        \"max\": 10005,\n        \"num_unique_values\": 3,\n        \"samples\": [\n          10002,\n          10003,\n          10005\n        ],\n        \"semantic_type\": \"\",\n        \"description\": \"\"\n      }\n    },\n    {\n      \"column\": \"cust_clas_itg_cd\",\n      \"properties\": {\n        \"dtype\": \"number\",\n        \"std\": 1,\n        \"min\": 0,\n        \"max\": 7,\n        \"num_unique_values\": 8,\n        \"samples\": [\n          1,\n          4,\n          0\n        ],\n        \"semantic_type\": \"\",\n        \"description\": \"\"\n      }\n    },\n    {\n      \"column\": \"bprod_sbt_id\",\n      \"properties\": {\n        \"dtype\": \"number\",\n        \"std\": 321422933,\n        \"min\": -998,\n        \"max\": 1001078031,\n        \"num_unique_values\": 272,\n        \"samples\": [\n          1000702598,\n          1001038994,\n          1000852095\n        ],\n        \"semantic_type\": \"\",\n        \"description\": \"\"\n      }\n    },\n    {\n      \"column\": \"age_itg_cd\",\n      \"properties\": {\n        \"dtype\": \"number\",\n        \"std\": 13,\n        \"min\": 6,\n        \"max\": 103,\n        \"num_unique_values\": 94,\n        \"samples\": [\n          75,\n          54,\n          20\n        ],\n        \"semantic_type\": \"\",\n        \"description\": \"\"\n      }\n    },\n    {\n      \"column\": \"cont_sttus_itg_cd\",\n      \"properties\": {\n        \"dtype\": \"category\",\n        \"num_unique_values\": 7,\n        \"samples\": [\n          \"10001\",\n          \"10007\",\n          \"10006\"\n        ],\n        \"semantic_type\": \"\",\n        \"description\": \"\"\n      }\n    },\n    {\n      \"column\": \"cust_dtl_ctg_itg_cd\",\n      \"properties\": {\n        \"dtype\": \"category\",\n        \"num_unique_values\": 12,\n        \"samples\": [\n          \"10001\",\n          \"10011\",\n          \"10003\"\n        ],\n        \"semantic_type\": \"\",\n        \"description\": \"\"\n      }\n    },\n    {\n      \"column\": \"voc_trt_degr_div_itg_cd\",\n      \"properties\": {\n        \"dtype\": \"number\",\n        \"std\": 0,\n        \"min\": 20001,\n        \"max\": 20002,\n        \"num_unique_values\": 2,\n        \"samples\": [\n          20002,\n          20001\n        ],\n        \"semantic_type\": \"\",\n        \"description\": \"\"\n      }\n    },\n    {\n      \"column\": \"voc_dupl_tmscnt\",\n      \"properties\": {\n        \"dtype\": \"number\",\n        \"std\": 0,\n        \"min\": 0,\n        \"max\": 3,\n        \"num_unique_values\": 4,\n        \"samples\": [\n          1,\n          3\n        ],\n        \"semantic_type\": \"\",\n        \"description\": \"\"\n      }\n    },\n    {\n      \"column\": \"voc_trt_need_time_itg_cd\",\n      \"properties\": {\n        \"dtype\": \"number\",\n        \"std\": 6,\n        \"min\": 10001,\n        \"max\": 10038,\n        \"num_unique_values\": 36,\n        \"samples\": [\n          10023,\n          10016\n        ],\n        \"semantic_type\": \"\",\n        \"description\": \"\"\n      }\n    },\n    {\n      \"column\": \"cust_snsry_base_conf_need_time\",\n      \"properties\": {\n        \"dtype\": \"number\",\n        \"std\": 6970,\n        \"min\": 0,\n        \"max\": 367991,\n        \"num_unique_values\": 46,\n        \"samples\": [\n          2238,\n          844\n        ],\n        \"semantic_type\": \"\",\n        \"description\": \"\"\n      }\n    },\n    {\n      \"column\": \"trm_yn\",\n      \"properties\": {\n        \"dtype\": \"category\",\n        \"num_unique_values\": 2,\n        \"samples\": [\n          \"Y\",\n          \"N\"\n        ],\n        \"semantic_type\": \"\",\n        \"description\": \"\"\n      }\n    }\n  ]\n}"
            }
          },
          "metadata": {},
          "execution_count": 277
        }
      ]
    },
    {
      "cell_type": "markdown",
      "metadata": {
        "id": "5vEvv32NSVTA"
      },
      "source": [
        "<br>\n",
        "<font color=blue>5-2. df5의 나머지 object 컬럼에 대해서 One-Hot-Encoding될수 있도록 Pandas의 get_dummies 함수를 적용하세요. (적용 후 df6에 저장)</font>"
      ]
    },
    {
      "cell_type": "code",
      "execution_count": null,
      "metadata": {
        "id": "htVCDo8RSVTA"
      },
      "outputs": [],
      "source": [
        "# 여기에 답안코드를 작성하세요.\n",
        "df6 = pd.get_dummies(df5, columns=df5.select_dtypes(include=['object']).columns, drop_first=True)"
      ]
    },
    {
      "cell_type": "code",
      "source": [
        "df6.head()"
      ],
      "metadata": {
        "colab": {
          "base_uri": "https://localhost:8080/",
          "height": 255
        },
        "id": "BrOp6oG6atF-",
        "outputId": "797a7530-2324-4ef3-f11a-4f654ec416a8"
      },
      "execution_count": null,
      "outputs": [
        {
          "output_type": "execute_result",
          "data": {
            "text/plain": [
              "   voc_prod_sbt_id  voc_wjt_sorc_id  voc_type_itg_cd  voc_sttus_itg_cd  \\\n",
              "0       1000665328             2153            10009             10002   \n",
              "1       1001028714             3311            10009             10002   \n",
              "2       1001028567             1575            10009             10002   \n",
              "3       1000665328             3546            10009             10002   \n",
              "4       1000779276             3086            10009             10002   \n",
              "\n",
              "   cust_clas_itg_cd  bprod_sbt_id  age_itg_cd  voc_trt_degr_div_itg_cd  \\\n",
              "0                 0    1000001126          36                    20001   \n",
              "1                 1    1000852226          32                    20001   \n",
              "2                 1    1000851875          52                    20001   \n",
              "3                 5    1000001126          49                    20001   \n",
              "4                 1    1000764639          50                    20001   \n",
              "\n",
              "   voc_dupl_tmscnt  voc_trt_need_time_itg_cd  ...  cust_dtl_ctg_itg_cd_10004  \\\n",
              "0                0                     10001  ...                      False   \n",
              "1                0                     10001  ...                      False   \n",
              "2                0                     10001  ...                      False   \n",
              "3                0                     10001  ...                      False   \n",
              "4                0                     10001  ...                      False   \n",
              "\n",
              "   cust_dtl_ctg_itg_cd_10011  cust_dtl_ctg_itg_cd_10018  \\\n",
              "0                      False                      False   \n",
              "1                      False                      False   \n",
              "2                      False                      False   \n",
              "3                      False                      False   \n",
              "4                      False                      False   \n",
              "\n",
              "   cust_dtl_ctg_itg_cd_10019  cust_dtl_ctg_itg_cd_90024  \\\n",
              "0                      False                      False   \n",
              "1                      False                      False   \n",
              "2                      False                      False   \n",
              "3                      False                       True   \n",
              "4                      False                       True   \n",
              "\n",
              "   cust_dtl_ctg_itg_cd_90027  cust_dtl_ctg_itg_cd_90029  \\\n",
              "0                      False                      False   \n",
              "1                      False                      False   \n",
              "2                      False                      False   \n",
              "3                      False                      False   \n",
              "4                      False                      False   \n",
              "\n",
              "   cust_dtl_ctg_itg_cd_90030  cust_dtl_ctg_itg_cd_90056  trm_yn_Y  \n",
              "0                      False                      False     False  \n",
              "1                      False                      False     False  \n",
              "2                      False                      False     False  \n",
              "3                      False                      False     False  \n",
              "4                      False                      False     False  \n",
              "\n",
              "[5 rows x 29 columns]"
            ],
            "text/html": [
              "\n",
              "  <div id=\"df-d5f272b5-c1ce-4df4-ab17-858af91a6b9c\" class=\"colab-df-container\">\n",
              "    <div>\n",
              "<style scoped>\n",
              "    .dataframe tbody tr th:only-of-type {\n",
              "        vertical-align: middle;\n",
              "    }\n",
              "\n",
              "    .dataframe tbody tr th {\n",
              "        vertical-align: top;\n",
              "    }\n",
              "\n",
              "    .dataframe thead th {\n",
              "        text-align: right;\n",
              "    }\n",
              "</style>\n",
              "<table border=\"1\" class=\"dataframe\">\n",
              "  <thead>\n",
              "    <tr style=\"text-align: right;\">\n",
              "      <th></th>\n",
              "      <th>voc_prod_sbt_id</th>\n",
              "      <th>voc_wjt_sorc_id</th>\n",
              "      <th>voc_type_itg_cd</th>\n",
              "      <th>voc_sttus_itg_cd</th>\n",
              "      <th>cust_clas_itg_cd</th>\n",
              "      <th>bprod_sbt_id</th>\n",
              "      <th>age_itg_cd</th>\n",
              "      <th>voc_trt_degr_div_itg_cd</th>\n",
              "      <th>voc_dupl_tmscnt</th>\n",
              "      <th>voc_trt_need_time_itg_cd</th>\n",
              "      <th>...</th>\n",
              "      <th>cust_dtl_ctg_itg_cd_10004</th>\n",
              "      <th>cust_dtl_ctg_itg_cd_10011</th>\n",
              "      <th>cust_dtl_ctg_itg_cd_10018</th>\n",
              "      <th>cust_dtl_ctg_itg_cd_10019</th>\n",
              "      <th>cust_dtl_ctg_itg_cd_90024</th>\n",
              "      <th>cust_dtl_ctg_itg_cd_90027</th>\n",
              "      <th>cust_dtl_ctg_itg_cd_90029</th>\n",
              "      <th>cust_dtl_ctg_itg_cd_90030</th>\n",
              "      <th>cust_dtl_ctg_itg_cd_90056</th>\n",
              "      <th>trm_yn_Y</th>\n",
              "    </tr>\n",
              "  </thead>\n",
              "  <tbody>\n",
              "    <tr>\n",
              "      <th>0</th>\n",
              "      <td>1000665328</td>\n",
              "      <td>2153</td>\n",
              "      <td>10009</td>\n",
              "      <td>10002</td>\n",
              "      <td>0</td>\n",
              "      <td>1000001126</td>\n",
              "      <td>36</td>\n",
              "      <td>20001</td>\n",
              "      <td>0</td>\n",
              "      <td>10001</td>\n",
              "      <td>...</td>\n",
              "      <td>False</td>\n",
              "      <td>False</td>\n",
              "      <td>False</td>\n",
              "      <td>False</td>\n",
              "      <td>False</td>\n",
              "      <td>False</td>\n",
              "      <td>False</td>\n",
              "      <td>False</td>\n",
              "      <td>False</td>\n",
              "      <td>False</td>\n",
              "    </tr>\n",
              "    <tr>\n",
              "      <th>1</th>\n",
              "      <td>1001028714</td>\n",
              "      <td>3311</td>\n",
              "      <td>10009</td>\n",
              "      <td>10002</td>\n",
              "      <td>1</td>\n",
              "      <td>1000852226</td>\n",
              "      <td>32</td>\n",
              "      <td>20001</td>\n",
              "      <td>0</td>\n",
              "      <td>10001</td>\n",
              "      <td>...</td>\n",
              "      <td>False</td>\n",
              "      <td>False</td>\n",
              "      <td>False</td>\n",
              "      <td>False</td>\n",
              "      <td>False</td>\n",
              "      <td>False</td>\n",
              "      <td>False</td>\n",
              "      <td>False</td>\n",
              "      <td>False</td>\n",
              "      <td>False</td>\n",
              "    </tr>\n",
              "    <tr>\n",
              "      <th>2</th>\n",
              "      <td>1001028567</td>\n",
              "      <td>1575</td>\n",
              "      <td>10009</td>\n",
              "      <td>10002</td>\n",
              "      <td>1</td>\n",
              "      <td>1000851875</td>\n",
              "      <td>52</td>\n",
              "      <td>20001</td>\n",
              "      <td>0</td>\n",
              "      <td>10001</td>\n",
              "      <td>...</td>\n",
              "      <td>False</td>\n",
              "      <td>False</td>\n",
              "      <td>False</td>\n",
              "      <td>False</td>\n",
              "      <td>False</td>\n",
              "      <td>False</td>\n",
              "      <td>False</td>\n",
              "      <td>False</td>\n",
              "      <td>False</td>\n",
              "      <td>False</td>\n",
              "    </tr>\n",
              "    <tr>\n",
              "      <th>3</th>\n",
              "      <td>1000665328</td>\n",
              "      <td>3546</td>\n",
              "      <td>10009</td>\n",
              "      <td>10002</td>\n",
              "      <td>5</td>\n",
              "      <td>1000001126</td>\n",
              "      <td>49</td>\n",
              "      <td>20001</td>\n",
              "      <td>0</td>\n",
              "      <td>10001</td>\n",
              "      <td>...</td>\n",
              "      <td>False</td>\n",
              "      <td>False</td>\n",
              "      <td>False</td>\n",
              "      <td>False</td>\n",
              "      <td>True</td>\n",
              "      <td>False</td>\n",
              "      <td>False</td>\n",
              "      <td>False</td>\n",
              "      <td>False</td>\n",
              "      <td>False</td>\n",
              "    </tr>\n",
              "    <tr>\n",
              "      <th>4</th>\n",
              "      <td>1000779276</td>\n",
              "      <td>3086</td>\n",
              "      <td>10009</td>\n",
              "      <td>10002</td>\n",
              "      <td>1</td>\n",
              "      <td>1000764639</td>\n",
              "      <td>50</td>\n",
              "      <td>20001</td>\n",
              "      <td>0</td>\n",
              "      <td>10001</td>\n",
              "      <td>...</td>\n",
              "      <td>False</td>\n",
              "      <td>False</td>\n",
              "      <td>False</td>\n",
              "      <td>False</td>\n",
              "      <td>True</td>\n",
              "      <td>False</td>\n",
              "      <td>False</td>\n",
              "      <td>False</td>\n",
              "      <td>False</td>\n",
              "      <td>False</td>\n",
              "    </tr>\n",
              "  </tbody>\n",
              "</table>\n",
              "<p>5 rows × 29 columns</p>\n",
              "</div>\n",
              "    <div class=\"colab-df-buttons\">\n",
              "\n",
              "  <div class=\"colab-df-container\">\n",
              "    <button class=\"colab-df-convert\" onclick=\"convertToInteractive('df-d5f272b5-c1ce-4df4-ab17-858af91a6b9c')\"\n",
              "            title=\"Convert this dataframe to an interactive table.\"\n",
              "            style=\"display:none;\">\n",
              "\n",
              "  <svg xmlns=\"http://www.w3.org/2000/svg\" height=\"24px\" viewBox=\"0 -960 960 960\">\n",
              "    <path d=\"M120-120v-720h720v720H120Zm60-500h600v-160H180v160Zm220 220h160v-160H400v160Zm0 220h160v-160H400v160ZM180-400h160v-160H180v160Zm440 0h160v-160H620v160ZM180-180h160v-160H180v160Zm440 0h160v-160H620v160Z\"/>\n",
              "  </svg>\n",
              "    </button>\n",
              "\n",
              "  <style>\n",
              "    .colab-df-container {\n",
              "      display:flex;\n",
              "      gap: 12px;\n",
              "    }\n",
              "\n",
              "    .colab-df-convert {\n",
              "      background-color: #E8F0FE;\n",
              "      border: none;\n",
              "      border-radius: 50%;\n",
              "      cursor: pointer;\n",
              "      display: none;\n",
              "      fill: #1967D2;\n",
              "      height: 32px;\n",
              "      padding: 0 0 0 0;\n",
              "      width: 32px;\n",
              "    }\n",
              "\n",
              "    .colab-df-convert:hover {\n",
              "      background-color: #E2EBFA;\n",
              "      box-shadow: 0px 1px 2px rgba(60, 64, 67, 0.3), 0px 1px 3px 1px rgba(60, 64, 67, 0.15);\n",
              "      fill: #174EA6;\n",
              "    }\n",
              "\n",
              "    .colab-df-buttons div {\n",
              "      margin-bottom: 4px;\n",
              "    }\n",
              "\n",
              "    [theme=dark] .colab-df-convert {\n",
              "      background-color: #3B4455;\n",
              "      fill: #D2E3FC;\n",
              "    }\n",
              "\n",
              "    [theme=dark] .colab-df-convert:hover {\n",
              "      background-color: #434B5C;\n",
              "      box-shadow: 0px 1px 3px 1px rgba(0, 0, 0, 0.15);\n",
              "      filter: drop-shadow(0px 1px 2px rgba(0, 0, 0, 0.3));\n",
              "      fill: #FFFFFF;\n",
              "    }\n",
              "  </style>\n",
              "\n",
              "    <script>\n",
              "      const buttonEl =\n",
              "        document.querySelector('#df-d5f272b5-c1ce-4df4-ab17-858af91a6b9c button.colab-df-convert');\n",
              "      buttonEl.style.display =\n",
              "        google.colab.kernel.accessAllowed ? 'block' : 'none';\n",
              "\n",
              "      async function convertToInteractive(key) {\n",
              "        const element = document.querySelector('#df-d5f272b5-c1ce-4df4-ab17-858af91a6b9c');\n",
              "        const dataTable =\n",
              "          await google.colab.kernel.invokeFunction('convertToInteractive',\n",
              "                                                    [key], {});\n",
              "        if (!dataTable) return;\n",
              "\n",
              "        const docLinkHtml = 'Like what you see? Visit the ' +\n",
              "          '<a target=\"_blank\" href=https://colab.research.google.com/notebooks/data_table.ipynb>data table notebook</a>'\n",
              "          + ' to learn more about interactive tables.';\n",
              "        element.innerHTML = '';\n",
              "        dataTable['output_type'] = 'display_data';\n",
              "        await google.colab.output.renderOutput(dataTable, element);\n",
              "        const docLink = document.createElement('div');\n",
              "        docLink.innerHTML = docLinkHtml;\n",
              "        element.appendChild(docLink);\n",
              "      }\n",
              "    </script>\n",
              "  </div>\n",
              "\n",
              "\n",
              "<div id=\"df-604cd938-cd4e-47b6-9cb1-39a7ece08b14\">\n",
              "  <button class=\"colab-df-quickchart\" onclick=\"quickchart('df-604cd938-cd4e-47b6-9cb1-39a7ece08b14')\"\n",
              "            title=\"Suggest charts\"\n",
              "            style=\"display:none;\">\n",
              "\n",
              "<svg xmlns=\"http://www.w3.org/2000/svg\" height=\"24px\"viewBox=\"0 0 24 24\"\n",
              "     width=\"24px\">\n",
              "    <g>\n",
              "        <path d=\"M19 3H5c-1.1 0-2 .9-2 2v14c0 1.1.9 2 2 2h14c1.1 0 2-.9 2-2V5c0-1.1-.9-2-2-2zM9 17H7v-7h2v7zm4 0h-2V7h2v10zm4 0h-2v-4h2v4z\"/>\n",
              "    </g>\n",
              "</svg>\n",
              "  </button>\n",
              "\n",
              "<style>\n",
              "  .colab-df-quickchart {\n",
              "      --bg-color: #E8F0FE;\n",
              "      --fill-color: #1967D2;\n",
              "      --hover-bg-color: #E2EBFA;\n",
              "      --hover-fill-color: #174EA6;\n",
              "      --disabled-fill-color: #AAA;\n",
              "      --disabled-bg-color: #DDD;\n",
              "  }\n",
              "\n",
              "  [theme=dark] .colab-df-quickchart {\n",
              "      --bg-color: #3B4455;\n",
              "      --fill-color: #D2E3FC;\n",
              "      --hover-bg-color: #434B5C;\n",
              "      --hover-fill-color: #FFFFFF;\n",
              "      --disabled-bg-color: #3B4455;\n",
              "      --disabled-fill-color: #666;\n",
              "  }\n",
              "\n",
              "  .colab-df-quickchart {\n",
              "    background-color: var(--bg-color);\n",
              "    border: none;\n",
              "    border-radius: 50%;\n",
              "    cursor: pointer;\n",
              "    display: none;\n",
              "    fill: var(--fill-color);\n",
              "    height: 32px;\n",
              "    padding: 0;\n",
              "    width: 32px;\n",
              "  }\n",
              "\n",
              "  .colab-df-quickchart:hover {\n",
              "    background-color: var(--hover-bg-color);\n",
              "    box-shadow: 0 1px 2px rgba(60, 64, 67, 0.3), 0 1px 3px 1px rgba(60, 64, 67, 0.15);\n",
              "    fill: var(--button-hover-fill-color);\n",
              "  }\n",
              "\n",
              "  .colab-df-quickchart-complete:disabled,\n",
              "  .colab-df-quickchart-complete:disabled:hover {\n",
              "    background-color: var(--disabled-bg-color);\n",
              "    fill: var(--disabled-fill-color);\n",
              "    box-shadow: none;\n",
              "  }\n",
              "\n",
              "  .colab-df-spinner {\n",
              "    border: 2px solid var(--fill-color);\n",
              "    border-color: transparent;\n",
              "    border-bottom-color: var(--fill-color);\n",
              "    animation:\n",
              "      spin 1s steps(1) infinite;\n",
              "  }\n",
              "\n",
              "  @keyframes spin {\n",
              "    0% {\n",
              "      border-color: transparent;\n",
              "      border-bottom-color: var(--fill-color);\n",
              "      border-left-color: var(--fill-color);\n",
              "    }\n",
              "    20% {\n",
              "      border-color: transparent;\n",
              "      border-left-color: var(--fill-color);\n",
              "      border-top-color: var(--fill-color);\n",
              "    }\n",
              "    30% {\n",
              "      border-color: transparent;\n",
              "      border-left-color: var(--fill-color);\n",
              "      border-top-color: var(--fill-color);\n",
              "      border-right-color: var(--fill-color);\n",
              "    }\n",
              "    40% {\n",
              "      border-color: transparent;\n",
              "      border-right-color: var(--fill-color);\n",
              "      border-top-color: var(--fill-color);\n",
              "    }\n",
              "    60% {\n",
              "      border-color: transparent;\n",
              "      border-right-color: var(--fill-color);\n",
              "    }\n",
              "    80% {\n",
              "      border-color: transparent;\n",
              "      border-right-color: var(--fill-color);\n",
              "      border-bottom-color: var(--fill-color);\n",
              "    }\n",
              "    90% {\n",
              "      border-color: transparent;\n",
              "      border-bottom-color: var(--fill-color);\n",
              "    }\n",
              "  }\n",
              "</style>\n",
              "\n",
              "  <script>\n",
              "    async function quickchart(key) {\n",
              "      const quickchartButtonEl =\n",
              "        document.querySelector('#' + key + ' button');\n",
              "      quickchartButtonEl.disabled = true;  // To prevent multiple clicks.\n",
              "      quickchartButtonEl.classList.add('colab-df-spinner');\n",
              "      try {\n",
              "        const charts = await google.colab.kernel.invokeFunction(\n",
              "            'suggestCharts', [key], {});\n",
              "      } catch (error) {\n",
              "        console.error('Error during call to suggestCharts:', error);\n",
              "      }\n",
              "      quickchartButtonEl.classList.remove('colab-df-spinner');\n",
              "      quickchartButtonEl.classList.add('colab-df-quickchart-complete');\n",
              "    }\n",
              "    (() => {\n",
              "      let quickchartButtonEl =\n",
              "        document.querySelector('#df-604cd938-cd4e-47b6-9cb1-39a7ece08b14 button');\n",
              "      quickchartButtonEl.style.display =\n",
              "        google.colab.kernel.accessAllowed ? 'block' : 'none';\n",
              "    })();\n",
              "  </script>\n",
              "</div>\n",
              "\n",
              "    </div>\n",
              "  </div>\n"
            ],
            "application/vnd.google.colaboratory.intrinsic+json": {
              "type": "dataframe",
              "variable_name": "df6"
            }
          },
          "metadata": {},
          "execution_count": 279
        }
      ]
    },
    {
      "cell_type": "markdown",
      "metadata": {
        "id": "mzZGz1EZSVTA"
      },
      "source": [
        "## **<span style=\"color:black\">6. x,y 데이터 분리</span>**"
      ]
    },
    {
      "cell_type": "markdown",
      "metadata": {
        "id": "9KdUTh_kSVTA"
      },
      "source": [
        "<br>\n",
        "<font color=blue>6-1. df6에 대해 X, y 값을 가지고 8:2 비율로 Train , Test Dataset으로 나누세요. (y 클래스 비율에 맞게 분리, y 값은 'trm_yn_Y' 컬럼, random_state는 42)</font>"
      ]
    },
    {
      "cell_type": "code",
      "execution_count": null,
      "metadata": {
        "id": "lv2DkrIzSVTA"
      },
      "outputs": [],
      "source": [
        "# 여기에 답안코드를 작성하세요.\n",
        "x = df6.drop('trm_yn_Y', axis=1)\n",
        "y = df6['trm_yn_Y']"
      ]
    },
    {
      "cell_type": "code",
      "source": [
        "from sklearn.model_selection import train_test_split\n",
        "x_train, x_test, y_train, y_test = train_test_split(x, y, test_size=0.2, stratify=y, random_state=42)"
      ],
      "metadata": {
        "id": "lhuXgrLzbbA1"
      },
      "execution_count": null,
      "outputs": []
    },
    {
      "cell_type": "code",
      "source": [
        "x_train.shape, x_test.shape, y_train.shape, y_test.shape"
      ],
      "metadata": {
        "colab": {
          "base_uri": "https://localhost:8080/"
        },
        "id": "tOMeZXjubemT",
        "outputId": "5cc12a6c-7340-467e-a124-b3cbcabcf492"
      },
      "execution_count": null,
      "outputs": [
        {
          "output_type": "execute_result",
          "data": {
            "text/plain": [
              "((8000, 28), (2000, 28), (8000,), (2000,))"
            ]
          },
          "metadata": {},
          "execution_count": 282
        }
      ]
    },
    {
      "cell_type": "markdown",
      "metadata": {
        "id": "psrLr7eTSVTA"
      },
      "source": [
        "<br>"
      ]
    },
    {
      "cell_type": "markdown",
      "metadata": {
        "id": "5JGEbuhhSVTA"
      },
      "source": [
        "## **<span style=\"color:black\">7. 데이터 정규분포화, 표준화</span>**"
      ]
    },
    {
      "cell_type": "markdown",
      "metadata": {
        "id": "fnRAZJ0_SVTA"
      },
      "source": [
        "<br>\n",
        "<font color=blue>7-1. 사이킷런의 StandardScaler로 훈련데이터셋은 정규분포화(fit_transform)하고 테스트 데이터셋은 표준화(transform)하세요.</font>"
      ]
    },
    {
      "cell_type": "code",
      "execution_count": null,
      "metadata": {
        "id": "Ye_uCcQbSVTB"
      },
      "outputs": [],
      "source": [
        "# 여기에 답안코드를 작성하세요.\n",
        "from sklearn.preprocessing import StandardScaler\n",
        "scaler = StandardScaler()\n",
        "x_train_s = scaler.fit_transform(x_train)\n",
        "x_test_s = scaler.transform(x_test)"
      ]
    },
    {
      "cell_type": "markdown",
      "metadata": {
        "id": "QO-GTPzlSVTB"
      },
      "source": [
        "## **<span style=\"color:black\">8. 머신러닝 모델링 & 모델 성능평가 및 그래프 출력</span>**"
      ]
    },
    {
      "cell_type": "markdown",
      "metadata": {
        "id": "uFq332gYSVTB"
      },
      "source": [
        "### 로지스틱 회귀 (LogisticRegression, 분류)"
      ]
    },
    {
      "cell_type": "markdown",
      "metadata": {
        "id": "aRZgvTF5SVTB"
      },
      "source": [
        "<br>\n",
        "<font color=blue>8-1. LogisticRegression 모델을 만들고 학습을 진행하세요 (단, 규제강도C는 10으로 설정, 계산에 사용할 작업수 max_iter는 2000으로 설정하세요)</font>"
      ]
    },
    {
      "cell_type": "code",
      "execution_count": null,
      "metadata": {
        "colab": {
          "base_uri": "https://localhost:8080/",
          "height": 75
        },
        "id": "yXJoqy1dSVTB",
        "outputId": "5908222a-43df-4e46-e2b1-ac73a8b3fe26"
      },
      "outputs": [
        {
          "output_type": "execute_result",
          "data": {
            "text/plain": [
              "LogisticRegression(C=10, max_iter=2000)"
            ],
            "text/html": [
              "<style>#sk-container-id-14 {color: black;background-color: white;}#sk-container-id-14 pre{padding: 0;}#sk-container-id-14 div.sk-toggleable {background-color: white;}#sk-container-id-14 label.sk-toggleable__label {cursor: pointer;display: block;width: 100%;margin-bottom: 0;padding: 0.3em;box-sizing: border-box;text-align: center;}#sk-container-id-14 label.sk-toggleable__label-arrow:before {content: \"▸\";float: left;margin-right: 0.25em;color: #696969;}#sk-container-id-14 label.sk-toggleable__label-arrow:hover:before {color: black;}#sk-container-id-14 div.sk-estimator:hover label.sk-toggleable__label-arrow:before {color: black;}#sk-container-id-14 div.sk-toggleable__content {max-height: 0;max-width: 0;overflow: hidden;text-align: left;background-color: #f0f8ff;}#sk-container-id-14 div.sk-toggleable__content pre {margin: 0.2em;color: black;border-radius: 0.25em;background-color: #f0f8ff;}#sk-container-id-14 input.sk-toggleable__control:checked~div.sk-toggleable__content {max-height: 200px;max-width: 100%;overflow: auto;}#sk-container-id-14 input.sk-toggleable__control:checked~label.sk-toggleable__label-arrow:before {content: \"▾\";}#sk-container-id-14 div.sk-estimator input.sk-toggleable__control:checked~label.sk-toggleable__label {background-color: #d4ebff;}#sk-container-id-14 div.sk-label input.sk-toggleable__control:checked~label.sk-toggleable__label {background-color: #d4ebff;}#sk-container-id-14 input.sk-hidden--visually {border: 0;clip: rect(1px 1px 1px 1px);clip: rect(1px, 1px, 1px, 1px);height: 1px;margin: -1px;overflow: hidden;padding: 0;position: absolute;width: 1px;}#sk-container-id-14 div.sk-estimator {font-family: monospace;background-color: #f0f8ff;border: 1px dotted black;border-radius: 0.25em;box-sizing: border-box;margin-bottom: 0.5em;}#sk-container-id-14 div.sk-estimator:hover {background-color: #d4ebff;}#sk-container-id-14 div.sk-parallel-item::after {content: \"\";width: 100%;border-bottom: 1px solid gray;flex-grow: 1;}#sk-container-id-14 div.sk-label:hover label.sk-toggleable__label {background-color: #d4ebff;}#sk-container-id-14 div.sk-serial::before {content: \"\";position: absolute;border-left: 1px solid gray;box-sizing: border-box;top: 0;bottom: 0;left: 50%;z-index: 0;}#sk-container-id-14 div.sk-serial {display: flex;flex-direction: column;align-items: center;background-color: white;padding-right: 0.2em;padding-left: 0.2em;position: relative;}#sk-container-id-14 div.sk-item {position: relative;z-index: 1;}#sk-container-id-14 div.sk-parallel {display: flex;align-items: stretch;justify-content: center;background-color: white;position: relative;}#sk-container-id-14 div.sk-item::before, #sk-container-id-14 div.sk-parallel-item::before {content: \"\";position: absolute;border-left: 1px solid gray;box-sizing: border-box;top: 0;bottom: 0;left: 50%;z-index: -1;}#sk-container-id-14 div.sk-parallel-item {display: flex;flex-direction: column;z-index: 1;position: relative;background-color: white;}#sk-container-id-14 div.sk-parallel-item:first-child::after {align-self: flex-end;width: 50%;}#sk-container-id-14 div.sk-parallel-item:last-child::after {align-self: flex-start;width: 50%;}#sk-container-id-14 div.sk-parallel-item:only-child::after {width: 0;}#sk-container-id-14 div.sk-dashed-wrapped {border: 1px dashed gray;margin: 0 0.4em 0.5em 0.4em;box-sizing: border-box;padding-bottom: 0.4em;background-color: white;}#sk-container-id-14 div.sk-label label {font-family: monospace;font-weight: bold;display: inline-block;line-height: 1.2em;}#sk-container-id-14 div.sk-label-container {text-align: center;}#sk-container-id-14 div.sk-container {/* jupyter's `normalize.less` sets `[hidden] { display: none; }` but bootstrap.min.css set `[hidden] { display: none !important; }` so we also need the `!important` here to be able to override the default hidden behavior on the sphinx rendered scikit-learn.org. See: https://github.com/scikit-learn/scikit-learn/issues/21755 */display: inline-block !important;position: relative;}#sk-container-id-14 div.sk-text-repr-fallback {display: none;}</style><div id=\"sk-container-id-14\" class=\"sk-top-container\"><div class=\"sk-text-repr-fallback\"><pre>LogisticRegression(C=10, max_iter=2000)</pre><b>In a Jupyter environment, please rerun this cell to show the HTML representation or trust the notebook. <br />On GitHub, the HTML representation is unable to render, please try loading this page with nbviewer.org.</b></div><div class=\"sk-container\" hidden><div class=\"sk-item\"><div class=\"sk-estimator sk-toggleable\"><input class=\"sk-toggleable__control sk-hidden--visually\" id=\"sk-estimator-id-14\" type=\"checkbox\" checked><label for=\"sk-estimator-id-14\" class=\"sk-toggleable__label sk-toggleable__label-arrow\">LogisticRegression</label><div class=\"sk-toggleable__content\"><pre>LogisticRegression(C=10, max_iter=2000)</pre></div></div></div></div></div>"
            ]
          },
          "metadata": {},
          "execution_count": 284
        }
      ],
      "source": [
        "# 여기에 답안코드를 작성하세요.\n",
        "from sklearn.linear_model import LogisticRegression\n",
        "\n",
        "model = LogisticRegression(C=10, max_iter=2000)\n",
        "\n",
        "model.fit(x_train_s, y_train)"
      ]
    },
    {
      "cell_type": "markdown",
      "metadata": {
        "id": "1dQQTglBSVTB"
      },
      "source": [
        "<br>\n",
        "<font color=blue>8-2. 위 모델의 성능을 평가하려고 합니다. y값을 예측하여 confusion matrix를 구하고 heatmap 그래프로 시각화하세요. 그리고 Scikit-learn의 classification_report를 활용하여 성능을 출력하세요.</font>"
      ]
    },
    {
      "cell_type": "code",
      "execution_count": null,
      "metadata": {
        "id": "PEyuioLUSVTB"
      },
      "outputs": [],
      "source": [
        "# 여기에 답안코드를 작성하세요.\n",
        "y_pred = model.predict(x_test_s)"
      ]
    },
    {
      "cell_type": "code",
      "source": [
        "from sklearn.metrics import confusion_matrix\n",
        "conf_matrix = confusion_matrix(y_test, y_pred)\n",
        "print(conf_matrix)"
      ],
      "metadata": {
        "colab": {
          "base_uri": "https://localhost:8080/"
        },
        "id": "BLLZ9MWWcj4x",
        "outputId": "9970465a-e546-498d-ff31-201b384018ef"
      },
      "execution_count": null,
      "outputs": [
        {
          "output_type": "stream",
          "name": "stdout",
          "text": [
            "[[1954    1]\n",
            " [  44    1]]\n"
          ]
        }
      ]
    },
    {
      "cell_type": "code",
      "source": [
        "plt.figure(figsize=(8, 6))\n",
        "sns.heatmap(conf_matrix, annot=True, fmt='d', cmap='Blues', linewidths=.5)\n",
        "plt.xlabel('Predicted label')\n",
        "plt.ylabel('True label')\n",
        "plt.title('Confusion Matrix')\n",
        "plt.show()"
      ],
      "metadata": {
        "colab": {
          "base_uri": "https://localhost:8080/",
          "height": 564
        },
        "id": "qajq-Mpbcocz",
        "outputId": "79dd3543-e793-4e2e-a30a-7b0bb30b9ca3"
      },
      "execution_count": null,
      "outputs": [
        {
          "output_type": "display_data",
          "data": {
            "text/plain": [
              "<Figure size 800x600 with 2 Axes>"
            ],
            "image/png": "[encoded data removed]"
          },
          "metadata": {}
        }
      ]
    },
    {
      "cell_type": "code",
      "source": [
        "from sklearn.metrics import classification_report\n",
        "print(classification_report(y_test, y_pred))"
      ],
      "metadata": {
        "colab": {
          "base_uri": "https://localhost:8080/"
        },
        "id": "atMeGteZfOgP",
        "outputId": "872a6243-fa65-4410-bbe0-1bf299323d19"
      },
      "execution_count": null,
      "outputs": [
        {
          "output_type": "stream",
          "name": "stdout",
          "text": [
            "              precision    recall  f1-score   support\n",
            "\n",
            "       False       0.98      1.00      0.99      1955\n",
            "        True       0.50      0.02      0.04        45\n",
            "\n",
            "    accuracy                           0.98      2000\n",
            "   macro avg       0.74      0.51      0.52      2000\n",
            "weighted avg       0.97      0.98      0.97      2000\n",
            "\n"
          ]
        }
      ]
    },
    {
      "cell_type": "markdown",
      "metadata": {
        "id": "AJajEIJCSVTB"
      },
      "source": [
        "<br>\n",
        "<font color=blue>8-3. DecisionTree 모델을 만들고 학습을 진행하세요. (단, max_depth는 10, random_state는 42로 설정)</font>"
      ]
    },
    {
      "cell_type": "code",
      "execution_count": null,
      "metadata": {
        "colab": {
          "base_uri": "https://localhost:8080/",
          "height": 75
        },
        "id": "WhC2_CgMSVTB",
        "outputId": "a6b399aa-9b27-4390-d5d9-1763b337eb4d"
      },
      "outputs": [
        {
          "output_type": "execute_result",
          "data": {
            "text/plain": [
              "DecisionTreeClassifier(max_depth=10, random_state=42)"
            ],
            "text/html": [
              "<style>#sk-container-id-15 {color: black;background-color: white;}#sk-container-id-15 pre{padding: 0;}#sk-container-id-15 div.sk-toggleable {background-color: white;}#sk-container-id-15 label.sk-toggleable__label {cursor: pointer;display: block;width: 100%;margin-bottom: 0;padding: 0.3em;box-sizing: border-box;text-align: center;}#sk-container-id-15 label.sk-toggleable__label-arrow:before {content: \"▸\";float: left;margin-right: 0.25em;color: #696969;}#sk-container-id-15 label.sk-toggleable__label-arrow:hover:before {color: black;}#sk-container-id-15 div.sk-estimator:hover label.sk-toggleable__label-arrow:before {color: black;}#sk-container-id-15 div.sk-toggleable__content {max-height: 0;max-width: 0;overflow: hidden;text-align: left;background-color: #f0f8ff;}#sk-container-id-15 div.sk-toggleable__content pre {margin: 0.2em;color: black;border-radius: 0.25em;background-color: #f0f8ff;}#sk-container-id-15 input.sk-toggleable__control:checked~div.sk-toggleable__content {max-height: 200px;max-width: 100%;overflow: auto;}#sk-container-id-15 input.sk-toggleable__control:checked~label.sk-toggleable__label-arrow:before {content: \"▾\";}#sk-container-id-15 div.sk-estimator input.sk-toggleable__control:checked~label.sk-toggleable__label {background-color: #d4ebff;}#sk-container-id-15 div.sk-label input.sk-toggleable__control:checked~label.sk-toggleable__label {background-color: #d4ebff;}#sk-container-id-15 input.sk-hidden--visually {border: 0;clip: rect(1px 1px 1px 1px);clip: rect(1px, 1px, 1px, 1px);height: 1px;margin: -1px;overflow: hidden;padding: 0;position: absolute;width: 1px;}#sk-container-id-15 div.sk-estimator {font-family: monospace;background-color: #f0f8ff;border: 1px dotted black;border-radius: 0.25em;box-sizing: border-box;margin-bottom: 0.5em;}#sk-container-id-15 div.sk-estimator:hover {background-color: #d4ebff;}#sk-container-id-15 div.sk-parallel-item::after {content: \"\";width: 100%;border-bottom: 1px solid gray;flex-grow: 1;}#sk-container-id-15 div.sk-label:hover label.sk-toggleable__label {background-color: #d4ebff;}#sk-container-id-15 div.sk-serial::before {content: \"\";position: absolute;border-left: 1px solid gray;box-sizing: border-box;top: 0;bottom: 0;left: 50%;z-index: 0;}#sk-container-id-15 div.sk-serial {display: flex;flex-direction: column;align-items: center;background-color: white;padding-right: 0.2em;padding-left: 0.2em;position: relative;}#sk-container-id-15 div.sk-item {position: relative;z-index: 1;}#sk-container-id-15 div.sk-parallel {display: flex;align-items: stretch;justify-content: center;background-color: white;position: relative;}#sk-container-id-15 div.sk-item::before, #sk-container-id-15 div.sk-parallel-item::before {content: \"\";position: absolute;border-left: 1px solid gray;box-sizing: border-box;top: 0;bottom: 0;left: 50%;z-index: -1;}#sk-container-id-15 div.sk-parallel-item {display: flex;flex-direction: column;z-index: 1;position: relative;background-color: white;}#sk-container-id-15 div.sk-parallel-item:first-child::after {align-self: flex-end;width: 50%;}#sk-container-id-15 div.sk-parallel-item:last-child::after {align-self: flex-start;width: 50%;}#sk-container-id-15 div.sk-parallel-item:only-child::after {width: 0;}#sk-container-id-15 div.sk-dashed-wrapped {border: 1px dashed gray;margin: 0 0.4em 0.5em 0.4em;box-sizing: border-box;padding-bottom: 0.4em;background-color: white;}#sk-container-id-15 div.sk-label label {font-family: monospace;font-weight: bold;display: inline-block;line-height: 1.2em;}#sk-container-id-15 div.sk-label-container {text-align: center;}#sk-container-id-15 div.sk-container {/* jupyter's `normalize.less` sets `[hidden] { display: none; }` but bootstrap.min.css set `[hidden] { display: none !important; }` so we also need the `!important` here to be able to override the default hidden behavior on the sphinx rendered scikit-learn.org. See: https://github.com/scikit-learn/scikit-learn/issues/21755 */display: inline-block !important;position: relative;}#sk-container-id-15 div.sk-text-repr-fallback {display: none;}</style><div id=\"sk-container-id-15\" class=\"sk-top-container\"><div class=\"sk-text-repr-fallback\"><pre>DecisionTreeClassifier(max_depth=10, random_state=42)</pre><b>In a Jupyter environment, please rerun this cell to show the HTML representation or trust the notebook. <br />On GitHub, the HTML representation is unable to render, please try loading this page with nbviewer.org.</b></div><div class=\"sk-container\" hidden><div class=\"sk-item\"><div class=\"sk-estimator sk-toggleable\"><input class=\"sk-toggleable__control sk-hidden--visually\" id=\"sk-estimator-id-15\" type=\"checkbox\" checked><label for=\"sk-estimator-id-15\" class=\"sk-toggleable__label sk-toggleable__label-arrow\">DecisionTreeClassifier</label><div class=\"sk-toggleable__content\"><pre>DecisionTreeClassifier(max_depth=10, random_state=42)</pre></div></div></div></div></div>"
            ]
          },
          "metadata": {},
          "execution_count": 289
        }
      ],
      "source": [
        "# 여기에 답안코드를 작성하세요.\n",
        "from sklearn.tree import DecisionTreeClassifier\n",
        "\n",
        "model = DecisionTreeClassifier(max_depth=10, random_state=42)\n",
        "model.fit(x_train_s, y_train)"
      ]
    },
    {
      "cell_type": "code",
      "source": [
        "model.score(x_test_s, y_test)"
      ],
      "metadata": {
        "colab": {
          "base_uri": "https://localhost:8080/"
        },
        "id": "YLLx_JqSk1mo",
        "outputId": "0841acc1-1513-4c5e-e90f-edb8d329b743"
      },
      "execution_count": null,
      "outputs": [
        {
          "output_type": "execute_result",
          "data": {
            "text/plain": [
              "0.972"
            ]
          },
          "metadata": {},
          "execution_count": 292
        }
      ]
    },
    {
      "cell_type": "markdown",
      "metadata": {
        "id": "qNe02nzRSVTB"
      },
      "source": [
        "<br>\n",
        "<font color=blue>8-4. RandomForest 모델을 만들고 학습을 진행하세요. (단, n_estimators=100, random_state=42 설정)</font>"
      ]
    },
    {
      "cell_type": "code",
      "execution_count": null,
      "metadata": {
        "colab": {
          "base_uri": "https://localhost:8080/",
          "height": 75
        },
        "id": "svvTu8ZgSVTC",
        "outputId": "3d89b330-f05e-4988-8941-435d979e537f"
      },
      "outputs": [
        {
          "output_type": "execute_result",
          "data": {
            "text/plain": [
              "RandomForestClassifier(random_state=42)"
            ],
            "text/html": [
              "<style>#sk-container-id-16 {color: black;background-color: white;}#sk-container-id-16 pre{padding: 0;}#sk-container-id-16 div.sk-toggleable {background-color: white;}#sk-container-id-16 label.sk-toggleable__label {cursor: pointer;display: block;width: 100%;margin-bottom: 0;padding: 0.3em;box-sizing: border-box;text-align: center;}#sk-container-id-16 label.sk-toggleable__label-arrow:before {content: \"▸\";float: left;margin-right: 0.25em;color: #696969;}#sk-container-id-16 label.sk-toggleable__label-arrow:hover:before {color: black;}#sk-container-id-16 div.sk-estimator:hover label.sk-toggleable__label-arrow:before {color: black;}#sk-container-id-16 div.sk-toggleable__content {max-height: 0;max-width: 0;overflow: hidden;text-align: left;background-color: #f0f8ff;}#sk-container-id-16 div.sk-toggleable__content pre {margin: 0.2em;color: black;border-radius: 0.25em;background-color: #f0f8ff;}#sk-container-id-16 input.sk-toggleable__control:checked~div.sk-toggleable__content {max-height: 200px;max-width: 100%;overflow: auto;}#sk-container-id-16 input.sk-toggleable__control:checked~label.sk-toggleable__label-arrow:before {content: \"▾\";}#sk-container-id-16 div.sk-estimator input.sk-toggleable__control:checked~label.sk-toggleable__label {background-color: #d4ebff;}#sk-container-id-16 div.sk-label input.sk-toggleable__control:checked~label.sk-toggleable__label {background-color: #d4ebff;}#sk-container-id-16 input.sk-hidden--visually {border: 0;clip: rect(1px 1px 1px 1px);clip: rect(1px, 1px, 1px, 1px);height: 1px;margin: -1px;overflow: hidden;padding: 0;position: absolute;width: 1px;}#sk-container-id-16 div.sk-estimator {font-family: monospace;background-color: #f0f8ff;border: 1px dotted black;border-radius: 0.25em;box-sizing: border-box;margin-bottom: 0.5em;}#sk-container-id-16 div.sk-estimator:hover {background-color: #d4ebff;}#sk-container-id-16 div.sk-parallel-item::after {content: \"\";width: 100%;border-bottom: 1px solid gray;flex-grow: 1;}#sk-container-id-16 div.sk-label:hover label.sk-toggleable__label {background-color: #d4ebff;}#sk-container-id-16 div.sk-serial::before {content: \"\";position: absolute;border-left: 1px solid gray;box-sizing: border-box;top: 0;bottom: 0;left: 50%;z-index: 0;}#sk-container-id-16 div.sk-serial {display: flex;flex-direction: column;align-items: center;background-color: white;padding-right: 0.2em;padding-left: 0.2em;position: relative;}#sk-container-id-16 div.sk-item {position: relative;z-index: 1;}#sk-container-id-16 div.sk-parallel {display: flex;align-items: stretch;justify-content: center;background-color: white;position: relative;}#sk-container-id-16 div.sk-item::before, #sk-container-id-16 div.sk-parallel-item::before {content: \"\";position: absolute;border-left: 1px solid gray;box-sizing: border-box;top: 0;bottom: 0;left: 50%;z-index: -1;}#sk-container-id-16 div.sk-parallel-item {display: flex;flex-direction: column;z-index: 1;position: relative;background-color: white;}#sk-container-id-16 div.sk-parallel-item:first-child::after {align-self: flex-end;width: 50%;}#sk-container-id-16 div.sk-parallel-item:last-child::after {align-self: flex-start;width: 50%;}#sk-container-id-16 div.sk-parallel-item:only-child::after {width: 0;}#sk-container-id-16 div.sk-dashed-wrapped {border: 1px dashed gray;margin: 0 0.4em 0.5em 0.4em;box-sizing: border-box;padding-bottom: 0.4em;background-color: white;}#sk-container-id-16 div.sk-label label {font-family: monospace;font-weight: bold;display: inline-block;line-height: 1.2em;}#sk-container-id-16 div.sk-label-container {text-align: center;}#sk-container-id-16 div.sk-container {/* jupyter's `normalize.less` sets `[hidden] { display: none; }` but bootstrap.min.css set `[hidden] { display: none !important; }` so we also need the `!important` here to be able to override the default hidden behavior on the sphinx rendered scikit-learn.org. See: https://github.com/scikit-learn/scikit-learn/issues/21755 */display: inline-block !important;position: relative;}#sk-container-id-16 div.sk-text-repr-fallback {display: none;}</style><div id=\"sk-container-id-16\" class=\"sk-top-container\"><div class=\"sk-text-repr-fallback\"><pre>RandomForestClassifier(random_state=42)</pre><b>In a Jupyter environment, please rerun this cell to show the HTML representation or trust the notebook. <br />On GitHub, the HTML representation is unable to render, please try loading this page with nbviewer.org.</b></div><div class=\"sk-container\" hidden><div class=\"sk-item\"><div class=\"sk-estimator sk-toggleable\"><input class=\"sk-toggleable__control sk-hidden--visually\" id=\"sk-estimator-id-16\" type=\"checkbox\" checked><label for=\"sk-estimator-id-16\" class=\"sk-toggleable__label sk-toggleable__label-arrow\">RandomForestClassifier</label><div class=\"sk-toggleable__content\"><pre>RandomForestClassifier(random_state=42)</pre></div></div></div></div></div>"
            ]
          },
          "metadata": {},
          "execution_count": 293
        }
      ],
      "source": [
        "# 여기에 답안코드를 작성하세요.\n",
        "from sklearn.ensemble import RandomForestClassifier\n",
        "\n",
        "model = RandomForestClassifier(n_estimators=100, random_state=42)\n",
        "model.fit(x_train_s, y_train)"
      ]
    },
    {
      "cell_type": "code",
      "source": [
        "model.score(x_test_s, y_test)"
      ],
      "metadata": {
        "colab": {
          "base_uri": "https://localhost:8080/"
        },
        "id": "MWY9LPpzk5ec",
        "outputId": "bf505a33-a099-4456-f464-6ac669e2ee4f"
      },
      "execution_count": null,
      "outputs": [
        {
          "output_type": "execute_result",
          "data": {
            "text/plain": [
              "0.9775"
            ]
          },
          "metadata": {},
          "execution_count": 294
        }
      ]
    },
    {
      "cell_type": "markdown",
      "metadata": {
        "id": "IwqLXx2LSVTC"
      },
      "source": [
        "<br>\n",
        "<font color=blue>8-5. XGBoost 모델을 만들고 학습을 진행하세요. (단, n_estimators=5 설정)</font>"
      ]
    },
    {
      "cell_type": "code",
      "execution_count": null,
      "metadata": {
        "colab": {
          "base_uri": "https://localhost:8080/",
          "height": 248
        },
        "id": "K17vcgj1SVTC",
        "outputId": "8387af0e-8646-4936-a867-14b8097730c1"
      },
      "outputs": [
        {
          "output_type": "execute_result",
          "data": {
            "text/plain": [
              "XGBClassifier(base_score=None, booster=None, callbacks=None,\n",
              "              colsample_bylevel=None, colsample_bynode=None,\n",
              "              colsample_bytree=None, device=None, early_stopping_rounds=None,\n",
              "              enable_categorical=False, eval_metric=None, feature_types=None,\n",
              "              gamma=None, grow_policy=None, importance_type=None,\n",
              "              interaction_constraints=None, learning_rate=None, max_bin=None,\n",
              "              max_cat_threshold=None, max_cat_to_onehot=None,\n",
              "              max_delta_step=None, max_depth=None, max_leaves=None,\n",
              "              min_child_weight=None, missing=nan, monotone_constraints=None,\n",
              "              multi_strategy=None, n_estimators=5, n_jobs=None,\n",
              "              num_parallel_tree=None, random_state=None, ...)"
            ],
            "text/html": [
              "<style>#sk-container-id-17 {color: black;background-color: white;}#sk-container-id-17 pre{padding: 0;}#sk-container-id-17 div.sk-toggleable {background-color: white;}#sk-container-id-17 label.sk-toggleable__label {cursor: pointer;display: block;width: 100%;margin-bottom: 0;padding: 0.3em;box-sizing: border-box;text-align: center;}#sk-container-id-17 label.sk-toggleable__label-arrow:before {content: \"▸\";float: left;margin-right: 0.25em;color: #696969;}#sk-container-id-17 label.sk-toggleable__label-arrow:hover:before {color: black;}#sk-container-id-17 div.sk-estimator:hover label.sk-toggleable__label-arrow:before {color: black;}#sk-container-id-17 div.sk-toggleable__content {max-height: 0;max-width: 0;overflow: hidden;text-align: left;background-color: #f0f8ff;}#sk-container-id-17 div.sk-toggleable__content pre {margin: 0.2em;color: black;border-radius: 0.25em;background-color: #f0f8ff;}#sk-container-id-17 input.sk-toggleable__control:checked~div.sk-toggleable__content {max-height: 200px;max-width: 100%;overflow: auto;}#sk-container-id-17 input.sk-toggleable__control:checked~label.sk-toggleable__label-arrow:before {content: \"▾\";}#sk-container-id-17 div.sk-estimator input.sk-toggleable__control:checked~label.sk-toggleable__label {background-color: #d4ebff;}#sk-container-id-17 div.sk-label input.sk-toggleable__control:checked~label.sk-toggleable__label {background-color: #d4ebff;}#sk-container-id-17 input.sk-hidden--visually {border: 0;clip: rect(1px 1px 1px 1px);clip: rect(1px, 1px, 1px, 1px);height: 1px;margin: -1px;overflow: hidden;padding: 0;position: absolute;width: 1px;}#sk-container-id-17 div.sk-estimator {font-family: monospace;background-color: #f0f8ff;border: 1px dotted black;border-radius: 0.25em;box-sizing: border-box;margin-bottom: 0.5em;}#sk-container-id-17 div.sk-estimator:hover {background-color: #d4ebff;}#sk-container-id-17 div.sk-parallel-item::after {content: \"\";width: 100%;border-bottom: 1px solid gray;flex-grow: 1;}#sk-container-id-17 div.sk-label:hover label.sk-toggleable__label {background-color: #d4ebff;}#sk-container-id-17 div.sk-serial::before {content: \"\";position: absolute;border-left: 1px solid gray;box-sizing: border-box;top: 0;bottom: 0;left: 50%;z-index: 0;}#sk-container-id-17 div.sk-serial {display: flex;flex-direction: column;align-items: center;background-color: white;padding-right: 0.2em;padding-left: 0.2em;position: relative;}#sk-container-id-17 div.sk-item {position: relative;z-index: 1;}#sk-container-id-17 div.sk-parallel {display: flex;align-items: stretch;justify-content: center;background-color: white;position: relative;}#sk-container-id-17 div.sk-item::before, #sk-container-id-17 div.sk-parallel-item::before {content: \"\";position: absolute;border-left: 1px solid gray;box-sizing: border-box;top: 0;bottom: 0;left: 50%;z-index: -1;}#sk-container-id-17 div.sk-parallel-item {display: flex;flex-direction: column;z-index: 1;position: relative;background-color: white;}#sk-container-id-17 div.sk-parallel-item:first-child::after {align-self: flex-end;width: 50%;}#sk-container-id-17 div.sk-parallel-item:last-child::after {align-self: flex-start;width: 50%;}#sk-container-id-17 div.sk-parallel-item:only-child::after {width: 0;}#sk-container-id-17 div.sk-dashed-wrapped {border: 1px dashed gray;margin: 0 0.4em 0.5em 0.4em;box-sizing: border-box;padding-bottom: 0.4em;background-color: white;}#sk-container-id-17 div.sk-label label {font-family: monospace;font-weight: bold;display: inline-block;line-height: 1.2em;}#sk-container-id-17 div.sk-label-container {text-align: center;}#sk-container-id-17 div.sk-container {/* jupyter's `normalize.less` sets `[hidden] { display: none; }` but bootstrap.min.css set `[hidden] { display: none !important; }` so we also need the `!important` here to be able to override the default hidden behavior on the sphinx rendered scikit-learn.org. See: https://github.com/scikit-learn/scikit-learn/issues/21755 */display: inline-block !important;position: relative;}#sk-container-id-17 div.sk-text-repr-fallback {display: none;}</style><div id=\"sk-container-id-17\" class=\"sk-top-container\"><div class=\"sk-text-repr-fallback\"><pre>XGBClassifier(base_score=None, booster=None, callbacks=None,\n",
              "              colsample_bylevel=None, colsample_bynode=None,\n",
              "              colsample_bytree=None, device=None, early_stopping_rounds=None,\n",
              "              enable_categorical=False, eval_metric=None, feature_types=None,\n",
              "              gamma=None, grow_policy=None, importance_type=None,\n",
              "              interaction_constraints=None, learning_rate=None, max_bin=None,\n",
              "              max_cat_threshold=None, max_cat_to_onehot=None,\n",
              "              max_delta_step=None, max_depth=None, max_leaves=None,\n",
              "              min_child_weight=None, missing=nan, monotone_constraints=None,\n",
              "              multi_strategy=None, n_estimators=5, n_jobs=None,\n",
              "              num_parallel_tree=None, random_state=None, ...)</pre><b>In a Jupyter environment, please rerun this cell to show the HTML representation or trust the notebook. <br />On GitHub, the HTML representation is unable to render, please try loading this page with nbviewer.org.</b></div><div class=\"sk-container\" hidden><div class=\"sk-item\"><div class=\"sk-estimator sk-toggleable\"><input class=\"sk-toggleable__control sk-hidden--visually\" id=\"sk-estimator-id-17\" type=\"checkbox\" checked><label for=\"sk-estimator-id-17\" class=\"sk-toggleable__label sk-toggleable__label-arrow\">XGBClassifier</label><div class=\"sk-toggleable__content\"><pre>XGBClassifier(base_score=None, booster=None, callbacks=None,\n",
              "              colsample_bylevel=None, colsample_bynode=None,\n",
              "              colsample_bytree=None, device=None, early_stopping_rounds=None,\n",
              "              enable_categorical=False, eval_metric=None, feature_types=None,\n",
              "              gamma=None, grow_policy=None, importance_type=None,\n",
              "              interaction_constraints=None, learning_rate=None, max_bin=None,\n",
              "              max_cat_threshold=None, max_cat_to_onehot=None,\n",
              "              max_delta_step=None, max_depth=None, max_leaves=None,\n",
              "              min_child_weight=None, missing=nan, monotone_constraints=None,\n",
              "              multi_strategy=None, n_estimators=5, n_jobs=None,\n",
              "              num_parallel_tree=None, random_state=None, ...)</pre></div></div></div></div></div>"
            ]
          },
          "metadata": {},
          "execution_count": 295
        }
      ],
      "source": [
        "# 여기에 답안코드를 작성하세요.\n",
        "import xgboost as xgb\n",
        "\n",
        "model = xgb.XGBClassifier(n_estimators=5)\n",
        "model.fit(x_train_s, y_train)"
      ]
    },
    {
      "cell_type": "code",
      "source": [
        "model.score(x_test_s, y_test)"
      ],
      "metadata": {
        "colab": {
          "base_uri": "https://localhost:8080/"
        },
        "id": "ia1c2xf2k7Xz",
        "outputId": "362c20fa-d7ed-4d18-b289-2e0c9b73ecce"
      },
      "execution_count": null,
      "outputs": [
        {
          "output_type": "execute_result",
          "data": {
            "text/plain": [
              "0.977"
            ]
          },
          "metadata": {},
          "execution_count": 296
        }
      ]
    },
    {
      "cell_type": "markdown",
      "metadata": {
        "id": "N-JETy22SVTC"
      },
      "source": [
        "<br>\n",
        "<font color=blue>8-6. Light GBM 모델을 만들고 학습을 진행하세요. (단, n_estimators=3 설정)</font>"
      ]
    },
    {
      "cell_type": "code",
      "execution_count": null,
      "metadata": {
        "colab": {
          "base_uri": "https://localhost:8080/",
          "height": 214
        },
        "id": "70fIMHh0SVTC",
        "outputId": "44c4ab27-0729-4342-bafb-b05053e05ccb"
      },
      "outputs": [
        {
          "output_type": "stream",
          "name": "stdout",
          "text": [
            "[LightGBM] [Info] Number of positive: 179, number of negative: 7821\n",
            "[LightGBM] [Info] Auto-choosing row-wise multi-threading, the overhead of testing was 0.002162 seconds.\n",
            "You can set `force_row_wise=true` to remove the overhead.\n",
            "And if memory is not enough, you can set `force_col_wise=true`.\n",
            "[LightGBM] [Info] Total Bins 795\n",
            "[LightGBM] [Info] Number of data points in the train set: 8000, number of used features: 24\n",
            "[LightGBM] [Info] [binary:BoostFromScore]: pavg=0.022375 -> initscore=-3.777182\n",
            "[LightGBM] [Info] Start training from score -3.777182\n"
          ]
        },
        {
          "output_type": "execute_result",
          "data": {
            "text/plain": [
              "LGBMClassifier(n_estimators=3)"
            ],
            "text/html": [
              "<style>#sk-container-id-18 {color: black;background-color: white;}#sk-container-id-18 pre{padding: 0;}#sk-container-id-18 div.sk-toggleable {background-color: white;}#sk-container-id-18 label.sk-toggleable__label {cursor: pointer;display: block;width: 100%;margin-bottom: 0;padding: 0.3em;box-sizing: border-box;text-align: center;}#sk-container-id-18 label.sk-toggleable__label-arrow:before {content: \"▸\";float: left;margin-right: 0.25em;color: #696969;}#sk-container-id-18 label.sk-toggleable__label-arrow:hover:before {color: black;}#sk-container-id-18 div.sk-estimator:hover label.sk-toggleable__label-arrow:before {color: black;}#sk-container-id-18 div.sk-toggleable__content {max-height: 0;max-width: 0;overflow: hidden;text-align: left;background-color: #f0f8ff;}#sk-container-id-18 div.sk-toggleable__content pre {margin: 0.2em;color: black;border-radius: 0.25em;background-color: #f0f8ff;}#sk-container-id-18 input.sk-toggleable__control:checked~div.sk-toggleable__content {max-height: 200px;max-width: 100%;overflow: auto;}#sk-container-id-18 input.sk-toggleable__control:checked~label.sk-toggleable__label-arrow:before {content: \"▾\";}#sk-container-id-18 div.sk-estimator input.sk-toggleable__control:checked~label.sk-toggleable__label {background-color: #d4ebff;}#sk-container-id-18 div.sk-label input.sk-toggleable__control:checked~label.sk-toggleable__label {background-color: #d4ebff;}#sk-container-id-18 input.sk-hidden--visually {border: 0;clip: rect(1px 1px 1px 1px);clip: rect(1px, 1px, 1px, 1px);height: 1px;margin: -1px;overflow: hidden;padding: 0;position: absolute;width: 1px;}#sk-container-id-18 div.sk-estimator {font-family: monospace;background-color: #f0f8ff;border: 1px dotted black;border-radius: 0.25em;box-sizing: border-box;margin-bottom: 0.5em;}#sk-container-id-18 div.sk-estimator:hover {background-color: #d4ebff;}#sk-container-id-18 div.sk-parallel-item::after {content: \"\";width: 100%;border-bottom: 1px solid gray;flex-grow: 1;}#sk-container-id-18 div.sk-label:hover label.sk-toggleable__label {background-color: #d4ebff;}#sk-container-id-18 div.sk-serial::before {content: \"\";position: absolute;border-left: 1px solid gray;box-sizing: border-box;top: 0;bottom: 0;left: 50%;z-index: 0;}#sk-container-id-18 div.sk-serial {display: flex;flex-direction: column;align-items: center;background-color: white;padding-right: 0.2em;padding-left: 0.2em;position: relative;}#sk-container-id-18 div.sk-item {position: relative;z-index: 1;}#sk-container-id-18 div.sk-parallel {display: flex;align-items: stretch;justify-content: center;background-color: white;position: relative;}#sk-container-id-18 div.sk-item::before, #sk-container-id-18 div.sk-parallel-item::before {content: \"\";position: absolute;border-left: 1px solid gray;box-sizing: border-box;top: 0;bottom: 0;left: 50%;z-index: -1;}#sk-container-id-18 div.sk-parallel-item {display: flex;flex-direction: column;z-index: 1;position: relative;background-color: white;}#sk-container-id-18 div.sk-parallel-item:first-child::after {align-self: flex-end;width: 50%;}#sk-container-id-18 div.sk-parallel-item:last-child::after {align-self: flex-start;width: 50%;}#sk-container-id-18 div.sk-parallel-item:only-child::after {width: 0;}#sk-container-id-18 div.sk-dashed-wrapped {border: 1px dashed gray;margin: 0 0.4em 0.5em 0.4em;box-sizing: border-box;padding-bottom: 0.4em;background-color: white;}#sk-container-id-18 div.sk-label label {font-family: monospace;font-weight: bold;display: inline-block;line-height: 1.2em;}#sk-container-id-18 div.sk-label-container {text-align: center;}#sk-container-id-18 div.sk-container {/* jupyter's `normalize.less` sets `[hidden] { display: none; }` but bootstrap.min.css set `[hidden] { display: none !important; }` so we also need the `!important` here to be able to override the default hidden behavior on the sphinx rendered scikit-learn.org. See: https://github.com/scikit-learn/scikit-learn/issues/21755 */display: inline-block !important;position: relative;}#sk-container-id-18 div.sk-text-repr-fallback {display: none;}</style><div id=\"sk-container-id-18\" class=\"sk-top-container\"><div class=\"sk-text-repr-fallback\"><pre>LGBMClassifier(n_estimators=3)</pre><b>In a Jupyter environment, please rerun this cell to show the HTML representation or trust the notebook. <br />On GitHub, the HTML representation is unable to render, please try loading this page with nbviewer.org.</b></div><div class=\"sk-container\" hidden><div class=\"sk-item\"><div class=\"sk-estimator sk-toggleable\"><input class=\"sk-toggleable__control sk-hidden--visually\" id=\"sk-estimator-id-18\" type=\"checkbox\" checked><label for=\"sk-estimator-id-18\" class=\"sk-toggleable__label sk-toggleable__label-arrow\">LGBMClassifier</label><div class=\"sk-toggleable__content\"><pre>LGBMClassifier(n_estimators=3)</pre></div></div></div></div></div>"
            ]
          },
          "metadata": {},
          "execution_count": 297
        }
      ],
      "source": [
        "# 여기에 답안코드를 작성하세요.\n",
        "import lightgbm as lgb\n",
        "\n",
        "model = lgb.LGBMClassifier(n_estimators=3)\n",
        "model.fit(x_train_s, y_train)"
      ]
    },
    {
      "cell_type": "code",
      "source": [
        "model.score(x_test_s, y_test)"
      ],
      "metadata": {
        "colab": {
          "base_uri": "https://localhost:8080/"
        },
        "id": "MXvrjI6Uk-s1",
        "outputId": "af1049f3-1822-4e7d-a953-b549573bcb3c"
      },
      "execution_count": null,
      "outputs": [
        {
          "output_type": "execute_result",
          "data": {
            "text/plain": [
              "0.9775"
            ]
          },
          "metadata": {},
          "execution_count": 298
        }
      ]
    },
    {
      "cell_type": "markdown",
      "metadata": {
        "id": "5GhzuGPPSVTC"
      },
      "source": [
        "<br>\n",
        "<font color=blue>8-7. Linear Regression 모델을 연습으로 만들고 학습을 진행하세요.</font>"
      ]
    },
    {
      "cell_type": "code",
      "execution_count": null,
      "metadata": {
        "id": "M0gHrjZNSVTC"
      },
      "outputs": [],
      "source": [
        "# 이 데이터로 연습하세요.\n",
        "x_data = np.array([1.6, 2.3, 3.5, 4.6]).reshape(-1,1)\n",
        "y_data = np.array([3.3, 5.5, 7.2, 9.9])"
      ]
    },
    {
      "cell_type": "code",
      "execution_count": null,
      "metadata": {
        "colab": {
          "base_uri": "https://localhost:8080/",
          "height": 75
        },
        "id": "m-kaikocSVTC",
        "outputId": "d19b44fa-488b-4e2c-ed60-096629172afd"
      },
      "outputs": [
        {
          "output_type": "execute_result",
          "data": {
            "text/plain": [
              "LinearRegression()"
            ],
            "text/html": [
              "<style>#sk-container-id-19 {color: black;background-color: white;}#sk-container-id-19 pre{padding: 0;}#sk-container-id-19 div.sk-toggleable {background-color: white;}#sk-container-id-19 label.sk-toggleable__label {cursor: pointer;display: block;width: 100%;margin-bottom: 0;padding: 0.3em;box-sizing: border-box;text-align: center;}#sk-container-id-19 label.sk-toggleable__label-arrow:before {content: \"▸\";float: left;margin-right: 0.25em;color: #696969;}#sk-container-id-19 label.sk-toggleable__label-arrow:hover:before {color: black;}#sk-container-id-19 div.sk-estimator:hover label.sk-toggleable__label-arrow:before {color: black;}#sk-container-id-19 div.sk-toggleable__content {max-height: 0;max-width: 0;overflow: hidden;text-align: left;background-color: #f0f8ff;}#sk-container-id-19 div.sk-toggleable__content pre {margin: 0.2em;color: black;border-radius: 0.25em;background-color: #f0f8ff;}#sk-container-id-19 input.sk-toggleable__control:checked~div.sk-toggleable__content {max-height: 200px;max-width: 100%;overflow: auto;}#sk-container-id-19 input.sk-toggleable__control:checked~label.sk-toggleable__label-arrow:before {content: \"▾\";}#sk-container-id-19 div.sk-estimator input.sk-toggleable__control:checked~label.sk-toggleable__label {background-color: #d4ebff;}#sk-container-id-19 div.sk-label input.sk-toggleable__control:checked~label.sk-toggleable__label {background-color: #d4ebff;}#sk-container-id-19 input.sk-hidden--visually {border: 0;clip: rect(1px 1px 1px 1px);clip: rect(1px, 1px, 1px, 1px);height: 1px;margin: -1px;overflow: hidden;padding: 0;position: absolute;width: 1px;}#sk-container-id-19 div.sk-estimator {font-family: monospace;background-color: #f0f8ff;border: 1px dotted black;border-radius: 0.25em;box-sizing: border-box;margin-bottom: 0.5em;}#sk-container-id-19 div.sk-estimator:hover {background-color: #d4ebff;}#sk-container-id-19 div.sk-parallel-item::after {content: \"\";width: 100%;border-bottom: 1px solid gray;flex-grow: 1;}#sk-container-id-19 div.sk-label:hover label.sk-toggleable__label {background-color: #d4ebff;}#sk-container-id-19 div.sk-serial::before {content: \"\";position: absolute;border-left: 1px solid gray;box-sizing: border-box;top: 0;bottom: 0;left: 50%;z-index: 0;}#sk-container-id-19 div.sk-serial {display: flex;flex-direction: column;align-items: center;background-color: white;padding-right: 0.2em;padding-left: 0.2em;position: relative;}#sk-container-id-19 div.sk-item {position: relative;z-index: 1;}#sk-container-id-19 div.sk-parallel {display: flex;align-items: stretch;justify-content: center;background-color: white;position: relative;}#sk-container-id-19 div.sk-item::before, #sk-container-id-19 div.sk-parallel-item::before {content: \"\";position: absolute;border-left: 1px solid gray;box-sizing: border-box;top: 0;bottom: 0;left: 50%;z-index: -1;}#sk-container-id-19 div.sk-parallel-item {display: flex;flex-direction: column;z-index: 1;position: relative;background-color: white;}#sk-container-id-19 div.sk-parallel-item:first-child::after {align-self: flex-end;width: 50%;}#sk-container-id-19 div.sk-parallel-item:last-child::after {align-self: flex-start;width: 50%;}#sk-container-id-19 div.sk-parallel-item:only-child::after {width: 0;}#sk-container-id-19 div.sk-dashed-wrapped {border: 1px dashed gray;margin: 0 0.4em 0.5em 0.4em;box-sizing: border-box;padding-bottom: 0.4em;background-color: white;}#sk-container-id-19 div.sk-label label {font-family: monospace;font-weight: bold;display: inline-block;line-height: 1.2em;}#sk-container-id-19 div.sk-label-container {text-align: center;}#sk-container-id-19 div.sk-container {/* jupyter's `normalize.less` sets `[hidden] { display: none; }` but bootstrap.min.css set `[hidden] { display: none !important; }` so we also need the `!important` here to be able to override the default hidden behavior on the sphinx rendered scikit-learn.org. See: https://github.com/scikit-learn/scikit-learn/issues/21755 */display: inline-block !important;position: relative;}#sk-container-id-19 div.sk-text-repr-fallback {display: none;}</style><div id=\"sk-container-id-19\" class=\"sk-top-container\"><div class=\"sk-text-repr-fallback\"><pre>LinearRegression()</pre><b>In a Jupyter environment, please rerun this cell to show the HTML representation or trust the notebook. <br />On GitHub, the HTML representation is unable to render, please try loading this page with nbviewer.org.</b></div><div class=\"sk-container\" hidden><div class=\"sk-item\"><div class=\"sk-estimator sk-toggleable\"><input class=\"sk-toggleable__control sk-hidden--visually\" id=\"sk-estimator-id-19\" type=\"checkbox\" checked><label for=\"sk-estimator-id-19\" class=\"sk-toggleable__label sk-toggleable__label-arrow\">LinearRegression</label><div class=\"sk-toggleable__content\"><pre>LinearRegression()</pre></div></div></div></div></div>"
            ]
          },
          "metadata": {},
          "execution_count": 300
        }
      ],
      "source": [
        "# 여기에 답안코드를 작성하세요.\n",
        "from sklearn.linear_model import LinearRegression\n",
        "\n",
        "model = LinearRegression()\n",
        "model.fit(x_data, y_data)"
      ]
    },
    {
      "cell_type": "code",
      "source": [
        "r_squared = model.score(x_data, y_data)\n",
        "print(f\"결정 계수(R²): {r_squared}\")"
      ],
      "metadata": {
        "colab": {
          "base_uri": "https://localhost:8080/"
        },
        "id": "fKyVfzuRpm5B",
        "outputId": "b8ed08e0-3548-43c6-c261-499a9aebae4b"
      },
      "execution_count": null,
      "outputs": [
        {
          "output_type": "stream",
          "name": "stdout",
          "text": [
            "결정 계수(R²): 0.9824368480454886\n"
          ]
        }
      ]
    },
    {
      "cell_type": "markdown",
      "metadata": {
        "id": "nREAYFwjSVTC"
      },
      "source": [
        "<br>"
      ]
    },
    {
      "cell_type": "markdown",
      "metadata": {
        "id": "MjM0mOcwSVTD"
      },
      "source": [
        "## **<span style=\"color:black\">9. 딥러닝 모델링 & 모델 성능평가 및 그래프 출력</span>**"
      ]
    },
    {
      "cell_type": "markdown",
      "metadata": {
        "id": "ZIki_ybUSVTD"
      },
      "source": [
        "<br>\n",
        "<font color=blue>9-1. 아래 가이드대로 해지여부를 분류하는 딥러닝 모델을 만드세요.</font>"
      ]
    },
    {
      "cell_type": "markdown",
      "metadata": {
        "id": "3UwLotZTSVTD"
      },
      "source": [
        "+ 첫번째 Hidden Layer : unit 64 , activation='relu'\n",
        "+ 두번째 Hidden Layer : unit 32 , activation='relu'\n",
        "+ 세번째 Hidden Layer : unit 16 , activation='relu'\n",
        "+ 각 Hidden Layer 마다 Dropout 0.2 비율로 되도록 하세요.\n",
        "+ EarlyStopping 콜백을 적용하고 ModelCheckpoint 콜백으로 validation performance가 좋은 모델을 h5 모델로 저장하세요.\n",
        "+ batch_size는 10, epochs는 10으로 설정하세요."
      ]
    },
    {
      "cell_type": "code",
      "execution_count": null,
      "metadata": {
        "colab": {
          "base_uri": "https://localhost:8080/"
        },
        "id": "Nwei_yAKSVTD",
        "outputId": "9fe3111c-7ed4-40ae-a314-dc4c4e145545"
      },
      "outputs": [
        {
          "output_type": "stream",
          "name": "stdout",
          "text": [
            "Model: \"sequential_6\"\n",
            "_________________________________________________________________\n",
            " Layer (type)                Output Shape              Param #   \n",
            "=================================================================\n",
            " dense_24 (Dense)            (None, 64)                1856      \n",
            "                                                                 \n",
            " dropout_18 (Dropout)        (None, 64)                0         \n",
            "                                                                 \n",
            " dense_25 (Dense)            (None, 32)                2080      \n",
            "                                                                 \n",
            " dropout_19 (Dropout)        (None, 32)                0         \n",
            "                                                                 \n",
            " dense_26 (Dense)            (None, 16)                528       \n",
            "                                                                 \n",
            " dropout_20 (Dropout)        (None, 16)                0         \n",
            "                                                                 \n",
            " dense_27 (Dense)            (None, 1)                 17        \n",
            "                                                                 \n",
            "=================================================================\n",
            "Total params: 4481 (17.50 KB)\n",
            "Trainable params: 4481 (17.50 KB)\n",
            "Non-trainable params: 0 (0.00 Byte)\n",
            "_________________________________________________________________\n"
          ]
        }
      ],
      "source": [
        "# 여기에 답안코드를 작성하세요.\n",
        "import keras\n",
        "import tensorflow as tf\n",
        "\n",
        "from keras.models import Sequential\n",
        "from keras.layers import Dense, Dropout\n",
        "from keras.callbacks import EarlyStopping, ModelCheckpoint\n",
        "\n",
        "model = Sequential([\n",
        "    Dense(64, activation='relu', input_shape=(x_train.shape[1],)),\n",
        "    Dropout(0.2),\n",
        "    Dense(32, activation='relu'),\n",
        "    Dropout(0.2),\n",
        "    Dense(16, activation='relu'),\n",
        "    Dropout(0.2),\n",
        "    Dense(1, activation='sigmoid')\n",
        "])\n",
        "\n",
        "model.compile(optimizer='adam',\n",
        "              loss='binary_crossentropy',\n",
        "              metrics=['accuracy'])\n",
        "\n",
        "model.summary()"
      ]
    },
    {
      "cell_type": "code",
      "source": [
        "es = EarlyStopping(monitor='val_loss', patience=3)\n",
        "mc = ModelCheckpoint(filepath='best_model.h5', monitor='val_loss', save_best_only=True)"
      ],
      "metadata": {
        "id": "2zBBlZQvhlGe"
      },
      "execution_count": null,
      "outputs": []
    },
    {
      "cell_type": "code",
      "source": [
        "history = model.fit(x_train_s, y_train,\n",
        "                    validation_data=(x_test_s, y_test),\n",
        "                    batch_size=10, epochs=10,\n",
        "                    callbacks=[es, mc],\n",
        "                    verbose = 1)"
      ],
      "metadata": {
        "colab": {
          "base_uri": "https://localhost:8080/"
        },
        "id": "v_A-a0eUhnPE",
        "outputId": "c33bd505-bb1b-42ff-eace-aaa64d3cea90"
      },
      "execution_count": null,
      "outputs": [
        {
          "output_type": "stream",
          "name": "stdout",
          "text": [
            "Epoch 1/10\n",
            "800/800 [==============================] - 5s 4ms/step - loss: 0.1493 - accuracy: 0.9682 - val_loss: 0.0917 - val_accuracy: 0.9775\n",
            "Epoch 2/10\n",
            "800/800 [==============================] - 2s 2ms/step - loss: 0.1076 - accuracy: 0.9776 - val_loss: 0.0912 - val_accuracy: 0.9775\n",
            "Epoch 3/10\n",
            "800/800 [==============================] - 2s 2ms/step - loss: 0.0990 - accuracy: 0.9778 - val_loss: 0.0907 - val_accuracy: 0.9775\n",
            "Epoch 4/10\n",
            "800/800 [==============================] - 2s 2ms/step - loss: 0.0976 - accuracy: 0.9776 - val_loss: 0.0925 - val_accuracy: 0.9780\n",
            "Epoch 5/10\n",
            "800/800 [==============================] - 2s 2ms/step - loss: 0.0909 - accuracy: 0.9780 - val_loss: 0.0900 - val_accuracy: 0.9780\n",
            "Epoch 6/10\n",
            "800/800 [==============================] - 2s 2ms/step - loss: 0.0929 - accuracy: 0.9780 - val_loss: 0.0897 - val_accuracy: 0.9780\n",
            "Epoch 7/10\n",
            "800/800 [==============================] - 3s 3ms/step - loss: 0.0930 - accuracy: 0.9778 - val_loss: 0.0894 - val_accuracy: 0.9780\n",
            "Epoch 8/10\n",
            "800/800 [==============================] - 3s 3ms/step - loss: 0.0921 - accuracy: 0.9778 - val_loss: 0.0894 - val_accuracy: 0.9775\n",
            "Epoch 9/10\n",
            "800/800 [==============================] - 2s 2ms/step - loss: 0.0900 - accuracy: 0.9780 - val_loss: 0.0891 - val_accuracy: 0.9775\n",
            "Epoch 10/10\n",
            "800/800 [==============================] - 2s 2ms/step - loss: 0.0917 - accuracy: 0.9776 - val_loss: 0.0866 - val_accuracy: 0.9770\n"
          ]
        }
      ]
    },
    {
      "cell_type": "code",
      "source": [
        "plt.plot(history.history['loss'], label='Train Loss')\n",
        "plt.plot(history.history['val_loss'], label='Validation Loss')\n",
        "plt.xlabel('Epochs')\n",
        "plt.ylabel('Loss')\n",
        "plt.legend()\n",
        "plt.show()"
      ],
      "metadata": {
        "colab": {
          "base_uri": "https://localhost:8080/",
          "height": 449
        },
        "id": "Sjp0rSj9l72Q",
        "outputId": "0808f6c5-f889-4be7-fc8b-9627349b2fb9"
      },
      "execution_count": null,
      "outputs": [
        {
          "output_type": "display_data",
          "data": {
            "text/plain": [
              "<Figure size 640x480 with 1 Axes>"
            ],
            "image/png": "[encoded data removed]"
          },
          "metadata": {}
        }
      ]
    },
    {
      "cell_type": "markdown",
      "metadata": {
        "id": "iGExKGoMSVTD"
      },
      "source": [
        "<br>\n",
        "<font color=blue>9-2. y_train, y_test를 원핫 인코딩 후 다중 분류하는 딥러닝 모델을 만드세요. 9-1과 동일한 가이드 적용</font>"
      ]
    },
    {
      "cell_type": "code",
      "execution_count": null,
      "metadata": {
        "id": "kKNbCtYSSVTD"
      },
      "outputs": [],
      "source": [
        "# 여기에 답안코드를 작성하세요.\n",
        "from sklearn.preprocessing import OneHotEncoder\n",
        "\n",
        "# OneHotEncoder 객체 생성\n",
        "encoder = OneHotEncoder(sparse=False)\n",
        "\n",
        "y_train_encoded = encoder.fit_transform(y_train.to_numpy().reshape(-1, 1))\n",
        "y_test_encoded = encoder.transform(y_test.to_numpy().reshape(-1, 1))"
      ]
    },
    {
      "cell_type": "code",
      "source": [
        "x_train_s.shape"
      ],
      "metadata": {
        "colab": {
          "base_uri": "https://localhost:8080/"
        },
        "id": "ZWQUinxRn_gb",
        "outputId": "8ef89126-afb0-4879-b34e-ffd206d82d5c"
      },
      "execution_count": null,
      "outputs": [
        {
          "output_type": "execute_result",
          "data": {
            "text/plain": [
              "(8000, 28)"
            ]
          },
          "metadata": {},
          "execution_count": 308
        }
      ]
    },
    {
      "cell_type": "code",
      "source": [
        "model = Sequential([\n",
        "    Dense(64, activation='relu', input_shape=(x_train.shape[1],)),  # 첫번째 Hidden Layer\n",
        "    Dropout(0.2),\n",
        "    Dense(32, activation='relu'),  # 두번째 Hidden Layer\n",
        "    Dropout(0.2),\n",
        "    Dense(16, activation='relu'),  # 세번째 Hidden Layer\n",
        "    Dropout(0.2),\n",
        "    Dense(2, activation='softmax')  # 출력 Layer\n",
        "])\n",
        "\n",
        "model.compile(optimizer='adam',\n",
        "              loss='categorical_crossentropy',\n",
        "              metrics=['accuracy'])\n",
        "\n",
        "model.summary()"
      ],
      "metadata": {
        "colab": {
          "base_uri": "https://localhost:8080/"
        },
        "id": "7Fum3Y7ZiX9G",
        "outputId": "310ff173-8d97-44eb-f04a-49979d1e7fd0"
      },
      "execution_count": null,
      "outputs": [
        {
          "output_type": "stream",
          "name": "stdout",
          "text": [
            "Model: \"sequential_7\"\n",
            "_________________________________________________________________\n",
            " Layer (type)                Output Shape              Param #   \n",
            "=================================================================\n",
            " dense_28 (Dense)            (None, 64)                1856      \n",
            "                                                                 \n",
            " dropout_21 (Dropout)        (None, 64)                0         \n",
            "                                                                 \n",
            " dense_29 (Dense)            (None, 32)                2080      \n",
            "                                                                 \n",
            " dropout_22 (Dropout)        (None, 32)                0         \n",
            "                                                                 \n",
            " dense_30 (Dense)            (None, 16)                528       \n",
            "                                                                 \n",
            " dropout_23 (Dropout)        (None, 16)                0         \n",
            "                                                                 \n",
            " dense_31 (Dense)            (None, 2)                 34        \n",
            "                                                                 \n",
            "=================================================================\n",
            "Total params: 4498 (17.57 KB)\n",
            "Trainable params: 4498 (17.57 KB)\n",
            "Non-trainable params: 0 (0.00 Byte)\n",
            "_________________________________________________________________\n"
          ]
        }
      ]
    },
    {
      "cell_type": "code",
      "source": [
        "history = model.fit(x_train_s, y_train_encoded,\n",
        "                    validation_data=(x_test_s, y_test_encoded),\n",
        "                    batch_size=10, epochs=10,\n",
        "                    callbacks=[es, mc])"
      ],
      "metadata": {
        "colab": {
          "base_uri": "https://localhost:8080/"
        },
        "id": "-ABu4BIKil-r",
        "outputId": "ddc00163-3f73-445d-a3c4-c3f250525504"
      },
      "execution_count": null,
      "outputs": [
        {
          "output_type": "stream",
          "name": "stdout",
          "text": [
            "Epoch 1/10\n",
            "800/800 [==============================] - 3s 3ms/step - loss: 0.1458 - accuracy: 0.9718 - val_loss: 0.0970 - val_accuracy: 0.9775\n",
            "Epoch 2/10\n",
            "800/800 [==============================] - 2s 2ms/step - loss: 0.1082 - accuracy: 0.9775 - val_loss: 0.0936 - val_accuracy: 0.9775\n",
            "Epoch 3/10\n",
            "800/800 [==============================] - 2s 2ms/step - loss: 0.1010 - accuracy: 0.9778 - val_loss: 0.0883 - val_accuracy: 0.9775\n",
            "Epoch 4/10\n",
            "800/800 [==============================] - 2s 2ms/step - loss: 0.0943 - accuracy: 0.9776 - val_loss: 0.0893 - val_accuracy: 0.9770\n",
            "Epoch 5/10\n",
            "800/800 [==============================] - 2s 2ms/step - loss: 0.0945 - accuracy: 0.9771 - val_loss: 0.0879 - val_accuracy: 0.9770\n",
            "Epoch 6/10\n",
            "800/800 [==============================] - 3s 3ms/step - loss: 0.0940 - accuracy: 0.9778 - val_loss: 0.0890 - val_accuracy: 0.9775\n",
            "Epoch 7/10\n",
            "800/800 [==============================] - 2s 3ms/step - loss: 0.0912 - accuracy: 0.9779 - val_loss: 0.0914 - val_accuracy: 0.9770\n",
            "Epoch 8/10\n",
            "800/800 [==============================] - 2s 2ms/step - loss: 0.0891 - accuracy: 0.9781 - val_loss: 0.0919 - val_accuracy: 0.9770\n"
          ]
        }
      ]
    },
    {
      "cell_type": "code",
      "execution_count": null,
      "metadata": {
        "id": "tPHLWIynSVTD"
      },
      "outputs": [],
      "source": [
        "# 참고\n",
        "# Y 레이블 One-Hot-Encoding 되지 않았으면 loss='sparse_categorical_crossentropy' 사용\n",
        "# model.compile(optimizer='adam', loss='sparse_categorical_crossentropy',metrics=['acc'])\n",
        "# history = model.fit(X_train, y_train, batch_size=batch_size, epochs=epochs, callbacks=[es,mc], validation_data=(X_test, y_test), verbose=1)"
      ]
    },
    {
      "cell_type": "markdown",
      "metadata": {
        "id": "DYmuDESeSVTD"
      },
      "source": [
        "<br>\n",
        "<font color=blue>9-3. 모델 성능을 평가해서 그래프로 표현하세요. 학습 정확도와 검증정확도를 그래프로 표시하고 xlabel에는 Epochs, ylabel에는 Accuracy, 범례에는 Train과 Validation으로 표시하세요..</font>"
      ]
    },
    {
      "cell_type": "code",
      "execution_count": null,
      "metadata": {
        "colab": {
          "base_uri": "https://localhost:8080/",
          "height": 449
        },
        "id": "h8jWaSxJSVTD",
        "outputId": "79120f0c-4822-4f70-bdcf-abe54d056067"
      },
      "outputs": [
        {
          "output_type": "display_data",
          "data": {
            "text/plain": [
              "<Figure size 640x480 with 1 Axes>"
            ],
            "image/png": "[encoded data removed]"
          },
          "metadata": {}
        }
      ],
      "source": [
        "# 여기에 답안코드를 작성하세요.\n",
        "\n",
        "plt.plot(history.history['accuracy'], label='Train')\n",
        "plt.plot(history.history['val_accuracy'], label='Validation')\n",
        "plt.xlabel('Epochs')\n",
        "plt.ylabel('Accuracy')\n",
        "plt.legend()\n",
        "plt.show()"
      ]
    },
    {
      "cell_type": "markdown",
      "metadata": {
        "id": "W_vEMFIlSVTD"
      },
      "source": [
        "<br>\n",
        "<font color=blue>9-4. 모델 성능을 평가해서 그래프로 표현하세요. 학습 손실과 검증 손실을 그래프로 표시하고 xlabel에는 Epochs, ylabel에는 Loss, 범례에는 Train Loss와 Validation Loss로 표시하세요.</font>"
      ]
    },
    {
      "cell_type": "code",
      "execution_count": null,
      "metadata": {
        "colab": {
          "base_uri": "https://localhost:8080/",
          "height": 449
        },
        "id": "iGEUb4mSSVTE",
        "outputId": "412d6705-dc97-4306-ad76-8fd30fc45e23"
      },
      "outputs": [
        {
          "output_type": "display_data",
          "data": {
            "text/plain": [
              "<Figure size 640x480 with 1 Axes>"
            ],
            "image/png": "[encoded data removed]"
          },
          "metadata": {}
        }
      ],
      "source": [
        "# 여기에 답안코드를 작성하세요.\n",
        "plt.plot(history.history['loss'], label='Train Loss')\n",
        "plt.plot(history.history['val_loss'], label='Validation Loss')\n",
        "plt.xlabel('Epochs')\n",
        "plt.ylabel('Loss')\n",
        "plt.legend()\n",
        "plt.show()"
      ]
    },
    {
      "cell_type": "markdown",
      "metadata": {
        "id": "cVf6ZpGWSVTE"
      },
      "source": [
        "<br>\n",
        "<font color=blue>9-5. y값을 예측하여 y_test_pred에 저장하고 정확도를 출력하세요..</font>"
      ]
    },
    {
      "cell_type": "code",
      "execution_count": null,
      "metadata": {
        "colab": {
          "base_uri": "https://localhost:8080/"
        },
        "id": "ARHiaiipSVTE",
        "outputId": "c37c1027-a648-4729-e808-e74c4f43f3ef"
      },
      "outputs": [
        {
          "output_type": "stream",
          "name": "stdout",
          "text": [
            "63/63 [==============================] - 0s 1ms/step\n"
          ]
        }
      ],
      "source": [
        "# 여기에 답안코드를 작성하세요.\n",
        "y_test_pred = model.predict(x_test_s)\n",
        "\n",
        "y_test_pred_labels = np.argmax(y_test_pred, axis=1)\n",
        "y_test_labels = np.argmax(y_test_encoded, axis=1)"
      ]
    },
    {
      "cell_type": "code",
      "source": [
        "from sklearn.metrics import accuracy_score\n",
        "\n",
        "accuracy = accuracy_score(y_test_labels, y_test_pred_labels)\n",
        "print(f\"정확도: {accuracy}\")"
      ],
      "metadata": {
        "colab": {
          "base_uri": "https://localhost:8080/"
        },
        "id": "BdG3hwqxpQaX",
        "outputId": "42d116cc-a65d-47a9-fade-e9f3fda96bba"
      },
      "execution_count": null,
      "outputs": [
        {
          "output_type": "stream",
          "name": "stdout",
          "text": [
            "정확도: 0.977\n"
          ]
        }
      ]
    }
  ],
  "metadata": {
    "kernelspec": {
      "display_name": "Python 3 (ipykernel)",
      "language": "python",
      "name": "python3"
    },
    "language_info": {
      "codemirror_mode": {
        "name": "ipython",
        "version": 3
      },
      "file_extension": ".py",
      "mimetype": "text/x-python",
      "name": "python",
      "nbconvert_exporter": "python",
      "pygments_lexer": "ipython3",
      "version": "3.11.5"
    },
    "colab": {
      "provenance": []
    }
  },
  "nbformat": 4,
  "nbformat_minor": 0
}